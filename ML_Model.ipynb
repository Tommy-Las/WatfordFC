{
  "cells": [
    {
      "cell_type": "markdown",
      "metadata": {
        "colab_type": "text",
        "id": "view-in-github"
      },
      "source": [
        "<a href=\"https://colab.research.google.com/github/Tommy-Las/WatfordFC/blob/main/ML_Model.ipynb\" target=\"_parent\"><img src=\"https://colab.research.google.com/assets/colab-badge.svg\" alt=\"Open In Colab\"/></a>"
      ]
    },
    {
      "cell_type": "markdown",
      "metadata": {
        "id": "1nMRIiAoZqf9"
      },
      "source": [
        "# Import packages and data"
      ]
    },
    {
      "cell_type": "code",
      "execution_count": 8,
      "metadata": {
        "colab": {
          "base_uri": "https://localhost:8080/"
        },
        "id": "4E7hYxEp-gsS",
        "outputId": "3ec714ba-6b79-4265-adf3-1628c9b553fe"
      },
      "outputs": [
        {
          "name": "stdout",
          "output_type": "stream",
          "text": [
            "Collecting scikit-learn==1.5.2\n",
            "  Downloading scikit_learn-1.5.2-cp312-cp312-manylinux_2_17_x86_64.manylinux2014_x86_64.whl.metadata (13 kB)\n",
            "Requirement already satisfied: numpy>=1.19.5 in /home/codespace/.local/lib/python3.12/site-packages (from scikit-learn==1.5.2) (1.26.2)\n",
            "Requirement already satisfied: scipy>=1.6.0 in /home/codespace/.local/lib/python3.12/site-packages (from scikit-learn==1.5.2) (1.14.1)\n",
            "Requirement already satisfied: joblib>=1.2.0 in /home/codespace/.local/lib/python3.12/site-packages (from scikit-learn==1.5.2) (1.4.2)\n",
            "Requirement already satisfied: threadpoolctl>=3.1.0 in /home/codespace/.local/lib/python3.12/site-packages (from scikit-learn==1.5.2) (3.5.0)\n",
            "Downloading scikit_learn-1.5.2-cp312-cp312-manylinux_2_17_x86_64.manylinux2014_x86_64.whl (12.9 MB)\n",
            "\u001b[2K   \u001b[90m━━━━━━━━━━━━━━━━━━━━━━━━━━━━━━━━━━━━━━━━\u001b[0m \u001b[32m12.9/12.9 MB\u001b[0m \u001b[31m51.6 MB/s\u001b[0m eta \u001b[36m0:00:00\u001b[0m:00:01\u001b[0m\n",
            "\u001b[?25hInstalling collected packages: scikit-learn\n",
            "  Attempting uninstall: scikit-learn\n",
            "    Found existing installation: scikit-learn 1.3.2\n",
            "    Uninstalling scikit-learn-1.3.2:\n",
            "      Successfully uninstalled scikit-learn-1.3.2\n",
            "Successfully installed scikit-learn-1.5.2\n",
            "Note: you may need to restart the kernel to use updated packages.\n"
          ]
        }
      ],
      "source": [
        "pip install scikit-learn==1.5.2"
      ]
    },
    {
      "cell_type": "code",
      "execution_count": 1,
      "metadata": {
        "id": "D4UOjXNAuIf8"
      },
      "outputs": [],
      "source": [
        "import pandas as pd\n",
        "pd.set_option('display.max_rows', None)\n",
        "import numpy as np\n",
        "from sklearn.preprocessing import MinMaxScaler, StandardScaler\n",
        "from sklearn.decomposition import PCA\n",
        "from imblearn.over_sampling import SMOTE\n",
        "from sklearn.model_selection import train_test_split, GridSearchCV, StratifiedKFold\n",
        "from xgboost import XGBClassifier\n",
        "from sklearn.feature_selection import VarianceThreshold\n",
        "from sklearn.pipeline import Pipeline\n",
        "from sklearn.feature_selection import RFE, RFECV\n",
        "from sklearn.metrics import classification_report, confusion_matrix, roc_auc_score, make_scorer\n",
        "from openpyxl import Workbook\n",
        "from openpyxl.styles import PatternFill\n",
        "from openpyxl.utils.dataframe import dataframe_to_rows\n",
        "from collections import defaultdict\n",
        "import matplotlib.pyplot as plt\n",
        "import seaborn as sns"
      ]
    },
    {
      "cell_type": "code",
      "execution_count": 2,
      "metadata": {
        "colab": {
          "base_uri": "https://localhost:8080/",
          "height": 36
        },
        "id": "xfcShV0l-0-T",
        "outputId": "42c329e3-1230-48c4-c650-4ec9cde4774c"
      },
      "outputs": [
        {
          "data": {
            "text/plain": [
              "'1.5.2'"
            ]
          },
          "execution_count": 2,
          "metadata": {},
          "output_type": "execute_result"
        }
      ],
      "source": [
        "import sklearn\n",
        "\n",
        "# Check the sklearn version\n",
        "sklearn_version = sklearn.__version__\n",
        "sklearn_version\n"
      ]
    },
    {
      "cell_type": "code",
      "execution_count": 3,
      "metadata": {
        "colab": {
          "base_uri": "https://localhost:8080/"
        },
        "id": "Kvg2DPu-gY_B",
        "outputId": "ed38846f-9c94-409f-cf0e-7ba5bbf637a5"
      },
      "outputs": [
        {
          "name": "stdout",
          "output_type": "stream",
          "text": [
            "Drive already mounted at /content/drive; to attempt to forcibly remount, call drive.mount(\"/content/drive\", force_remount=True).\n"
          ]
        }
      ],
      "source": [
        "from google.colab import drive\n",
        "drive.mount('/content/drive')"
      ]
    },
    {
      "cell_type": "code",
      "execution_count": 3,
      "metadata": {
        "colab": {
          "base_uri": "https://localhost:8080/"
        },
        "id": "xHrUpZiTuE9b",
        "outputId": "910e01eb-414f-48b6-fc46-6ad5202a4d32"
      },
      "outputs": [
        {
          "name": "stdout",
          "output_type": "stream",
          "text": [
            "        DATE Microcycle  Injury preseason-season      TD    HSR  +25 Km/h  \\\n",
            "0 2021-08-12        M-2       0           SEASON  1268.0    0.0         0   \n",
            "1 2021-08-13        M-1       0           SEASON  4135.0  112.0         2   \n",
            "2 2021-08-15        M+1       0           SEASON  6379.0   86.0         0   \n",
            "3 2021-08-17        M-4       0           SEASON  6287.0  209.0         9   \n",
            "4 2021-08-18        M-3       0           SEASON  6543.0  166.0         9   \n",
            "\n",
            "    ACC   DEC  PlayerID  ...   TD_MSWR  HSR_ACWR  HSR_MSWR  +25 Km/h_ACWR  \\\n",
            "0  11.0   5.0     23085  ...  5.217107  1.000000  1.923701       1.000000   \n",
            "1  47.0  20.0     23085  ...  1.508831  1.000000  0.974045       1.000000   \n",
            "2  49.0  48.0     23085  ...  1.207543  1.000000  0.832277       1.000000   \n",
            "3  62.0  44.0     23085  ...  1.140383  1.000000  0.757251       1.000000   \n",
            "4  39.0  35.0     23085  ...  1.140354  0.924272  0.762941       0.545055   \n",
            "\n",
            "   +25 Km/h_MSWR  ACC_ACWR  ACC_MSWR  DEC_ACWR   DEC_MSWR  Injury_7_day  \n",
            "0       2.727412  1.000000  7.392480   1.00000  26.162951             0  \n",
            "1       1.053370  1.000000  1.532602   1.00000   1.423250             0  \n",
            "2       0.733422  1.000000  1.259807   1.00000   1.140874             0  \n",
            "3       0.587643  1.000000  1.176025   1.00000   1.053960             0  \n",
            "4       0.581739  0.889336  1.179096   0.92745   1.048327             0  \n",
            "\n",
            "[5 rows x 44 columns]\n"
          ]
        }
      ],
      "source": [
        "#file_path = '/content/drive/MyDrive/WATFORD FC/Datos GPS/datos_finales_tommy.xlsx'\n",
        "file_path = 'datos_finales_tommy.xlsx'\n",
        "# Load the CSV into a DataFrame\n",
        "df = pd.read_excel(file_path)\n",
        "\n",
        "# Display the DataFrame\n",
        "print(df.head())"
      ]
    },
    {
      "cell_type": "markdown",
      "metadata": {
        "id": "Ps-0KbwOZ1Jn"
      },
      "source": [
        "Chequear desbalanceo de clases"
      ]
    },
    {
      "cell_type": "code",
      "execution_count": 4,
      "metadata": {
        "colab": {
          "base_uri": "https://localhost:8080/"
        },
        "id": "gno8UNio3QDO",
        "outputId": "510d951a-1ddf-4590-fbfb-341a5fd62b6a"
      },
      "outputs": [
        {
          "name": "stdout",
          "output_type": "stream",
          "text": [
            "No Lesión: 6297\n",
            "Lesión: 253\n",
            "Porcentaje de lesionados en el dataset: 3.86%\n"
          ]
        }
      ],
      "source": [
        "print(\"No Lesión: \" + str(df[df[\"Injury_7_day\"] == 0].shape[0]))\n",
        "print(\"Lesión: \" + str(df[df[\"Injury_7_day\"] == 1].shape[0]))\n",
        "print(f\"Porcentaje de lesionados en el dataset: {((df[df['Injury_7_day'] == 1].shape[0] / df.shape[0]) * 100):.2f}%\")"
      ]
    },
    {
      "cell_type": "markdown",
      "metadata": {
        "id": "NbBkyuC7Jrqu"
      },
      "source": [
        "## Initialize metrics"
      ]
    },
    {
      "cell_type": "code",
      "execution_count": null,
      "metadata": {
        "id": "SXgjNrASa1LP"
      },
      "outputs": [],
      "source": [
        "metrics = ['ACC', 'HSR', 'TD', '+25 Km/h', 'Sprints',\n",
        "       'Mins']\n",
        "\n",
        "metrics_den = ['TD/Mins', 'HSR/Mins', '+25 Km/h/Mins', 'ACC/Mins', 'Sprints/Mins']\n",
        "\n",
        "metrics_rel = ['TD_Rel',\n",
        "       'HSR_Rel', '+25 Km/h_Rel', 'ACC_Rel', 'Sprints_Rel']\n",
        "\n",
        "metrics_den_3 = ['TD/Mins', 'HSR/Mins', '+25 Km/h/Mins', 'ACC/Mins', 'Sprints/Mins', '% Max Speed', 'TD-3', 'HSR-3', '+25 Km/h-3', 'ACC-3', 'Sprints-3']\n",
        "\n",
        "metrics_den_7 = ['TD/Mins', 'HSR/Mins', '+25 Km/h/Mins', 'ACC/Mins', 'Sprints/Mins', '% Max Speed', 'TD-7', 'HSR-7', '+25 Km/h-7', 'ACC-7', 'Sprints-7']\n",
        "\n",
        "metrics_den_rel_3 = ['TD/Mins', 'HSR/Mins', '+25 Km/h/Mins', 'ACC/Mins', 'Sprints/Mins', '% Max Speed', 'TD_Rel',\n",
        "       'HSR_Rel', '+25 Km/h_Rel', 'ACC_Rel', 'Sprints_Rel','TD-3', 'HSR-3', '+25 Km/h-3', 'ACC-3', 'Sprints-3']\n",
        "\n",
        "metrics_den_rel_7 = ['TD/Mins', 'HSR/Mins', '+25 Km/h/Mins', 'ACC/Mins', 'Sprints/Mins', '% Max Speed', 'TD_Rel',\n",
        "       'HSR_Rel', '+25 Km/h_Rel', 'ACC_Rel', 'Sprints_Rel','TD-7', 'HSR-7', '+25 Km/h-7', 'ACC-7', 'Sprints-7']\n",
        "\n",
        "metrics_3 = ['TD', 'HSR', '+25 Km/h', 'ACC', 'Sprints', '% Max Speed', 'TD-3', 'HSR-3', '+25 Km/h-3', 'ACC-3', 'Sprints-3']\n",
        "\n",
        "metrics_7 = ['TD', 'HSR', '+25 Km/h', 'ACC', 'Sprints', '% Max Speed', 'TD-7', 'HSR-7', '+25 Km/h-7', 'ACC-7', 'Sprints-7']\n",
        "\n",
        "metrics_rel_3 = ['TD', 'HSR', '+25 Km/h', 'ACC', 'Sprints', '% Max Speed', 'TD_Rel',\n",
        "       'HSR_Rel', '+25 Km/h_Rel', 'ACC_Rel', 'Sprints_Rel','TD-3', 'HSR-3', '+25 Km/h-3', 'ACC-3', 'Sprints-3']\n",
        "\n",
        "metrics_rel_7 = ['TD', 'HSR', '+25 Km/h', 'ACC', 'Sprints', '% Max Speed', 'TD_Rel',\n",
        "       'HSR_Rel', '+25 Km/h_Rel', 'ACC_Rel', 'Sprints_Rel','TD-7', 'HSR-7', '+25 Km/h-7', 'ACC-7', 'Sprints-7']"
      ]
    },
    {
      "cell_type": "code",
      "execution_count": null,
      "metadata": {
        "id": "wgakV0BpoDxT"
      },
      "outputs": [],
      "source": [
        "metrics_sets = {\n",
        "    \"metrics_den_3\": ['TD/Mins', 'HSR/Mins', '+25 Km/h/Mins', 'ACC/Mins', 'Sprints/Mins', '% Max Speed', 'TD-3', 'HSR-3', '+25 Km/h-3', 'ACC-3', 'Sprints-3'],\n",
        "    \"metrics_den_7\": ['TD/Mins', 'HSR/Mins', '+25 Km/h/Mins', 'ACC/Mins', 'Sprints/Mins', '% Max Speed', 'TD-7', 'HSR-7', '+25 Km/h-7', 'ACC-7', 'Sprints-7'],\n",
        "    \"metrics_den_rel_3\": ['TD/Mins', 'HSR/Mins', '+25 Km/h/Mins', 'ACC/Mins', 'Sprints/Mins', '% Max Speed', 'TD_Rel', 'HSR_Rel', '+25 Km/h_Rel', 'ACC_Rel', 'Sprints_Rel','TD-3', 'HSR-3', '+25 Km/h-3', 'ACC-3', 'Sprints-3'],\n",
        "    \"metrics_den_rel_7\": ['TD/Mins', 'HSR/Mins', '+25 Km/h/Mins', 'ACC/Mins', 'Sprints/Mins', '% Max Speed', 'TD_Rel', 'HSR_Rel', '+25 Km/h_Rel', 'ACC_Rel', 'Sprints_Rel','TD-7', 'HSR-7', '+25 Km/h-7', 'ACC-7', 'Sprints-7'],\n",
        "    \"metrics_3\": ['TD', 'HSR', '+25 Km/h', 'ACC', 'Sprints', '% Max Speed', 'TD-3', 'HSR-3', '+25 Km/h-3', 'ACC-3', 'Sprints-3'],\n",
        "    \"metrics_7\": ['TD', 'HSR', '+25 Km/h', 'ACC', 'Sprints', '% Max Speed', 'TD-7', 'HSR-7', '+25 Km/h-7', 'ACC-7', 'Sprints-7'],\n",
        "    \"metrics_rel_3\": ['TD', 'HSR', '+25 Km/h', 'ACC', 'Sprints', '% Max Speed', 'TD_Rel', 'HSR_Rel', '+25 Km/h_Rel', 'ACC_Rel', 'Sprints_Rel','TD-3', 'HSR-3', '+25 Km/h-3', 'ACC-3', 'Sprints-3'],\n",
        "    \"metrics_rel_7\": ['TD', 'HSR', '+25 Km/h', 'ACC', 'Sprints', '% Max Speed', 'TD_Rel', 'HSR_Rel', '+25 Km/h_Rel', 'ACC_Rel', 'Sprints_Rel','TD-7', 'HSR-7', '+25 Km/h-7', 'ACC-7', 'Sprints-7']\n",
        "}\n",
        "\n",
        "metrics_standarize = ['TD', 'HSR', '+25 Km/h', 'ACC', 'DEC', 'Max Speed', 'Sprints', 'Max Speed Season',\n",
        "       'Avg Speed Season', '% Max Speed', 'Speed Diff Max Avg', 'TD_Rel',\n",
        "       'HSR_Rel', '+25 Km/h_Rel', 'ACC_Rel', 'DEC_Rel', 'Sprints_Rel',\n",
        "       'TD/Mins', 'HSR/Mins', '+25 Km/h/Mins', 'ACC/Mins', 'DEC/Mins',\n",
        "       'Sprints/Mins', 'TD_max', 'TD_avg', 'HSR_max', 'HSR_avg',\n",
        "       '+25 Km/h_max', '+25 Km/h_avg', 'ACC_max', 'ACC_avg', 'DEC_max',\n",
        "       'DEC_avg', 'Sprints_max', 'Sprints_avg', 'TD/Mins_max', 'TD/Mins_avg',\n",
        "       'HSR/Mins_max', 'HSR/Mins_avg', '+25 Km/h/Mins_max',\n",
        "       '+25 Km/h/Mins_avg', 'ACC/Mins_max', 'ACC/Mins_avg', 'Sprints/Mins_max',\n",
        "       'Sprints/Mins_avg', 'TD-3', 'HSR-3', '+25 Km/h-3', 'ACC-3', 'DEC-3',\n",
        "       'Sprints-3', 'TD-7', 'HSR-7', '+25 Km/h-7', 'ACC-7', 'DEC-7',\n",
        "       'Sprints-7', 'TD-21', 'HSR-21', '+25 Km/h-21', 'ACC-21', 'DEC-21',\n",
        "       'Sprints-21']"
      ]
    },
    {
      "cell_type": "markdown",
      "metadata": {
        "id": "l9nvJxT9ahoQ"
      },
      "source": [
        "# Correlation of variables"
      ]
    },
    {
      "cell_type": "code",
      "execution_count": null,
      "metadata": {
        "colab": {
          "base_uri": "https://localhost:8080/",
          "height": 220
        },
        "id": "q8g3wqWlZe-v",
        "outputId": "b296c484-784e-4fd0-da67-b44a9e3ba72c"
      },
      "outputs": [
        {
          "ename": "NameError",
          "evalue": "name 'metrics_den_rel_7' is not defined",
          "output_type": "error",
          "traceback": [
            "\u001b[0;31m---------------------------------------------------------------------------\u001b[0m",
            "\u001b[0;31mNameError\u001b[0m                                 Traceback (most recent call last)",
            "\u001b[0;32m<ipython-input-88-48d70760fb91>\u001b[0m in \u001b[0;36m<cell line: 2>\u001b[0;34m()\u001b[0m\n\u001b[1;32m      1\u001b[0m \u001b[0;31m# Calcular la matriz de correlación\u001b[0m\u001b[0;34m\u001b[0m\u001b[0;34m\u001b[0m\u001b[0m\n\u001b[0;32m----> 2\u001b[0;31m \u001b[0mcorrelation_matrix\u001b[0m \u001b[0;34m=\u001b[0m \u001b[0mdf\u001b[0m\u001b[0;34m[\u001b[0m\u001b[0mmetrics_den_rel_7\u001b[0m\u001b[0;34m]\u001b[0m\u001b[0;34m.\u001b[0m\u001b[0mcorr\u001b[0m\u001b[0;34m(\u001b[0m\u001b[0;34m)\u001b[0m\u001b[0;34m\u001b[0m\u001b[0;34m\u001b[0m\u001b[0m\n\u001b[0m\u001b[1;32m      3\u001b[0m \u001b[0;34m\u001b[0m\u001b[0m\n\u001b[1;32m      4\u001b[0m \u001b[0;31m# Mostrar la matriz de correlación\u001b[0m\u001b[0;34m\u001b[0m\u001b[0;34m\u001b[0m\u001b[0m\n\u001b[1;32m      5\u001b[0m \u001b[0mplt\u001b[0m\u001b[0;34m.\u001b[0m\u001b[0mfigure\u001b[0m\u001b[0;34m(\u001b[0m\u001b[0mfigsize\u001b[0m\u001b[0;34m=\u001b[0m\u001b[0;34m(\u001b[0m\u001b[0;36m18\u001b[0m\u001b[0;34m,\u001b[0m \u001b[0;36m9\u001b[0m\u001b[0;34m)\u001b[0m\u001b[0;34m)\u001b[0m\u001b[0;34m\u001b[0m\u001b[0;34m\u001b[0m\u001b[0m\n",
            "\u001b[0;31mNameError\u001b[0m: name 'metrics_den_rel_7' is not defined"
          ]
        }
      ],
      "source": [
        "# Calcular la matriz de correlación\n",
        "correlation_matrix = df[metrics_den_rel_7].corr()\n",
        "\n",
        "# Mostrar la matriz de correlación\n",
        "plt.figure(figsize=(18, 9))\n",
        "sns.heatmap(correlation_matrix, annot=True, cmap='coolwarm', center=0)\n",
        "plt.title(\"Matriz de Correlación\")\n",
        "plt.show()\n"
      ]
    },
    {
      "cell_type": "code",
      "execution_count": null,
      "metadata": {
        "colab": {
          "base_uri": "https://localhost:8080/",
          "height": 220
        },
        "id": "d_wjMfu0a_n7",
        "outputId": "3599e950-e092-432a-b1d9-a1e734ab2e81"
      },
      "outputs": [
        {
          "ename": "NameError",
          "evalue": "name 'metrics_den_rel_3' is not defined",
          "output_type": "error",
          "traceback": [
            "\u001b[0;31m---------------------------------------------------------------------------\u001b[0m",
            "\u001b[0;31mNameError\u001b[0m                                 Traceback (most recent call last)",
            "\u001b[0;32m<ipython-input-89-4ec4c02c048d>\u001b[0m in \u001b[0;36m<cell line: 4>\u001b[0;34m()\u001b[0m\n\u001b[1;32m      2\u001b[0m \u001b[0;32mfrom\u001b[0m \u001b[0mstatsmodels\u001b[0m\u001b[0;34m.\u001b[0m\u001b[0mtools\u001b[0m\u001b[0;34m.\u001b[0m\u001b[0mtools\u001b[0m \u001b[0;32mimport\u001b[0m \u001b[0madd_constant\u001b[0m\u001b[0;34m\u001b[0m\u001b[0;34m\u001b[0m\u001b[0m\n\u001b[1;32m      3\u001b[0m \u001b[0;34m\u001b[0m\u001b[0m\n\u001b[0;32m----> 4\u001b[0;31m \u001b[0mdf_with_constant\u001b[0m \u001b[0;34m=\u001b[0m \u001b[0madd_constant\u001b[0m\u001b[0;34m(\u001b[0m\u001b[0mdf\u001b[0m\u001b[0;34m[\u001b[0m\u001b[0mmetrics_den_rel_3\u001b[0m\u001b[0;34m]\u001b[0m\u001b[0;34m)\u001b[0m\u001b[0;34m\u001b[0m\u001b[0;34m\u001b[0m\u001b[0m\n\u001b[0m\u001b[1;32m      5\u001b[0m \u001b[0;34m\u001b[0m\u001b[0m\n\u001b[1;32m      6\u001b[0m \u001b[0;31m# Calcular el VIF para cada columna\u001b[0m\u001b[0;34m\u001b[0m\u001b[0;34m\u001b[0m\u001b[0m\n",
            "\u001b[0;31mNameError\u001b[0m: name 'metrics_den_rel_3' is not defined"
          ]
        }
      ],
      "source": [
        "from statsmodels.stats.outliers_influence import variance_inflation_factor\n",
        "from statsmodels.tools.tools import add_constant\n",
        "\n",
        "df_with_constant = add_constant(df[metrics_den_rel_3])\n",
        "\n",
        "# Calcular el VIF para cada columna\n",
        "vif_data = pd.DataFrame()\n",
        "vif_data[\"Variable\"] = df_with_constant.columns\n",
        "vif_data[\"VIF\"] = [variance_inflation_factor(df_with_constant.values, i)\n",
        "                   for i in range(df_with_constant.shape[1])]\n",
        "\n",
        "# Mostrar el VIF\n",
        "print(vif_data)"
      ]
    },
    {
      "cell_type": "markdown",
      "metadata": {
        "id": "45bL6tM2e82Q"
      },
      "source": [
        "# ML Modelos"
      ]
    },
    {
      "cell_type": "markdown",
      "metadata": {
        "id": "WEhGu_lM8lq5"
      },
      "source": [
        "## Separate data into X, y and player_ids"
      ]
    },
    {
      "cell_type": "code",
      "execution_count": 56,
      "metadata": {
        "colab": {
          "base_uri": "https://localhost:8080/"
        },
        "id": "l5Iy0GLoaD97",
        "outputId": "93bc36c4-2ebb-4ce9-c182-3eedb939aa43"
      },
      "outputs": [
        {
          "name": "stdout",
          "output_type": "stream",
          "text": [
            "19\n"
          ]
        }
      ],
      "source": [
        "# metrics = ['TD', 'HSR',\n",
        "#        '+25 Km/h', 'ACC', 'DEC', 'Sprints','% Max Speed', 'TD_Rel', 'HSR_Rel', '+25 Km/h_Rel', 'ACC_Rel',\n",
        "#        'DEC_Rel', 'TD-7', 'TD_EWMA-7', 'HSR-7', 'HSR_EWMA-7', '+25 Km/h-7',\n",
        "#        '+25 Km/h_EWMA-7', 'ACC-7', 'ACC_EWMA-7', 'DEC-7', 'DEC_EWMA-7',\n",
        "#        'Sprints-7', 'TD_ACWR', 'TD_MSWR', 'HSR_ACWR', 'HSR_MSWR',\n",
        "#        '+25 Km/h_ACWR', '+25 Km/h_MSWR', 'ACC_ACWR', 'DEC_ACWR']\n",
        "\n",
        "metrics = ['TD-7', 'TD_EWMA-7', 'HSR-7', 'HSR_EWMA-7', '+25 Km/h-7',\n",
        "       '+25 Km/h_EWMA-7', 'ACC-7', 'ACC_EWMA-7', 'DEC-7', 'DEC_EWMA-7',\n",
        "       'Sprints-7', 'TD_ACWR', 'TD_MSWR', 'HSR_ACWR', 'HSR_MSWR',\n",
        "       '+25 Km/h_ACWR', '+25 Km/h_MSWR', 'ACC_ACWR', 'DEC_ACWR']\n",
        "\n",
        "print(len(metrics))"
      ]
    },
    {
      "cell_type": "code",
      "execution_count": 57,
      "metadata": {
        "id": "YYtV9mf7im_5"
      },
      "outputs": [],
      "source": [
        "player_ids = df['PlayerID']\n",
        "X = df[metrics]\n",
        "y = df['Injury_7_day']"
      ]
    },
    {
      "cell_type": "markdown",
      "metadata": {
        "id": "-xovMDu-d5F6"
      },
      "source": [
        "## Feature Engineering"
      ]
    },
    {
      "cell_type": "markdown",
      "metadata": {
        "id": "gxC3qljCeY38"
      },
      "source": [
        "**Feature Selection**\n",
        "\n",
        "Removes features with low variance"
      ]
    },
    {
      "cell_type": "code",
      "execution_count": 59,
      "metadata": {
        "colab": {
          "base_uri": "https://localhost:8080/"
        },
        "id": "ZONmW9vwe2ok",
        "outputId": "8200a7e8-4fe2-4f7a-c71d-a1616942b3d2"
      },
      "outputs": [
        {
          "name": "stdout",
          "output_type": "stream",
          "text": [
            "Removed Features: Index([], dtype='object')\n"
          ]
        }
      ],
      "source": [
        "# Initialize VarianceThreshold with a threshold\n",
        "vt = VarianceThreshold(threshold=0.01)  # Removes features with variance < 0.01\n",
        "\n",
        "# Apply VarianceThreshold to the entire dataset (X)\n",
        "X_reduced = vt.fit_transform(X)  # Retains only high-variance features\n",
        "\n",
        "# Get selected feature names (if X is a DataFrame)\n",
        "removed_features = X.columns[~vt.get_support()]\n",
        "print(\"Removed Features:\", removed_features)"
      ]
    },
    {
      "cell_type": "markdown",
      "metadata": {
        "id": "yOw8nyZ3gBPU"
      },
      "source": [
        "Based on the response , there is no columns that need to be removed"
      ]
    },
    {
      "cell_type": "markdown",
      "metadata": {
        "id": "1nrspapd5Bo5"
      },
      "source": [
        "## SMOTE Technique"
      ]
    },
    {
      "cell_type": "code",
      "execution_count": 60,
      "metadata": {
        "colab": {
          "base_uri": "https://localhost:8080/"
        },
        "id": "ZmyBmKGe5Ayp",
        "outputId": "94156fbb-192e-4d32-eecc-bda110590a9d"
      },
      "outputs": [
        {
          "name": "stdout",
          "output_type": "stream",
          "text": [
            "Class distribution after SMOTE:\n",
            "Injury_7_day\n",
            "0    5038\n",
            "1    5038\n",
            "Name: count, dtype: int64\n",
            "Injury_7_day\n",
            "0    5038\n",
            "1    5038\n",
            "Name: count, dtype: int64\n"
          ]
        }
      ],
      "source": [
        "# Split the data into training and test sets (test set remains untouched)\n",
        "X_train, X_test, y_train, y_test, player_ids_train, player_ids_test = train_test_split(X, y, player_ids, test_size=0.2, random_state=42, stratify=y)\n",
        "\n",
        "# Initialize SMOTE\n",
        "smote = SMOTE(random_state=42)\n",
        "\n",
        "# Apply SMOTE to training data\n",
        "X_train , y_train = smote.fit_resample(X_train, y_train)\n",
        "\n",
        "print(\"Class distribution after SMOTE:\")\n",
        "print(pd.Series(y_train).value_counts())\n",
        "print(pd.Series(y_train).value_counts())"
      ]
    },
    {
      "cell_type": "markdown",
      "metadata": {
        "id": "U7b0kFZiqHTm"
      },
      "source": [
        "## XGBoost Model"
      ]
    },
    {
      "cell_type": "markdown",
      "metadata": {
        "id": "SymokdgRrdKm"
      },
      "source": [
        "Perform Recursive Feature Elimination with Cross-Validation (RFECV) to find the best variables\n",
        "\n",
        "Use GridSearch to find the best hyperparameters"
      ]
    },
    {
      "cell_type": "code",
      "execution_count": 61,
      "metadata": {
        "colab": {
          "base_uri": "https://localhost:8080/"
        },
        "id": "P7HntgH2lR37",
        "outputId": "e7414da1-8e08-44f2-f7f3-a9fa38a05033"
      },
      "outputs": [
        {
          "name": "stdout",
          "output_type": "stream",
          "text": [
            "Selected Features (RFE): ['TD-7', 'TD_EWMA-7', 'HSR-7', '+25 Km/h-7', 'ACC_EWMA-7', 'DEC-7', 'DEC_EWMA-7', 'Sprints-7', 'TD_MSWR', '+25 Km/h_ACWR', '+25 Km/h_MSWR', 'ACC_ACWR']\n",
            "Number of features selected: 12\n"
          ]
        }
      ],
      "source": [
        "# Base parameters for XGBClassifier\n",
        "base_params = {\n",
        "    'objective': 'binary:logistic',\n",
        "    'colsample_bytree': 0.8,  # Feature subsampling\n",
        "    'subsample': 0.8,         # Row subsampling\n",
        "    'eval_metric': 'auc',\n",
        "    'alpha': 10,              # L1 regularization\n",
        "    'gamma': 10,              # Minimum loss reduction\n",
        "    'max_depth': 3,\n",
        "    'learning_rate': 0.1,\n",
        "    'n_estimators': 100\n",
        "}\n",
        "\n",
        "# Initialize the XGBClassifier\n",
        "rfe_model = XGBClassifier(**base_params)\n",
        "\n",
        "# Perform RFE for feature selection\n",
        "rfe = RFE(\n",
        "    estimator=rfe_model,\n",
        "    n_features_to_select=12,  # Select exactly X features\n",
        "    step=1  # Remove one feature at a time\n",
        ")\n",
        "\n",
        "# Fit RFE to X_train\n",
        "rfe.fit(X_train, y_train)\n",
        "\n",
        "# Get selected feature names\n",
        "selected_features = X_train.columns[rfe.support_]\n",
        "X_train_selected = X_train[selected_features]\n",
        "X_test_selected = X_test[selected_features]\n",
        "\n",
        "print(f\"Selected Features (RFE): {selected_features.tolist()}\")\n",
        "print(f\"Number of features selected: {len(selected_features)}\")"
      ]
    },
    {
      "cell_type": "code",
      "execution_count": 62,
      "metadata": {
        "colab": {
          "base_uri": "https://localhost:8080/"
        },
        "id": "eOEDKQl3QB72",
        "outputId": "f560619d-b0d2-4114-8468-b4173d431175"
      },
      "outputs": [
        {
          "name": "stdout",
          "output_type": "stream",
          "text": [
            "Fitting 5 folds for each of 81 candidates, totalling 405 fits\n",
            "Best ROC-AUC (Grid Search): 0.9795\n",
            "Best Parameters: {'learning_rate': 0.09, 'max_depth': 6, 'n_estimators': 400, 'scale_pos_weight': 13}\n"
          ]
        }
      ],
      "source": [
        "base_params_xgboost = {\n",
        "    'objective': 'binary:logistic',\n",
        "    'colsample_bytree': 0.9,\n",
        "    'eval_metric': 'auc',\n",
        "    'alpha': 5,  # L1 regularization\n",
        "    'gamma': 5,  # Minimum loss reduction\n",
        "    'subsample': 0.8,\n",
        "}\n",
        "\n",
        "# Parameter grid for GridSearchCV\n",
        "param_grid = {\n",
        "    'learning_rate': [0.07, 0.09, 0.1],  # Explore smaller learning rates\n",
        "    'max_depth': [4,5,6],             # Test broader depth values\n",
        "    'n_estimators': [200, 300, 400],     # Include larger estimators\n",
        "    'scale_pos_weight': [9, 11, 13]      # Class imbalance adjustment\n",
        "}\n",
        "\n",
        "model = XGBClassifier(**base_params_xgboost)\n",
        "\n",
        "# Stratified K-Fold cross-validation\n",
        "stratified_cv = StratifiedKFold(n_splits=5, shuffle=True, random_state=42)\n",
        "\n",
        "# GridSearchCV for hyperparameter tuning\n",
        "grid_search = GridSearchCV(\n",
        "    estimator=model,\n",
        "    param_grid=param_grid,\n",
        "    scoring='roc_auc',  # Optimize for ROC-AUC\n",
        "    cv=stratified_cv,\n",
        "    verbose=1,\n",
        "    n_jobs=-1\n",
        ")\n",
        "\n",
        "# Fit GridSearchCV on the training dataset\n",
        "grid_search.fit(X_train_selected, y_train)\n",
        "\n",
        "# Get the best model and parameters\n",
        "best_model = grid_search.best_estimator_\n",
        "best_params = grid_search.best_params_\n",
        "best_roc_auc = grid_search.best_score_\n",
        "\n",
        "# Print best results\n",
        "print(f\"Best ROC-AUC (Grid Search): {best_roc_auc:.4f}\")\n",
        "print(f\"Best Parameters: {best_params}\")"
      ]
    },
    {
      "cell_type": "markdown",
      "metadata": {
        "id": "7WXWNWO2lcTO"
      },
      "source": [
        "## Train the model with the best parameters and add early stopping"
      ]
    },
    {
      "cell_type": "code",
      "execution_count": 63,
      "metadata": {},
      "outputs": [
        {
          "name": "stdout",
          "output_type": "stream",
          "text": [
            "Accuracy: 0.6504\n",
            "Precision: 0.0716\n",
            "Recall: 0.6667\n",
            "F1 Score: 0.1293\n",
            "Confusion Matrix:\n",
            "[[818 441]\n",
            " [ 17  34]]\n"
          ]
        }
      ],
      "source": [
        "# Train the final model\n",
        "final_model = XGBClassifier(\n",
        "    **base_params_xgboost,\n",
        "    **best_params,\n",
        ")\n",
        "\n",
        "# Train\n",
        "final_model.fit(X_train_selected,\n",
        "                y_train,\n",
        "                verbose=True\n",
        ")\n",
        "\n",
        "# Predict class labels (0 or 1) on the test set\n",
        "y_pred = final_model.predict(X_test_selected)\n",
        "\n",
        "# Evaluate the model using classification metrics\n",
        "from sklearn.metrics import accuracy_score, precision_score, recall_score, f1_score, confusion_matrix\n",
        "\n",
        "# Accuracy\n",
        "accuracy = accuracy_score(y_test, y_pred)\n",
        "print(f\"Accuracy: {accuracy:.4f}\")\n",
        "\n",
        "# Precision\n",
        "precision = precision_score(y_test, y_pred)\n",
        "print(f\"Precision: {precision:.4f}\")\n",
        "\n",
        "# Recall\n",
        "recall = recall_score(y_test, y_pred)\n",
        "print(f\"Recall: {recall:.4f}\")\n",
        "\n",
        "# F1 Score\n",
        "f1 = f1_score(y_test, y_pred)\n",
        "print(f\"F1 Score: {f1:.4f}\")\n",
        "\n",
        "# Confusion Matrix\n",
        "conf_matrix = confusion_matrix(y_test, y_pred)\n",
        "print(\"Confusion Matrix:\")\n",
        "print(conf_matrix)"
      ]
    },
    {
      "cell_type": "code",
      "execution_count": 65,
      "metadata": {
        "colab": {
          "base_uri": "https://localhost:8080/"
        },
        "id": "rPlKflURlhAn",
        "outputId": "2e2ef422-e104-45d6-b162-d2d0f1cd00c7"
      },
      "outputs": [
        {
          "name": "stdout",
          "output_type": "stream",
          "text": [
            "Final Test ROC-AUC: 0.7518\n"
          ]
        }
      ],
      "source": [
        "final_model = XGBClassifier(\n",
        "    **base_params_xgboost,\n",
        "    **best_params,\n",
        ")\n",
        "\n",
        "# Train with early stopping\n",
        "final_model.fit(X_train_selected,\n",
        "                y_train,\n",
        "                verbose=True\n",
        ")\n",
        "\n",
        "# Evaluate final model\n",
        "y_pred_probs = final_model.predict_proba(X_test_selected)[:, 1]\n",
        "test_roc_auc = roc_auc_score(y_test, y_pred_probs)\n",
        "print(f\"Final Test ROC-AUC: {test_roc_auc:.4f}\")\n"
      ]
    },
    {
      "cell_type": "markdown",
      "metadata": {
        "id": "yJVDozS1zc5w"
      },
      "source": [
        "## Transform test data"
      ]
    },
    {
      "cell_type": "code",
      "execution_count": 124,
      "metadata": {
        "id": "Lb4659qHRNs4"
      },
      "outputs": [],
      "source": [
        "X_test = X_test_selected.reset_index(drop=True)\n",
        "y_test = y_test.reset_index(drop=True)\n",
        "player_ids_test = player_ids_test.reset_index(drop=True)"
      ]
    },
    {
      "cell_type": "code",
      "execution_count": 55,
      "metadata": {
        "colab": {
          "base_uri": "https://localhost:8080/"
        },
        "id": "OhBlb1iyo7RU",
        "outputId": "6e09de4f-73b8-4b42-fe80-5e3853243384"
      },
      "outputs": [
        {
          "name": "stdout",
          "output_type": "stream",
          "text": [
            "Test ROC-AUC: 0.6795\n"
          ]
        }
      ],
      "source": [
        "def categorize_risk(percentage):\n",
        "    if percentage < 40:\n",
        "        return 'Low Risk'\n",
        "    elif 40 <= percentage < 70:\n",
        "        return 'Medium Risk'\n",
        "    else:\n",
        "        return 'High Risk'\n",
        "\n",
        "# Evaluate the best model on the test set\n",
        "y_probs = final_model.predict_proba(X_test_selected)[:, 1]\n",
        "test_roc_auc = roc_auc_score(y_test, y_probs)\n",
        "\n",
        "print(f\"Test ROC-AUC: {test_roc_auc:.4f}\")\n",
        "\n",
        "# Convert the probabilities of injury risk (Class 1) to percentages\n",
        "injury_risk_percentage = y_probs * 100\n",
        "\n",
        "# Categorize the injury risk percentages\n",
        "risk_levels = [categorize_risk(percentage) for percentage in injury_risk_percentage]\n",
        "\n",
        "# Create the `results` DataFrame with only relevant metrics and calculated values\n",
        "results = pd.DataFrame({\n",
        "    'Player_ID': player_ids_test,  # Add player IDs\n",
        "    'Actual_Label': y_test,  # Add actual labels\n",
        "    '%': injury_risk_percentage,\n",
        "    'Risk_Level': risk_levels\n",
        "}).join(X_test)  # Add only relevant max metrics\n",
        "\n"
      ]
    },
    {
      "cell_type": "code",
      "execution_count": 126,
      "metadata": {
        "id": "qe5rWWovrYeK"
      },
      "outputs": [],
      "source": [
        "# Define risk level colors\n",
        "color_mapping = {\n",
        "    'High Risk': 'FF9999',  # Light Red\n",
        "    'Medium Risk': 'FFFF99',  # Light Yellow\n",
        "    'Low Risk': '99FF99'  # Light Green\n",
        "}\n",
        "\n",
        "file_path_export = '/content/drive/MyDrive/WATFORD FC/Datos GPS/results.xlsx'\n",
        "#file_path_export = 'results.xlsx'\n",
        "\n",
        "wb = Workbook()\n",
        "\n",
        "# Write `results` to the first sheet\n",
        "ws = wb.active\n",
        "ws.title = \"Injury Risk Results\"\n",
        "for r_idx, row in enumerate(dataframe_to_rows(results, index=True, header=True), start=1):\n",
        "    for c_idx, value in enumerate(row, start=1):\n",
        "        ws.cell(row=r_idx, column=c_idx, value=value)\n",
        "\n",
        "# Conditional formatting for `results`\n",
        "risk_level_col_idx = list(results.columns).index(\"Risk_Level\") + 2\n",
        "for row in ws.iter_rows(min_row=2, max_row=ws.max_row, min_col=risk_level_col_idx, max_col=risk_level_col_idx):\n",
        "    for cell in row:\n",
        "        risk_level = cell.value\n",
        "        if risk_level in color_mapping:\n",
        "            cell.fill = PatternFill(start_color=color_mapping[risk_level], end_color=color_mapping[risk_level], fill_type=\"solid\")\n",
        "\n",
        "# Save the workbook\n",
        "wb.save(file_path_export)"
      ]
    }
  ],
  "metadata": {
    "colab": {
      "include_colab_link": true,
      "provenance": [],
      "toc_visible": true
    },
    "kernelspec": {
      "display_name": "Python 3",
      "language": "python",
      "name": "python3"
    },
    "language_info": {
      "codemirror_mode": {
        "name": "ipython",
        "version": 3
      },
      "file_extension": ".py",
      "mimetype": "text/x-python",
      "name": "python",
      "nbconvert_exporter": "python",
      "pygments_lexer": "ipython3",
      "version": "3.12.1"
    }
  },
  "nbformat": 4,
  "nbformat_minor": 0
}
