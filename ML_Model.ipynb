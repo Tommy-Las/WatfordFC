{
  "cells": [
    {
      "cell_type": "markdown",
      "metadata": {
        "colab_type": "text",
        "id": "view-in-github"
      },
      "source": [
        "<a href=\"https://colab.research.google.com/github/Tommy-Las/WatfordFC/blob/main/ML_Model.ipynb\" target=\"_parent\"><img src=\"https://colab.research.google.com/assets/colab-badge.svg\" alt=\"Open In Colab\"/></a>"
      ]
    },
    {
      "cell_type": "markdown",
      "metadata": {
        "id": "1nMRIiAoZqf9"
      },
      "source": [
        "# Import packages and data"
      ]
    },
    {
      "cell_type": "code",
      "execution_count": 1,
      "metadata": {
        "id": "D4UOjXNAuIf8"
      },
      "outputs": [],
      "source": [
        "import pandas as pd\n",
        "pd.set_option('display.max_rows', None)\n",
        "import numpy as np\n",
        "from sklearn.preprocessing import MinMaxScaler, StandardScaler\n",
        "from sklearn.decomposition import PCA\n",
        "from imblearn.over_sampling import SMOTE\n",
        "from sklearn.model_selection import train_test_split, GridSearchCV, StratifiedKFold\n",
        "from xgboost import XGBClassifier\n",
        "from sklearn.feature_selection import VarianceThreshold\n",
        "from sklearn.pipeline import Pipeline\n",
        "from sklearn.feature_selection import RFE, RFECV\n",
        "from sklearn.metrics import classification_report, confusion_matrix, roc_auc_score, make_scorer\n",
        "from openpyxl import Workbook\n",
        "from openpyxl.styles import PatternFill\n",
        "from openpyxl.utils.dataframe import dataframe_to_rows\n",
        "from collections import defaultdict\n",
        "import seaborn as sns\n",
        "from statsmodels.stats.outliers_influence import variance_inflation_factor\n",
        "from statsmodels.tools.tools import add_constant\n",
        "from sklearn.metrics import accuracy_score, precision_score, recall_score, f1_score, confusion_matrix, classification_report, roc_curve, auc\n",
        "import matplotlib.pyplot as plt\n",
        "from sklearn.metrics import precision_recall_curve\n",
        "from sklearn.svm import SVC\n",
        "from imblearn.combine import SMOTEENN\n",
        "from sklearn.linear_model import LogisticRegression"
      ]
    },
    {
      "cell_type": "code",
      "execution_count": 2,
      "metadata": {
        "colab": {
          "base_uri": "https://localhost:8080/"
        },
        "id": "xHrUpZiTuE9b",
        "outputId": "910e01eb-414f-48b6-fc46-6ad5202a4d32"
      },
      "outputs": [
        {
          "data": {
            "text/html": [
              "<div>\n",
              "<style scoped>\n",
              "    .dataframe tbody tr th:only-of-type {\n",
              "        vertical-align: middle;\n",
              "    }\n",
              "\n",
              "    .dataframe tbody tr th {\n",
              "        vertical-align: top;\n",
              "    }\n",
              "\n",
              "    .dataframe thead th {\n",
              "        text-align: right;\n",
              "    }\n",
              "</style>\n",
              "<table border=\"1\" class=\"dataframe\">\n",
              "  <thead>\n",
              "    <tr style=\"text-align: right;\">\n",
              "      <th></th>\n",
              "      <th>DATE</th>\n",
              "      <th>Microcycle</th>\n",
              "      <th>Injury</th>\n",
              "      <th>season</th>\n",
              "      <th>preseason-season</th>\n",
              "      <th>TD</th>\n",
              "      <th>&gt;19.8</th>\n",
              "      <th>&gt;25</th>\n",
              "      <th>ACC</th>\n",
              "      <th>DEC</th>\n",
              "      <th>...</th>\n",
              "      <th>&gt;25-21</th>\n",
              "      <th>ACC-21</th>\n",
              "      <th>DEC-21</th>\n",
              "      <th>Sprints-21</th>\n",
              "      <th>Mins-21</th>\n",
              "      <th>Position_CENTREBACK</th>\n",
              "      <th>Position_CENTREMIDFIELDER</th>\n",
              "      <th>Position_FULLBACK</th>\n",
              "      <th>Position_STRIKER</th>\n",
              "      <th>Position_WINGER</th>\n",
              "    </tr>\n",
              "  </thead>\n",
              "  <tbody>\n",
              "    <tr>\n",
              "      <th>0</th>\n",
              "      <td>2021-08-11</td>\n",
              "      <td>M-3</td>\n",
              "      <td>0</td>\n",
              "      <td>2021-2022</td>\n",
              "      <td>SEASON</td>\n",
              "      <td>7423.0</td>\n",
              "      <td>426.0</td>\n",
              "      <td>20</td>\n",
              "      <td>52.0</td>\n",
              "      <td>38.0</td>\n",
              "      <td>...</td>\n",
              "      <td>34</td>\n",
              "      <td>63.0</td>\n",
              "      <td>36.0</td>\n",
              "      <td>19</td>\n",
              "      <td>80.35</td>\n",
              "      <td>0</td>\n",
              "      <td>1</td>\n",
              "      <td>0</td>\n",
              "      <td>0</td>\n",
              "      <td>0</td>\n",
              "    </tr>\n",
              "    <tr>\n",
              "      <th>1</th>\n",
              "      <td>2021-08-12</td>\n",
              "      <td>M-2</td>\n",
              "      <td>0</td>\n",
              "      <td>2021-2022</td>\n",
              "      <td>SEASON</td>\n",
              "      <td>1268.0</td>\n",
              "      <td>0.0</td>\n",
              "      <td>0</td>\n",
              "      <td>11.0</td>\n",
              "      <td>5.0</td>\n",
              "      <td>...</td>\n",
              "      <td>54</td>\n",
              "      <td>115.0</td>\n",
              "      <td>74.0</td>\n",
              "      <td>43</td>\n",
              "      <td>171.20</td>\n",
              "      <td>0</td>\n",
              "      <td>1</td>\n",
              "      <td>0</td>\n",
              "      <td>0</td>\n",
              "      <td>0</td>\n",
              "    </tr>\n",
              "    <tr>\n",
              "      <th>2</th>\n",
              "      <td>2021-08-13</td>\n",
              "      <td>M-1</td>\n",
              "      <td>0</td>\n",
              "      <td>2021-2022</td>\n",
              "      <td>SEASON</td>\n",
              "      <td>4135.0</td>\n",
              "      <td>112.0</td>\n",
              "      <td>2</td>\n",
              "      <td>47.0</td>\n",
              "      <td>20.0</td>\n",
              "      <td>...</td>\n",
              "      <td>54</td>\n",
              "      <td>126.0</td>\n",
              "      <td>79.0</td>\n",
              "      <td>43</td>\n",
              "      <td>214.78</td>\n",
              "      <td>0</td>\n",
              "      <td>1</td>\n",
              "      <td>0</td>\n",
              "      <td>0</td>\n",
              "      <td>0</td>\n",
              "    </tr>\n",
              "    <tr>\n",
              "      <th>3</th>\n",
              "      <td>2021-08-15</td>\n",
              "      <td>M+1</td>\n",
              "      <td>0</td>\n",
              "      <td>2021-2022</td>\n",
              "      <td>SEASON</td>\n",
              "      <td>6379.0</td>\n",
              "      <td>86.0</td>\n",
              "      <td>0</td>\n",
              "      <td>49.0</td>\n",
              "      <td>48.0</td>\n",
              "      <td>...</td>\n",
              "      <td>56</td>\n",
              "      <td>173.0</td>\n",
              "      <td>99.0</td>\n",
              "      <td>54</td>\n",
              "      <td>273.13</td>\n",
              "      <td>0</td>\n",
              "      <td>1</td>\n",
              "      <td>0</td>\n",
              "      <td>0</td>\n",
              "      <td>0</td>\n",
              "    </tr>\n",
              "    <tr>\n",
              "      <th>4</th>\n",
              "      <td>2021-08-17</td>\n",
              "      <td>M-4</td>\n",
              "      <td>0</td>\n",
              "      <td>2021-2022</td>\n",
              "      <td>SEASON</td>\n",
              "      <td>6287.0</td>\n",
              "      <td>209.0</td>\n",
              "      <td>9</td>\n",
              "      <td>62.0</td>\n",
              "      <td>44.0</td>\n",
              "      <td>...</td>\n",
              "      <td>56</td>\n",
              "      <td>222.0</td>\n",
              "      <td>147.0</td>\n",
              "      <td>67</td>\n",
              "      <td>352.61</td>\n",
              "      <td>0</td>\n",
              "      <td>1</td>\n",
              "      <td>0</td>\n",
              "      <td>0</td>\n",
              "      <td>0</td>\n",
              "    </tr>\n",
              "  </tbody>\n",
              "</table>\n",
              "<p>5 rows × 51 columns</p>\n",
              "</div>"
            ],
            "text/plain": [
              "        DATE Microcycle  Injury     season preseason-season      TD  >19.8  \\\n",
              "0 2021-08-11        M-3       0  2021-2022           SEASON  7423.0  426.0   \n",
              "1 2021-08-12        M-2       0  2021-2022           SEASON  1268.0    0.0   \n",
              "2 2021-08-13        M-1       0  2021-2022           SEASON  4135.0  112.0   \n",
              "3 2021-08-15        M+1       0  2021-2022           SEASON  6379.0   86.0   \n",
              "4 2021-08-17        M-4       0  2021-2022           SEASON  6287.0  209.0   \n",
              "\n",
              "   >25   ACC   DEC  ...  >25-21  ACC-21  DEC-21  Sprints-21  Mins-21  \\\n",
              "0   20  52.0  38.0  ...      34    63.0    36.0          19    80.35   \n",
              "1    0  11.0   5.0  ...      54   115.0    74.0          43   171.20   \n",
              "2    2  47.0  20.0  ...      54   126.0    79.0          43   214.78   \n",
              "3    0  49.0  48.0  ...      56   173.0    99.0          54   273.13   \n",
              "4    9  62.0  44.0  ...      56   222.0   147.0          67   352.61   \n",
              "\n",
              "   Position_CENTREBACK  Position_CENTREMIDFIELDER  Position_FULLBACK  \\\n",
              "0                    0                          1                  0   \n",
              "1                    0                          1                  0   \n",
              "2                    0                          1                  0   \n",
              "3                    0                          1                  0   \n",
              "4                    0                          1                  0   \n",
              "\n",
              "   Position_STRIKER  Position_WINGER  \n",
              "0                 0                0  \n",
              "1                 0                0  \n",
              "2                 0                0  \n",
              "3                 0                0  \n",
              "4                 0                0  \n",
              "\n",
              "[5 rows x 51 columns]"
            ]
          },
          "execution_count": 2,
          "metadata": {},
          "output_type": "execute_result"
        }
      ],
      "source": [
        "file_path = 'data/cleaned_data_no_injured.xlsx'\n",
        "#file_path = 'data/cleaned_data_no_injured_3.xlsx'\n",
        "# Load the CSV into a DataFrame\n",
        "df = pd.read_excel(file_path)\n",
        "\n",
        "# Display the DataFrame\n",
        "df.head()"
      ]
    },
    {
      "cell_type": "code",
      "execution_count": 3,
      "metadata": {},
      "outputs": [
        {
          "data": {
            "text/html": [
              "<div>\n",
              "<style scoped>\n",
              "    .dataframe tbody tr th:only-of-type {\n",
              "        vertical-align: middle;\n",
              "    }\n",
              "\n",
              "    .dataframe tbody tr th {\n",
              "        vertical-align: top;\n",
              "    }\n",
              "\n",
              "    .dataframe thead th {\n",
              "        text-align: right;\n",
              "    }\n",
              "</style>\n",
              "<table border=\"1\" class=\"dataframe\">\n",
              "  <thead>\n",
              "    <tr style=\"text-align: right;\">\n",
              "      <th></th>\n",
              "      <th>DATE</th>\n",
              "      <th>Microcycle</th>\n",
              "      <th>Injury</th>\n",
              "      <th>season</th>\n",
              "      <th>preseason-season</th>\n",
              "      <th>TD</th>\n",
              "      <th>&gt;19.8</th>\n",
              "      <th>&gt;25</th>\n",
              "      <th>ACC</th>\n",
              "      <th>DEC</th>\n",
              "      <th>...</th>\n",
              "      <th>&gt;25-21</th>\n",
              "      <th>ACC-21</th>\n",
              "      <th>DEC-21</th>\n",
              "      <th>Sprints-21</th>\n",
              "      <th>Mins-21</th>\n",
              "      <th>Position_CENTREBACK</th>\n",
              "      <th>Position_CENTREMIDFIELDER</th>\n",
              "      <th>Position_FULLBACK</th>\n",
              "      <th>Position_STRIKER</th>\n",
              "      <th>Position_WINGER</th>\n",
              "    </tr>\n",
              "  </thead>\n",
              "  <tbody>\n",
              "    <tr>\n",
              "      <th>2706</th>\n",
              "      <td>2023-05-07</td>\n",
              "      <td>M-1</td>\n",
              "      <td>0</td>\n",
              "      <td>2022-2023</td>\n",
              "      <td>SEASON</td>\n",
              "      <td>2239.0</td>\n",
              "      <td>35.0</td>\n",
              "      <td>0</td>\n",
              "      <td>36.0</td>\n",
              "      <td>17.0</td>\n",
              "      <td>...</td>\n",
              "      <td>866</td>\n",
              "      <td>808.0</td>\n",
              "      <td>631.0</td>\n",
              "      <td>254</td>\n",
              "      <td>973.60</td>\n",
              "      <td>0</td>\n",
              "      <td>0</td>\n",
              "      <td>1</td>\n",
              "      <td>0</td>\n",
              "      <td>0</td>\n",
              "    </tr>\n",
              "    <tr>\n",
              "      <th>2705</th>\n",
              "      <td>2023-05-06</td>\n",
              "      <td>M-2</td>\n",
              "      <td>0</td>\n",
              "      <td>2022-2023</td>\n",
              "      <td>SEASON</td>\n",
              "      <td>4621.0</td>\n",
              "      <td>140.0</td>\n",
              "      <td>41</td>\n",
              "      <td>73.0</td>\n",
              "      <td>50.0</td>\n",
              "      <td>...</td>\n",
              "      <td>1114</td>\n",
              "      <td>821.0</td>\n",
              "      <td>686.0</td>\n",
              "      <td>297</td>\n",
              "      <td>1008.18</td>\n",
              "      <td>0</td>\n",
              "      <td>0</td>\n",
              "      <td>1</td>\n",
              "      <td>0</td>\n",
              "      <td>0</td>\n",
              "    </tr>\n",
              "    <tr>\n",
              "      <th>2704</th>\n",
              "      <td>2023-05-05</td>\n",
              "      <td>M-3</td>\n",
              "      <td>0</td>\n",
              "      <td>2022-2023</td>\n",
              "      <td>SEASON</td>\n",
              "      <td>2863.0</td>\n",
              "      <td>111.0</td>\n",
              "      <td>10</td>\n",
              "      <td>40.0</td>\n",
              "      <td>30.0</td>\n",
              "      <td>...</td>\n",
              "      <td>1120</td>\n",
              "      <td>807.0</td>\n",
              "      <td>679.0</td>\n",
              "      <td>293</td>\n",
              "      <td>1027.80</td>\n",
              "      <td>0</td>\n",
              "      <td>0</td>\n",
              "      <td>1</td>\n",
              "      <td>0</td>\n",
              "      <td>0</td>\n",
              "    </tr>\n",
              "    <tr>\n",
              "      <th>2703</th>\n",
              "      <td>2023-05-03</td>\n",
              "      <td>M-5</td>\n",
              "      <td>0</td>\n",
              "      <td>2022-2023</td>\n",
              "      <td>SEASON</td>\n",
              "      <td>4768.0</td>\n",
              "      <td>356.0</td>\n",
              "      <td>138</td>\n",
              "      <td>69.0</td>\n",
              "      <td>53.0</td>\n",
              "      <td>...</td>\n",
              "      <td>1041</td>\n",
              "      <td>814.0</td>\n",
              "      <td>687.0</td>\n",
              "      <td>287</td>\n",
              "      <td>1030.52</td>\n",
              "      <td>0</td>\n",
              "      <td>0</td>\n",
              "      <td>1</td>\n",
              "      <td>0</td>\n",
              "      <td>0</td>\n",
              "    </tr>\n",
              "    <tr>\n",
              "      <th>2702</th>\n",
              "      <td>2023-05-02</td>\n",
              "      <td>M+3</td>\n",
              "      <td>0</td>\n",
              "      <td>2022-2023</td>\n",
              "      <td>SEASON</td>\n",
              "      <td>4732.0</td>\n",
              "      <td>145.0</td>\n",
              "      <td>4</td>\n",
              "      <td>72.0</td>\n",
              "      <td>53.0</td>\n",
              "      <td>...</td>\n",
              "      <td>1037</td>\n",
              "      <td>742.0</td>\n",
              "      <td>634.0</td>\n",
              "      <td>273</td>\n",
              "      <td>961.22</td>\n",
              "      <td>0</td>\n",
              "      <td>0</td>\n",
              "      <td>1</td>\n",
              "      <td>0</td>\n",
              "      <td>0</td>\n",
              "    </tr>\n",
              "  </tbody>\n",
              "</table>\n",
              "<p>5 rows × 51 columns</p>\n",
              "</div>"
            ],
            "text/plain": [
              "           DATE Microcycle  Injury     season preseason-season      TD  >19.8  \\\n",
              "2706 2023-05-07        M-1       0  2022-2023           SEASON  2239.0   35.0   \n",
              "2705 2023-05-06        M-2       0  2022-2023           SEASON  4621.0  140.0   \n",
              "2704 2023-05-05        M-3       0  2022-2023           SEASON  2863.0  111.0   \n",
              "2703 2023-05-03        M-5       0  2022-2023           SEASON  4768.0  356.0   \n",
              "2702 2023-05-02        M+3       0  2022-2023           SEASON  4732.0  145.0   \n",
              "\n",
              "      >25   ACC   DEC  ...  >25-21  ACC-21  DEC-21  Sprints-21  Mins-21  \\\n",
              "2706    0  36.0  17.0  ...     866   808.0   631.0         254   973.60   \n",
              "2705   41  73.0  50.0  ...    1114   821.0   686.0         297  1008.18   \n",
              "2704   10  40.0  30.0  ...    1120   807.0   679.0         293  1027.80   \n",
              "2703  138  69.0  53.0  ...    1041   814.0   687.0         287  1030.52   \n",
              "2702    4  72.0  53.0  ...    1037   742.0   634.0         273   961.22   \n",
              "\n",
              "      Position_CENTREBACK  Position_CENTREMIDFIELDER  Position_FULLBACK  \\\n",
              "2706                    0                          0                  1   \n",
              "2705                    0                          0                  1   \n",
              "2704                    0                          0                  1   \n",
              "2703                    0                          0                  1   \n",
              "2702                    0                          0                  1   \n",
              "\n",
              "      Position_STRIKER  Position_WINGER  \n",
              "2706                 0                0  \n",
              "2705                 0                0  \n",
              "2704                 0                0  \n",
              "2703                 0                0  \n",
              "2702                 0                0  \n",
              "\n",
              "[5 rows x 51 columns]"
            ]
          },
          "execution_count": 3,
          "metadata": {},
          "output_type": "execute_result"
        }
      ],
      "source": [
        "test = df[df['PlayerID'] == 37990].sort_values(by='DATE', ascending=False)\n",
        "test.head()"
      ]
    },
    {
      "cell_type": "markdown",
      "metadata": {
        "id": "Ps-0KbwOZ1Jn"
      },
      "source": [
        "Class imbalance:"
      ]
    },
    {
      "cell_type": "code",
      "execution_count": 4,
      "metadata": {
        "colab": {
          "base_uri": "https://localhost:8080/"
        },
        "id": "gno8UNio3QDO",
        "outputId": "510d951a-1ddf-4590-fbfb-341a5fd62b6a"
      },
      "outputs": [
        {
          "name": "stdout",
          "output_type": "stream",
          "text": [
            "No Lesión: 4398\n",
            "Lesión: 36\n",
            "Porcentaje de lesionados en el dataset: 0.81%\n"
          ]
        }
      ],
      "source": [
        "print(\"No Lesión: \" + str(df[df[\"Injury\"] == 0].shape[0]))\n",
        "print(\"Lesión: \" + str(df[df[\"Injury\"] == 1].shape[0]))\n",
        "print(f\"Porcentaje de lesionados en el dataset: {((df[df['Injury'] == 1].shape[0] / df.shape[0]) * 100):.2f}%\")"
      ]
    },
    {
      "cell_type": "markdown",
      "metadata": {
        "id": "l9nvJxT9ahoQ"
      },
      "source": [
        "# Correlation of variables"
      ]
    },
    {
      "cell_type": "code",
      "execution_count": 10,
      "metadata": {
        "colab": {
          "base_uri": "https://localhost:8080/",
          "height": 220
        },
        "id": "q8g3wqWlZe-v",
        "outputId": "b296c484-784e-4fd0-da67-b44a9e3ba72c"
      },
      "outputs": [
        {
          "data": {
            "image/png": "[encoded data removed]",
            "text/plain": [
              "<Figure size 1800x900 with 2 Axes>"
            ]
          },
          "metadata": {},
          "output_type": "display_data"
        }
      ],
      "source": [
        "metrics = ['TD', '>19.8',\n",
        "       '>25', 'ACC', 'DEC', 'Sprints']\n",
        "\n",
        "# Calcular la matriz de correlación\n",
        "correlation_matrix = df[metrics].corr()\n",
        "\n",
        "# Mostrar la matriz de correlación\n",
        "plt.figure(figsize=(18, 9))\n",
        "sns.heatmap(correlation_matrix, annot=True, cmap='coolwarm', center=0)\n",
        "plt.title(\"Matriz de Correlación\")\n",
        "plt.show()\n"
      ]
    },
    {
      "cell_type": "code",
      "execution_count": 11,
      "metadata": {
        "colab": {
          "base_uri": "https://localhost:8080/",
          "height": 220
        },
        "id": "d_wjMfu0a_n7",
        "outputId": "3599e950-e092-432a-b1d9-a1e734ab2e81"
      },
      "outputs": [
        {
          "name": "stdout",
          "output_type": "stream",
          "text": [
            "  Variable       VIF\n",
            "0    const  7.536370\n",
            "1       TD  4.628723\n",
            "2    >19.8  3.719300\n",
            "3      >25  2.396270\n",
            "4      ACC  3.594287\n",
            "5      DEC  5.476943\n",
            "6  Sprints  4.365045\n"
          ]
        }
      ],
      "source": [
        "df_with_constant = add_constant(df[metrics])\n",
        "\n",
        "# Calcular el VIF para cada columna\n",
        "vif_data = pd.DataFrame()\n",
        "vif_data[\"Variable\"] = df_with_constant.columns\n",
        "vif_data[\"VIF\"] = [variance_inflation_factor(df_with_constant.values, i)\n",
        "                   for i in range(df_with_constant.shape[1])]\n",
        "\n",
        "# Mostrar el VIF\n",
        "print(vif_data)"
      ]
    },
    {
      "cell_type": "markdown",
      "metadata": {},
      "source": [
        "# Filter data by date or season\n"
      ]
    },
    {
      "cell_type": "code",
      "execution_count": 5,
      "metadata": {},
      "outputs": [
        {
          "data": {
            "text/html": [
              "<div>\n",
              "<style scoped>\n",
              "    .dataframe tbody tr th:only-of-type {\n",
              "        vertical-align: middle;\n",
              "    }\n",
              "\n",
              "    .dataframe tbody tr th {\n",
              "        vertical-align: top;\n",
              "    }\n",
              "\n",
              "    .dataframe thead th {\n",
              "        text-align: right;\n",
              "    }\n",
              "</style>\n",
              "<table border=\"1\" class=\"dataframe\">\n",
              "  <thead>\n",
              "    <tr style=\"text-align: right;\">\n",
              "      <th></th>\n",
              "      <th>DATE</th>\n",
              "      <th>Microcycle</th>\n",
              "      <th>Injury</th>\n",
              "      <th>season</th>\n",
              "      <th>preseason-season</th>\n",
              "      <th>TD</th>\n",
              "      <th>&gt;19.8</th>\n",
              "      <th>&gt;25</th>\n",
              "      <th>ACC</th>\n",
              "      <th>DEC</th>\n",
              "      <th>...</th>\n",
              "      <th>&gt;25-21</th>\n",
              "      <th>ACC-21</th>\n",
              "      <th>DEC-21</th>\n",
              "      <th>Sprints-21</th>\n",
              "      <th>Mins-21</th>\n",
              "      <th>Position_CENTREBACK</th>\n",
              "      <th>Position_CENTREMIDFIELDER</th>\n",
              "      <th>Position_FULLBACK</th>\n",
              "      <th>Position_STRIKER</th>\n",
              "      <th>Position_WINGER</th>\n",
              "    </tr>\n",
              "  </thead>\n",
              "  <tbody>\n",
              "    <tr>\n",
              "      <th>134</th>\n",
              "      <td>2022-06-21</td>\n",
              "      <td>NaN</td>\n",
              "      <td>0</td>\n",
              "      <td>2022-2023</td>\n",
              "      <td>PRESEASON</td>\n",
              "      <td>5511.0</td>\n",
              "      <td>113.0</td>\n",
              "      <td>6</td>\n",
              "      <td>68.0</td>\n",
              "      <td>35.0</td>\n",
              "      <td>...</td>\n",
              "      <td>1</td>\n",
              "      <td>57.0</td>\n",
              "      <td>21.0</td>\n",
              "      <td>15</td>\n",
              "      <td>81.69</td>\n",
              "      <td>0</td>\n",
              "      <td>1</td>\n",
              "      <td>0</td>\n",
              "      <td>0</td>\n",
              "      <td>0</td>\n",
              "    </tr>\n",
              "    <tr>\n",
              "      <th>135</th>\n",
              "      <td>2022-06-22</td>\n",
              "      <td>NaN</td>\n",
              "      <td>0</td>\n",
              "      <td>2022-2023</td>\n",
              "      <td>PRESEASON</td>\n",
              "      <td>6553.0</td>\n",
              "      <td>27.0</td>\n",
              "      <td>0</td>\n",
              "      <td>96.0</td>\n",
              "      <td>34.0</td>\n",
              "      <td>...</td>\n",
              "      <td>7</td>\n",
              "      <td>125.0</td>\n",
              "      <td>56.0</td>\n",
              "      <td>23</td>\n",
              "      <td>154.86</td>\n",
              "      <td>0</td>\n",
              "      <td>1</td>\n",
              "      <td>0</td>\n",
              "      <td>0</td>\n",
              "      <td>0</td>\n",
              "    </tr>\n",
              "    <tr>\n",
              "      <th>136</th>\n",
              "      <td>2022-06-23</td>\n",
              "      <td>NaN</td>\n",
              "      <td>0</td>\n",
              "      <td>2022-2023</td>\n",
              "      <td>PRESEASON</td>\n",
              "      <td>13058.0</td>\n",
              "      <td>267.0</td>\n",
              "      <td>17</td>\n",
              "      <td>90.0</td>\n",
              "      <td>63.0</td>\n",
              "      <td>...</td>\n",
              "      <td>7</td>\n",
              "      <td>221.0</td>\n",
              "      <td>90.0</td>\n",
              "      <td>26</td>\n",
              "      <td>249.01</td>\n",
              "      <td>0</td>\n",
              "      <td>1</td>\n",
              "      <td>0</td>\n",
              "      <td>0</td>\n",
              "      <td>0</td>\n",
              "    </tr>\n",
              "    <tr>\n",
              "      <th>137</th>\n",
              "      <td>2022-06-24</td>\n",
              "      <td>NaN</td>\n",
              "      <td>0</td>\n",
              "      <td>2022-2023</td>\n",
              "      <td>PRESEASON</td>\n",
              "      <td>6716.0</td>\n",
              "      <td>232.0</td>\n",
              "      <td>33</td>\n",
              "      <td>75.0</td>\n",
              "      <td>45.0</td>\n",
              "      <td>...</td>\n",
              "      <td>24</td>\n",
              "      <td>311.0</td>\n",
              "      <td>153.0</td>\n",
              "      <td>40</td>\n",
              "      <td>327.12</td>\n",
              "      <td>0</td>\n",
              "      <td>1</td>\n",
              "      <td>0</td>\n",
              "      <td>0</td>\n",
              "      <td>0</td>\n",
              "    </tr>\n",
              "    <tr>\n",
              "      <th>138</th>\n",
              "      <td>2022-06-25</td>\n",
              "      <td>NaN</td>\n",
              "      <td>0</td>\n",
              "      <td>2022-2023</td>\n",
              "      <td>PRESEASON</td>\n",
              "      <td>7723.0</td>\n",
              "      <td>241.0</td>\n",
              "      <td>45</td>\n",
              "      <td>54.0</td>\n",
              "      <td>46.0</td>\n",
              "      <td>...</td>\n",
              "      <td>57</td>\n",
              "      <td>386.0</td>\n",
              "      <td>198.0</td>\n",
              "      <td>53</td>\n",
              "      <td>395.66</td>\n",
              "      <td>0</td>\n",
              "      <td>1</td>\n",
              "      <td>0</td>\n",
              "      <td>0</td>\n",
              "      <td>0</td>\n",
              "    </tr>\n",
              "  </tbody>\n",
              "</table>\n",
              "<p>5 rows × 51 columns</p>\n",
              "</div>"
            ],
            "text/plain": [
              "          DATE Microcycle  Injury     season preseason-season       TD  >19.8  \\\n",
              "134 2022-06-21        NaN       0  2022-2023        PRESEASON   5511.0  113.0   \n",
              "135 2022-06-22        NaN       0  2022-2023        PRESEASON   6553.0   27.0   \n",
              "136 2022-06-23        NaN       0  2022-2023        PRESEASON  13058.0  267.0   \n",
              "137 2022-06-24        NaN       0  2022-2023        PRESEASON   6716.0  232.0   \n",
              "138 2022-06-25        NaN       0  2022-2023        PRESEASON   7723.0  241.0   \n",
              "\n",
              "     >25   ACC   DEC  ...  >25-21  ACC-21  DEC-21  Sprints-21  Mins-21  \\\n",
              "134    6  68.0  35.0  ...       1    57.0    21.0          15    81.69   \n",
              "135    0  96.0  34.0  ...       7   125.0    56.0          23   154.86   \n",
              "136   17  90.0  63.0  ...       7   221.0    90.0          26   249.01   \n",
              "137   33  75.0  45.0  ...      24   311.0   153.0          40   327.12   \n",
              "138   45  54.0  46.0  ...      57   386.0   198.0          53   395.66   \n",
              "\n",
              "     Position_CENTREBACK  Position_CENTREMIDFIELDER  Position_FULLBACK  \\\n",
              "134                    0                          1                  0   \n",
              "135                    0                          1                  0   \n",
              "136                    0                          1                  0   \n",
              "137                    0                          1                  0   \n",
              "138                    0                          1                  0   \n",
              "\n",
              "     Position_STRIKER  Position_WINGER  \n",
              "134                 0                0  \n",
              "135                 0                0  \n",
              "136                 0                0  \n",
              "137                 0                0  \n",
              "138                 0                0  \n",
              "\n",
              "[5 rows x 51 columns]"
            ]
          },
          "execution_count": 5,
          "metadata": {},
          "output_type": "execute_result"
        }
      ],
      "source": [
        "# Season 2022-2023\n",
        "df_filtered = df[df['season']=='2022-2023']\n",
        "\n",
        "# Season 2021-2022\n",
        "# df_filtered = df[df['season']=='2021-2022']\n",
        "\n",
        "# Filter by no season\n",
        "# df_filtered = df.copy()\n",
        "\n",
        "df_filtered.head()"
      ]
    },
    {
      "cell_type": "code",
      "execution_count": 6,
      "metadata": {},
      "outputs": [],
      "source": [
        "df_filtered = df_filtered[df_filtered['preseason-season'] != 'PRESEASON']\n",
        "\n",
        "df_filtered.reset_index(drop=True, inplace=True)"
      ]
    },
    {
      "cell_type": "code",
      "execution_count": 7,
      "metadata": {},
      "outputs": [
        {
          "name": "stdout",
          "output_type": "stream",
          "text": [
            "No Lesión: 2289\n",
            "Lesión: 23\n",
            "Porcentaje de lesionados en el dataset: 0.99%\n"
          ]
        }
      ],
      "source": [
        "print(\"No Lesión: \" + str(df_filtered[df_filtered[\"Injury\"] == 0].shape[0]))\n",
        "print(\"Lesión: \" + str(df_filtered[df_filtered[\"Injury\"] == 1].shape[0]))\n",
        "print(f\"Porcentaje de lesionados en el dataset: {((df_filtered[df_filtered['Injury'] == 1].shape[0] / df_filtered.shape[0]) * 100):.2f}%\")"
      ]
    },
    {
      "cell_type": "markdown",
      "metadata": {
        "id": "45bL6tM2e82Q"
      },
      "source": [
        "# ML Models"
      ]
    },
    {
      "cell_type": "markdown",
      "metadata": {
        "id": "WEhGu_lM8lq5"
      },
      "source": [
        "## Separate data into X, y and player_ids"
      ]
    },
    {
      "cell_type": "code",
      "execution_count": 8,
      "metadata": {},
      "outputs": [
        {
          "data": {
            "text/plain": [
              "Index(['DATE', 'Microcycle', 'Injury', 'season', 'preseason-season', 'TD',\n",
              "       '>19.8', '>25', 'ACC', 'DEC', 'PlayerID', 'Max Speed', 'Sprints',\n",
              "       'Mins', 'Max Speed Season', 'Avg Speed Season', '% Max Speed',\n",
              "       'Speed Diff Max Avg', 'TD-1', '>19.8-1', '>25-1', 'ACC-1', 'DEC-1',\n",
              "       'Sprints-1', 'Mins-1', 'TD-3', '>19.8-3', '>25-3', 'ACC-3', 'DEC-3',\n",
              "       'Sprints-3', 'Mins-3', 'TD-7', '>19.8-7', '>25-7', 'ACC-7', 'DEC-7',\n",
              "       'Sprints-7', 'Mins-7', 'TD-21', '>19.8-21', '>25-21', 'ACC-21',\n",
              "       'DEC-21', 'Sprints-21', 'Mins-21', 'Position_CENTREBACK',\n",
              "       'Position_CENTREMIDFIELDER', 'Position_FULLBACK', 'Position_STRIKER',\n",
              "       'Position_WINGER'],\n",
              "      dtype='object')"
            ]
          },
          "execution_count": 8,
          "metadata": {},
          "output_type": "execute_result"
        }
      ],
      "source": [
        "df_filtered.columns"
      ]
    },
    {
      "cell_type": "markdown",
      "metadata": {},
      "source": [
        "Initialize the features we want to train"
      ]
    },
    {
      "cell_type": "code",
      "execution_count": 8,
      "metadata": {
        "colab": {
          "base_uri": "https://localhost:8080/"
        },
        "id": "l5Iy0GLoaD97",
        "outputId": "93bc36c4-2ebb-4ce9-c182-3eedb939aa43"
      },
      "outputs": [
        {
          "name": "stdout",
          "output_type": "stream",
          "text": [
            "25\n"
          ]
        }
      ],
      "source": [
        "metrics_train = ['Injury','TD-1', '>19.8-1', '>25-1', 'ACC-1', 'DEC-1',\n",
        "       'Sprints-1', 'TD-3', '>19.8-3', '>25-3', 'ACC-3', 'DEC-3',\n",
        "       'Sprints-3', 'TD-7', '>19.8-7', '>25-7', 'ACC-7', 'DEC-7',\n",
        "       'Sprints-7', 'TD-21', '>19.8-21', '>25-21', 'ACC-21',\n",
        "       'DEC-21', 'Sprints-21']\n",
        "\n",
        "print(len(metrics_train))"
      ]
    },
    {
      "cell_type": "markdown",
      "metadata": {},
      "source": [
        "Sort the df by date"
      ]
    },
    {
      "cell_type": "code",
      "execution_count": 135,
      "metadata": {},
      "outputs": [],
      "source": [
        "df_sorted = df_filtered.sort_values(by='DATE', ascending=False).reset_index(drop=True)"
      ]
    },
    {
      "cell_type": "markdown",
      "metadata": {
        "id": "1nrspapd5Bo5"
      },
      "source": [
        "## Split data"
      ]
    },
    {
      "cell_type": "markdown",
      "metadata": {},
      "source": [
        "We want to also store the 'DATE' & 'PlayerID' columns for later comparison"
      ]
    },
    {
      "cell_type": "markdown",
      "metadata": {},
      "source": [
        "### Split by selecting 10 first injuries and its past 30 days"
      ]
    },
    {
      "cell_type": "code",
      "execution_count": 198,
      "metadata": {},
      "outputs": [],
      "source": [
        "extra_cols = df_sorted[['DATE', 'PlayerID']]\n",
        "X = df_sorted[metrics_train]\n",
        "y = df_sorted['Injury']"
      ]
    },
    {
      "cell_type": "code",
      "execution_count": 199,
      "metadata": {},
      "outputs": [
        {
          "name": "stdout",
          "output_type": "stream",
          "text": [
            "Number of rows in test set: 159\n",
            "Number of rows in training set: 2153\n"
          ]
        }
      ],
      "source": [
        "# Step 1: Identify rows where `Injury` occurred (Injury == 1)\n",
        "injury_indices = df_sorted[df_sorted['Injury'] == 1].index\n",
        "\n",
        "# Step 2: Select the first 7 unique PlayerIDs with injuries\n",
        "selected_players = df_sorted.loc[injury_indices, 'PlayerID'].drop_duplicates()[:5]\n",
        "\n",
        "# Step 3: Collect past 30 days of data for each selected player\n",
        "test_indices = set()  # Use a set to avoid duplicates\n",
        "\n",
        "for player in selected_players:\n",
        "    # Get all rows for this player\n",
        "    player_data = df_sorted[df_sorted['PlayerID'] == player]\n",
        "    \n",
        "    # Get all injuries for this player\n",
        "    player_injury_indices = player_data[player_data['Injury'] == 1].index\n",
        "    \n",
        "    for idx in player_injury_indices:\n",
        "        injury_date = player_data.loc[idx, 'DATE']\n",
        "        # Get all rows in the past 30 days for this injury\n",
        "        past_30_days_indices = player_data[\n",
        "            (player_data['DATE'] <= injury_date) &\n",
        "            (player_data['DATE'] > injury_date - pd.Timedelta(days=30))\n",
        "        ].index\n",
        "        test_indices.update(past_30_days_indices)\n",
        "\n",
        "# Convert set to list\n",
        "test_indices = list(test_indices)\n",
        "\n",
        "# Step 4: Create test and training sets\n",
        "X_test = X.loc[test_indices]\n",
        "y_test = y.loc[test_indices]\n",
        "\n",
        "X_train = X.drop(test_indices)\n",
        "y_train = y.drop(test_indices)\n",
        "\n",
        "# Optional: Extra columns for the test set\n",
        "extra_cols_test = extra_cols.loc[test_indices]\n",
        "\n",
        "# Sanity check for dataset sizes\n",
        "print(f\"Number of rows in test set: {len(X_test)}\")\n",
        "print(f\"Number of rows in training set: {len(X_train)}\")"
      ]
    },
    {
      "cell_type": "code",
      "execution_count": 178,
      "metadata": {},
      "outputs": [
        {
          "name": "stdout",
          "output_type": "stream",
          "text": [
            "No Lesión: 2138\n",
            "Lesión: 15\n",
            "Porcentaje de lesionados en el dataset: 0.70%\n"
          ]
        }
      ],
      "source": [
        "print(\"No Lesión: \" + str(X_train[X_train[\"Injury\"] == 0].shape[0]))\n",
        "print(\"Lesión: \" + str(X_train[X_train[\"Injury\"] == 1].shape[0]))\n",
        "print(f\"Porcentaje de lesionados en el dataset: {((X_train[X_train['Injury'] == 1].shape[0] / X_train.shape[0]) * 100):.2f}%\")"
      ]
    },
    {
      "cell_type": "code",
      "execution_count": 179,
      "metadata": {},
      "outputs": [
        {
          "name": "stdout",
          "output_type": "stream",
          "text": [
            "No Lesión: 151\n",
            "Lesión: 8\n",
            "Porcentaje de lesionados en el dataset: 5.03%\n"
          ]
        }
      ],
      "source": [
        "print(\"No Lesión: \" + str(X_test[X_test[\"Injury\"] == 0].shape[0]))\n",
        "print(\"Lesión: \" + str(X_test[X_test[\"Injury\"] == 1].shape[0]))\n",
        "print(f\"Porcentaje de lesionados en el dataset: {((X_test[X_test['Injury'] == 1].shape[0] / X_test.shape[0]) * 100):.2f}%\")"
      ]
    },
    {
      "cell_type": "code",
      "execution_count": 180,
      "metadata": {},
      "outputs": [],
      "source": [
        "X_train.drop(columns=['Injury'], inplace=True)\n",
        "X_test.drop(columns=['Injury'], inplace=True)"
      ]
    },
    {
      "cell_type": "markdown",
      "metadata": {},
      "source": [
        "### Split by first %X for validating and rest for training"
      ]
    },
    {
      "cell_type": "code",
      "execution_count": 116,
      "metadata": {},
      "outputs": [],
      "source": [
        "extra_cols = df_sorted[['DATE', 'PlayerID']]\n",
        "X = df_sorted[metrics_train]\n",
        "y = df_sorted['Injury']\n",
        "\n",
        "# Determine the split index for X% testing\n",
        "percentage_validation = 0.3\n",
        "split_index = int(percentage_validation * len(df_sorted))\n",
        "\n",
        "# Split the data\n",
        "X_test = X.iloc[:split_index].reset_index(drop=True)\n",
        "X_train = X.iloc[split_index:].reset_index(drop=True)\n",
        "y_test = y.iloc[:split_index].reset_index(drop=True)\n",
        "y_train = y.iloc[split_index:].reset_index(drop=True)\n",
        "extra_cols_test = extra_cols.iloc[:split_index].reset_index(drop=True)\n",
        "extra_cols_train = extra_cols.iloc[split_index:].reset_index(drop=True)"
      ]
    },
    {
      "cell_type": "markdown",
      "metadata": {},
      "source": [
        "Select less amount of data"
      ]
    },
    {
      "cell_type": "code",
      "execution_count": 117,
      "metadata": {},
      "outputs": [
        {
          "name": "stdout",
          "output_type": "stream",
          "text": [
            "No Lesión: 1599\n",
            "Lesión: 20\n",
            "Porcentaje de lesionados en el dataset: 1.24%\n"
          ]
        }
      ],
      "source": [
        "print(\"No Lesión: \" + str(X_train[X_train[\"Injury\"] == 0].shape[0]))\n",
        "print(\"Lesión: \" + str(X_train[X_train[\"Injury\"] == 1].shape[0]))\n",
        "print(f\"Porcentaje de lesionados en el dataset: {((X_train[X_train['Injury'] == 1].shape[0] / X_train.shape[0]) * 100):.2f}%\")"
      ]
    },
    {
      "cell_type": "code",
      "execution_count": 118,
      "metadata": {},
      "outputs": [],
      "source": [
        "# Sort X_train by index\n",
        "X_train = X_train.sort_index()  # Sort by date or relevant index if not already sorted.\n",
        "y_train = y_train.sort_index()  # Ensure y_train matches X_train in order.\n",
        "\n",
        "# Filter rows where 'Injury' == 1\n",
        "injury_rows = X_train[X_train['Injury'] == 1]\n",
        "\n",
        "# Get 30 days before each injury\n",
        "# Assuming a datetime index, otherwise adjust for your date representation\n",
        "indices_to_include = set(injury_rows.index)\n",
        "\n",
        "for idx in injury_rows.index:\n",
        "    # Include 30 rows before the 'Injury == 1', ensure not out of bounds\n",
        "    start_idx = max(0, idx - 30)\n",
        "    indices_to_include.update(range(start_idx, idx + 1))\n",
        "\n",
        "# Create a dataframe with required rows (Injury == 1 and 30 days before)\n",
        "selected_rows = X_train.loc[list(indices_to_include)]\n",
        "selected_y = y_train.loc[selected_rows.index]  # Match y_train with selected rows\n",
        "\n",
        "# Get the remaining rows not in `selected_rows`\n",
        "remaining_rows = X_train.drop(selected_rows.index)\n",
        "remaining_y = y_train.drop(selected_y.index)\n",
        "\n",
        "# Proportion for sampling (e.g., 50%)\n",
        "sample_proportion = 0.5\n",
        "n_to_sample = int(len(X_train) * sample_proportion - len(selected_rows))\n",
        "\n",
        "# Randomly sample from the remaining rows\n",
        "sampled_rows = remaining_rows.sample(n=n_to_sample, random_state=42)\n",
        "sampled_y = remaining_y.loc[sampled_rows.index]\n",
        "\n",
        "# Combine the selected rows and sampled rows\n",
        "X_train = pd.concat([selected_rows, sampled_rows]).sort_index().reset_index(drop=True)\n",
        "y_train = pd.concat([selected_y, sampled_y]).sort_index().reset_index(drop=True)\n"
      ]
    },
    {
      "cell_type": "code",
      "execution_count": 119,
      "metadata": {},
      "outputs": [
        {
          "name": "stdout",
          "output_type": "stream",
          "text": [
            "<class 'pandas.core.frame.DataFrame'>\n",
            "RangeIndex: 809 entries, 0 to 808\n",
            "Data columns (total 25 columns):\n",
            " #   Column      Non-Null Count  Dtype  \n",
            "---  ------      --------------  -----  \n",
            " 0   Injury      809 non-null    int64  \n",
            " 1   TD-1        809 non-null    float64\n",
            " 2   >19.8-1     809 non-null    int64  \n",
            " 3   >25-1       809 non-null    int64  \n",
            " 4   ACC-1       809 non-null    float64\n",
            " 5   DEC-1       809 non-null    float64\n",
            " 6   Sprints-1   809 non-null    int64  \n",
            " 7   TD-3        809 non-null    float64\n",
            " 8   >19.8-3     809 non-null    float64\n",
            " 9   >25-3       809 non-null    int64  \n",
            " 10  ACC-3       809 non-null    float64\n",
            " 11  DEC-3       809 non-null    float64\n",
            " 12  Sprints-3   809 non-null    int64  \n",
            " 13  TD-7        809 non-null    float64\n",
            " 14  >19.8-7     809 non-null    float64\n",
            " 15  >25-7       809 non-null    int64  \n",
            " 16  ACC-7       809 non-null    float64\n",
            " 17  DEC-7       809 non-null    float64\n",
            " 18  Sprints-7   809 non-null    int64  \n",
            " 19  TD-21       809 non-null    float64\n",
            " 20  >19.8-21    809 non-null    float64\n",
            " 21  >25-21      809 non-null    int64  \n",
            " 22  ACC-21      809 non-null    float64\n",
            " 23  DEC-21      809 non-null    float64\n",
            " 24  Sprints-21  809 non-null    int64  \n",
            "dtypes: float64(15), int64(10)\n",
            "memory usage: 158.1 KB\n"
          ]
        }
      ],
      "source": [
        "X_train.info()"
      ]
    },
    {
      "cell_type": "code",
      "execution_count": 120,
      "metadata": {},
      "outputs": [
        {
          "name": "stdout",
          "output_type": "stream",
          "text": [
            "No Lesión: 789\n",
            "Lesión: 20\n",
            "Porcentaje de lesionados en el dataset: 2.47%\n"
          ]
        }
      ],
      "source": [
        "print(\"No Lesión: \" + str(X_train[X_train[\"Injury\"] == 0].shape[0]))\n",
        "print(\"Lesión: \" + str(X_train[X_train[\"Injury\"] == 1].shape[0]))\n",
        "print(f\"Porcentaje de lesionados en el dataset: {((X_train[X_train['Injury'] == 1].shape[0] / X_train.shape[0]) * 100):.2f}%\")"
      ]
    },
    {
      "cell_type": "code",
      "execution_count": 156,
      "metadata": {},
      "outputs": [],
      "source": [
        "X_train.drop(columns=['Injury'], inplace=True)\n",
        "X_test.drop(columns=['Injury'], inplace=True)"
      ]
    },
    {
      "cell_type": "markdown",
      "metadata": {},
      "source": [
        "### Split random "
      ]
    },
    {
      "cell_type": "code",
      "execution_count": 200,
      "metadata": {
        "colab": {
          "base_uri": "https://localhost:8080/"
        },
        "id": "ZmyBmKGe5Ayp",
        "outputId": "94156fbb-192e-4d32-eecc-bda110590a9d"
      },
      "outputs": [],
      "source": [
        "extra_cols = df_sorted[['DATE', 'PlayerID']]\n",
        "X = df_sorted[metrics_train]\n",
        "y = df_sorted['Injury']\n",
        "\n",
        "# Split the data into training and test sets\n",
        "# X_train, X_test, y_train, y_test, extra_cols_train, extra_cols_test = train_test_split(X, y, extra_cols, test_size=0.3, random_state=42, stratify=y)\n",
        "X_train, X_test, y_train, y_test, extra_cols_train, extra_cols_test = train_test_split(X, y, extra_cols, test_size=0.3, random_state=42, stratify=y)\n",
        "\n",
        "X_train.drop(columns=['Injury'], inplace=True)\n",
        "X_test.drop(columns=['Injury'], inplace=True)\n",
        "\n",
        "X_train.reset_index(drop=True, inplace=True)\n",
        "X_test.reset_index(drop=True, inplace=True)\n",
        "y_train.reset_index(drop=True, inplace=True)\n",
        "y_test.reset_index(drop=True, inplace=True)\n",
        "extra_cols_train.reset_index(drop=True, inplace=True)\n",
        "extra_cols_test.reset_index(drop=True, inplace=True)\n"
      ]
    },
    {
      "cell_type": "markdown",
      "metadata": {},
      "source": [
        "## SMOTE or SMOTEEN oversampling technique"
      ]
    },
    {
      "cell_type": "code",
      "execution_count": 201,
      "metadata": {},
      "outputs": [
        {
          "name": "stdout",
          "output_type": "stream",
          "text": [
            "Class distribution after SMOTE:\n",
            "Injury\n",
            "0    1602\n",
            "1    1602\n",
            "Name: count, dtype: int64\n",
            "Injury\n",
            "0    1602\n",
            "1    1602\n",
            "Name: count, dtype: int64\n"
          ]
        }
      ],
      "source": [
        "# Initialize SMOTE\n",
        "smote = SMOTE(random_state=42)\n",
        "# Apply SMOTE to training data\n",
        "X_train , y_train = smote.fit_resample(X_train, y_train)\n",
        "\n",
        "# smote_enn = SMOTEENN(random_state=42)\n",
        "# X_train, y_train = smote_enn.fit_resample(X_train, y_train)\n",
        "\n",
        "print(\"Class distribution after SMOTE:\")\n",
        "print(pd.Series(y_train).value_counts())\n",
        "print(pd.Series(y_train).value_counts())"
      ]
    },
    {
      "cell_type": "markdown",
      "metadata": {},
      "source": [
        "## Logistic Regression"
      ]
    },
    {
      "cell_type": "markdown",
      "metadata": {},
      "source": [
        "Initialize logistic regression and normalize the data"
      ]
    },
    {
      "cell_type": "code",
      "execution_count": 202,
      "metadata": {},
      "outputs": [],
      "source": [
        "# Create the model\n",
        "logistic_model = LogisticRegression(random_state=42, max_iter=1000)\n",
        "\n",
        "scaler = MinMaxScaler()\n",
        "X_train_scaled = scaler.fit_transform(X_train)\n",
        "X_test_scaled = scaler.transform(X_test)"
      ]
    },
    {
      "cell_type": "markdown",
      "metadata": {},
      "source": [
        "### Logistic Regression Active learning "
      ]
    },
    {
      "cell_type": "markdown",
      "metadata": {},
      "source": [
        "to dynamically select data"
      ]
    },
    {
      "cell_type": "code",
      "execution_count": 113,
      "metadata": {},
      "outputs": [
        {
          "name": "stdout",
          "output_type": "stream",
          "text": [
            "Initial training set size: 2000\n",
            "Remaining pool size: 1204\n"
          ]
        }
      ],
      "source": [
        "# Initialize datasets\n",
        "X_all = X_train_scaled  # Scaled features\n",
        "y_all = y_train.values  # Labels\n",
        "\n",
        "# Start with a small labeled dataset from the bottom of the sorted DataFrame\n",
        "initial_samples = 2000  # Number of initial samples\n",
        "X_train_active = X_all[-initial_samples:]  # Select the last `initial_samples` rows\n",
        "y_train_active = y_all[-initial_samples:]  # Corresponding labels\n",
        "\n",
        "# Remaining unlabeled pool (everything except the selected rows)\n",
        "X_pool = X_all[:-initial_samples]\n",
        "y_pool = y_all[:-initial_samples]\n",
        "\n",
        "print(f\"Initial training set size: {len(X_train_active)}\")\n",
        "print(f\"Remaining pool size: {len(X_pool)}\")"
      ]
    },
    {
      "cell_type": "code",
      "execution_count": 114,
      "metadata": {},
      "outputs": [
        {
          "name": "stdout",
          "output_type": "stream",
          "text": [
            "Iteration 1/100:\n",
            "Training Recall for Label 1: 1.0000\n",
            "Training Size: 2010\n",
            "Iteration 2/100:\n",
            "Training Recall for Label 1: 1.0000\n",
            "Training Size: 2020\n",
            "Iteration 3/100:\n",
            "Training Recall for Label 1: 1.0000\n",
            "Training Size: 2030\n",
            "Iteration 4/100:\n",
            "Training Recall for Label 1: 1.0000\n",
            "Training Size: 2040\n",
            "Iteration 5/100:\n",
            "Training Recall for Label 1: 1.0000\n",
            "Training Size: 2050\n",
            "Iteration 6/100:\n",
            "Training Recall for Label 1: 1.0000\n",
            "Training Size: 2060\n",
            "Iteration 7/100:\n",
            "Training Recall for Label 1: 1.0000\n",
            "Training Size: 2070\n",
            "Iteration 8/100:\n",
            "Training Recall for Label 1: 1.0000\n",
            "Training Size: 2080\n",
            "Iteration 9/100:\n",
            "Training Recall for Label 1: 1.0000\n",
            "Training Size: 2090\n",
            "Iteration 10/100:\n",
            "Training Recall for Label 1: 1.0000\n",
            "Training Size: 2100\n",
            "Iteration 11/100:\n",
            "Training Recall for Label 1: 1.0000\n",
            "Training Size: 2110\n",
            "Iteration 12/100:\n",
            "Training Recall for Label 1: 1.0000\n",
            "Training Size: 2120\n",
            "Iteration 13/100:\n",
            "Training Recall for Label 1: 1.0000\n",
            "Training Size: 2130\n",
            "Iteration 14/100:\n",
            "Training Recall for Label 1: 1.0000\n",
            "Training Size: 2140\n",
            "Iteration 15/100:\n",
            "Training Recall for Label 1: 1.0000\n",
            "Training Size: 2150\n",
            "Iteration 16/100:\n",
            "Training Recall for Label 1: 1.0000\n",
            "Training Size: 2160\n",
            "Iteration 17/100:\n",
            "Training Recall for Label 1: 1.0000\n",
            "Training Size: 2170\n",
            "Iteration 18/100:\n",
            "Training Recall for Label 1: 1.0000\n",
            "Training Size: 2180\n",
            "Iteration 19/100:\n",
            "Training Recall for Label 1: 0.9994\n",
            "Training Size: 2190\n",
            "Iteration 20/100:\n",
            "Training Recall for Label 1: 0.9994\n",
            "Training Size: 2200\n",
            "Iteration 21/100:\n",
            "Training Recall for Label 1: 0.9994\n",
            "Training Size: 2210\n",
            "Iteration 22/100:\n",
            "Training Recall for Label 1: 0.9962\n",
            "Training Size: 2220\n",
            "Iteration 23/100:\n",
            "Training Recall for Label 1: 0.9931\n",
            "Training Size: 2230\n",
            "Iteration 24/100:\n",
            "Training Recall for Label 1: 0.9912\n",
            "Training Size: 2240\n",
            "Iteration 25/100:\n",
            "Training Recall for Label 1: 0.9906\n",
            "Training Size: 2250\n",
            "Iteration 26/100:\n",
            "Training Recall for Label 1: 0.9893\n",
            "Training Size: 2260\n",
            "Iteration 27/100:\n",
            "Training Recall for Label 1: 0.9881\n",
            "Training Size: 2270\n",
            "Iteration 28/100:\n",
            "Training Recall for Label 1: 0.9874\n",
            "Training Size: 2280\n",
            "Iteration 29/100:\n",
            "Training Recall for Label 1: 0.9830\n",
            "Training Size: 2290\n",
            "Iteration 30/100:\n",
            "Training Recall for Label 1: 0.9818\n",
            "Training Size: 2300\n",
            "Iteration 31/100:\n",
            "Training Recall for Label 1: 0.9799\n",
            "Training Size: 2310\n",
            "Iteration 32/100:\n",
            "Training Recall for Label 1: 0.9793\n",
            "Training Size: 2320\n",
            "Iteration 33/100:\n",
            "Training Recall for Label 1: 0.9793\n",
            "Training Size: 2330\n",
            "Iteration 34/100:\n",
            "Training Recall for Label 1: 0.9774\n",
            "Training Size: 2340\n",
            "Iteration 35/100:\n",
            "Training Recall for Label 1: 0.9730\n",
            "Training Size: 2350\n",
            "Iteration 36/100:\n",
            "Training Recall for Label 1: 0.9655\n",
            "Training Size: 2360\n",
            "Iteration 37/100:\n",
            "Training Recall for Label 1: 0.9623\n",
            "Training Size: 2370\n",
            "Iteration 38/100:\n",
            "Training Recall for Label 1: 0.9560\n",
            "Training Size: 2380\n",
            "Iteration 39/100:\n",
            "Training Recall for Label 1: 0.9548\n",
            "Training Size: 2390\n",
            "Iteration 40/100:\n",
            "Training Recall for Label 1: 0.9535\n",
            "Training Size: 2400\n",
            "Iteration 41/100:\n",
            "Training Recall for Label 1: 0.9479\n",
            "Training Size: 2410\n",
            "Iteration 42/100:\n",
            "Training Recall for Label 1: 0.9422\n",
            "Training Size: 2420\n",
            "Iteration 43/100:\n",
            "Training Recall for Label 1: 0.9360\n",
            "Training Size: 2430\n",
            "Iteration 44/100:\n",
            "Training Recall for Label 1: 0.9360\n",
            "Training Size: 2440\n",
            "Iteration 45/100:\n",
            "Training Recall for Label 1: 0.9341\n",
            "Training Size: 2450\n",
            "Iteration 46/100:\n",
            "Training Recall for Label 1: 0.9341\n",
            "Training Size: 2460\n",
            "Iteration 47/100:\n",
            "Training Recall for Label 1: 0.9328\n",
            "Training Size: 2470\n",
            "Iteration 48/100:\n",
            "Training Recall for Label 1: 0.9266\n",
            "Training Size: 2480\n",
            "Iteration 49/100:\n",
            "Training Recall for Label 1: 0.9215\n",
            "Training Size: 2490\n",
            "Iteration 50/100:\n",
            "Training Recall for Label 1: 0.9153\n",
            "Training Size: 2500\n",
            "Iteration 51/100:\n",
            "Training Recall for Label 1: 0.9134\n",
            "Training Size: 2510\n",
            "Iteration 52/100:\n",
            "Training Recall for Label 1: 0.9102\n",
            "Training Size: 2520\n",
            "Iteration 53/100:\n",
            "Training Recall for Label 1: 0.9090\n",
            "Training Size: 2530\n",
            "Iteration 54/100:\n",
            "Training Recall for Label 1: 0.9065\n",
            "Training Size: 2540\n",
            "Iteration 55/100:\n",
            "Training Recall for Label 1: 0.9058\n",
            "Training Size: 2550\n",
            "Iteration 56/100:\n",
            "Training Recall for Label 1: 0.9014\n",
            "Training Size: 2560\n",
            "Iteration 57/100:\n",
            "Training Recall for Label 1: 0.9008\n",
            "Training Size: 2570\n",
            "Iteration 58/100:\n",
            "Training Recall for Label 1: 0.8996\n",
            "Training Size: 2580\n",
            "Iteration 59/100:\n",
            "Training Recall for Label 1: 0.8952\n",
            "Training Size: 2590\n",
            "Iteration 60/100:\n",
            "Training Recall for Label 1: 0.8959\n",
            "Training Size: 2600\n",
            "Iteration 61/100:\n",
            "Training Recall for Label 1: 0.8940\n",
            "Training Size: 2610\n",
            "Iteration 62/100:\n",
            "Training Recall for Label 1: 0.8922\n",
            "Training Size: 2620\n",
            "Iteration 63/100:\n",
            "Training Recall for Label 1: 0.8909\n",
            "Training Size: 2630\n",
            "Iteration 64/100:\n",
            "Training Recall for Label 1: 0.8878\n",
            "Training Size: 2640\n",
            "Iteration 65/100:\n",
            "Training Recall for Label 1: 0.8853\n",
            "Training Size: 2650\n",
            "Iteration 66/100:\n",
            "Training Recall for Label 1: 0.8835\n",
            "Training Size: 2660\n",
            "Iteration 67/100:\n",
            "Training Recall for Label 1: 0.8836\n",
            "Training Size: 2670\n",
            "Iteration 68/100:\n",
            "Training Recall for Label 1: 0.8817\n",
            "Training Size: 2680\n",
            "Iteration 69/100:\n",
            "Training Recall for Label 1: 0.8786\n",
            "Training Size: 2690\n",
            "Iteration 70/100:\n",
            "Training Recall for Label 1: 0.8755\n",
            "Training Size: 2700\n",
            "Iteration 71/100:\n",
            "Training Recall for Label 1: 0.8736\n",
            "Training Size: 2710\n",
            "Iteration 72/100:\n",
            "Training Recall for Label 1: 0.8748\n",
            "Training Size: 2720\n",
            "Iteration 73/100:\n",
            "Training Recall for Label 1: 0.8748\n",
            "Training Size: 2730\n",
            "Iteration 74/100:\n",
            "Training Recall for Label 1: 0.8711\n",
            "Training Size: 2740\n",
            "Iteration 75/100:\n",
            "Training Recall for Label 1: 0.8699\n",
            "Training Size: 2750\n",
            "Iteration 76/100:\n",
            "Training Recall for Label 1: 0.8699\n",
            "Training Size: 2760\n",
            "Iteration 77/100:\n",
            "Training Recall for Label 1: 0.8680\n",
            "Training Size: 2770\n",
            "Iteration 78/100:\n",
            "Training Recall for Label 1: 0.8700\n",
            "Training Size: 2780\n",
            "Iteration 79/100:\n",
            "Training Recall for Label 1: 0.8700\n",
            "Training Size: 2790\n",
            "Iteration 80/100:\n",
            "Training Recall for Label 1: 0.8688\n",
            "Training Size: 2800\n",
            "Iteration 81/100:\n",
            "Training Recall for Label 1: 0.8682\n",
            "Training Size: 2810\n",
            "Iteration 82/100:\n",
            "Training Recall for Label 1: 0.8657\n",
            "Training Size: 2820\n",
            "Iteration 83/100:\n",
            "Training Recall for Label 1: 0.8676\n",
            "Training Size: 2830\n",
            "Iteration 84/100:\n",
            "Training Recall for Label 1: 0.8657\n",
            "Training Size: 2840\n",
            "Iteration 85/100:\n",
            "Training Recall for Label 1: 0.8657\n",
            "Training Size: 2850\n",
            "Iteration 86/100:\n",
            "Training Recall for Label 1: 0.8676\n",
            "Training Size: 2860\n",
            "Iteration 87/100:\n",
            "Training Recall for Label 1: 0.8657\n",
            "Training Size: 2870\n",
            "Iteration 88/100:\n",
            "Training Recall for Label 1: 0.8657\n",
            "Training Size: 2880\n",
            "Iteration 89/100:\n",
            "Training Recall for Label 1: 0.8657\n",
            "Training Size: 2890\n",
            "Iteration 90/100:\n",
            "Training Recall for Label 1: 0.8657\n",
            "Training Size: 2900\n",
            "Iteration 91/100:\n",
            "Training Recall for Label 1: 0.8657\n",
            "Training Size: 2910\n",
            "Iteration 92/100:\n",
            "Training Recall for Label 1: 0.8657\n",
            "Training Size: 2920\n",
            "Iteration 93/100:\n",
            "Training Recall for Label 1: 0.8657\n",
            "Training Size: 2930\n",
            "Iteration 94/100:\n",
            "Training Recall for Label 1: 0.8651\n",
            "Training Size: 2940\n",
            "Iteration 95/100:\n",
            "Training Recall for Label 1: 0.8651\n",
            "Training Size: 2950\n",
            "Iteration 96/100:\n",
            "Training Recall for Label 1: 0.8638\n",
            "Training Size: 2960\n",
            "Iteration 97/100:\n",
            "Training Recall for Label 1: 0.8626\n",
            "Training Size: 2970\n",
            "Iteration 98/100:\n",
            "Training Recall for Label 1: 0.8620\n",
            "Training Size: 2980\n",
            "Iteration 99/100:\n",
            "Training Recall for Label 1: 0.8620\n",
            "Training Size: 2990\n",
            "Iteration 100/100:\n",
            "Training Recall for Label 1: 0.8627\n",
            "Training Size: 3000\n"
          ]
        },
        {
          "data": {
            "image/png": "[encoded data removed]",
            "text/plain": [
              "<Figure size 1000x600 with 1 Axes>"
            ]
          },
          "metadata": {},
          "output_type": "display_data"
        }
      ],
      "source": [
        "# Parameters for active learning\n",
        "n_iterations = 100  # Number of active learning iterations\n",
        "samples_per_iteration = 10  # Samples to add in each iteration\n",
        "\n",
        "# To store metrics for visualization\n",
        "train_recall_label1_scores = []\n",
        "train_sizes = []\n",
        "\n",
        "for i in range(n_iterations):\n",
        "    # Train the model on the current labeled dataset\n",
        "    logistic_model.fit(X_train_active, y_train_active)\n",
        "    \n",
        "    # Predict probabilities for the unlabeled pool\n",
        "    probs = logistic_model.predict_proba(X_pool)[:, 1]\n",
        "    \n",
        "    # Find the most uncertain samples (probabilities closest to 0.5)\n",
        "    uncertainty = np.abs(probs - 0.5)  # Uncertainty measure\n",
        "    uncertain_indices = np.argsort(uncertainty)[:samples_per_iteration]\n",
        "    \n",
        "    # Add the most uncertain samples to the training set\n",
        "    X_train_active = np.vstack((X_train_active, X_pool[uncertain_indices]))\n",
        "    y_train_active = np.hstack((y_train_active, y_pool[uncertain_indices]))\n",
        "    \n",
        "    # Remove these samples from the pool\n",
        "    X_pool = np.delete(X_pool, uncertain_indices, axis=0)\n",
        "    y_pool = np.delete(y_pool, uncertain_indices, axis=0)\n",
        "    \n",
        "    # Evaluate recall for label 1\n",
        "    y_train_pred = logistic_model.predict(X_train_active)\n",
        "    recall_label1 = recall_score(y_train_active, y_train_pred, pos_label=1)  # Focus on label 1\n",
        "    train_recall_label1_scores.append(recall_label1)\n",
        "    train_sizes.append(len(y_train_active))\n",
        "    \n",
        "    print(f\"Iteration {i + 1}/{n_iterations}:\")\n",
        "    print(f\"Training Recall for Label 1: {recall_label1:.4f}\")\n",
        "    print(f\"Training Size: {len(y_train_active)}\")\n",
        "    \n",
        "    \n",
        "# Plot recall improvement for label 1\n",
        "plt.figure(figsize=(10, 6))\n",
        "plt.plot(train_sizes, train_recall_label1_scores, marker='o', label=\"Recall for Label 1\")\n",
        "plt.xlabel(\"Training Set Size\")\n",
        "plt.ylabel(\"Recall for Label 1\")\n",
        "plt.title(\"Recall Improvement for Label 1 During Active Learning\")\n",
        "plt.legend()\n",
        "plt.grid()\n",
        "plt.show()"
      ]
    },
    {
      "cell_type": "code",
      "execution_count": 80,
      "metadata": {},
      "outputs": [
        {
          "name": "stdout",
          "output_type": "stream",
          "text": [
            "\n",
            "Test Set Evaluation:\n",
            "Accuracy: 0.8700947225981055\n",
            "Confusion Matrix:\n",
            " [[643  93]\n",
            " [  3   0]]\n",
            "Classification Report:\n",
            "               precision    recall  f1-score   support\n",
            "\n",
            "           0       1.00      0.87      0.93       736\n",
            "           1       0.00      0.00      0.00         3\n",
            "\n",
            "    accuracy                           0.87       739\n",
            "   macro avg       0.50      0.44      0.47       739\n",
            "weighted avg       0.99      0.87      0.93       739\n",
            "\n"
          ]
        }
      ],
      "source": [
        "# Evaluate on test data\n",
        "y_test_pred = logistic_model.predict(X_test_scaled)\n",
        "print(\"\\nTest Set Evaluation:\")\n",
        "print(\"Accuracy:\", accuracy_score(y_test, y_test_pred))\n",
        "print(\"Confusion Matrix:\\n\", confusion_matrix(y_test, y_test_pred))\n",
        "print(\"Classification Report:\\n\", classification_report(y_test, y_test_pred))\n"
      ]
    },
    {
      "cell_type": "markdown",
      "metadata": {},
      "source": [
        "### Regular logistic regression"
      ]
    },
    {
      "cell_type": "code",
      "execution_count": 203,
      "metadata": {},
      "outputs": [
        {
          "name": "stdout",
          "output_type": "stream",
          "text": [
            "Training Set Evaluation:\n",
            "Accuracy: 0.8117977528089888\n",
            "Confusion Matrix:\n",
            " [[1222  380]\n",
            " [ 223 1379]]\n",
            "Classification Report:\n",
            "               precision    recall  f1-score   support\n",
            "\n",
            "           0       0.85      0.76      0.80      1602\n",
            "           1       0.78      0.86      0.82      1602\n",
            "\n",
            "    accuracy                           0.81      3204\n",
            "   macro avg       0.81      0.81      0.81      3204\n",
            "weighted avg       0.81      0.81      0.81      3204\n",
            "\n",
            "\n",
            "Test Set Evaluation:\n",
            "Accuracy: 0.7463976945244957\n",
            "Confusion Matrix:\n",
            " [[515 172]\n",
            " [  4   3]]\n",
            "Classification Report:\n",
            "               precision    recall  f1-score   support\n",
            "\n",
            "           0       0.99      0.75      0.85       687\n",
            "           1       0.02      0.43      0.03         7\n",
            "\n",
            "    accuracy                           0.75       694\n",
            "   macro avg       0.50      0.59      0.44       694\n",
            "weighted avg       0.98      0.75      0.85       694\n",
            "\n"
          ]
        }
      ],
      "source": [
        "# Train the model\n",
        "logistic_model.fit(X_train_scaled, y_train)\n",
        "\n",
        "# Predictions\n",
        "y_train_pred = logistic_model.predict(X_train_scaled)\n",
        "y_test_pred = logistic_model.predict(X_test_scaled)\n",
        "\n",
        "# Probabilities\n",
        "y_test_probs = logistic_model.predict_proba(X_test_scaled)[:, 1]  # Probabilities for the positive class\n",
        "\n",
        "# Training evaluation\n",
        "print(\"Training Set Evaluation:\")\n",
        "print(\"Accuracy:\", accuracy_score(y_train, y_train_pred))\n",
        "print(\"Confusion Matrix:\\n\", confusion_matrix(y_train, y_train_pred))\n",
        "print(\"Classification Report:\\n\", classification_report(y_train, y_train_pred))\n",
        "\n",
        "# Test evaluation\n",
        "print(\"\\nTest Set Evaluation:\")\n",
        "print(\"Accuracy:\", accuracy_score(y_test, y_test_pred))\n",
        "print(\"Confusion Matrix:\\n\", confusion_matrix(y_test, y_test_pred))\n",
        "print(\"Classification Report:\\n\", classification_report(y_test, y_test_pred))"
      ]
    },
    {
      "cell_type": "markdown",
      "metadata": {},
      "source": [
        "Find the best threshold"
      ]
    },
    {
      "cell_type": "code",
      "execution_count": 204,
      "metadata": {},
      "outputs": [
        {
          "data": {
            "image/png": "[encoded data removed]",
            "text/plain": [
              "<Figure size 1000x600 with 1 Axes>"
            ]
          },
          "metadata": {},
          "output_type": "display_data"
        }
      ],
      "source": [
        "# Thresholds to evaluate (from 0.3 to 0.6 in steps of 0.01)\n",
        "thresholds = np.arange(0.3, 0.61, 0.01)  # Thresholds from 0 to 1 in steps of 0.01\n",
        "\n",
        "# Store results\n",
        "results = []\n",
        "\n",
        "for threshold in thresholds:\n",
        "    # Generate predictions for the current threshold\n",
        "    y_pred = (y_test_probs >= threshold).astype(int)\n",
        "    \n",
        "    # Calculate metrics\n",
        "    recall = recall_score(y_test, y_pred, pos_label=1)  # Recall for label 1\n",
        "    precision = precision_score(y_test, y_pred, pos_label=1)\n",
        "    f1 = f1_score(y_test, y_pred)\n",
        "    accuracy = accuracy_score(y_test, y_pred)\n",
        "    \n",
        "    # Append metrics and threshold to results\n",
        "    results.append({\n",
        "        'Threshold': threshold,\n",
        "        'Recall': recall,\n",
        "        'Precision': precision,\n",
        "        'F1-Score': f1,\n",
        "        'Accuracy': accuracy\n",
        "    })\n",
        "    \n",
        "results_df = pd.DataFrame(results)\n",
        "\n",
        "plt.figure(figsize=(10, 6))\n",
        "plt.plot(results_df['Threshold'], results_df['Recall'], label='Recall', marker='o')\n",
        "plt.plot(results_df['Threshold'], results_df['Precision'], label='Precision', marker='x')\n",
        "plt.plot(results_df['Threshold'], results_df['F1-Score'], label='F1-Score', marker='s')\n",
        "plt.plot(results_df['Threshold'], results_df['Accuracy'], label='Accuracy', marker='d')\n",
        "plt.xlabel(\"Threshold\")\n",
        "plt.ylabel(\"Metric Value\")\n",
        "plt.title(\"Metrics vs Threshold\")\n",
        "plt.legend()\n",
        "plt.grid()\n",
        "plt.show()"
      ]
    },
    {
      "cell_type": "markdown",
      "metadata": {},
      "source": [
        "ROC Curve with manually selecting the threshold"
      ]
    },
    {
      "cell_type": "code",
      "execution_count": 205,
      "metadata": {},
      "outputs": [
        {
          "name": "stdout",
          "output_type": "stream",
          "text": [
            "Number of unique thresholds: 17\n",
            "\n",
            "Manually Selected Threshold: 0.46\n",
            "\n",
            "Evaluation with Manually Selected Threshold:\n",
            "Accuracy: 0.7146974063400576\n",
            "Confusion Matrix:\n",
            " [[491 196]\n",
            " [  2   5]]\n",
            "Classification Report:\n",
            "               precision    recall  f1-score   support\n",
            "\n",
            "           0       1.00      0.71      0.83       687\n",
            "           1       0.02      0.71      0.05         7\n",
            "\n",
            "    accuracy                           0.71       694\n",
            "   macro avg       0.51      0.71      0.44       694\n",
            "weighted avg       0.99      0.71      0.82       694\n",
            "\n"
          ]
        },
        {
          "data": {
            "image/png": "[encoded data removed]",
            "text/plain": [
              "<Figure size 800x600 with 1 Axes>"
            ]
          },
          "metadata": {},
          "output_type": "display_data"
        }
      ],
      "source": [
        "# Calculate ROC curve and AUC\n",
        "fpr, tpr, thresholds = roc_curve(y_test, y_test_probs)\n",
        "roc_auc = auc(fpr, tpr)\n",
        "\n",
        "# Print the number of unique thresholds\n",
        "print(f\"Number of unique thresholds: {len(thresholds)}\")\n",
        "\n",
        "# Manually select the threshold\n",
        "manual_threshold = 0.46 # Manually chosen threshold\n",
        "print(f\"\\nManually Selected Threshold: {manual_threshold:.2f}\")\n",
        "\n",
        "# Apply the manually selected threshold\n",
        "y_test_pred_manual = (y_test_probs >= manual_threshold).astype(int)\n",
        "\n",
        "# Evaluate the model with the manually selected threshold\n",
        "print(\"\\nEvaluation with Manually Selected Threshold:\")\n",
        "print(\"Accuracy:\", accuracy_score(y_test, y_test_pred_manual))\n",
        "print(\"Confusion Matrix:\\n\", confusion_matrix(y_test, y_test_pred_manual))\n",
        "print(\"Classification Report:\\n\", classification_report(y_test, y_test_pred_manual))\n",
        "\n",
        "# Find the index of the manually selected threshold in the ROC data\n",
        "# Using `thresholds` from the ROC calculation\n",
        "manual_idx = np.argmin(np.abs(thresholds - manual_threshold))\n",
        "\n",
        "# Plot the ROC curve and mark the manually selected threshold\n",
        "plt.figure(figsize=(8, 6))\n",
        "plt.plot(fpr, tpr, label=f\"ROC Curve (AUC = {roc_auc:.2f})\")\n",
        "plt.scatter(fpr[manual_idx], tpr[manual_idx], color=\"red\", label=f\"Threshold = {manual_threshold:.2f}\")\n",
        "plt.plot([0, 1], [0, 1], \"k--\", label=\"Random Guess\")\n",
        "plt.xlabel(\"False Positive Rate\")\n",
        "plt.ylabel(\"True Positive Rate\")\n",
        "plt.title(\"ROC Curve with Manually Selected Threshold\")\n",
        "plt.legend(loc=\"lower right\")\n",
        "plt.show()"
      ]
    },
    {
      "cell_type": "code",
      "execution_count": 189,
      "metadata": {},
      "outputs": [
        {
          "data": {
            "image/png": "[encoded data removed]",
            "text/plain": [
              "<Figure size 640x480 with 1 Axes>"
            ]
          },
          "metadata": {},
          "output_type": "display_data"
        }
      ],
      "source": [
        "plt.hist(y_test_probs, bins=20, alpha=0.7)\n",
        "plt.title(\"Distribution of Predicted Probabilities\")\n",
        "plt.xlabel(\"Predicted Probability\")\n",
        "plt.ylabel(\"Frequency\")\n",
        "plt.show()"
      ]
    },
    {
      "cell_type": "markdown",
      "metadata": {},
      "source": [
        "Store the coeficients"
      ]
    },
    {
      "cell_type": "code",
      "execution_count": 190,
      "metadata": {},
      "outputs": [
        {
          "name": "stdout",
          "output_type": "stream",
          "text": [
            "\n",
            "Player, Date, Feature Contributions, Linear Combination, and Score DataFrame:\n"
          ]
        },
        {
          "data": {
            "text/html": [
              "<div>\n",
              "<style scoped>\n",
              "    .dataframe tbody tr th:only-of-type {\n",
              "        vertical-align: middle;\n",
              "    }\n",
              "\n",
              "    .dataframe tbody tr th {\n",
              "        vertical-align: top;\n",
              "    }\n",
              "\n",
              "    .dataframe thead th {\n",
              "        text-align: right;\n",
              "    }\n",
              "</style>\n",
              "<table border=\"1\" class=\"dataframe\">\n",
              "  <thead>\n",
              "    <tr style=\"text-align: right;\">\n",
              "      <th></th>\n",
              "      <th>Player</th>\n",
              "      <th>Date</th>\n",
              "      <th>Score</th>\n",
              "      <th>Actual</th>\n",
              "      <th>TD-1</th>\n",
              "      <th>Coeff_TD-1</th>\n",
              "      <th>&gt;19.8-1</th>\n",
              "      <th>Coeff_&gt;19.8-1</th>\n",
              "      <th>&gt;25-1</th>\n",
              "      <th>Coeff_&gt;25-1</th>\n",
              "      <th>...</th>\n",
              "      <th>Coeff_&gt;19.8-21</th>\n",
              "      <th>&gt;25-21</th>\n",
              "      <th>Coeff_&gt;25-21</th>\n",
              "      <th>ACC-21</th>\n",
              "      <th>Coeff_ACC-21</th>\n",
              "      <th>DEC-21</th>\n",
              "      <th>Coeff_DEC-21</th>\n",
              "      <th>Sprints-21</th>\n",
              "      <th>Coeff_Sprints-21</th>\n",
              "      <th>Linear_Combination</th>\n",
              "    </tr>\n",
              "  </thead>\n",
              "  <tbody>\n",
              "    <tr>\n",
              "      <th>0</th>\n",
              "      <td>41392</td>\n",
              "      <td>2023-03-11</td>\n",
              "      <td>0.115057</td>\n",
              "      <td>0</td>\n",
              "      <td>0.261352</td>\n",
              "      <td>4.702089</td>\n",
              "      <td>0.027555</td>\n",
              "      <td>-8.845655</td>\n",
              "      <td>0.000000</td>\n",
              "      <td>-2.071259</td>\n",
              "      <td>...</td>\n",
              "      <td>-5.029373</td>\n",
              "      <td>0.333177</td>\n",
              "      <td>0.747174</td>\n",
              "      <td>0.599458</td>\n",
              "      <td>1.755621</td>\n",
              "      <td>0.490276</td>\n",
              "      <td>3.238871</td>\n",
              "      <td>0.080488</td>\n",
              "      <td>-4.400655</td>\n",
              "      <td>-2.040095</td>\n",
              "    </tr>\n",
              "    <tr>\n",
              "      <th>1</th>\n",
              "      <td>21079</td>\n",
              "      <td>2023-03-11</td>\n",
              "      <td>0.392426</td>\n",
              "      <td>1</td>\n",
              "      <td>0.274752</td>\n",
              "      <td>4.702089</td>\n",
              "      <td>0.065442</td>\n",
              "      <td>-8.845655</td>\n",
              "      <td>0.036474</td>\n",
              "      <td>-2.071259</td>\n",
              "      <td>...</td>\n",
              "      <td>-5.029373</td>\n",
              "      <td>0.471884</td>\n",
              "      <td>0.747174</td>\n",
              "      <td>0.697922</td>\n",
              "      <td>1.755621</td>\n",
              "      <td>0.626407</td>\n",
              "      <td>3.238871</td>\n",
              "      <td>0.824390</td>\n",
              "      <td>-4.400655</td>\n",
              "      <td>-0.437127</td>\n",
              "    </tr>\n",
              "    <tr>\n",
              "      <th>2</th>\n",
              "      <td>18096</td>\n",
              "      <td>2022-10-23</td>\n",
              "      <td>0.095712</td>\n",
              "      <td>0</td>\n",
              "      <td>0.264051</td>\n",
              "      <td>4.702089</td>\n",
              "      <td>0.011481</td>\n",
              "      <td>-8.845655</td>\n",
              "      <td>0.000000</td>\n",
              "      <td>-2.071259</td>\n",
              "      <td>...</td>\n",
              "      <td>-5.029373</td>\n",
              "      <td>0.061387</td>\n",
              "      <td>0.747174</td>\n",
              "      <td>0.411924</td>\n",
              "      <td>1.755621</td>\n",
              "      <td>0.216991</td>\n",
              "      <td>3.238871</td>\n",
              "      <td>0.200000</td>\n",
              "      <td>-4.400655</td>\n",
              "      <td>-2.245801</td>\n",
              "    </tr>\n",
              "    <tr>\n",
              "      <th>3</th>\n",
              "      <td>41392</td>\n",
              "      <td>2022-10-22</td>\n",
              "      <td>0.338799</td>\n",
              "      <td>0</td>\n",
              "      <td>0.000000</td>\n",
              "      <td>4.702089</td>\n",
              "      <td>0.000000</td>\n",
              "      <td>-8.845655</td>\n",
              "      <td>0.000000</td>\n",
              "      <td>-2.071259</td>\n",
              "      <td>...</td>\n",
              "      <td>-5.029373</td>\n",
              "      <td>0.392690</td>\n",
              "      <td>0.747174</td>\n",
              "      <td>0.645890</td>\n",
              "      <td>1.755621</td>\n",
              "      <td>0.563971</td>\n",
              "      <td>3.238871</td>\n",
              "      <td>0.097561</td>\n",
              "      <td>-4.400655</td>\n",
              "      <td>-0.668650</td>\n",
              "    </tr>\n",
              "    <tr>\n",
              "      <th>4</th>\n",
              "      <td>21079</td>\n",
              "      <td>2023-03-10</td>\n",
              "      <td>0.247294</td>\n",
              "      <td>0</td>\n",
              "      <td>0.357466</td>\n",
              "      <td>4.702089</td>\n",
              "      <td>0.136625</td>\n",
              "      <td>-8.845655</td>\n",
              "      <td>0.012158</td>\n",
              "      <td>-2.071259</td>\n",
              "      <td>...</td>\n",
              "      <td>-5.029373</td>\n",
              "      <td>0.473758</td>\n",
              "      <td>0.747174</td>\n",
              "      <td>0.754833</td>\n",
              "      <td>1.755621</td>\n",
              "      <td>0.661208</td>\n",
              "      <td>3.238871</td>\n",
              "      <td>0.831707</td>\n",
              "      <td>-4.400655</td>\n",
              "      <td>-1.113097</td>\n",
              "    </tr>\n",
              "  </tbody>\n",
              "</table>\n",
              "<p>5 rows × 53 columns</p>\n",
              "</div>"
            ],
            "text/plain": [
              "   Player       Date     Score  Actual      TD-1  Coeff_TD-1   >19.8-1  \\\n",
              "0   41392 2023-03-11  0.115057       0  0.261352    4.702089  0.027555   \n",
              "1   21079 2023-03-11  0.392426       1  0.274752    4.702089  0.065442   \n",
              "2   18096 2022-10-23  0.095712       0  0.264051    4.702089  0.011481   \n",
              "3   41392 2022-10-22  0.338799       0  0.000000    4.702089  0.000000   \n",
              "4   21079 2023-03-10  0.247294       0  0.357466    4.702089  0.136625   \n",
              "\n",
              "   Coeff_>19.8-1     >25-1  Coeff_>25-1  ...  Coeff_>19.8-21    >25-21  \\\n",
              "0      -8.845655  0.000000    -2.071259  ...       -5.029373  0.333177   \n",
              "1      -8.845655  0.036474    -2.071259  ...       -5.029373  0.471884   \n",
              "2      -8.845655  0.000000    -2.071259  ...       -5.029373  0.061387   \n",
              "3      -8.845655  0.000000    -2.071259  ...       -5.029373  0.392690   \n",
              "4      -8.845655  0.012158    -2.071259  ...       -5.029373  0.473758   \n",
              "\n",
              "   Coeff_>25-21    ACC-21  Coeff_ACC-21    DEC-21  Coeff_DEC-21  Sprints-21  \\\n",
              "0      0.747174  0.599458      1.755621  0.490276      3.238871    0.080488   \n",
              "1      0.747174  0.697922      1.755621  0.626407      3.238871    0.824390   \n",
              "2      0.747174  0.411924      1.755621  0.216991      3.238871    0.200000   \n",
              "3      0.747174  0.645890      1.755621  0.563971      3.238871    0.097561   \n",
              "4      0.747174  0.754833      1.755621  0.661208      3.238871    0.831707   \n",
              "\n",
              "   Coeff_Sprints-21  Linear_Combination  \n",
              "0         -4.400655           -2.040095  \n",
              "1         -4.400655           -0.437127  \n",
              "2         -4.400655           -2.245801  \n",
              "3         -4.400655           -0.668650  \n",
              "4         -4.400655           -1.113097  \n",
              "\n",
              "[5 rows x 53 columns]"
            ]
          },
          "execution_count": 190,
          "metadata": {},
          "output_type": "execute_result"
        }
      ],
      "source": [
        "# Reset index for consistency\n",
        "extra_cols_test.reset_index(inplace=True, drop=True)\n",
        "\n",
        "# Get coefficients and intercept\n",
        "coefficients = logistic_model.coef_[0]  # Coefficients\n",
        "intercept = logistic_model.intercept_[0]  # Intercept\n",
        "features = X_test.columns  # Feature names\n",
        "\n",
        "# Create the player-score DataFrame\n",
        "df_a = pd.DataFrame({\n",
        "    'Player': extra_cols_test['PlayerID'],\n",
        "    'Date': extra_cols_test['DATE'],\n",
        "    'Score': y_test_probs,\n",
        "    'Actual': y_test.reset_index(drop=True)\n",
        "})\n",
        "\n",
        "# Add feature values and calculate z (linear combination)\n",
        "for i, feature in enumerate(features):\n",
        "    df_a[feature] = X_test_scaled[:, i]  # Add scaled feature values\n",
        "    df_a[f'Coeff_{feature}'] = coefficients[i]  # Add coefficient for each feature\n",
        "\n",
        "# Calculate the linear combination (z) for each row\n",
        "df_a['Linear_Combination'] = (\n",
        "    np.dot(X_test_scaled, coefficients) + intercept\n",
        ")\n",
        "\n",
        "# Display the resulting DataFrame\n",
        "print(\"\\nPlayer, Date, Feature Contributions, Linear Combination, and Score DataFrame:\")\n",
        "df_a.head()\n"
      ]
    },
    {
      "cell_type": "markdown",
      "metadata": {},
      "source": [
        "Find the features that affect the injuries the most"
      ]
    },
    {
      "cell_type": "code",
      "execution_count": 192,
      "metadata": {},
      "outputs": [
        {
          "name": "stdout",
          "output_type": "stream",
          "text": [
            "       Feature  Importance\n",
            "17   Sprints-7    6.863277\n",
            "4        DEC-1    4.984630\n",
            "0         TD-1    4.702089\n",
            "14       >25-7    3.318922\n",
            "22      DEC-21    3.238871\n",
            "12        TD-7    2.473996\n",
            "21      ACC-21    1.755621\n",
            "6         TD-3    0.959226\n",
            "5    Sprints-1    0.893271\n",
            "20      >25-21    0.747174\n",
            "18       TD-21    0.465699\n",
            "11   Sprints-3    0.156393\n",
            "16       DEC-7   -0.245078\n",
            "7      >19.8-3   -0.474060\n",
            "13     >19.8-7   -0.862572\n",
            "15       ACC-7   -1.365600\n",
            "8        >25-3   -1.789480\n",
            "10       DEC-3   -1.941380\n",
            "2        >25-1   -2.071259\n",
            "3        ACC-1   -2.186658\n",
            "9        ACC-3   -3.885695\n",
            "23  Sprints-21   -4.400655\n",
            "19    >19.8-21   -5.029373\n",
            "1      >19.8-1   -8.845655\n"
          ]
        }
      ],
      "source": [
        "# Assuming your features are in a DataFrame\n",
        "feature_importance = pd.DataFrame({\n",
        "    \"Feature\": X_train.columns,  # Replace with your feature names\n",
        "    \"Importance\": logistic_model.coef_[0]  # Coefficients from logistic regression\n",
        "})\n",
        "\n",
        "# Sort by importance\n",
        "feature_importance = feature_importance.sort_values(by=\"Importance\", ascending=False)\n",
        "\n",
        "# Display the feature importance\n",
        "print(feature_importance)"
      ]
    },
    {
      "cell_type": "markdown",
      "metadata": {},
      "source": [
        "Select X quantity of the top features and retrain the model"
      ]
    },
    {
      "cell_type": "code",
      "execution_count": 193,
      "metadata": {},
      "outputs": [
        {
          "name": "stdout",
          "output_type": "stream",
          "text": [
            "Selected Top 10 Features: ['Sprints-7' 'DEC-1' 'TD-1' '>25-7' 'DEC-21' 'TD-7' 'ACC-21' 'TD-3'\n",
            " 'Sprints-1' '>25-21']\n"
          ]
        }
      ],
      "source": [
        "# Extract top features by absolute importance\n",
        "num_top_features =  10 # Adjust this to include the number of features you want\n",
        "top_features = feature_importance.iloc[:num_top_features][\"Feature\"].values\n",
        "\n",
        "print(f\"Selected Top {num_top_features} Features: {top_features}\")"
      ]
    },
    {
      "cell_type": "code",
      "execution_count": 194,
      "metadata": {},
      "outputs": [
        {
          "name": "stdout",
          "output_type": "stream",
          "text": [
            "Updated Model Evaluation:\n",
            "Accuracy: 0.6540880503144654\n",
            "Confusion Matrix:\n",
            " [[102  49]\n",
            " [  6   2]]\n",
            "Classification Report:\n",
            "               precision    recall  f1-score   support\n",
            "\n",
            "           0       0.94      0.68      0.79       151\n",
            "           1       0.04      0.25      0.07         8\n",
            "\n",
            "    accuracy                           0.65       159\n",
            "   macro avg       0.49      0.46      0.43       159\n",
            "weighted avg       0.90      0.65      0.75       159\n",
            "\n"
          ]
        }
      ],
      "source": [
        "# Filter the training and testing data for top features\n",
        "X_train_top = X_train_scaled[:, [X_train.columns.get_loc(f) for f in top_features]]\n",
        "X_test_top = X_test_scaled[:, [X_train.columns.get_loc(f) for f in top_features]]\n",
        "\n",
        "# Train logistic regression with top features\n",
        "logistic_model_top = LogisticRegression(random_state=42, max_iter=1000)\n",
        "logistic_model_top.fit(X_train_top, y_train)\n",
        "\n",
        "# Predictions\n",
        "y_test_pred_top = logistic_model_top.predict(X_test_top)\n",
        "y_test_probs_top = logistic_model_top.predict_proba(X_test_top)[:, 1]\n",
        "\n",
        "# Evaluate performance\n",
        "print(\"Updated Model Evaluation:\")\n",
        "print(\"Accuracy:\", accuracy_score(y_test, y_test_pred_top))\n",
        "print(\"Confusion Matrix:\\n\", confusion_matrix(y_test, y_test_pred_top))\n",
        "print(\"Classification Report:\\n\", classification_report(y_test, y_test_pred_top))"
      ]
    },
    {
      "cell_type": "code",
      "execution_count": 195,
      "metadata": {},
      "outputs": [
        {
          "data": {
            "image/png": "[encoded data removed]",
            "text/plain": [
              "<Figure size 1000x600 with 1 Axes>"
            ]
          },
          "metadata": {},
          "output_type": "display_data"
        }
      ],
      "source": [
        "# Thresholds to evaluate (from 0.3 to 0.6 in steps of 0.01)\n",
        "thresholds = np.arange(0.3, 0.61, 0.01)  # Thresholds from 0 to 1 in steps of 0.01\n",
        "\n",
        "# Store results\n",
        "results = []\n",
        "\n",
        "for threshold in thresholds:\n",
        "    # Generate predictions for the current threshold\n",
        "    y_pred = (y_test_probs_top >= threshold).astype(int)\n",
        "    \n",
        "    # Calculate metrics\n",
        "    recall = recall_score(y_test, y_pred, pos_label=1)  # Recall for label 1\n",
        "    precision = precision_score(y_test, y_pred, pos_label=1)\n",
        "    f1 = f1_score(y_test, y_pred)\n",
        "    accuracy = accuracy_score(y_test, y_pred)\n",
        "    \n",
        "    # Append metrics and threshold to results\n",
        "    results.append({\n",
        "        'Threshold': threshold,\n",
        "        'Recall': recall,\n",
        "        'Precision': precision,\n",
        "        'F1-Score': f1,\n",
        "        'Accuracy': accuracy\n",
        "    })\n",
        "    \n",
        "results_df = pd.DataFrame(results)\n",
        "\n",
        "plt.figure(figsize=(10, 6))\n",
        "plt.plot(results_df['Threshold'], results_df['Recall'], label='Recall', marker='o')\n",
        "plt.plot(results_df['Threshold'], results_df['Precision'], label='Precision', marker='x')\n",
        "plt.plot(results_df['Threshold'], results_df['F1-Score'], label='F1-Score', marker='s')\n",
        "plt.plot(results_df['Threshold'], results_df['Accuracy'], label='Accuracy', marker='d')\n",
        "plt.xlabel(\"Threshold\")\n",
        "plt.ylabel(\"Metric Value\")\n",
        "plt.title(\"Metrics vs Threshold\")\n",
        "plt.legend()\n",
        "plt.grid()\n",
        "plt.show()"
      ]
    },
    {
      "cell_type": "code",
      "execution_count": 196,
      "metadata": {},
      "outputs": [
        {
          "name": "stdout",
          "output_type": "stream",
          "text": [
            "Number of unique thresholds: 19\n",
            "\n",
            "Manually Selected Threshold: 0.45\n",
            "\n",
            "Evaluation with Manually Selected Threshold:\n",
            "Accuracy: 0.6289308176100629\n",
            "Confusion Matrix:\n",
            " [[97 54]\n",
            " [ 5  3]]\n",
            "Classification Report:\n",
            "               precision    recall  f1-score   support\n",
            "\n",
            "           0       0.95      0.64      0.77       151\n",
            "           1       0.05      0.38      0.09         8\n",
            "\n",
            "    accuracy                           0.63       159\n",
            "   macro avg       0.50      0.51      0.43       159\n",
            "weighted avg       0.91      0.63      0.73       159\n",
            "\n"
          ]
        },
        {
          "data": {
            "image/png": "[encoded data removed]",
            "text/plain": [
              "<Figure size 800x600 with 1 Axes>"
            ]
          },
          "metadata": {},
          "output_type": "display_data"
        }
      ],
      "source": [
        "# Calculate ROC curve and AUC\n",
        "fpr, tpr, thresholds = roc_curve(y_test, y_test_probs_top)\n",
        "roc_auc = auc(fpr, tpr)\n",
        "\n",
        "# Print the number of unique thresholds\n",
        "print(f\"Number of unique thresholds: {len(thresholds)}\")\n",
        "\n",
        "# Manually select the threshold\n",
        "manual_threshold = 0.45  # Manually chosen threshold\n",
        "print(f\"\\nManually Selected Threshold: {manual_threshold:.2f}\")\n",
        "\n",
        "# Apply the manually selected threshold\n",
        "y_test_pred_manual = (y_test_probs_top >= manual_threshold).astype(int)\n",
        "\n",
        "# Evaluate the model with the manually selected threshold\n",
        "print(\"\\nEvaluation with Manually Selected Threshold:\")\n",
        "print(\"Accuracy:\", accuracy_score(y_test, y_test_pred_manual))\n",
        "print(\"Confusion Matrix:\\n\", confusion_matrix(y_test, y_test_pred_manual))\n",
        "print(\"Classification Report:\\n\", classification_report(y_test, y_test_pred_manual))\n",
        "\n",
        "# Find the index of the manually selected threshold in the ROC data\n",
        "# Using `thresholds` from the ROC calculation\n",
        "manual_idx = np.argmin(np.abs(thresholds - manual_threshold))\n",
        "\n",
        "# Plot the ROC curve and mark the manually selected threshold\n",
        "plt.figure(figsize=(8, 6))\n",
        "plt.plot(fpr, tpr, label=f\"ROC Curve (AUC = {roc_auc:.2f})\")\n",
        "plt.scatter(fpr[manual_idx], tpr[manual_idx], color=\"red\", label=f\"Threshold = {manual_threshold:.2f}\")\n",
        "plt.plot([0, 1], [0, 1], \"k--\", label=\"Random Guess\")\n",
        "plt.xlabel(\"False Positive Rate\")\n",
        "plt.ylabel(\"True Positive Rate\")\n",
        "plt.title(\"ROC Curve with Manually Selected Threshold\")\n",
        "plt.legend(loc=\"lower right\")\n",
        "plt.show()"
      ]
    },
    {
      "cell_type": "markdown",
      "metadata": {},
      "source": [
        "## SVM"
      ]
    },
    {
      "cell_type": "markdown",
      "metadata": {},
      "source": [
        "SVM & GridSearch"
      ]
    },
    {
      "cell_type": "code",
      "execution_count": null,
      "metadata": {},
      "outputs": [],
      "source": [
        "# Standardize the features\n",
        "scaler = StandardScaler()\n",
        "X_train_val_scaled = scaler.fit_transform(X_train)\n",
        "X_test_scaled = scaler.transform(X_test)\n",
        "\n",
        "# Initialize SMOTE\n",
        "smote = SMOTE(random_state=42)\n",
        "# Apply SMOTE to training data\n",
        "X_resampled, y_resampled = smote.fit_resample(X_train_val_scaled, y_train)\n",
        "\n",
        "# Define the parameter grid for hyperparameter tuning\n",
        "param_grid = {\n",
        "    'C': [0.01, 0.1, 1, 10],\n",
        "    'gamma': [0.01, 0.1, 1, 'scale', 'auto'],\n",
        "    'kernel': ['rbf', 'poly'],\n",
        "    'class_weight': ['balanced', {0: 1, 1: 10}]\n",
        "}\n",
        "\n",
        "# Initialize the SVM model\n",
        "svm_model = SVC(probability=True, random_state=42)\n",
        "\n",
        "# Grid search for hyperparameter tuning\n",
        "grid_search = GridSearchCV(estimator=svm_model, param_grid=param_grid, cv=5, scoring='roc_auc', verbose=3)\n",
        "grid_search.fit(X_resampled, y_resampled)\n",
        "\n",
        "# Output the best parameters and score\n",
        "print(\"Best Parameters:\", grid_search.best_params_)\n",
        "print(\"Best AUC Score:\", grid_search.best_score_)\n",
        "\n",
        "# Use the best estimator for testing\n",
        "best_model = grid_search.best_estimator_\n",
        "y_pred = best_model.predict(X_test_scaled)\n",
        "y_prob = best_model.predict_proba(X_test_scaled)[:, 1]\n",
        "\n",
        "# Classification report\n",
        "report = classification_report(y_test, y_pred)\n",
        "print(\"Classification Report:\\n\", report)\n",
        "\n",
        "# ROC-AUC\n",
        "fpr, tpr, _ = roc_curve(y_test, y_prob)\n",
        "roc_auc = auc(fpr, tpr)\n",
        "print(\"Test Set AUC:\", roc_auc)"
      ]
    },
    {
      "cell_type": "markdown",
      "metadata": {},
      "source": [
        "SVM with manually selecting the parameters"
      ]
    },
    {
      "cell_type": "code",
      "execution_count": 352,
      "metadata": {},
      "outputs": [
        {
          "name": "stdout",
          "output_type": "stream",
          "text": [
            "Classification Report:\n",
            "               precision    recall  f1-score   support\n",
            "\n",
            "           0       0.99      0.63      0.77       878\n",
            "           1       0.00      0.00      0.00         4\n",
            "\n",
            "    accuracy                           0.63       882\n",
            "   macro avg       0.50      0.32      0.39       882\n",
            "weighted avg       0.99      0.63      0.77       882\n",
            "\n",
            "Test Set AUC: 0.3670273348519362\n"
          ]
        },
        {
          "data": {
            "image/png": "[encoded data removed]",
            "text/plain": [
              "<Figure size 640x480 with 1 Axes>"
            ]
          },
          "metadata": {},
          "output_type": "display_data"
        }
      ],
      "source": [
        "# Standardize the features\n",
        "scaler = MinMaxScaler()\n",
        "X_train_val_scaled = scaler.fit_transform(X_train)\n",
        "X_test_scaled = scaler.transform(X_test)\n",
        "\n",
        "# Initialize SMOTE\n",
        "smote = SMOTE(random_state=42)\n",
        "# Apply SMOTE to training data\n",
        "X_resampled, y_resampled = smote.fit_resample(X_train_val_scaled, y_train)\n",
        "\n",
        "# # SMOTE for oversampling the training data\n",
        "# smote_enn = SMOTEENN(random_state=42)\n",
        "# X_resampled, y_resampled = smote_enn.fit_resample(X_train_val_scaled, y_train_val)\n",
        "\n",
        "# Train the SVM model\n",
        "svm_model = SVC(kernel='rbf', class_weight=\"balanced\", gamma='auto',probability=True, random_state=42)\n",
        "svm_model.fit(X_resampled, y_resampled)\n",
        "\n",
        "# Evaluate on the test set\n",
        "y_pred = svm_model.predict(X_test_scaled)\n",
        "y_prob = svm_model.predict_proba(X_test_scaled)[:, 1]\n",
        "\n",
        "# Classification report\n",
        "report = classification_report(y_test, y_pred)\n",
        "print(\"Classification Report:\\n\", report)\n",
        "\n",
        "# ROC-AUC\n",
        "fpr, tpr, _ = roc_curve(y_test, y_prob)\n",
        "roc_auc = auc(fpr, tpr)\n",
        "print(\"Test Set AUC:\", roc_auc)\n",
        "\n",
        "# Plot ROC Curve (optional)\n",
        "import matplotlib.pyplot as plt\n",
        "plt.figure()\n",
        "plt.plot(fpr, tpr, color='darkorange', lw=2, label='ROC curve (area = %0.2f)' % roc_auc)\n",
        "plt.plot([0, 1], [0, 1], color='navy', lw=2, linestyle='--')\n",
        "plt.xlabel('False Positive Rate')\n",
        "plt.ylabel('True Positive Rate')\n",
        "plt.title('Receiver Operating Characteristic')\n",
        "plt.legend(loc=\"lower right\")\n",
        "plt.show()\n"
      ]
    },
    {
      "cell_type": "markdown",
      "metadata": {
        "id": "U7b0kFZiqHTm"
      },
      "source": [
        "## XGBoost Model"
      ]
    },
    {
      "cell_type": "markdown",
      "metadata": {
        "id": "SymokdgRrdKm"
      },
      "source": [
        "### Perform Recursive Feature Elimination with Cross-Validation (RFECV) to find the best variables"
      ]
    },
    {
      "cell_type": "code",
      "execution_count": 85,
      "metadata": {
        "colab": {
          "base_uri": "https://localhost:8080/"
        },
        "id": "P7HntgH2lR37",
        "outputId": "e7414da1-8e08-44f2-f7f3-a9fa38a05033"
      },
      "outputs": [
        {
          "name": "stdout",
          "output_type": "stream",
          "text": [
            "Selected Features (RFE): ['TD-1', '>19.8-1', '>25-1', 'ACC-1', 'DEC-1', 'Sprints-1', 'TD-3', '>19.8-3', '>25-3', 'ACC-3', 'DEC-3', 'Sprints-3', 'TD-7', '>19.8-7', '>25-7', 'ACC-7', 'DEC-7', 'Sprints-7', 'TD-21', '>19.8-21', '>25-21', 'ACC-21', 'DEC-21', 'Sprints-21']\n",
            "Number of features selected: 24\n"
          ]
        }
      ],
      "source": [
        "# Base parameters for XGBClassifier\n",
        "base_params = {\n",
        "    'objective': 'binary:logistic',\n",
        "    'colsample_bytree': 0.8,  # Feature subsampling\n",
        "    'subsample': 0.8,         # Row subsampling\n",
        "    'eval_metric': 'auc',\n",
        "    'alpha': 5,              # L1 regularization\n",
        "    'gamma': 5,              # Minimum loss reduction\n",
        "    'max_depth': 3,\n",
        "    'learning_rate': 0.09,\n",
        "    'n_estimators': 100\n",
        "}\n",
        "\n",
        "# Initialize the XGBClassifier\n",
        "rfe_model = XGBClassifier(**base_params)\n",
        "\n",
        "# Perform RFE for feature selection\n",
        "rfe = RFE(\n",
        "    estimator=rfe_model,\n",
        "    n_features_to_select=24,  # Select exactly X features\n",
        "    step=1  # Remove one feature at a time\n",
        ")\n",
        "\n",
        "# Fit RFE to X_train\n",
        "rfe.fit(X_train, y_train)\n",
        "\n",
        "# Get selected feature names\n",
        "selected_features = X_train.columns[rfe.support_]\n",
        "X_train_selected = X_train[selected_features]\n",
        "X_test_selected = X_test[selected_features]\n",
        "\n",
        "print(f\"Selected Features (RFE): {selected_features.tolist()}\")\n",
        "print(f\"Number of features selected: {len(selected_features)}\")"
      ]
    },
    {
      "cell_type": "markdown",
      "metadata": {},
      "source": [
        "### Grid Search XGBoost"
      ]
    },
    {
      "cell_type": "code",
      "execution_count": 87,
      "metadata": {
        "colab": {
          "base_uri": "https://localhost:8080/"
        },
        "id": "eOEDKQl3QB72",
        "outputId": "f560619d-b0d2-4114-8468-b4173d431175"
      },
      "outputs": [
        {
          "name": "stdout",
          "output_type": "stream",
          "text": [
            "Fitting 5 folds for each of 432 candidates, totalling 2160 fits\n"
          ]
        },
        {
          "name": "stdout",
          "output_type": "stream",
          "text": [
            "Best ROC-AUC (Grid Search): 1.0000\n",
            "Best Parameters: {'alpha': 0, 'gamma': 0, 'learning_rate': 0.07, 'max_depth': 5, 'n_estimators': 300, 'scale_pos_weight': 12}\n"
          ]
        }
      ],
      "source": [
        "# Updated base parameters with added regularization\n",
        "base_params_xgboost = {\n",
        "    'objective': 'binary:logistic',\n",
        "    'eval_metric': 'auc',\n",
        "    'subsample': 0.8,        \n",
        "    'colsample_bytree': 0.8 \n",
        "}\n",
        "\n",
        "# Expanded parameter grid\n",
        "param_grid = {\n",
        "    'learning_rate': [0.01, 0.05, 0.07, 0.1],\n",
        "    'max_depth': [3, 5, 7],\n",
        "    'n_estimators': [200, 300, 400],\n",
        "    'scale_pos_weight': [10,12,15],\n",
        "    'alpha': [0, 5],\n",
        "    'gamma': [0, 5],\n",
        "}\n",
        "\n",
        "# scaler = StandardScaler()\n",
        "# X_train_selected = scaler.fit_transform(X_train_selected)\n",
        "# X_test_selected = scaler.transform(X_test_selected)\n",
        "\n",
        "model = XGBClassifier(**base_params_xgboost)\n",
        "\n",
        "# Stratified K-Fold Cross-Validation\n",
        "stratified_cv = StratifiedKFold(n_splits=5, shuffle=True, random_state=42)\n",
        "\n",
        "# GridSearchCV for hyperparameter tuning\n",
        "grid_search = GridSearchCV(\n",
        "    estimator=model,\n",
        "    param_grid=param_grid,\n",
        "    scoring='roc_auc',  # Optimize for ROC-AUC\n",
        "    cv=stratified_cv,\n",
        "    verbose=1,\n",
        "    n_jobs=-1\n",
        ")\n",
        "\n",
        "# Fit GridSearchCV on the training dataset\n",
        "grid_search.fit(X_train_selected, y_train)\n",
        "\n",
        "# Get the best model and parameters\n",
        "best_model = grid_search.best_estimator_\n",
        "best_params = grid_search.best_params_\n",
        "best_roc_auc = grid_search.best_score_\n",
        "\n",
        "# Print best results\n",
        "print(f\"Best ROC-AUC (Grid Search): {best_roc_auc:.4f}\")\n",
        "print(f\"Best Parameters: {best_params}\")"
      ]
    },
    {
      "cell_type": "markdown",
      "metadata": {
        "id": "7WXWNWO2lcTO"
      },
      "source": [
        "### Train the model with the best parameters"
      ]
    },
    {
      "cell_type": "code",
      "execution_count": 98,
      "metadata": {},
      "outputs": [
        {
          "name": "stdout",
          "output_type": "stream",
          "text": [
            "Final Test ROC-AUC: 0.5991\n",
            "Accuracy: 0.7723\n",
            "Precision: 0.0129\n",
            "Recall: 0.2857\n",
            "F1 Score: 0.0247\n",
            "Confusion Matrix:\n",
            "[[534 153]\n",
            " [  5   2]]\n"
          ]
        }
      ],
      "source": [
        "base_params_xgboost = {\n",
        "    'objective': 'binary:logistic',\n",
        "    'eval_metric': 'auc',\n",
        "    'subsample': 0.8,        \n",
        "    'colsample_bytree': 0.8 \n",
        "}\n",
        "\n",
        "param_grid = {\n",
        "   'learning_rate': 0.01,  # Explore smaller learning rates\n",
        "   'max_depth': 3,             # Test broader depth values\n",
        "   'n_estimators': 500,     # Include larger estimators\n",
        "   'scale_pos_weight': 17,\n",
        "   'alpha': 5,  # L1 regularization\n",
        "   'gamma': 5,  # Minimum loss reduction\n",
        "}\n",
        "\n",
        "\n",
        "# Train the model with the best parameters from the grid search\n",
        "# final_model = XGBClassifier(\n",
        "#     **base_params_xgboost,\n",
        "#     **param_grid,\n",
        "# )\n",
        "\n",
        "# Train the model with manually selected parameters\n",
        "final_model = XGBClassifier(\n",
        "    **base_params_xgboost,\n",
        "    **param_grid,\n",
        ")\n",
        "\n",
        "# Train\n",
        "final_model.fit(X_train_selected,\n",
        "                y_train,\n",
        "                verbose=True\n",
        ")\n",
        "\n",
        "# Predict class labels (0 or 1) on the test set\n",
        "y_pred_probs = final_model.predict_proba(X_test_selected)[:, 1]\n",
        "# Apply custom threshold\n",
        "threshold = 0.45\n",
        "y_pred = (y_pred_probs >= threshold).astype(int)\n",
        "test_roc_auc = roc_auc_score(y_test, y_pred_probs)\n",
        "print(f\"Final Test ROC-AUC: {test_roc_auc:.4f}\")\n",
        "\n",
        "# Accuracy\n",
        "accuracy = accuracy_score(y_test, y_pred)\n",
        "print(f\"Accuracy: {accuracy:.4f}\")\n",
        "\n",
        "# Precision\n",
        "precision = precision_score(y_test, y_pred)\n",
        "print(f\"Precision: {precision:.4f}\")\n",
        "\n",
        "# Recall\n",
        "recall = recall_score(y_test, y_pred)\n",
        "print(f\"Recall: {recall:.4f}\")\n",
        "\n",
        "# F1 Score\n",
        "f1 = f1_score(y_test, y_pred)\n",
        "print(f\"F1 Score: {f1:.4f}\")\n",
        "\n",
        "# Confusion Matrix\n",
        "conf_matrix = confusion_matrix(y_test, y_pred)\n",
        "print(\"Confusion Matrix:\")\n",
        "print(conf_matrix)\n"
      ]
    },
    {
      "cell_type": "markdown",
      "metadata": {
        "id": "yJVDozS1zc5w"
      },
      "source": [
        "### Prepare the data to export in excel"
      ]
    },
    {
      "cell_type": "code",
      "execution_count": 53,
      "metadata": {
        "id": "Lb4659qHRNs4"
      },
      "outputs": [],
      "source": [
        "X_test = X_test_selected.reset_index(drop=True)\n",
        "y_test = y_test.reset_index(drop=True)\n",
        "extra_cols_test = extra_cols_test.reset_index(drop=True)"
      ]
    },
    {
      "cell_type": "markdown",
      "metadata": {},
      "source": [
        "Categorize the percentages into levels of risk"
      ]
    },
    {
      "cell_type": "code",
      "execution_count": null,
      "metadata": {},
      "outputs": [],
      "source": [
        "def categorize_risk(percentage):\n",
        "    if percentage < 40:\n",
        "        return 'Low Risk'\n",
        "    elif 40 <= percentage < 70:\n",
        "        return 'Medium Risk'\n",
        "    else:\n",
        "        return 'High Risk'"
      ]
    },
    {
      "cell_type": "markdown",
      "metadata": {},
      "source": [
        "Create a df to later convert to excel and export"
      ]
    },
    {
      "cell_type": "code",
      "execution_count": 56,
      "metadata": {
        "colab": {
          "base_uri": "https://localhost:8080/"
        },
        "id": "OhBlb1iyo7RU",
        "outputId": "6e09de4f-73b8-4b42-fe80-5e3853243384"
      },
      "outputs": [
        {
          "name": "stdout",
          "output_type": "stream",
          "text": [
            "Test ROC-AUC: 0.7844\n"
          ]
        }
      ],
      "source": [
        "# Evaluate the best model on the test set\n",
        "y_probs = final_model.predict_proba(X_test_selected)[:, 1]\n",
        "test_roc_auc = roc_auc_score(y_test, y_probs)\n",
        "\n",
        "print(f\"Test ROC-AUC: {test_roc_auc:.4f}\")\n",
        "\n",
        "# Convert the probabilities of injury risk (Class 1) to percentages\n",
        "injury_risk_percentage = y_probs * 100\n",
        "\n",
        "# Categorize the injury risk percentages\n",
        "risk_levels = [categorize_risk(percentage) for percentage in injury_risk_percentage]\n",
        "\n",
        "# Create the `results` DataFrame with only relevant metrics and calculated values\n",
        "results = pd.DataFrame({\n",
        "    'Player_ID': extra_cols_test['PlayerID'],\n",
        "    'Date': extra_cols_test['DATE'], # Add player IDs\n",
        "    'Actual_Label': y_test,  # Add actual labels\n",
        "    '%': injury_risk_percentage,\n",
        "    'Risk_Level': risk_levels\n",
        "}).join(X_test[['TD-7', '>25-7', 'ACC-7', 'DEC-7', 'Sprints-7']])  # Add only relevant metrics"
      ]
    },
    {
      "cell_type": "code",
      "execution_count": 207,
      "metadata": {
        "id": "qe5rWWovrYeK"
      },
      "outputs": [],
      "source": [
        "# Define risk level colors\n",
        "color_mapping = {\n",
        "    'High Risk': 'FF9999',  # Light Red\n",
        "    'Medium Risk': 'FFFF99',  # Light Yellow\n",
        "    'Low Risk': '99FF99'  # Light Green\n",
        "}\n",
        "\n",
        "# file_path_export = '/content/drive/MyDrive/WATFORD FC/Datos GPS/results.xlsx'\n",
        "file_path_export = 'results.xlsx'\n",
        "\n",
        "wb = Workbook()\n",
        "\n",
        "# Write `results` to the first sheet\n",
        "ws = wb.active\n",
        "ws.title = \"Injury Risk Results\"\n",
        "for r_idx, row in enumerate(dataframe_to_rows(results, index=True, header=True), start=1):\n",
        "    for c_idx, value in enumerate(row, start=1):\n",
        "        ws.cell(row=r_idx, column=c_idx, value=value)\n",
        "\n",
        "# Conditional formatting for `results`\n",
        "risk_level_col_idx = list(results.columns).index(\"Risk_Level\") + 2\n",
        "for row in ws.iter_rows(min_row=2, max_row=ws.max_row, min_col=risk_level_col_idx, max_col=risk_level_col_idx):\n",
        "    for cell in row:\n",
        "        risk_level = cell.value\n",
        "        if risk_level in color_mapping:\n",
        "            cell.fill = PatternFill(start_color=color_mapping[risk_level], end_color=color_mapping[risk_level], fill_type=\"solid\")\n",
        "\n",
        "# Save the workbook\n",
        "wb.save(file_path_export)"
      ]
    },
    {
      "cell_type": "markdown",
      "metadata": {},
      "source": [
        "## Mutual Info Regression formula (excluded for now)"
      ]
    },
    {
      "cell_type": "code",
      "execution_count": null,
      "metadata": {},
      "outputs": [],
      "source": [
        "from sklearn.feature_selection import mutual_info_regression\n",
        "import numpy as np\n",
        "\n",
        "def mrmr_manual_regression(X, y, num_features):\n",
        "    selected_features = []\n",
        "    remaining_features = list(range(X.shape[1]))\n",
        "    \n",
        "    # Calculate mutual information for relevance (regression)\n",
        "    relevance = mutual_info_regression(X, y)\n",
        "    \n",
        "    for _ in range(num_features):\n",
        "        scores = []\n",
        "        for feature in remaining_features:\n",
        "            # Calculate redundancy with already selected features\n",
        "            redundancy = np.mean([mutual_info_regression(X[:, feature].reshape(-1, 1), X[:, sel]) \n",
        "                                  for sel in selected_features]) if selected_features else 0\n",
        "            \n",
        "            # mRMR score = relevance - redundancy\n",
        "            score = relevance[feature] - redundancy\n",
        "            scores.append((feature, score))\n",
        "        \n",
        "        # Select the feature with the maximum score\n",
        "        best_feature = max(scores, key=lambda x: x[1])[0]\n",
        "        selected_features.append(best_feature)\n",
        "        remaining_features.remove(best_feature)\n",
        "    \n",
        "    return selected_features\n",
        "\n",
        "selected_features_indexes = mrmr_manual_regression(X.values, y.values, 8)\n",
        "\n",
        "feature_names = X.columns  # Assuming X is a pandas DataFrame\n",
        "selected_feature_names = [feature_names[i] for i in selected_features_indexes]\n",
        "\n",
        "print(\"Selected Features:\", selected_feature_names)\n",
        "\n",
        "X = X[selected_feature_names]"
      ]
    }
  ],
  "metadata": {
    "colab": {
      "include_colab_link": true,
      "provenance": [],
      "toc_visible": true
    },
    "kernelspec": {
      "display_name": "Python 3",
      "language": "python",
      "name": "python3"
    },
    "language_info": {
      "codemirror_mode": {
        "name": "ipython",
        "version": 3
      },
      "file_extension": ".py",
      "mimetype": "text/x-python",
      "name": "python",
      "nbconvert_exporter": "python",
      "pygments_lexer": "ipython3",
      "version": "3.12.1"
    }
  },
  "nbformat": 4,
  "nbformat_minor": 0
}
