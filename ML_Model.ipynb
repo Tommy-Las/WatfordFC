{
  "cells": [
    {
      "cell_type": "markdown",
      "metadata": {
        "colab_type": "text",
        "id": "view-in-github"
      },
      "source": [
        "<a href=\"https://colab.research.google.com/github/Tommy-Las/WatfordFC/blob/main/ML_Model.ipynb\" target=\"_parent\"><img src=\"https://colab.research.google.com/assets/colab-badge.svg\" alt=\"Open In Colab\"/></a>"
      ]
    },
    {
      "cell_type": "markdown",
      "metadata": {
        "id": "1nMRIiAoZqf9"
      },
      "source": [
        "# Import packages and data"
      ]
    },
    {
      "cell_type": "code",
      "execution_count": 1,
      "metadata": {
        "id": "D4UOjXNAuIf8"
      },
      "outputs": [],
      "source": [
        "import pandas as pd\n",
        "pd.set_option('display.max_rows', None)\n",
        "import numpy as np\n",
        "from sklearn.preprocessing import MinMaxScaler, StandardScaler\n",
        "from sklearn.decomposition import PCA\n",
        "from imblearn.over_sampling import SMOTE\n",
        "from sklearn.model_selection import train_test_split, GridSearchCV, StratifiedKFold\n",
        "from xgboost import XGBClassifier\n",
        "from sklearn.feature_selection import VarianceThreshold\n",
        "from sklearn.pipeline import Pipeline\n",
        "from sklearn.feature_selection import RFE, RFECV\n",
        "from sklearn.metrics import classification_report, confusion_matrix, roc_auc_score, make_scorer\n",
        "from openpyxl import Workbook\n",
        "from openpyxl.styles import PatternFill\n",
        "from openpyxl.utils.dataframe import dataframe_to_rows\n",
        "from collections import defaultdict\n",
        "import seaborn as sns\n",
        "from statsmodels.stats.outliers_influence import variance_inflation_factor\n",
        "from statsmodels.tools.tools import add_constant\n",
        "from sklearn.metrics import accuracy_score, precision_score, recall_score, f1_score, confusion_matrix, classification_report, roc_curve, auc\n",
        "import matplotlib.pyplot as plt\n",
        "from sklearn.metrics import precision_recall_curve\n",
        "from sklearn.svm import SVC\n",
        "from imblearn.combine import SMOTEENN"
      ]
    },
    {
      "cell_type": "code",
      "execution_count": 3,
      "metadata": {
        "colab": {
          "base_uri": "https://localhost:8080/"
        },
        "id": "Kvg2DPu-gY_B",
        "outputId": "ed38846f-9c94-409f-cf0e-7ba5bbf637a5"
      },
      "outputs": [
        {
          "name": "stdout",
          "output_type": "stream",
          "text": [
            "Drive already mounted at /content/drive; to attempt to forcibly remount, call drive.mount(\"/content/drive\", force_remount=True).\n"
          ]
        }
      ],
      "source": [
        "from google.colab import drive\n",
        "drive.mount('/content/drive')"
      ]
    },
    {
      "cell_type": "code",
      "execution_count": 3,
      "metadata": {
        "colab": {
          "base_uri": "https://localhost:8080/"
        },
        "id": "xHrUpZiTuE9b",
        "outputId": "910e01eb-414f-48b6-fc46-6ad5202a4d32"
      },
      "outputs": [
        {
          "name": "stdout",
          "output_type": "stream",
          "text": [
            "        DATE Microcycle  Injury preseason-season      TD    HSR  +25 Km/h  \\\n",
            "0 2021-08-11        M-3       0           SEASON  7423.0  426.0        20   \n",
            "1 2021-08-12        M-2       0           SEASON  1268.0    0.0         0   \n",
            "2 2021-08-13        M-1       0           SEASON  4135.0  112.0         2   \n",
            "3 2021-08-15        M+1       0           SEASON  6379.0   86.0         0   \n",
            "4 2021-08-17        M-4       0           SEASON  6287.0  209.0         9   \n",
            "\n",
            "    ACC   DEC  PlayerID  ...  +25 Km/h_ACWR  +25 Km/h_MSWR  ACC_ACWR  \\\n",
            "0  52.0  38.0     23085  ...       1.000000       2.727412  1.000000   \n",
            "1  11.0   5.0     23085  ...       1.000000       1.053370  1.000000   \n",
            "2  47.0  20.0     23085  ...       1.000000       0.870478  1.000000   \n",
            "3  49.0  48.0     23085  ...       1.000000       0.647982  1.000000   \n",
            "4  62.0  44.0     23085  ...       0.545055       0.581739  0.889336   \n",
            "\n",
            "   ACC_MSWR  DEC_ACWR   DEC_MSWR  Injury_7_day  Category  Category_MATCH  \\\n",
            "0  7.392480   1.00000  26.162951             0  TRAINING               0   \n",
            "1  1.532602   1.00000   1.423250             0  TRAINING               0   \n",
            "2  1.920958   1.00000   1.603462             0  TRAINING               0   \n",
            "3  1.464844   1.00000   1.267713             0  TRAINING               0   \n",
            "4  1.179096   0.92745   1.048327             0  TRAINING               0   \n",
            "\n",
            "   Category_TRAINING  \n",
            "0                  1  \n",
            "1                  1  \n",
            "2                  1  \n",
            "3                  1  \n",
            "4                  1  \n",
            "\n",
            "[5 rows x 55 columns]\n"
          ]
        }
      ],
      "source": [
        "#file_path = '/content/drive/MyDrive/WATFORD FC/Datos GPS/datos_finales_tommy.xlsx'\n",
        "#file_path = '/content/drive/MyDrive/WATFORD FC/Datos GPS/datos_finales_tommy2.xlsx'\n",
        "#file_path = 'datos_finales_tommy.xlsx'\n",
        "#file_path = 'data/cleaned_data.xlsx'\n",
        "file_path = 'data/cleaned_data_no_injured.xlsx'\n",
        "# Load the CSV into a DataFrame\n",
        "df = pd.read_excel(file_path)\n",
        "\n",
        "# Display the DataFrame\n",
        "print(df.head())"
      ]
    },
    {
      "cell_type": "markdown",
      "metadata": {
        "id": "Ps-0KbwOZ1Jn"
      },
      "source": [
        "Chequear desbalanceo de clases"
      ]
    },
    {
      "cell_type": "code",
      "execution_count": 4,
      "metadata": {
        "colab": {
          "base_uri": "https://localhost:8080/"
        },
        "id": "gno8UNio3QDO",
        "outputId": "510d951a-1ddf-4590-fbfb-341a5fd62b6a"
      },
      "outputs": [
        {
          "name": "stdout",
          "output_type": "stream",
          "text": [
            "No Lesión: 3942\n",
            "Lesión: 197\n",
            "Porcentaje de lesionados en el dataset: 4.76%\n"
          ]
        }
      ],
      "source": [
        "print(\"No Lesión: \" + str(df[df[\"Injury_7_day\"] == 0].shape[0]))\n",
        "print(\"Lesión: \" + str(df[df[\"Injury_7_day\"] == 1].shape[0]))\n",
        "print(f\"Porcentaje de lesionados en el dataset: {((df[df['Injury_7_day'] == 1].shape[0] / df.shape[0]) * 100):.2f}%\")"
      ]
    },
    {
      "cell_type": "markdown",
      "metadata": {},
      "source": [
        "# Initialize metrics"
      ]
    },
    {
      "cell_type": "code",
      "execution_count": 5,
      "metadata": {},
      "outputs": [],
      "source": [
        "metrics = ['TD', 'HSR',\n",
        "       '+25 Km/h', 'ACC', 'DEC', 'Sprints', '% Max Speed']"
      ]
    },
    {
      "cell_type": "markdown",
      "metadata": {
        "id": "l9nvJxT9ahoQ"
      },
      "source": [
        "# Correlation of variables"
      ]
    },
    {
      "cell_type": "code",
      "execution_count": 113,
      "metadata": {
        "colab": {
          "base_uri": "https://localhost:8080/",
          "height": 220
        },
        "id": "q8g3wqWlZe-v",
        "outputId": "b296c484-784e-4fd0-da67-b44a9e3ba72c"
      },
      "outputs": [
        {
          "data": {
            "image/png": "[encoded data removed]",
            "text/plain": [
              "<Figure size 1800x900 with 2 Axes>"
            ]
          },
          "metadata": {},
          "output_type": "display_data"
        }
      ],
      "source": [
        "# Calcular la matriz de correlación\n",
        "correlation_matrix = df[metrics].corr()\n",
        "\n",
        "# Mostrar la matriz de correlación\n",
        "plt.figure(figsize=(18, 9))\n",
        "sns.heatmap(correlation_matrix, annot=True, cmap='coolwarm', center=0)\n",
        "plt.title(\"Matriz de Correlación\")\n",
        "plt.show()\n"
      ]
    },
    {
      "cell_type": "code",
      "execution_count": 114,
      "metadata": {
        "colab": {
          "base_uri": "https://localhost:8080/",
          "height": 220
        },
        "id": "d_wjMfu0a_n7",
        "outputId": "3599e950-e092-432a-b1d9-a1e734ab2e81"
      },
      "outputs": [
        {
          "name": "stdout",
          "output_type": "stream",
          "text": [
            "      Variable        VIF\n",
            "0        const  68.786842\n",
            "1           TD   4.574959\n",
            "2          HSR   2.948752\n",
            "3     +25 Km/h   2.408087\n",
            "4          ACC   3.431651\n",
            "5          DEC   4.917893\n",
            "6      Sprints   2.527502\n",
            "7  % Max Speed   1.867356\n"
          ]
        }
      ],
      "source": [
        "df_with_constant = add_constant(df[metrics])\n",
        "\n",
        "# Calcular el VIF para cada columna\n",
        "vif_data = pd.DataFrame()\n",
        "vif_data[\"Variable\"] = df_with_constant.columns\n",
        "vif_data[\"VIF\"] = [variance_inflation_factor(df_with_constant.values, i)\n",
        "                   for i in range(df_with_constant.shape[1])]\n",
        "\n",
        "# Mostrar el VIF\n",
        "print(vif_data)"
      ]
    },
    {
      "cell_type": "markdown",
      "metadata": {
        "id": "45bL6tM2e82Q"
      },
      "source": [
        "# ML Modelos"
      ]
    },
    {
      "cell_type": "markdown",
      "metadata": {
        "id": "WEhGu_lM8lq5"
      },
      "source": [
        "## Separate data into X, y and player_ids"
      ]
    },
    {
      "cell_type": "code",
      "execution_count": 17,
      "metadata": {},
      "outputs": [
        {
          "data": {
            "text/plain": [
              "Index(['DATE', 'Microcycle', 'Injury', 'preseason-season', 'TD', 'HSR',\n",
              "       '+25 Km/h', 'ACC', 'DEC', 'PlayerID', 'Max Speed', 'Sprints', 'Mins',\n",
              "       'Max Speed Season', 'Avg Speed Season', '% Max Speed',\n",
              "       'Speed Diff Max Avg', 'TD_Rel', 'HSR_Rel', '+25 Km/h_Rel', 'ACC_Rel',\n",
              "       'DEC_Rel', 'TD-7', 'TD_EWMA-7', 'HSR-7', 'HSR_EWMA-7', '+25 Km/h-7',\n",
              "       '+25 Km/h_EWMA-7', 'ACC-7', 'ACC_EWMA-7', 'DEC-7', 'DEC_EWMA-7',\n",
              "       'Sprints-7', 'Mins-7', 'Mins-7-avg', 'Mins-7-std', 'Mins_EWMA-7',\n",
              "       'Mins-28', 'Mins-28-avg', 'Mins-28-std', 'Mins_EWMA-28', 'TD_ACWR',\n",
              "       'TD_MSWR', 'HSR_ACWR', 'HSR_MSWR', '+25 Km/h_ACWR', '+25 Km/h_MSWR',\n",
              "       'ACC_ACWR', 'ACC_MSWR', 'DEC_ACWR', 'DEC_MSWR', 'Injury_7_day',\n",
              "       'Category', 'Category_MATCH', 'Category_TRAINING'],\n",
              "      dtype='object')"
            ]
          },
          "execution_count": 17,
          "metadata": {},
          "output_type": "execute_result"
        }
      ],
      "source": [
        "df.columns"
      ]
    },
    {
      "cell_type": "code",
      "execution_count": 5,
      "metadata": {
        "colab": {
          "base_uri": "https://localhost:8080/"
        },
        "id": "l5Iy0GLoaD97",
        "outputId": "93bc36c4-2ebb-4ce9-c182-3eedb939aa43"
      },
      "outputs": [
        {
          "name": "stdout",
          "output_type": "stream",
          "text": [
            "20\n"
          ]
        }
      ],
      "source": [
        "# metrics = ['TD', 'HSR','+25 Km/h', 'ACC', 'DEC', 'Max Speed', 'Sprints', 'Mins',\n",
        "#        'Max Speed Season', 'Avg Speed Season', '% Max Speed',\n",
        "#        'Speed Diff Max Avg', 'TD_Rel', 'HSR_Rel', '+25 Km/h_Rel', 'ACC_Rel',\n",
        "#        'DEC_Rel', 'TD-7', 'TD_EWMA-7', 'HSR-7', 'HSR_EWMA-7', '+25 Km/h-7',\n",
        "#        '+25 Km/h_EWMA-7', 'ACC-7', 'ACC_EWMA-7', 'DEC-7', 'DEC_EWMA-7',\n",
        "#        'Sprints-7', 'Mins-7', 'Mins-7-avg', 'Mins-7-std', 'Mins_EWMA-7',\n",
        "#        'Mins-28', 'Mins-28-avg', 'Mins-28-std', 'Mins_EWMA-28', 'TD_ACWR',\n",
        "#        'TD_MSWR', 'HSR_ACWR', 'HSR_MSWR', '+25 Km/h_ACWR', '+25 Km/h_MSWR',\n",
        "#        'ACC_ACWR', 'ACC_MSWR', 'DEC_ACWR', 'DEC_MSWR', 'Injury_7_day', 'Category_MATCH', 'Category_TRAINING']\n",
        "\n",
        "# metrics = ['TD', 'HSR',\n",
        "#        '+25 Km/h', 'ACC', 'DEC', 'Sprints', '% Max Speed', 'TD_Rel', 'HSR_Rel', '+25 Km/h_Rel', 'ACC_Rel',\n",
        "#        'DEC_Rel','TD-7', 'HSR-7', '+25 Km/h-7', 'ACC-7', 'DEC-7',\n",
        "#        'Sprints-7']\n",
        "\n",
        "# metrics = ['TD-7', 'HSR-7', '+25 Km/h-7', 'ACC-7', 'DEC-7',\n",
        "#        'Sprints-7','Mins-7','Category_MATCH',\n",
        "#        'Category_TRAINING']\n",
        "\n",
        "# metrics = ['TD', 'HSR',\n",
        "#        '+25 Km/h', 'ACC', 'DEC', 'Sprints', 'Mins', '% Max Speed', 'TD_Rel', 'HSR_Rel', '+25 Km/h_Rel', 'ACC_Rel',\n",
        "#        'DEC_Rel', 'TD-7', 'TD_EWMA-7', 'HSR-7', 'HSR_EWMA-7', '+25 Km/h-7',\n",
        "#        '+25 Km/h_EWMA-7', 'ACC-7', 'ACC_EWMA-7', 'DEC-7', 'DEC_EWMA-7',\n",
        "#        'Sprints-7', 'Mins-7', 'TD_ACWR', 'TD_MSWR', 'HSR_ACWR', 'HSR_MSWR', '+25 Km/h_ACWR', '+25 Km/h_MSWR',\n",
        "#        'ACC_ACWR', 'DEC_ACWR', 'Category_MATCH', 'Category_TRAINING']\n",
        "\n",
        "# metrics = ['TD', 'HSR',\n",
        "#        '+25 Km/h', 'ACC', 'DEC', 'Sprints', 'Mins', '% Max Speed', 'TD-7', 'TD_EWMA-7', 'HSR-7', 'HSR_EWMA-7', '+25 Km/h-7',\n",
        "#        '+25 Km/h_EWMA-7', 'ACC-7', 'ACC_EWMA-7', 'DEC-7', 'DEC_EWMA-7',\n",
        "#        'Sprints-7', 'Mins-7', 'TD_ACWR', 'TD_MSWR', 'HSR_ACWR', 'HSR_MSWR', '+25 Km/h_ACWR', '+25 Km/h_MSWR',\n",
        "#        'ACC_ACWR', 'DEC_ACWR', 'Category_MATCH', 'Category_TRAINING']\n",
        "\n",
        "metrics = ['TD-7', 'TD_EWMA-7', 'HSR-7', 'HSR_EWMA-7', '+25 Km/h-7',\n",
        "       '+25 Km/h_EWMA-7', 'ACC-7', 'ACC_EWMA-7', 'DEC-7', 'DEC_EWMA-7',\n",
        "       'Sprints-7', 'Mins-7', 'TD_ACWR', 'TD_MSWR', 'HSR_ACWR', 'HSR_MSWR', '+25 Km/h_ACWR', '+25 Km/h_MSWR',\n",
        "       'ACC_ACWR', 'DEC_ACWR']\n",
        "\n",
        "# metrics = ['TD-7', 'HSR-7', '+25 Km/h-7', 'ACC-7', 'DEC-7','Sprints-7','Mins-7']\n",
        "\n",
        "# metrics = ['TD-7', 'TD_EWMA-7', 'HSR-7', 'HSR_EWMA-7', '+25 Km/h-7',\n",
        "#        '+25 Km/h_EWMA-7', 'ACC-7', 'ACC_EWMA-7', 'DEC-7', 'DEC_EWMA-7',\n",
        "#        'Sprints-7', 'TD_ACWR', 'TD_MSWR', 'HSR_ACWR', 'HSR_MSWR',\n",
        "#        '+25 Km/h_ACWR', '+25 Km/h_MSWR', 'ACC_ACWR', 'DEC_ACWR']\n",
        "\n",
        "print(len(metrics))"
      ]
    },
    {
      "cell_type": "code",
      "execution_count": 6,
      "metadata": {
        "id": "YYtV9mf7im_5"
      },
      "outputs": [],
      "source": [
        "player_ids = df['PlayerID']\n",
        "X = df[metrics]\n",
        "y = df['Injury_7_day']"
      ]
    },
    {
      "cell_type": "markdown",
      "metadata": {
        "id": "-xovMDu-d5F6"
      },
      "source": [
        "## Feature Engineering"
      ]
    },
    {
      "cell_type": "code",
      "execution_count": 176,
      "metadata": {},
      "outputs": [
        {
          "name": "stdout",
          "output_type": "stream",
          "text": [
            "Selected Features: ['+25 Km/h_ACWR', 'Category_TRAINING', 'ACC', 'HSR_MSWR', 'HSR_EWMA-7', '% Max Speed', 'DEC-7', 'Category_MATCH', 'ACC_ACWR', 'Sprints-7', '+25 Km/h_EWMA-7', 'TD_MSWR', '+25 Km/h_MSWR', 'DEC', 'Sprints', 'HSR_ACWR', 'ACC_EWMA-7', '+25 Km/h', 'TD-7', 'TD']\n"
          ]
        }
      ],
      "source": [
        "from sklearn.feature_selection import mutual_info_regression\n",
        "import numpy as np\n",
        "\n",
        "def mrmr_manual_regression(X, y, num_features):\n",
        "    selected_features = []\n",
        "    remaining_features = list(range(X.shape[1]))\n",
        "    \n",
        "    # Calculate mutual information for relevance (regression)\n",
        "    relevance = mutual_info_regression(X, y)\n",
        "    \n",
        "    for _ in range(num_features):\n",
        "        scores = []\n",
        "        for feature in remaining_features:\n",
        "            # Calculate redundancy with already selected features\n",
        "            redundancy = np.mean([mutual_info_regression(X[:, feature].reshape(-1, 1), X[:, sel]) \n",
        "                                  for sel in selected_features]) if selected_features else 0\n",
        "            \n",
        "            # mRMR score = relevance - redundancy\n",
        "            score = relevance[feature] - redundancy\n",
        "            scores.append((feature, score))\n",
        "        \n",
        "        # Select the feature with the maximum score\n",
        "        best_feature = max(scores, key=lambda x: x[1])[0]\n",
        "        selected_features.append(best_feature)\n",
        "        remaining_features.remove(best_feature)\n",
        "    \n",
        "    return selected_features\n",
        "\n",
        "selected_features_indexes = mrmr_manual_regression(X.values, y.values, 20)\n",
        "\n",
        "feature_names = X.columns  # Assuming X is a pandas DataFrame\n",
        "selected_feature_names = [feature_names[i] for i in selected_features_indexes]\n",
        "\n",
        "print(\"Selected Features:\", selected_feature_names)\n",
        "\n",
        "X = X[selected_feature_names]"
      ]
    },
    {
      "cell_type": "markdown",
      "metadata": {
        "id": "gxC3qljCeY38"
      },
      "source": [
        "**Feature Selection**\n",
        "\n",
        "Removes features with low variance"
      ]
    },
    {
      "cell_type": "code",
      "execution_count": 79,
      "metadata": {
        "colab": {
          "base_uri": "https://localhost:8080/"
        },
        "id": "ZONmW9vwe2ok",
        "outputId": "8200a7e8-4fe2-4f7a-c71d-a1616942b3d2"
      },
      "outputs": [
        {
          "name": "stdout",
          "output_type": "stream",
          "text": [
            "Removed Features: Index([], dtype='object')\n"
          ]
        }
      ],
      "source": [
        "# Initialize VarianceThreshold with a threshold\n",
        "vt = VarianceThreshold(threshold=0.01)  # Removes features with variance < 0.01\n",
        "\n",
        "# Apply VarianceThreshold to the entire dataset (X)\n",
        "X_reduced = vt.fit_transform(X)  # Retains only high-variance features\n",
        "\n",
        "# Get selected feature names (if X is a DataFrame)\n",
        "removed_features = X.columns[~vt.get_support()]\n",
        "print(\"Removed Features:\", removed_features)"
      ]
    },
    {
      "cell_type": "markdown",
      "metadata": {
        "id": "yOw8nyZ3gBPU"
      },
      "source": [
        "Based on the response , there is no columns that need to be removed"
      ]
    },
    {
      "cell_type": "markdown",
      "metadata": {
        "id": "1nrspapd5Bo5"
      },
      "source": [
        "## SMOTE Technique"
      ]
    },
    {
      "cell_type": "code",
      "execution_count": 7,
      "metadata": {
        "colab": {
          "base_uri": "https://localhost:8080/"
        },
        "id": "ZmyBmKGe5Ayp",
        "outputId": "94156fbb-192e-4d32-eecc-bda110590a9d"
      },
      "outputs": [
        {
          "name": "stdout",
          "output_type": "stream",
          "text": [
            "Class distribution after SMOTE:\n",
            "Injury_7_day\n",
            "0    3153\n",
            "1    3153\n",
            "Name: count, dtype: int64\n",
            "Injury_7_day\n",
            "0    3153\n",
            "1    3153\n",
            "Name: count, dtype: int64\n"
          ]
        }
      ],
      "source": [
        "# Split the data into training and test sets (test set remains untouched)\n",
        "X_train, X_test, y_train, y_test, player_ids_train, player_ids_test = train_test_split(X, y, player_ids, test_size=0.2, random_state=42, stratify=y)\n",
        "\n",
        "# Initialize SMOTE\n",
        "smote = SMOTE(random_state=42)\n",
        "\n",
        "# Apply SMOTE to training data\n",
        "X_train , y_train = smote.fit_resample(X_train, y_train)\n",
        "\n",
        "# smote_enn = SMOTEENN(random_state=42)\n",
        "# X_train, y_train = smote_enn.fit_resample(X_train, y_train)\n",
        "\n",
        "print(\"Class distribution after SMOTE:\")\n",
        "print(pd.Series(y_train).value_counts())\n",
        "print(pd.Series(y_train).value_counts())"
      ]
    },
    {
      "cell_type": "markdown",
      "metadata": {},
      "source": [
        "## SVM"
      ]
    },
    {
      "cell_type": "code",
      "execution_count": 184,
      "metadata": {},
      "outputs": [
        {
          "name": "stdout",
          "output_type": "stream",
          "text": [
            "Classification Report:\n",
            "               precision    recall  f1-score   support\n",
            "\n",
            "           0       0.99      0.81      0.89      1338\n",
            "           1       0.08      0.59      0.15        39\n",
            "\n",
            "    accuracy                           0.81      1377\n",
            "   macro avg       0.53      0.70      0.52      1377\n",
            "weighted avg       0.96      0.81      0.87      1377\n",
            "\n",
            "Test Set AUC: 0.812847341995324\n"
          ]
        },
        {
          "data": {
            "image/png": "[encoded data removed]",
            "text/plain": [
              "<Figure size 640x480 with 1 Axes>"
            ]
          },
          "metadata": {},
          "output_type": "display_data"
        }
      ],
      "source": [
        "# Split data into train/validation and testing sets\n",
        "X_train_val, X_test, y_train_val, y_test = train_test_split(X, y, test_size=0.2, stratify=y, random_state=42)\n",
        "\n",
        "# Standardize the features\n",
        "scaler = StandardScaler()\n",
        "X_train_val_scaled = scaler.fit_transform(X_train_val)\n",
        "X_test_scaled = scaler.transform(X_test)\n",
        "\n",
        "# SMOTE for oversampling the training data\n",
        "smote_enn = SMOTEENN(random_state=42)\n",
        "X_resampled, y_resampled = smote_enn.fit_resample(X_train_val_scaled, y_train_val)\n",
        "\n",
        "# Train the SVM model\n",
        "svm_model = SVC(kernel='rbf', class_weight='balanced', probability=True, random_state=42)\n",
        "svm_model.fit(X_resampled, y_resampled)\n",
        "\n",
        "# Evaluate on the test set\n",
        "y_pred = svm_model.predict(X_test_scaled)\n",
        "y_prob = svm_model.predict_proba(X_test_scaled)[:, 1]\n",
        "\n",
        "# Classification report\n",
        "report = classification_report(y_test, y_pred)\n",
        "print(\"Classification Report:\\n\", report)\n",
        "\n",
        "# ROC-AUC\n",
        "fpr, tpr, _ = roc_curve(y_test, y_prob)\n",
        "roc_auc = auc(fpr, tpr)\n",
        "print(\"Test Set AUC:\", roc_auc)\n",
        "\n",
        "# Plot ROC Curve (optional)\n",
        "import matplotlib.pyplot as plt\n",
        "plt.figure()\n",
        "plt.plot(fpr, tpr, color='darkorange', lw=2, label='ROC curve (area = %0.2f)' % roc_auc)\n",
        "plt.plot([0, 1], [0, 1], color='navy', lw=2, linestyle='--')\n",
        "plt.xlabel('False Positive Rate')\n",
        "plt.ylabel('True Positive Rate')\n",
        "plt.title('Receiver Operating Characteristic')\n",
        "plt.legend(loc=\"lower right\")\n",
        "plt.show()\n"
      ]
    },
    {
      "cell_type": "markdown",
      "metadata": {
        "id": "U7b0kFZiqHTm"
      },
      "source": [
        "## XGBoost Model"
      ]
    },
    {
      "cell_type": "markdown",
      "metadata": {
        "id": "SymokdgRrdKm"
      },
      "source": [
        "Perform Recursive Feature Elimination with Cross-Validation (RFECV) to find the best variables\n",
        "\n",
        "Use GridSearch to find the best hyperparameters"
      ]
    },
    {
      "cell_type": "code",
      "execution_count": 8,
      "metadata": {
        "colab": {
          "base_uri": "https://localhost:8080/"
        },
        "id": "P7HntgH2lR37",
        "outputId": "e7414da1-8e08-44f2-f7f3-a9fa38a05033"
      },
      "outputs": [
        {
          "name": "stdout",
          "output_type": "stream",
          "text": [
            "Selected Features (RFE): ['TD-7', 'TD_EWMA-7', 'HSR-7', 'HSR_EWMA-7', '+25 Km/h-7', '+25 Km/h_EWMA-7', 'ACC-7', 'ACC_EWMA-7', 'DEC-7', 'DEC_EWMA-7', 'Sprints-7', 'Mins-7', 'TD_ACWR', 'TD_MSWR', 'HSR_ACWR', 'HSR_MSWR', '+25 Km/h_ACWR', '+25 Km/h_MSWR', 'ACC_ACWR', 'DEC_ACWR']\n",
            "Number of features selected: 20\n"
          ]
        },
        {
          "name": "stderr",
          "output_type": "stream",
          "text": [
            "/Users/tommylas/Documents/FootballAnalytics/WatfordFC/.venv/lib/python3.12/site-packages/sklearn/feature_selection/_rfe.py:291: UserWarning: Found n_features_to_select=36 > n_features=20. There will be no feature selection and all features will be kept.\n",
            "  warnings.warn(\n"
          ]
        }
      ],
      "source": [
        "# Base parameters for XGBClassifier\n",
        "base_params = {\n",
        "    'objective': 'binary:logistic',\n",
        "    'colsample_bytree': 0.8,  # Feature subsampling\n",
        "    'subsample': 0.8,         # Row subsampling\n",
        "    'eval_metric': 'auc',\n",
        "    'alpha': 5,              # L1 regularization\n",
        "    'gamma': 5,              # Minimum loss reduction\n",
        "    'max_depth': 3,\n",
        "    'learning_rate': 0.09,\n",
        "    'n_estimators': 100\n",
        "}\n",
        "\n",
        "# Initialize the XGBClassifier\n",
        "rfe_model = XGBClassifier(**base_params)\n",
        "\n",
        "# Perform RFE for feature selection\n",
        "rfe = RFE(\n",
        "    estimator=rfe_model,\n",
        "    n_features_to_select=36,  # Select exactly X features\n",
        "    step=1  # Remove one feature at a time\n",
        ")\n",
        "\n",
        "# Fit RFE to X_train\n",
        "rfe.fit(X_train, y_train)\n",
        "\n",
        "# Get selected feature names\n",
        "selected_features = X_train.columns[rfe.support_]\n",
        "X_train_selected = X_train[selected_features]\n",
        "X_test_selected = X_test[selected_features]\n",
        "\n",
        "print(f\"Selected Features (RFE): {selected_features.tolist()}\")\n",
        "print(f\"Number of features selected: {len(selected_features)}\")"
      ]
    },
    {
      "cell_type": "code",
      "execution_count": 9,
      "metadata": {
        "colab": {
          "base_uri": "https://localhost:8080/"
        },
        "id": "eOEDKQl3QB72",
        "outputId": "f560619d-b0d2-4114-8468-b4173d431175"
      },
      "outputs": [
        {
          "name": "stdout",
          "output_type": "stream",
          "text": [
            "Fitting 5 folds for each of 1296 candidates, totalling 6480 fits\n"
          ]
        },
        {
          "name": "stderr",
          "output_type": "stream",
          "text": [
            "/Users/tommylas/Documents/FootballAnalytics/WatfordFC/.venv/lib/python3.12/site-packages/joblib/externals/loky/process_executor.py:752: UserWarning: A worker stopped while some jobs were given to the executor. This can be caused by a too short worker timeout or by a memory leak.\n",
            "  warnings.warn(\n",
            "/Users/tommylas/Documents/FootballAnalytics/WatfordFC/.venv/lib/python3.12/site-packages/numpy/ma/core.py:2820: RuntimeWarning: invalid value encountered in cast\n",
            "  _data = np.array(data, dtype=dtype, copy=copy,\n"
          ]
        },
        {
          "name": "stdout",
          "output_type": "stream",
          "text": [
            "Best ROC-AUC (Grid Search): 0.9973\n",
            "Best Parameters: {'alpha': 0, 'gamma': 0, 'learning_rate': 0.1, 'max_depth': 7, 'n_estimators': 300, 'scale_pos_weight': 15}\n"
          ]
        }
      ],
      "source": [
        "# Updated base parameters with added regularization\n",
        "base_params_xgboost = {\n",
        "    'objective': 'binary:logistic',\n",
        "    'eval_metric': 'auc',\n",
        "    'subsample': 0.8,        \n",
        "    'colsample_bytree': 0.8 \n",
        "}\n",
        "\n",
        "# Expanded parameter grid\n",
        "param_grid = {\n",
        "    'learning_rate': [0.01, 0.05, 0.1],\n",
        "    'max_depth': [3, 5, 7],\n",
        "    'n_estimators': [100, 200, 300],\n",
        "    'scale_pos_weight': [10, 12,15],\n",
        "    'alpha': [0, 1, 5, 10],\n",
        "    'gamma': [0, 1, 5, 10],\n",
        "}\n",
        "\n",
        "# scaler = StandardScaler()\n",
        "# X_train_selected = scaler.fit_transform(X_train_selected)\n",
        "# X_test_selected = scaler.transform(X_test_selected)\n",
        "\n",
        "model = XGBClassifier(**base_params_xgboost)\n",
        "\n",
        "# Stratified K-Fold Cross-Validation\n",
        "stratified_cv = StratifiedKFold(n_splits=5, shuffle=True, random_state=42)\n",
        "\n",
        "# GridSearchCV for hyperparameter tuning\n",
        "grid_search = GridSearchCV(\n",
        "    estimator=model,\n",
        "    param_grid=param_grid,\n",
        "    scoring='roc_auc',  # Optimize for ROC-AUC\n",
        "    cv=stratified_cv,\n",
        "    verbose=1,\n",
        "    n_jobs=-1\n",
        ")\n",
        "\n",
        "# Fit GridSearchCV on the training dataset\n",
        "grid_search.fit(X_train_selected, y_train)\n",
        "\n",
        "# Get the best model and parameters\n",
        "best_model = grid_search.best_estimator_\n",
        "best_params = grid_search.best_params_\n",
        "best_roc_auc = grid_search.best_score_\n",
        "\n",
        "# Print best results\n",
        "print(f\"Best ROC-AUC (Grid Search): {best_roc_auc:.4f}\")\n",
        "print(f\"Best Parameters: {best_params}\")"
      ]
    },
    {
      "cell_type": "markdown",
      "metadata": {
        "id": "7WXWNWO2lcTO"
      },
      "source": [
        "## Train the model with the best parameters and add early stopping"
      ]
    },
    {
      "cell_type": "code",
      "execution_count": 41,
      "metadata": {},
      "outputs": [
        {
          "name": "stdout",
          "output_type": "stream",
          "text": [
            "Final Test ROC-AUC: 0.7883\n",
            "Accuracy: 0.6558\n",
            "Precision: 0.1006\n",
            "Recall: 0.7949\n",
            "F1 Score: 0.1787\n",
            "Confusion Matrix:\n",
            "[[512 277]\n",
            " [  8  31]]\n"
          ]
        }
      ],
      "source": [
        "# Final Test ROC-AUC: 0.7218\n",
        "# Accuracy: 0.7349\n",
        "# Precision: 0.0618\n",
        "# Recall: 0.5897\n",
        "# param_grid = {\n",
        "#     'learning_rate': 0.1,  # Explore smaller learning rates\n",
        "#     'max_depth': 5,             # Test broader depth values\n",
        "#     'n_estimators': 300,     # Include larger estimators\n",
        "#     'scale_pos_weight': 9,\n",
        "#     'alpha': 5,  # L1 regularization\n",
        "#     'gamma': 5,  # Minimum loss reduction\n",
        "# }\n",
        "\n",
        "# Final Test ROC-AUC: 0.7883\n",
        "# Accuracy: 0.7174\n",
        "# Precision: 0.1146\n",
        "# Recall: 0.7436\n",
        "# F1 Score: 0.1986\n",
        "\n",
        "# param_grid = {\n",
        "#     'learning_rate': 0.07,  # Explore smaller learning rates\n",
        "#     'max_depth': 7,             # Test broader depth values\n",
        "#     'n_estimators': 400,     # Include larger estimators\n",
        "#     'scale_pos_weight': 14,\n",
        "#     'alpha': 5,  # L1 regularization\n",
        "#     'gamma': 5,  # Minimum loss reduction\n",
        "# }\n",
        "\n",
        "\n",
        "param_grid = {\n",
        "    'learning_rate': 0.07,  # Explore smaller learning rates\n",
        "    'max_depth': 7,             # Test broader depth values\n",
        "    'n_estimators': 400,     # Include larger estimators\n",
        "    'scale_pos_weight': 14,\n",
        "    'alpha': 5,  # L1 regularization\n",
        "    'gamma': 5,  # Minimum loss reduction\n",
        "}\n",
        "\n",
        "\n",
        "# Train the final model\n",
        "final_model = XGBClassifier(\n",
        "    **base_params_xgboost,\n",
        "    **param_grid,\n",
        ")\n",
        "\n",
        "# Train\n",
        "final_model.fit(X_train_selected,\n",
        "                y_train,\n",
        "                verbose=True\n",
        ")\n",
        "\n",
        "# Predict class labels (0 or 1) on the test set\n",
        "y_pred_probs = final_model.predict_proba(X_test_selected)[:, 1]\n",
        "# Apply custom threshold\n",
        "threshold = 0.40\n",
        "y_pred = (y_pred_probs >= threshold).astype(int)\n",
        "test_roc_auc = roc_auc_score(y_test, y_pred_probs)\n",
        "print(f\"Final Test ROC-AUC: {test_roc_auc:.4f}\")\n",
        "\n",
        "# Accuracy\n",
        "accuracy = accuracy_score(y_test, y_pred)\n",
        "print(f\"Accuracy: {accuracy:.4f}\")\n",
        "\n",
        "# Precision\n",
        "precision = precision_score(y_test, y_pred)\n",
        "print(f\"Precision: {precision:.4f}\")\n",
        "\n",
        "# Recall\n",
        "recall = recall_score(y_test, y_pred)\n",
        "print(f\"Recall: {recall:.4f}\")\n",
        "\n",
        "# F1 Score\n",
        "f1 = f1_score(y_test, y_pred)\n",
        "print(f\"F1 Score: {f1:.4f}\")\n",
        "\n",
        "# Confusion Matrix\n",
        "conf_matrix = confusion_matrix(y_test, y_pred)\n",
        "print(\"Confusion Matrix:\")\n",
        "print(conf_matrix)\n"
      ]
    },
    {
      "cell_type": "markdown",
      "metadata": {
        "id": "yJVDozS1zc5w"
      },
      "source": [
        "## Transform test data"
      ]
    },
    {
      "cell_type": "code",
      "execution_count": 32,
      "metadata": {
        "id": "Lb4659qHRNs4"
      },
      "outputs": [],
      "source": [
        "X_test = X_test_selected.reset_index(drop=True)\n",
        "y_test = y_test.reset_index(drop=True)\n",
        "player_ids_test = player_ids_test.reset_index(drop=True)"
      ]
    },
    {
      "cell_type": "code",
      "execution_count": 33,
      "metadata": {
        "colab": {
          "base_uri": "https://localhost:8080/"
        },
        "id": "OhBlb1iyo7RU",
        "outputId": "6e09de4f-73b8-4b42-fe80-5e3853243384"
      },
      "outputs": [
        {
          "name": "stdout",
          "output_type": "stream",
          "text": [
            "Test ROC-AUC: 0.7883\n"
          ]
        }
      ],
      "source": [
        "def categorize_risk(percentage):\n",
        "    if percentage < 40:\n",
        "        return 'Low Risk'\n",
        "    elif 40 <= percentage < 70:\n",
        "        return 'Medium Risk'\n",
        "    else:\n",
        "        return 'High Risk'\n",
        "\n",
        "# Evaluate the best model on the test set\n",
        "y_probs = final_model.predict_proba(X_test_selected)[:, 1]\n",
        "test_roc_auc = roc_auc_score(y_test, y_probs)\n",
        "\n",
        "print(f\"Test ROC-AUC: {test_roc_auc:.4f}\")\n",
        "\n",
        "# Convert the probabilities of injury risk (Class 1) to percentages\n",
        "injury_risk_percentage = y_probs * 100\n",
        "\n",
        "# Categorize the injury risk percentages\n",
        "risk_levels = [categorize_risk(percentage) for percentage in injury_risk_percentage]\n",
        "\n",
        "# Create the `results` DataFrame with only relevant metrics and calculated values\n",
        "results = pd.DataFrame({\n",
        "    'Player_ID': player_ids_test,  # Add player IDs\n",
        "    'Actual_Label': y_test,  # Add actual labels\n",
        "    '%': injury_risk_percentage,\n",
        "    'Risk_Level': risk_levels\n",
        "}).join(X_test[['TD-7', '+25 Km/h-7', 'ACC-7', 'DEC-7', 'Sprints-7']])  # Add only relevant metrics\n",
        "\n"
      ]
    },
    {
      "cell_type": "code",
      "execution_count": 34,
      "metadata": {
        "id": "qe5rWWovrYeK"
      },
      "outputs": [],
      "source": [
        "# Define risk level colors\n",
        "color_mapping = {\n",
        "    'High Risk': 'FF9999',  # Light Red\n",
        "    'Medium Risk': 'FFFF99',  # Light Yellow\n",
        "    'Low Risk': '99FF99'  # Light Green\n",
        "}\n",
        "\n",
        "# file_path_export = '/content/drive/MyDrive/WATFORD FC/Datos GPS/results.xlsx'\n",
        "file_path_export = 'results.xlsx'\n",
        "\n",
        "wb = Workbook()\n",
        "\n",
        "# Write `results` to the first sheet\n",
        "ws = wb.active\n",
        "ws.title = \"Injury Risk Results\"\n",
        "for r_idx, row in enumerate(dataframe_to_rows(results, index=True, header=True), start=1):\n",
        "    for c_idx, value in enumerate(row, start=1):\n",
        "        ws.cell(row=r_idx, column=c_idx, value=value)\n",
        "\n",
        "# Conditional formatting for `results`\n",
        "risk_level_col_idx = list(results.columns).index(\"Risk_Level\") + 2\n",
        "for row in ws.iter_rows(min_row=2, max_row=ws.max_row, min_col=risk_level_col_idx, max_col=risk_level_col_idx):\n",
        "    for cell in row:\n",
        "        risk_level = cell.value\n",
        "        if risk_level in color_mapping:\n",
        "            cell.fill = PatternFill(start_color=color_mapping[risk_level], end_color=color_mapping[risk_level], fill_type=\"solid\")\n",
        "\n",
        "# Save the workbook\n",
        "wb.save(file_path_export)"
      ]
    }
  ],
  "metadata": {
    "colab": {
      "include_colab_link": true,
      "provenance": [],
      "toc_visible": true
    },
    "kernelspec": {
      "display_name": ".venv",
      "language": "python",
      "name": "python3"
    },
    "language_info": {
      "codemirror_mode": {
        "name": "ipython",
        "version": 3
      },
      "file_extension": ".py",
      "mimetype": "text/x-python",
      "name": "python",
      "nbconvert_exporter": "python",
      "pygments_lexer": "ipython3",
      "version": "3.12.2"
    }
  },
  "nbformat": 4,
  "nbformat_minor": 0
}
