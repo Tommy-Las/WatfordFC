{
  "cells": [
    {
      "cell_type": "markdown",
      "metadata": {
        "colab_type": "text",
        "id": "view-in-github"
      },
      "source": [
        "<a href=\"https://colab.research.google.com/github/Tommy-Las/WatfordFC/blob/main/ML_Model.ipynb\" target=\"_parent\"><img src=\"https://colab.research.google.com/assets/colab-badge.svg\" alt=\"Open In Colab\"/></a>"
      ]
    },
    {
      "cell_type": "markdown",
      "metadata": {
        "id": "1nMRIiAoZqf9"
      },
      "source": [
        "# Import packages and data"
      ]
    },
    {
      "cell_type": "code",
      "execution_count": 1,
      "metadata": {
        "id": "D4UOjXNAuIf8"
      },
      "outputs": [],
      "source": [
        "import pandas as pd\n",
        "pd.set_option('display.max_rows', None)\n",
        "import numpy as np\n",
        "from sklearn.preprocessing import MinMaxScaler, StandardScaler\n",
        "from sklearn.decomposition import PCA\n",
        "from imblearn.over_sampling import SMOTE\n",
        "from sklearn.model_selection import train_test_split, GridSearchCV, StratifiedKFold\n",
        "from xgboost import XGBClassifier\n",
        "from sklearn.feature_selection import VarianceThreshold\n",
        "from sklearn.pipeline import Pipeline\n",
        "from sklearn.feature_selection import RFE, RFECV\n",
        "from sklearn.metrics import classification_report, confusion_matrix, roc_auc_score, make_scorer\n",
        "from openpyxl import Workbook\n",
        "from openpyxl.styles import PatternFill\n",
        "from openpyxl.utils.dataframe import dataframe_to_rows\n",
        "from collections import defaultdict\n",
        "import seaborn as sns\n",
        "from statsmodels.stats.outliers_influence import variance_inflation_factor\n",
        "from statsmodels.tools.tools import add_constant\n",
        "from sklearn.metrics import accuracy_score, precision_score, recall_score, f1_score, confusion_matrix, classification_report, roc_curve, auc\n",
        "import matplotlib.pyplot as plt\n",
        "from sklearn.metrics import precision_recall_curve\n",
        "from sklearn.svm import SVC\n",
        "from imblearn.combine import SMOTEENN\n",
        "from sklearn.linear_model import LogisticRegression"
      ]
    },
    {
      "cell_type": "code",
      "execution_count": 2,
      "metadata": {
        "colab": {
          "base_uri": "https://localhost:8080/"
        },
        "id": "Kvg2DPu-gY_B",
        "outputId": "ed38846f-9c94-409f-cf0e-7ba5bbf637a5"
      },
      "outputs": [
        {
          "ename": "ModuleNotFoundError",
          "evalue": "No module named 'google.colab'",
          "output_type": "error",
          "traceback": [
            "\u001b[0;31m---------------------------------------------------------------------------\u001b[0m",
            "\u001b[0;31mModuleNotFoundError\u001b[0m                       Traceback (most recent call last)",
            "Cell \u001b[0;32mIn[2], line 1\u001b[0m\n\u001b[0;32m----> 1\u001b[0m \u001b[38;5;28;01mfrom\u001b[39;00m\u001b[38;5;250m \u001b[39m\u001b[38;5;21;01mgoogle\u001b[39;00m\u001b[38;5;21;01m.\u001b[39;00m\u001b[38;5;21;01mcolab\u001b[39;00m\u001b[38;5;250m \u001b[39m\u001b[38;5;28;01mimport\u001b[39;00m drive\n\u001b[1;32m      2\u001b[0m drive\u001b[38;5;241m.\u001b[39mmount(\u001b[38;5;124m'\u001b[39m\u001b[38;5;124m/content/drive\u001b[39m\u001b[38;5;124m'\u001b[39m)\n",
            "\u001b[0;31mModuleNotFoundError\u001b[0m: No module named 'google.colab'"
          ]
        }
      ],
      "source": [
        "from google.colab import drive\n",
        "drive.mount('/content/drive')"
      ]
    },
    {
      "cell_type": "code",
      "execution_count": 2,
      "metadata": {
        "colab": {
          "base_uri": "https://localhost:8080/"
        },
        "id": "xHrUpZiTuE9b",
        "outputId": "910e01eb-414f-48b6-fc46-6ad5202a4d32"
      },
      "outputs": [
        {
          "data": {
            "text/html": [
              "<div>\n",
              "<style scoped>\n",
              "    .dataframe tbody tr th:only-of-type {\n",
              "        vertical-align: middle;\n",
              "    }\n",
              "\n",
              "    .dataframe tbody tr th {\n",
              "        vertical-align: top;\n",
              "    }\n",
              "\n",
              "    .dataframe thead th {\n",
              "        text-align: right;\n",
              "    }\n",
              "</style>\n",
              "<table border=\"1\" class=\"dataframe\">\n",
              "  <thead>\n",
              "    <tr style=\"text-align: right;\">\n",
              "      <th></th>\n",
              "      <th>DATE</th>\n",
              "      <th>Microcycle</th>\n",
              "      <th>Injury</th>\n",
              "      <th>season</th>\n",
              "      <th>preseason-season</th>\n",
              "      <th>TD</th>\n",
              "      <th>&gt;19.8</th>\n",
              "      <th>&gt;25</th>\n",
              "      <th>ACC</th>\n",
              "      <th>DEC</th>\n",
              "      <th>...</th>\n",
              "      <th>&gt;25-21</th>\n",
              "      <th>ACC-21</th>\n",
              "      <th>DEC-21</th>\n",
              "      <th>Sprints-21</th>\n",
              "      <th>Mins-21</th>\n",
              "      <th>Position_CENTREBACK</th>\n",
              "      <th>Position_CENTREMIDFIELDER</th>\n",
              "      <th>Position_FULLBACK</th>\n",
              "      <th>Position_STRIKER</th>\n",
              "      <th>Position_WINGER</th>\n",
              "    </tr>\n",
              "  </thead>\n",
              "  <tbody>\n",
              "    <tr>\n",
              "      <th>0</th>\n",
              "      <td>2021-08-11</td>\n",
              "      <td>M-3</td>\n",
              "      <td>0</td>\n",
              "      <td>2021-2022</td>\n",
              "      <td>SEASON</td>\n",
              "      <td>7423.0</td>\n",
              "      <td>426.0</td>\n",
              "      <td>20</td>\n",
              "      <td>52.0</td>\n",
              "      <td>38.0</td>\n",
              "      <td>...</td>\n",
              "      <td>34</td>\n",
              "      <td>63.0</td>\n",
              "      <td>36.0</td>\n",
              "      <td>19</td>\n",
              "      <td>80.35</td>\n",
              "      <td>0</td>\n",
              "      <td>1</td>\n",
              "      <td>0</td>\n",
              "      <td>0</td>\n",
              "      <td>0</td>\n",
              "    </tr>\n",
              "    <tr>\n",
              "      <th>1</th>\n",
              "      <td>2021-08-12</td>\n",
              "      <td>M-2</td>\n",
              "      <td>0</td>\n",
              "      <td>2021-2022</td>\n",
              "      <td>SEASON</td>\n",
              "      <td>1268.0</td>\n",
              "      <td>0.0</td>\n",
              "      <td>0</td>\n",
              "      <td>11.0</td>\n",
              "      <td>5.0</td>\n",
              "      <td>...</td>\n",
              "      <td>54</td>\n",
              "      <td>115.0</td>\n",
              "      <td>74.0</td>\n",
              "      <td>43</td>\n",
              "      <td>171.20</td>\n",
              "      <td>0</td>\n",
              "      <td>1</td>\n",
              "      <td>0</td>\n",
              "      <td>0</td>\n",
              "      <td>0</td>\n",
              "    </tr>\n",
              "    <tr>\n",
              "      <th>2</th>\n",
              "      <td>2021-08-13</td>\n",
              "      <td>M-1</td>\n",
              "      <td>0</td>\n",
              "      <td>2021-2022</td>\n",
              "      <td>SEASON</td>\n",
              "      <td>4135.0</td>\n",
              "      <td>112.0</td>\n",
              "      <td>2</td>\n",
              "      <td>47.0</td>\n",
              "      <td>20.0</td>\n",
              "      <td>...</td>\n",
              "      <td>54</td>\n",
              "      <td>126.0</td>\n",
              "      <td>79.0</td>\n",
              "      <td>43</td>\n",
              "      <td>214.78</td>\n",
              "      <td>0</td>\n",
              "      <td>1</td>\n",
              "      <td>0</td>\n",
              "      <td>0</td>\n",
              "      <td>0</td>\n",
              "    </tr>\n",
              "    <tr>\n",
              "      <th>3</th>\n",
              "      <td>2021-08-15</td>\n",
              "      <td>M+1</td>\n",
              "      <td>0</td>\n",
              "      <td>2021-2022</td>\n",
              "      <td>SEASON</td>\n",
              "      <td>6379.0</td>\n",
              "      <td>86.0</td>\n",
              "      <td>0</td>\n",
              "      <td>49.0</td>\n",
              "      <td>48.0</td>\n",
              "      <td>...</td>\n",
              "      <td>56</td>\n",
              "      <td>173.0</td>\n",
              "      <td>99.0</td>\n",
              "      <td>54</td>\n",
              "      <td>273.13</td>\n",
              "      <td>0</td>\n",
              "      <td>1</td>\n",
              "      <td>0</td>\n",
              "      <td>0</td>\n",
              "      <td>0</td>\n",
              "    </tr>\n",
              "    <tr>\n",
              "      <th>4</th>\n",
              "      <td>2021-08-17</td>\n",
              "      <td>M-4</td>\n",
              "      <td>0</td>\n",
              "      <td>2021-2022</td>\n",
              "      <td>SEASON</td>\n",
              "      <td>6287.0</td>\n",
              "      <td>209.0</td>\n",
              "      <td>9</td>\n",
              "      <td>62.0</td>\n",
              "      <td>44.0</td>\n",
              "      <td>...</td>\n",
              "      <td>56</td>\n",
              "      <td>222.0</td>\n",
              "      <td>147.0</td>\n",
              "      <td>67</td>\n",
              "      <td>352.61</td>\n",
              "      <td>0</td>\n",
              "      <td>1</td>\n",
              "      <td>0</td>\n",
              "      <td>0</td>\n",
              "      <td>0</td>\n",
              "    </tr>\n",
              "  </tbody>\n",
              "</table>\n",
              "<p>5 rows × 44 columns</p>\n",
              "</div>"
            ],
            "text/plain": [
              "        DATE Microcycle  Injury     season preseason-season      TD  >19.8  \\\n",
              "0 2021-08-11        M-3       0  2021-2022           SEASON  7423.0  426.0   \n",
              "1 2021-08-12        M-2       0  2021-2022           SEASON  1268.0    0.0   \n",
              "2 2021-08-13        M-1       0  2021-2022           SEASON  4135.0  112.0   \n",
              "3 2021-08-15        M+1       0  2021-2022           SEASON  6379.0   86.0   \n",
              "4 2021-08-17        M-4       0  2021-2022           SEASON  6287.0  209.0   \n",
              "\n",
              "   >25   ACC   DEC  ...  >25-21  ACC-21  DEC-21  Sprints-21  Mins-21  \\\n",
              "0   20  52.0  38.0  ...      34    63.0    36.0          19    80.35   \n",
              "1    0  11.0   5.0  ...      54   115.0    74.0          43   171.20   \n",
              "2    2  47.0  20.0  ...      54   126.0    79.0          43   214.78   \n",
              "3    0  49.0  48.0  ...      56   173.0    99.0          54   273.13   \n",
              "4    9  62.0  44.0  ...      56   222.0   147.0          67   352.61   \n",
              "\n",
              "   Position_CENTREBACK  Position_CENTREMIDFIELDER  Position_FULLBACK  \\\n",
              "0                    0                          1                  0   \n",
              "1                    0                          1                  0   \n",
              "2                    0                          1                  0   \n",
              "3                    0                          1                  0   \n",
              "4                    0                          1                  0   \n",
              "\n",
              "   Position_STRIKER  Position_WINGER  \n",
              "0                 0                0  \n",
              "1                 0                0  \n",
              "2                 0                0  \n",
              "3                 0                0  \n",
              "4                 0                0  \n",
              "\n",
              "[5 rows x 44 columns]"
            ]
          },
          "execution_count": 2,
          "metadata": {},
          "output_type": "execute_result"
        }
      ],
      "source": [
        "#file_path = '/content/drive/MyDrive/WATFORD FC/Datos GPS/datos_finales_tommy.xlsx'\n",
        "#file_path = '/content/drive/MyDrive/WATFORD FC/Datos GPS/datos_finales_tommy2.xlsx'\n",
        "#file_path = 'datos_finales_tommy.xlsx'\n",
        "#file_path = 'data/cleaned_data.xlsx'\n",
        "file_path = 'data/cleaned_data_no_injured.xlsx'\n",
        "# Load the CSV into a DataFrame\n",
        "df = pd.read_excel(file_path)\n",
        "\n",
        "# Display the DataFrame\n",
        "df.head()"
      ]
    },
    {
      "cell_type": "markdown",
      "metadata": {
        "id": "Ps-0KbwOZ1Jn"
      },
      "source": [
        "Chequear desbalanceo de clases"
      ]
    },
    {
      "cell_type": "code",
      "execution_count": 3,
      "metadata": {
        "colab": {
          "base_uri": "https://localhost:8080/"
        },
        "id": "gno8UNio3QDO",
        "outputId": "510d951a-1ddf-4590-fbfb-341a5fd62b6a"
      },
      "outputs": [
        {
          "name": "stdout",
          "output_type": "stream",
          "text": [
            "No Lesión: 4663\n",
            "Lesión: 37\n",
            "Porcentaje de lesionados en el dataset: 0.79%\n"
          ]
        }
      ],
      "source": [
        "print(\"No Lesión: \" + str(df[df[\"Injury\"] == 0].shape[0]))\n",
        "print(\"Lesión: \" + str(df[df[\"Injury\"] == 1].shape[0]))\n",
        "print(f\"Porcentaje de lesionados en el dataset: {((df[df['Injury'] == 1].shape[0] / df.shape[0]) * 100):.2f}%\")"
      ]
    },
    {
      "cell_type": "markdown",
      "metadata": {},
      "source": [
        "# Initialize metrics"
      ]
    },
    {
      "cell_type": "code",
      "execution_count": 9,
      "metadata": {},
      "outputs": [],
      "source": [
        "metrics = ['TD', '>19.8',\n",
        "       '>25', 'ACC', 'DEC', 'Sprints']"
      ]
    },
    {
      "cell_type": "markdown",
      "metadata": {
        "id": "l9nvJxT9ahoQ"
      },
      "source": [
        "# Correlation of variables"
      ]
    },
    {
      "cell_type": "code",
      "execution_count": 10,
      "metadata": {
        "colab": {
          "base_uri": "https://localhost:8080/",
          "height": 220
        },
        "id": "q8g3wqWlZe-v",
        "outputId": "b296c484-784e-4fd0-da67-b44a9e3ba72c"
      },
      "outputs": [
        {
          "data": {
            "image/png": "[encoded data removed]",
            "text/plain": [
              "<Figure size 1800x900 with 2 Axes>"
            ]
          },
          "metadata": {},
          "output_type": "display_data"
        }
      ],
      "source": [
        "# Calcular la matriz de correlación\n",
        "correlation_matrix = df[metrics].corr()\n",
        "\n",
        "# Mostrar la matriz de correlación\n",
        "plt.figure(figsize=(18, 9))\n",
        "sns.heatmap(correlation_matrix, annot=True, cmap='coolwarm', center=0)\n",
        "plt.title(\"Matriz de Correlación\")\n",
        "plt.show()\n"
      ]
    },
    {
      "cell_type": "code",
      "execution_count": 11,
      "metadata": {
        "colab": {
          "base_uri": "https://localhost:8080/",
          "height": 220
        },
        "id": "d_wjMfu0a_n7",
        "outputId": "3599e950-e092-432a-b1d9-a1e734ab2e81"
      },
      "outputs": [
        {
          "name": "stdout",
          "output_type": "stream",
          "text": [
            "  Variable       VIF\n",
            "0    const  7.536370\n",
            "1       TD  4.628723\n",
            "2    >19.8  3.719300\n",
            "3      >25  2.396270\n",
            "4      ACC  3.594287\n",
            "5      DEC  5.476943\n",
            "6  Sprints  4.365045\n"
          ]
        }
      ],
      "source": [
        "df_with_constant = add_constant(df[metrics])\n",
        "\n",
        "# Calcular el VIF para cada columna\n",
        "vif_data = pd.DataFrame()\n",
        "vif_data[\"Variable\"] = df_with_constant.columns\n",
        "vif_data[\"VIF\"] = [variance_inflation_factor(df_with_constant.values, i)\n",
        "                   for i in range(df_with_constant.shape[1])]\n",
        "\n",
        "# Mostrar el VIF\n",
        "print(vif_data)"
      ]
    },
    {
      "cell_type": "markdown",
      "metadata": {},
      "source": [
        "## Filtrar datos por fecha o temporada\n"
      ]
    },
    {
      "cell_type": "code",
      "execution_count": 4,
      "metadata": {},
      "outputs": [
        {
          "data": {
            "text/plain": [
              "array(['2021-2022', '2022-2023'], dtype=object)"
            ]
          },
          "execution_count": 4,
          "metadata": {},
          "output_type": "execute_result"
        }
      ],
      "source": [
        "df.season.unique()"
      ]
    },
    {
      "cell_type": "code",
      "execution_count": 19,
      "metadata": {},
      "outputs": [],
      "source": [
        "# df_filtered = df[df.season == '2022-2023'].reset_index(drop=True)\n",
        "df_filtered = df.copy()"
      ]
    },
    {
      "cell_type": "code",
      "execution_count": 20,
      "metadata": {},
      "outputs": [],
      "source": [
        "df_filtered = df_filtered[df_filtered['preseason-season'] != 'PRESEASON']\n",
        "\n",
        "df_filtered.reset_index(drop=True, inplace=True)"
      ]
    },
    {
      "cell_type": "markdown",
      "metadata": {
        "id": "45bL6tM2e82Q"
      },
      "source": [
        "# ML Modelos"
      ]
    },
    {
      "cell_type": "code",
      "execution_count": 21,
      "metadata": {},
      "outputs": [
        {
          "data": {
            "text/html": [
              "<div>\n",
              "<style scoped>\n",
              "    .dataframe tbody tr th:only-of-type {\n",
              "        vertical-align: middle;\n",
              "    }\n",
              "\n",
              "    .dataframe tbody tr th {\n",
              "        vertical-align: top;\n",
              "    }\n",
              "\n",
              "    .dataframe thead th {\n",
              "        text-align: right;\n",
              "    }\n",
              "</style>\n",
              "<table border=\"1\" class=\"dataframe\">\n",
              "  <thead>\n",
              "    <tr style=\"text-align: right;\">\n",
              "      <th></th>\n",
              "      <th>DATE</th>\n",
              "      <th>Microcycle</th>\n",
              "      <th>Injury</th>\n",
              "      <th>season</th>\n",
              "      <th>preseason-season</th>\n",
              "      <th>TD</th>\n",
              "      <th>&gt;19.8</th>\n",
              "      <th>&gt;25</th>\n",
              "      <th>ACC</th>\n",
              "      <th>DEC</th>\n",
              "      <th>...</th>\n",
              "      <th>&gt;25-21</th>\n",
              "      <th>ACC-21</th>\n",
              "      <th>DEC-21</th>\n",
              "      <th>Sprints-21</th>\n",
              "      <th>Mins-21</th>\n",
              "      <th>Position_CENTREBACK</th>\n",
              "      <th>Position_CENTREMIDFIELDER</th>\n",
              "      <th>Position_FULLBACK</th>\n",
              "      <th>Position_STRIKER</th>\n",
              "      <th>Position_WINGER</th>\n",
              "    </tr>\n",
              "  </thead>\n",
              "  <tbody>\n",
              "    <tr>\n",
              "      <th>0</th>\n",
              "      <td>2021-08-11</td>\n",
              "      <td>M-3</td>\n",
              "      <td>0</td>\n",
              "      <td>2021-2022</td>\n",
              "      <td>SEASON</td>\n",
              "      <td>7423.0</td>\n",
              "      <td>426.0</td>\n",
              "      <td>20</td>\n",
              "      <td>52.0</td>\n",
              "      <td>38.0</td>\n",
              "      <td>...</td>\n",
              "      <td>34</td>\n",
              "      <td>63.0</td>\n",
              "      <td>36.0</td>\n",
              "      <td>19</td>\n",
              "      <td>80.35</td>\n",
              "      <td>0</td>\n",
              "      <td>1</td>\n",
              "      <td>0</td>\n",
              "      <td>0</td>\n",
              "      <td>0</td>\n",
              "    </tr>\n",
              "    <tr>\n",
              "      <th>1</th>\n",
              "      <td>2021-08-12</td>\n",
              "      <td>M-2</td>\n",
              "      <td>0</td>\n",
              "      <td>2021-2022</td>\n",
              "      <td>SEASON</td>\n",
              "      <td>1268.0</td>\n",
              "      <td>0.0</td>\n",
              "      <td>0</td>\n",
              "      <td>11.0</td>\n",
              "      <td>5.0</td>\n",
              "      <td>...</td>\n",
              "      <td>54</td>\n",
              "      <td>115.0</td>\n",
              "      <td>74.0</td>\n",
              "      <td>43</td>\n",
              "      <td>171.20</td>\n",
              "      <td>0</td>\n",
              "      <td>1</td>\n",
              "      <td>0</td>\n",
              "      <td>0</td>\n",
              "      <td>0</td>\n",
              "    </tr>\n",
              "    <tr>\n",
              "      <th>2</th>\n",
              "      <td>2021-08-13</td>\n",
              "      <td>M-1</td>\n",
              "      <td>0</td>\n",
              "      <td>2021-2022</td>\n",
              "      <td>SEASON</td>\n",
              "      <td>4135.0</td>\n",
              "      <td>112.0</td>\n",
              "      <td>2</td>\n",
              "      <td>47.0</td>\n",
              "      <td>20.0</td>\n",
              "      <td>...</td>\n",
              "      <td>54</td>\n",
              "      <td>126.0</td>\n",
              "      <td>79.0</td>\n",
              "      <td>43</td>\n",
              "      <td>214.78</td>\n",
              "      <td>0</td>\n",
              "      <td>1</td>\n",
              "      <td>0</td>\n",
              "      <td>0</td>\n",
              "      <td>0</td>\n",
              "    </tr>\n",
              "    <tr>\n",
              "      <th>3</th>\n",
              "      <td>2021-08-15</td>\n",
              "      <td>M+1</td>\n",
              "      <td>0</td>\n",
              "      <td>2021-2022</td>\n",
              "      <td>SEASON</td>\n",
              "      <td>6379.0</td>\n",
              "      <td>86.0</td>\n",
              "      <td>0</td>\n",
              "      <td>49.0</td>\n",
              "      <td>48.0</td>\n",
              "      <td>...</td>\n",
              "      <td>56</td>\n",
              "      <td>173.0</td>\n",
              "      <td>99.0</td>\n",
              "      <td>54</td>\n",
              "      <td>273.13</td>\n",
              "      <td>0</td>\n",
              "      <td>1</td>\n",
              "      <td>0</td>\n",
              "      <td>0</td>\n",
              "      <td>0</td>\n",
              "    </tr>\n",
              "    <tr>\n",
              "      <th>4</th>\n",
              "      <td>2021-08-17</td>\n",
              "      <td>M-4</td>\n",
              "      <td>0</td>\n",
              "      <td>2021-2022</td>\n",
              "      <td>SEASON</td>\n",
              "      <td>6287.0</td>\n",
              "      <td>209.0</td>\n",
              "      <td>9</td>\n",
              "      <td>62.0</td>\n",
              "      <td>44.0</td>\n",
              "      <td>...</td>\n",
              "      <td>56</td>\n",
              "      <td>222.0</td>\n",
              "      <td>147.0</td>\n",
              "      <td>67</td>\n",
              "      <td>352.61</td>\n",
              "      <td>0</td>\n",
              "      <td>1</td>\n",
              "      <td>0</td>\n",
              "      <td>0</td>\n",
              "      <td>0</td>\n",
              "    </tr>\n",
              "  </tbody>\n",
              "</table>\n",
              "<p>5 rows × 44 columns</p>\n",
              "</div>"
            ],
            "text/plain": [
              "        DATE Microcycle  Injury     season preseason-season      TD  >19.8  \\\n",
              "0 2021-08-11        M-3       0  2021-2022           SEASON  7423.0  426.0   \n",
              "1 2021-08-12        M-2       0  2021-2022           SEASON  1268.0    0.0   \n",
              "2 2021-08-13        M-1       0  2021-2022           SEASON  4135.0  112.0   \n",
              "3 2021-08-15        M+1       0  2021-2022           SEASON  6379.0   86.0   \n",
              "4 2021-08-17        M-4       0  2021-2022           SEASON  6287.0  209.0   \n",
              "\n",
              "   >25   ACC   DEC  ...  >25-21  ACC-21  DEC-21  Sprints-21  Mins-21  \\\n",
              "0   20  52.0  38.0  ...      34    63.0    36.0          19    80.35   \n",
              "1    0  11.0   5.0  ...      54   115.0    74.0          43   171.20   \n",
              "2    2  47.0  20.0  ...      54   126.0    79.0          43   214.78   \n",
              "3    0  49.0  48.0  ...      56   173.0    99.0          54   273.13   \n",
              "4    9  62.0  44.0  ...      56   222.0   147.0          67   352.61   \n",
              "\n",
              "   Position_CENTREBACK  Position_CENTREMIDFIELDER  Position_FULLBACK  \\\n",
              "0                    0                          1                  0   \n",
              "1                    0                          1                  0   \n",
              "2                    0                          1                  0   \n",
              "3                    0                          1                  0   \n",
              "4                    0                          1                  0   \n",
              "\n",
              "   Position_STRIKER  Position_WINGER  \n",
              "0                 0                0  \n",
              "1                 0                0  \n",
              "2                 0                0  \n",
              "3                 0                0  \n",
              "4                 0                0  \n",
              "\n",
              "[5 rows x 44 columns]"
            ]
          },
          "execution_count": 21,
          "metadata": {},
          "output_type": "execute_result"
        }
      ],
      "source": [
        "df_filtered.head()"
      ]
    },
    {
      "cell_type": "markdown",
      "metadata": {
        "id": "WEhGu_lM8lq5"
      },
      "source": [
        "## Separate data into X, y and player_ids"
      ]
    },
    {
      "cell_type": "code",
      "execution_count": 8,
      "metadata": {},
      "outputs": [
        {
          "data": {
            "text/plain": [
              "Index(['DATE', 'Microcycle', 'Injury', 'season', 'preseason-season', 'TD',\n",
              "       '>19.8', '>25', 'ACC', 'DEC', 'PlayerID', 'Max Speed', 'Sprints',\n",
              "       'Mins', 'Max Speed Season', 'Avg Speed Season', '% Max Speed',\n",
              "       'Speed Diff Max Avg', 'TD-3', '>19.8-3', '>25-3', 'ACC-3', 'DEC-3',\n",
              "       'Sprints-3', 'Mins-3', 'TD-7', '>19.8-7', '>25-7', 'ACC-7', 'DEC-7',\n",
              "       'Sprints-7', 'Mins-7', 'TD-21', '>19.8-21', '>25-21', 'ACC-21',\n",
              "       'DEC-21', 'Sprints-21', 'Mins-21', 'Position_CENTREBACK',\n",
              "       'Position_CENTREMIDFIELDER', 'Position_FULLBACK', 'Position_STRIKER',\n",
              "       'Position_WINGER'],\n",
              "      dtype='object')"
            ]
          },
          "execution_count": 8,
          "metadata": {},
          "output_type": "execute_result"
        }
      ],
      "source": [
        "df_filtered.columns"
      ]
    },
    {
      "cell_type": "code",
      "execution_count": 22,
      "metadata": {
        "colab": {
          "base_uri": "https://localhost:8080/"
        },
        "id": "l5Iy0GLoaD97",
        "outputId": "93bc36c4-2ebb-4ce9-c182-3eedb939aa43"
      },
      "outputs": [
        {
          "name": "stdout",
          "output_type": "stream",
          "text": [
            "18\n"
          ]
        }
      ],
      "source": [
        "# metrics = ['TD-3', '>19.8-3', '>25-3', 'ACC-3', 'DEC-3',\n",
        "#        'Sprints-3', 'Mins-3', 'TD-7', '>19.8-7', '>25-7', 'ACC-7', 'DEC-7',\n",
        "#        'Sprints-7', 'Mins-7', 'TD-21', '>19.8-21', '>25-21', 'ACC-21',\n",
        "#        'DEC-21', 'Sprints-21', 'Mins-21', 'Position_CENTREBACK',\n",
        "#        'Position_CENTREMIDFIELDER', 'Position_FULLBACK', 'Position_STRIKER',\n",
        "#        'Position_WINGER']\n",
        "\n",
        "metrics_train = ['TD-3', '>19.8-3', '>25-3', 'ACC-3', 'DEC-3',\n",
        "       'Sprints-3', 'TD-7', '>19.8-7', '>25-7', 'ACC-7', 'DEC-7',\n",
        "       'Sprints-7', 'TD-21', '>19.8-21', '>25-21', 'ACC-21',\n",
        "       'DEC-21', 'Sprints-21']\n",
        "\n",
        "# metrics_train = ['TD-3', '>19.8-3', '>25-3', 'ACC-3', 'DEC-3',\n",
        "#        'Sprints-3', 'TD-7', '>19.8-7', '>25-7', 'ACC-7', 'DEC-7',\n",
        "#        'Sprints-7', 'TD-21', '>19.8-21', '>25-21', 'ACC-21',\n",
        "#        'DEC-21', 'Sprints-21']\n",
        "\n",
        "# metrics_train = ['TD-3', '>19.8-3', '>25-3', 'ACC-3', 'DEC-3',\n",
        "#        'TD-7', '>19.8-7', '>25-7', 'ACC-7', 'DEC-7',\n",
        "#        'TD-21', '>19.8-21', '>25-21', 'ACC-21',\n",
        "#        'DEC-21']\n",
        "\n",
        "print(len(metrics_train))"
      ]
    },
    {
      "cell_type": "code",
      "execution_count": 23,
      "metadata": {},
      "outputs": [],
      "source": [
        "metrics_df = ['DATE', 'PlayerID', 'Injury', 'TD-3', '>19.8-3', '>25-3', 'ACC-3', 'DEC-3',\n",
        "       'Sprints-3', 'TD-7', '>19.8-7', '>25-7', 'ACC-7', 'DEC-7',\n",
        "       'Sprints-7', 'TD-21', '>19.8-21', '>25-21', 'ACC-21',\n",
        "       'DEC-21', 'Sprints-21']\n",
        "\n",
        "df_sorted = df_filtered[metrics_df].sort_values(by='DATE', ascending=False)"
      ]
    },
    {
      "cell_type": "code",
      "execution_count": 12,
      "metadata": {},
      "outputs": [],
      "source": [
        "# Define the cutoff date\n",
        "cutoff_date = pd.Timestamp('2023-02-08')\n",
        "\n",
        "# Split into training and testing sets\n",
        "train_df = df_sorted[df_sorted['DATE'] < cutoff_date]\n",
        "test_df = df_sorted[df_sorted['DATE'] >= cutoff_date]\n",
        "\n",
        "# Reset index for training and testing sets\n",
        "X_train = train_df[metrics_train].reset_index(drop=True)\n",
        "y_train = train_df['Injury'].reset_index(drop=True)\n",
        "X_test = test_df[metrics_train].reset_index(drop=True)\n",
        "y_test = test_df['Injury'].reset_index(drop=True)\n",
        "extra_cols_test = test_df[['DATE', 'PlayerID']].reset_index(drop=True)"
      ]
    },
    {
      "cell_type": "code",
      "execution_count": 24,
      "metadata": {
        "id": "YYtV9mf7im_5"
      },
      "outputs": [],
      "source": [
        "extra_cols = df_sorted[['DATE', 'PlayerID']]\n",
        "X = df_sorted[metrics_train]\n",
        "y = df_sorted['Injury']"
      ]
    },
    {
      "cell_type": "markdown",
      "metadata": {
        "id": "1nrspapd5Bo5"
      },
      "source": [
        "## Split data"
      ]
    },
    {
      "cell_type": "code",
      "execution_count": 25,
      "metadata": {
        "colab": {
          "base_uri": "https://localhost:8080/"
        },
        "id": "ZmyBmKGe5Ayp",
        "outputId": "94156fbb-192e-4d32-eecc-bda110590a9d"
      },
      "outputs": [],
      "source": [
        "# Split the data into training and test sets\n",
        "# X_train, X_test, y_train, y_test, player_ids_train, player_ids_test = train_test_split(X, y, player_ids, test_size=0.3, random_state=42, stratify=y)\n",
        "X_train, X_test, y_train, y_test, extra_cols_train, extra_cols_test = train_test_split(X, y, extra_cols, test_size=0.3, random_state=42)"
      ]
    },
    {
      "cell_type": "markdown",
      "metadata": {},
      "source": [
        "## Smote"
      ]
    },
    {
      "cell_type": "code",
      "execution_count": 15,
      "metadata": {},
      "outputs": [
        {
          "name": "stdout",
          "output_type": "stream",
          "text": [
            "Class distribution after SMOTE:\n",
            "Injury\n",
            "0    1708\n",
            "1    1708\n",
            "Name: count, dtype: int64\n",
            "Injury\n",
            "0    1708\n",
            "1    1708\n",
            "Name: count, dtype: int64\n"
          ]
        }
      ],
      "source": [
        "# Initialize SMOTE\n",
        "smote = SMOTE(random_state=42)\n",
        "# Apply SMOTE to training data\n",
        "X_train , y_train = smote.fit_resample(X_train, y_train)\n",
        "\n",
        "# smote_enn = SMOTEENN(random_state=42)\n",
        "# X_train, y_train = smote_enn.fit_resample(X_train, y_train)\n",
        "\n",
        "print(\"Class distribution after SMOTE:\")\n",
        "print(pd.Series(y_train).value_counts())\n",
        "print(pd.Series(y_train).value_counts())"
      ]
    },
    {
      "cell_type": "markdown",
      "metadata": {},
      "source": [
        "## Logistic Regression"
      ]
    },
    {
      "cell_type": "code",
      "execution_count": 31,
      "metadata": {},
      "outputs": [
        {
          "name": "stdout",
          "output_type": "stream",
          "text": [
            "Training Set Evaluation:\n",
            "Accuracy: 0.6631033365727244\n",
            "Confusion Matrix:\n",
            " [[2029 1033]\n",
            " [   7   18]]\n",
            "Classification Report:\n",
            "               precision    recall  f1-score   support\n",
            "\n",
            "           0       1.00      0.66      0.80      3062\n",
            "           1       0.02      0.72      0.03        25\n",
            "\n",
            "    accuracy                           0.66      3087\n",
            "   macro avg       0.51      0.69      0.41      3087\n",
            "weighted avg       0.99      0.66      0.79      3087\n",
            "\n",
            "\n",
            "Test Set Evaluation:\n",
            "Accuracy: 0.6586102719033232\n",
            "Confusion Matrix:\n",
            " [[865 448]\n",
            " [  4   7]]\n",
            "Classification Report:\n",
            "               precision    recall  f1-score   support\n",
            "\n",
            "           0       1.00      0.66      0.79      1313\n",
            "           1       0.02      0.64      0.03        11\n",
            "\n",
            "    accuracy                           0.66      1324\n",
            "   macro avg       0.51      0.65      0.41      1324\n",
            "weighted avg       0.99      0.66      0.79      1324\n",
            "\n"
          ]
        }
      ],
      "source": [
        "# Create the model\n",
        "logistic_model = LogisticRegression(random_state=42, max_iter=1000, class_weight='balanced')\n",
        "\n",
        "scaler = MinMaxScaler()\n",
        "X_train_scaled = scaler.fit_transform(X_train)\n",
        "X_test_scaled = scaler.transform(X_test)\n",
        "\n",
        "# Train the model\n",
        "logistic_model.fit(X_train_scaled, y_train)\n",
        "\n",
        "# Predictions\n",
        "y_train_pred = logistic_model.predict(X_train_scaled)\n",
        "y_test_pred = logistic_model.predict(X_test_scaled)\n",
        "\n",
        "# Probabilities\n",
        "y_test_prob = logistic_model.predict_proba(X_test_scaled)[:, 1]  # Probabilities for the positive class\n",
        "\n",
        "# Training evaluation\n",
        "print(\"Training Set Evaluation:\")\n",
        "print(\"Accuracy:\", accuracy_score(y_train, y_train_pred))\n",
        "print(\"Confusion Matrix:\\n\", confusion_matrix(y_train, y_train_pred))\n",
        "print(\"Classification Report:\\n\", classification_report(y_train, y_train_pred))\n",
        "\n",
        "# Test evaluation\n",
        "print(\"\\nTest Set Evaluation:\")\n",
        "print(\"Accuracy:\", accuracy_score(y_test, y_test_pred))\n",
        "print(\"Confusion Matrix:\\n\", confusion_matrix(y_test, y_test_pred))\n",
        "print(\"Classification Report:\\n\", classification_report(y_test, y_test_pred))"
      ]
    },
    {
      "cell_type": "code",
      "execution_count": 32,
      "metadata": {},
      "outputs": [
        {
          "name": "stdout",
          "output_type": "stream",
          "text": [
            "Number of unique thresholds: 27\n",
            "\n",
            "Optimal Threshold: 0.51\n",
            "\n",
            "Evaluation with Optimal Threshold:\n",
            "Accuracy: 0.6842900302114804\n",
            "Confusion Matrix:\n",
            " [[899 414]\n",
            " [  4   7]]\n",
            "Classification Report:\n",
            "               precision    recall  f1-score   support\n",
            "\n",
            "           0       1.00      0.68      0.81      1313\n",
            "           1       0.02      0.64      0.03        11\n",
            "\n",
            "    accuracy                           0.68      1324\n",
            "   macro avg       0.51      0.66      0.42      1324\n",
            "weighted avg       0.99      0.68      0.80      1324\n",
            "\n"
          ]
        },
        {
          "data": {
            "image/png": "[encoded data removed]",
            "text/plain": [
              "<Figure size 800x600 with 1 Axes>"
            ]
          },
          "metadata": {},
          "output_type": "display_data"
        }
      ],
      "source": [
        "# ROC curve and optimal threshold\n",
        "fpr, tpr, thresholds = roc_curve(y_test, y_test_prob)\n",
        "roc_auc = auc(fpr, tpr)\n",
        "\n",
        "# Check unique thresholds\n",
        "print(f\"Number of unique thresholds: {len(thresholds)}\")\n",
        "\n",
        "# Find the optimal threshold\n",
        "optimal_idx = (tpr - fpr).argmax()\n",
        "optimal_threshold = thresholds[optimal_idx]\n",
        "print(f\"\\nOptimal Threshold: {optimal_threshold:.2f}\")\n",
        "\n",
        "# Apply the optimal threshold\n",
        "y_test_pred_optimal = (y_test_prob >= optimal_threshold).astype(int)\n",
        "\n",
        "# Evaluate with the optimal threshold\n",
        "print(\"\\nEvaluation with Optimal Threshold:\")\n",
        "print(\"Accuracy:\", accuracy_score(y_test, y_test_pred_optimal))\n",
        "print(\"Confusion Matrix:\\n\", confusion_matrix(y_test, y_test_pred_optimal))\n",
        "print(\"Classification Report:\\n\", classification_report(y_test, y_test_pred_optimal))\n",
        "\n",
        "# Plot the ROC curve with the optimal threshold\n",
        "plt.figure(figsize=(8, 6))\n",
        "plt.plot(fpr, tpr, label=f\"ROC Curve (AUC = {roc_auc:.2f})\")\n",
        "plt.scatter(fpr[optimal_idx], tpr[optimal_idx], color=\"red\", label=f\"Optimal Threshold = {optimal_threshold:.2f}\")\n",
        "plt.plot([0, 1], [0, 1], \"k--\", label=\"Random Guess\")\n",
        "plt.xlabel(\"False Positive Rate\")\n",
        "plt.ylabel(\"True Positive Rate\")\n",
        "plt.title(\"ROC Curve with Optimal Threshold\")\n",
        "plt.legend(loc=\"lower right\")\n",
        "plt.show()"
      ]
    },
    {
      "cell_type": "code",
      "execution_count": 33,
      "metadata": {},
      "outputs": [
        {
          "data": {
            "image/png": "[encoded data removed]",
            "text/plain": [
              "<Figure size 640x480 with 1 Axes>"
            ]
          },
          "metadata": {},
          "output_type": "display_data"
        }
      ],
      "source": [
        "plt.hist(y_test_prob, bins=20, alpha=0.7)\n",
        "plt.title(\"Distribution of Predicted Probabilities\")\n",
        "plt.xlabel(\"Predicted Probability\")\n",
        "plt.ylabel(\"Frequency\")\n",
        "plt.show()"
      ]
    },
    {
      "cell_type": "code",
      "execution_count": 34,
      "metadata": {},
      "outputs": [
        {
          "name": "stdout",
          "output_type": "stream",
          "text": [
            "\n",
            "Player, Date, Score, and Actual DataFrame:\n"
          ]
        },
        {
          "data": {
            "text/html": [
              "<div>\n",
              "<style scoped>\n",
              "    .dataframe tbody tr th:only-of-type {\n",
              "        vertical-align: middle;\n",
              "    }\n",
              "\n",
              "    .dataframe tbody tr th {\n",
              "        vertical-align: top;\n",
              "    }\n",
              "\n",
              "    .dataframe thead th {\n",
              "        text-align: right;\n",
              "    }\n",
              "</style>\n",
              "<table border=\"1\" class=\"dataframe\">\n",
              "  <thead>\n",
              "    <tr style=\"text-align: right;\">\n",
              "      <th></th>\n",
              "      <th>Player</th>\n",
              "      <th>Date</th>\n",
              "      <th>Score</th>\n",
              "      <th>Actual</th>\n",
              "    </tr>\n",
              "  </thead>\n",
              "  <tbody>\n",
              "    <tr>\n",
              "      <th>0</th>\n",
              "      <td>12086</td>\n",
              "      <td>2022-07-27</td>\n",
              "      <td>0.785543</td>\n",
              "      <td>0</td>\n",
              "    </tr>\n",
              "    <tr>\n",
              "      <th>1</th>\n",
              "      <td>50832</td>\n",
              "      <td>2022-04-10</td>\n",
              "      <td>0.539836</td>\n",
              "      <td>0</td>\n",
              "    </tr>\n",
              "    <tr>\n",
              "      <th>2</th>\n",
              "      <td>10103</td>\n",
              "      <td>2021-12-08</td>\n",
              "      <td>0.138968</td>\n",
              "      <td>0</td>\n",
              "    </tr>\n",
              "    <tr>\n",
              "      <th>3</th>\n",
              "      <td>37709</td>\n",
              "      <td>2022-08-14</td>\n",
              "      <td>0.168661</td>\n",
              "      <td>0</td>\n",
              "    </tr>\n",
              "    <tr>\n",
              "      <th>4</th>\n",
              "      <td>89871</td>\n",
              "      <td>2023-04-24</td>\n",
              "      <td>0.480652</td>\n",
              "      <td>0</td>\n",
              "    </tr>\n",
              "  </tbody>\n",
              "</table>\n",
              "</div>"
            ],
            "text/plain": [
              "   Player       Date     Score  Actual\n",
              "0   12086 2022-07-27  0.785543       0\n",
              "1   50832 2022-04-10  0.539836       0\n",
              "2   10103 2021-12-08  0.138968       0\n",
              "3   37709 2022-08-14  0.168661       0\n",
              "4   89871 2023-04-24  0.480652       0"
            ]
          },
          "execution_count": 34,
          "metadata": {},
          "output_type": "execute_result"
        }
      ],
      "source": [
        "extra_cols_test.reset_index(inplace=True, drop=True)\n",
        "\n",
        "df_a = pd.DataFrame({\n",
        "    'Player': extra_cols_test['PlayerID'],\n",
        "    'Date': extra_cols_test['DATE'],\n",
        "    'Score': y_test_prob,\n",
        "    'Actual': y_test.reset_index(drop=True)\n",
        "})\n",
        "\n",
        "# Display the resulting DataFrame\n",
        "print(\"\\nPlayer, Date, Score, and Actual DataFrame:\")\n",
        "df_a.head()"
      ]
    },
    {
      "cell_type": "code",
      "execution_count": 188,
      "metadata": {},
      "outputs": [
        {
          "data": {
            "image/png": "[encoded data removed]",
            "text/plain": [
              "<Figure size 600x600 with 2 Axes>"
            ]
          },
          "metadata": {},
          "output_type": "display_data"
        }
      ],
      "source": [
        "# Confusion Matrix\n",
        "conf_matrix = confusion_matrix(y_test, y_test_pred)\n",
        "\n",
        "plt.figure(figsize=(6, 6))\n",
        "sns.heatmap(conf_matrix, annot=True, fmt=\"d\", cmap=\"Blues\", xticklabels=[\"Class 0\", \"Class 1\"], yticklabels=[\"Class 0\", \"Class 1\"])\n",
        "plt.xlabel(\"Predicted\")\n",
        "plt.ylabel(\"Actual\")\n",
        "plt.title(\"Confusion Matrix\")\n",
        "plt.show()"
      ]
    },
    {
      "cell_type": "code",
      "execution_count": 189,
      "metadata": {},
      "outputs": [
        {
          "name": "stdout",
          "output_type": "stream",
          "text": [
            "       Feature  Importance\n",
            "11   Sprints-7    5.418981\n",
            "0         TD-3    3.276942\n",
            "14      >25-21    3.128213\n",
            "13    >19.8-21    2.593718\n",
            "4        DEC-3    1.907081\n",
            "15      ACC-21    1.818959\n",
            "6         TD-7    1.269034\n",
            "9        ACC-7    0.967611\n",
            "2        >25-3    0.911069\n",
            "8        >25-7    0.373886\n",
            "12       TD-21   -0.364082\n",
            "16      DEC-21   -0.563353\n",
            "7      >19.8-7   -0.720388\n",
            "10       DEC-7   -1.566159\n",
            "3        ACC-3   -2.214967\n",
            "5    Sprints-3   -3.468224\n",
            "17  Sprints-21   -5.895910\n",
            "1      >19.8-3   -6.103637\n"
          ]
        }
      ],
      "source": [
        "# Assuming your features are in a DataFrame\n",
        "feature_importance = pd.DataFrame({\n",
        "    \"Feature\": X_train.columns,  # Replace with your feature names\n",
        "    \"Importance\": logistic_model.coef_[0]  # Coefficients from logistic regression\n",
        "})\n",
        "\n",
        "# Sort by importance\n",
        "feature_importance = feature_importance.sort_values(by=\"Importance\", ascending=False)\n",
        "\n",
        "# Display the feature importance\n",
        "print(feature_importance)"
      ]
    },
    {
      "cell_type": "code",
      "execution_count": 190,
      "metadata": {},
      "outputs": [
        {
          "name": "stdout",
          "output_type": "stream",
          "text": [
            "Selected Top 15 Features: ['Sprints-7' 'TD-3' '>25-21' '>19.8-21' 'DEC-3' 'ACC-21' 'TD-7' 'ACC-7'\n",
            " '>25-3' '>25-7' 'TD-21' 'DEC-21' '>19.8-7' 'DEC-7' 'ACC-3']\n"
          ]
        }
      ],
      "source": [
        "# Extract top features by absolute importance\n",
        "num_top_features = 15  # Adjust this to include the number of features you want\n",
        "top_features = feature_importance.iloc[:num_top_features][\"Feature\"].values\n",
        "\n",
        "print(f\"Selected Top {num_top_features} Features: {top_features}\")"
      ]
    },
    {
      "cell_type": "code",
      "execution_count": 194,
      "metadata": {},
      "outputs": [
        {
          "name": "stdout",
          "output_type": "stream",
          "text": [
            "Updated Model Evaluation:\n",
            "Accuracy: 0.6510638297872341\n",
            "Confusion Matrix:\n",
            " [[914 489]\n",
            " [  3   4]]\n",
            "Classification Report:\n",
            "               precision    recall  f1-score   support\n",
            "\n",
            "           0       1.00      0.65      0.79      1403\n",
            "           1       0.01      0.57      0.02         7\n",
            "\n",
            "    accuracy                           0.65      1410\n",
            "   macro avg       0.50      0.61      0.40      1410\n",
            "weighted avg       0.99      0.65      0.78      1410\n",
            "\n"
          ]
        }
      ],
      "source": [
        "# Filter the training and testing data for top features\n",
        "X_train_top = X_train_scaled[:, [X_train.columns.get_loc(f) for f in top_features]]\n",
        "X_test_top = X_test_scaled[:, [X_train.columns.get_loc(f) for f in top_features]]\n",
        "\n",
        "# Train logistic regression with top features\n",
        "logistic_model_top = LogisticRegression(random_state=42, max_iter=1000, class_weight='balanced')\n",
        "logistic_model_top.fit(X_train_top, y_train)\n",
        "\n",
        "# Predictions\n",
        "y_test_pred_top = logistic_model_top.predict(X_test_top)\n",
        "\n",
        "# Evaluate performance\n",
        "print(\"Updated Model Evaluation:\")\n",
        "print(\"Accuracy:\", accuracy_score(y_test, y_test_pred_top))\n",
        "print(\"Confusion Matrix:\\n\", confusion_matrix(y_test, y_test_pred_top))\n",
        "print(\"Classification Report:\\n\", classification_report(y_test, y_test_pred_top))"
      ]
    },
    {
      "cell_type": "code",
      "execution_count": 193,
      "metadata": {},
      "outputs": [
        {
          "data": {
            "image/png": "[encoded data removed]",
            "text/plain": [
              "<Figure size 800x600 with 1 Axes>"
            ]
          },
          "metadata": {},
          "output_type": "display_data"
        }
      ],
      "source": [
        "# Get probabilities for the updated model\n",
        "y_test_probs_top = logistic_model_top.predict_proba(X_test_top)[:, 1]\n",
        "\n",
        "# Calculate and plot ROC curve for the updated model\n",
        "fpr_top, tpr_top, _ = roc_curve(y_test, y_test_probs_top)\n",
        "roc_auc_top = auc(fpr_top, tpr_top)\n",
        "\n",
        "plt.figure(figsize=(8, 6))\n",
        "plt.plot(fpr_top, tpr_top, label=f\"Updated ROC Curve (AUC = {roc_auc_top:.2f})\")\n",
        "plt.plot([0, 1], [0, 1], \"k--\", label=\"Random Guess\")\n",
        "plt.xlabel(\"False Positive Rate\")\n",
        "plt.ylabel(\"True Positive Rate\")\n",
        "plt.title(\"Updated ROC Curve\")\n",
        "plt.legend(loc=\"lower right\")\n",
        "plt.show()"
      ]
    },
    {
      "cell_type": "markdown",
      "metadata": {},
      "source": [
        "## SVM"
      ]
    },
    {
      "cell_type": "code",
      "execution_count": null,
      "metadata": {},
      "outputs": [],
      "source": [
        "# Split data into train/validation and testing sets\n",
        "X_train_val, X_test, y_train_val, y_test = train_test_split(X, y, test_size=0.2, stratify=y, random_state=42)\n",
        "\n",
        "# Standardize the features\n",
        "scaler = StandardScaler()\n",
        "X_train_val_scaled = scaler.fit_transform(X_train_val)\n",
        "X_test_scaled = scaler.transform(X_test)\n",
        "\n",
        "# Initialize SMOTE\n",
        "smote = SMOTE(random_state=42)\n",
        "# Apply SMOTE to training data\n",
        "X_resampled, y_resampled = smote.fit_resample(X_train_val_scaled, y_train_val)\n",
        "\n",
        "# Define the parameter grid for hyperparameter tuning\n",
        "param_grid = {\n",
        "    'C': [0.01, 0.1, 1, 10],\n",
        "    'gamma': [0.01, 0.1, 1, 'scale', 'auto'],\n",
        "    'kernel': ['rbf', 'poly'],\n",
        "    'class_weight': ['balanced', {0: 1, 1: 10}]\n",
        "}\n",
        "\n",
        "# Initialize the SVM model\n",
        "svm_model = SVC(probability=True, random_state=42)\n",
        "\n",
        "# Grid search for hyperparameter tuning\n",
        "grid_search = GridSearchCV(estimator=svm_model, param_grid=param_grid, cv=5, scoring='roc_auc', verbose=3)\n",
        "grid_search.fit(X_resampled, y_resampled)\n",
        "\n",
        "# Output the best parameters and score\n",
        "print(\"Best Parameters:\", grid_search.best_params_)\n",
        "print(\"Best AUC Score:\", grid_search.best_score_)\n",
        "\n",
        "# Use the best estimator for testing\n",
        "best_model = grid_search.best_estimator_\n",
        "y_pred = best_model.predict(X_test_scaled)\n",
        "y_prob = best_model.predict_proba(X_test_scaled)[:, 1]\n",
        "\n",
        "# Classification report\n",
        "report = classification_report(y_test, y_pred)\n",
        "print(\"Classification Report:\\n\", report)\n",
        "\n",
        "# ROC-AUC\n",
        "fpr, tpr, _ = roc_curve(y_test, y_prob)\n",
        "roc_auc = auc(fpr, tpr)\n",
        "print(\"Test Set AUC:\", roc_auc)"
      ]
    },
    {
      "cell_type": "code",
      "execution_count": 192,
      "metadata": {},
      "outputs": [
        {
          "name": "stdout",
          "output_type": "stream",
          "text": [
            "Classification Report:\n",
            "               precision    recall  f1-score   support\n",
            "\n",
            "           0       0.98      0.75      0.85       789\n",
            "           1       0.13      0.77      0.22        39\n",
            "\n",
            "    accuracy                           0.75       828\n",
            "   macro avg       0.56      0.76      0.54       828\n",
            "weighted avg       0.94      0.75      0.82       828\n",
            "\n",
            "Test Set AUC: 0.8024763576094374\n"
          ]
        },
        {
          "data": {
            "image/png": "[encoded data removed]",
            "text/plain": [
              "<Figure size 640x480 with 1 Axes>"
            ]
          },
          "metadata": {},
          "output_type": "display_data"
        }
      ],
      "source": [
        "# Split data into train/validation and testing sets\n",
        "X_train_val, X_test, y_train_val, y_test = train_test_split(X, y, test_size=0.2, stratify=y, random_state=42)\n",
        "\n",
        "# Standardize the features\n",
        "scaler = StandardScaler()\n",
        "X_train_val_scaled = scaler.fit_transform(X_train_val)\n",
        "X_test_scaled = scaler.transform(X_test)\n",
        "\n",
        "# Initialize SMOTE\n",
        "smote = SMOTE(random_state=42)\n",
        "# Apply SMOTE to training data\n",
        "X_resampled, y_resampled = smote.fit_resample(X_train_val_scaled, y_train_val)\n",
        "\n",
        "# # SMOTE for oversampling the training data\n",
        "# smote_enn = SMOTEENN(random_state=42)\n",
        "# X_resampled, y_resampled = smote_enn.fit_resample(X_train_val_scaled, y_train_val)\n",
        "\n",
        "# Train the SVM model\n",
        "svm_model = SVC(kernel='rbf', class_weight={0: 1, 1: 10}, C=0.5, gamma=0.1, probability=True, random_state=42)\n",
        "svm_model.fit(X_resampled, y_resampled)\n",
        "\n",
        "# Evaluate on the test set\n",
        "y_pred = svm_model.predict(X_test_scaled)\n",
        "y_prob = svm_model.predict_proba(X_test_scaled)[:, 1]\n",
        "\n",
        "# Classification report\n",
        "report = classification_report(y_test, y_pred)\n",
        "print(\"Classification Report:\\n\", report)\n",
        "\n",
        "# ROC-AUC\n",
        "fpr, tpr, _ = roc_curve(y_test, y_prob)\n",
        "roc_auc = auc(fpr, tpr)\n",
        "print(\"Test Set AUC:\", roc_auc)\n",
        "\n",
        "# Plot ROC Curve (optional)\n",
        "import matplotlib.pyplot as plt\n",
        "plt.figure()\n",
        "plt.plot(fpr, tpr, color='darkorange', lw=2, label='ROC curve (area = %0.2f)' % roc_auc)\n",
        "plt.plot([0, 1], [0, 1], color='navy', lw=2, linestyle='--')\n",
        "plt.xlabel('False Positive Rate')\n",
        "plt.ylabel('True Positive Rate')\n",
        "plt.title('Receiver Operating Characteristic')\n",
        "plt.legend(loc=\"lower right\")\n",
        "plt.show()\n"
      ]
    },
    {
      "cell_type": "markdown",
      "metadata": {
        "id": "U7b0kFZiqHTm"
      },
      "source": [
        "## XGBoost Model"
      ]
    },
    {
      "cell_type": "markdown",
      "metadata": {
        "id": "SymokdgRrdKm"
      },
      "source": [
        "Perform Recursive Feature Elimination with Cross-Validation (RFECV) to find the best variables\n",
        "\n",
        "Use GridSearch to find the best hyperparameters"
      ]
    },
    {
      "cell_type": "code",
      "execution_count": 67,
      "metadata": {
        "colab": {
          "base_uri": "https://localhost:8080/"
        },
        "id": "P7HntgH2lR37",
        "outputId": "e7414da1-8e08-44f2-f7f3-a9fa38a05033"
      },
      "outputs": [
        {
          "name": "stdout",
          "output_type": "stream",
          "text": [
            "Selected Features (RFE): ['ACC-21', '>19.8-3', 'TD-7', '>25-21', 'ACC-3', '>25-3', 'DEC-7', 'TD-21']\n",
            "Number of features selected: 8\n"
          ]
        }
      ],
      "source": [
        "# Base parameters for XGBClassifier\n",
        "base_params = {\n",
        "    'objective': 'binary:logistic',\n",
        "    'colsample_bytree': 0.8,  # Feature subsampling\n",
        "    'subsample': 0.8,         # Row subsampling\n",
        "    'eval_metric': 'auc',\n",
        "    'alpha': 5,              # L1 regularization\n",
        "    'gamma': 5,              # Minimum loss reduction\n",
        "    'max_depth': 3,\n",
        "    'learning_rate': 0.09,\n",
        "    'n_estimators': 100\n",
        "}\n",
        "\n",
        "# Initialize the XGBClassifier\n",
        "rfe_model = XGBClassifier(**base_params)\n",
        "\n",
        "# Perform RFE for feature selection\n",
        "rfe = RFE(\n",
        "    estimator=rfe_model,\n",
        "    n_features_to_select=8,  # Select exactly X features\n",
        "    step=1  # Remove one feature at a time\n",
        ")\n",
        "\n",
        "# Fit RFE to X_train\n",
        "rfe.fit(X_train, y_train)\n",
        "\n",
        "# Get selected feature names\n",
        "selected_features = X_train.columns[rfe.support_]\n",
        "X_train_selected = X_train[selected_features]\n",
        "X_test_selected = X_test[selected_features]\n",
        "\n",
        "print(f\"Selected Features (RFE): {selected_features.tolist()}\")\n",
        "print(f\"Number of features selected: {len(selected_features)}\")"
      ]
    },
    {
      "cell_type": "code",
      "execution_count": 19,
      "metadata": {
        "colab": {
          "base_uri": "https://localhost:8080/"
        },
        "id": "eOEDKQl3QB72",
        "outputId": "f560619d-b0d2-4114-8468-b4173d431175"
      },
      "outputs": [
        {
          "name": "stdout",
          "output_type": "stream",
          "text": [
            "Fitting 5 folds for each of 1728 candidates, totalling 8640 fits\n"
          ]
        },
        {
          "ename": "KeyboardInterrupt",
          "evalue": "",
          "output_type": "error",
          "traceback": [
            "\u001b[0;31m---------------------------------------------------------------------------\u001b[0m",
            "\u001b[0;31mKeyboardInterrupt\u001b[0m                         Traceback (most recent call last)",
            "Cell \u001b[0;32mIn[19], line 39\u001b[0m\n\u001b[1;32m     29\u001b[0m grid_search \u001b[38;5;241m=\u001b[39m GridSearchCV(\n\u001b[1;32m     30\u001b[0m     estimator\u001b[38;5;241m=\u001b[39mmodel,\n\u001b[1;32m     31\u001b[0m     param_grid\u001b[38;5;241m=\u001b[39mparam_grid,\n\u001b[0;32m   (...)\u001b[0m\n\u001b[1;32m     35\u001b[0m     n_jobs\u001b[38;5;241m=\u001b[39m\u001b[38;5;241m-\u001b[39m\u001b[38;5;241m1\u001b[39m\n\u001b[1;32m     36\u001b[0m )\n\u001b[1;32m     38\u001b[0m \u001b[38;5;66;03m# Fit GridSearchCV on the training dataset\u001b[39;00m\n\u001b[0;32m---> 39\u001b[0m \u001b[43mgrid_search\u001b[49m\u001b[38;5;241;43m.\u001b[39;49m\u001b[43mfit\u001b[49m\u001b[43m(\u001b[49m\u001b[43mX_train_selected\u001b[49m\u001b[43m,\u001b[49m\u001b[43m \u001b[49m\u001b[43my_train\u001b[49m\u001b[43m)\u001b[49m\n\u001b[1;32m     41\u001b[0m \u001b[38;5;66;03m# Get the best model and parameters\u001b[39;00m\n\u001b[1;32m     42\u001b[0m best_model \u001b[38;5;241m=\u001b[39m grid_search\u001b[38;5;241m.\u001b[39mbest_estimator_\n",
            "File \u001b[0;32m~/.python/current/lib/python3.12/site-packages/sklearn/base.py:1473\u001b[0m, in \u001b[0;36m_fit_context.<locals>.decorator.<locals>.wrapper\u001b[0;34m(estimator, *args, **kwargs)\u001b[0m\n\u001b[1;32m   1466\u001b[0m     estimator\u001b[38;5;241m.\u001b[39m_validate_params()\n\u001b[1;32m   1468\u001b[0m \u001b[38;5;28;01mwith\u001b[39;00m config_context(\n\u001b[1;32m   1469\u001b[0m     skip_parameter_validation\u001b[38;5;241m=\u001b[39m(\n\u001b[1;32m   1470\u001b[0m         prefer_skip_nested_validation \u001b[38;5;129;01mor\u001b[39;00m global_skip_validation\n\u001b[1;32m   1471\u001b[0m     )\n\u001b[1;32m   1472\u001b[0m ):\n\u001b[0;32m-> 1473\u001b[0m     \u001b[38;5;28;01mreturn\u001b[39;00m \u001b[43mfit_method\u001b[49m\u001b[43m(\u001b[49m\u001b[43mestimator\u001b[49m\u001b[43m,\u001b[49m\u001b[43m \u001b[49m\u001b[38;5;241;43m*\u001b[39;49m\u001b[43margs\u001b[49m\u001b[43m,\u001b[49m\u001b[43m \u001b[49m\u001b[38;5;241;43m*\u001b[39;49m\u001b[38;5;241;43m*\u001b[39;49m\u001b[43mkwargs\u001b[49m\u001b[43m)\u001b[49m\n",
            "File \u001b[0;32m~/.python/current/lib/python3.12/site-packages/sklearn/model_selection/_search.py:1019\u001b[0m, in \u001b[0;36mBaseSearchCV.fit\u001b[0;34m(self, X, y, **params)\u001b[0m\n\u001b[1;32m   1013\u001b[0m     results \u001b[38;5;241m=\u001b[39m \u001b[38;5;28mself\u001b[39m\u001b[38;5;241m.\u001b[39m_format_results(\n\u001b[1;32m   1014\u001b[0m         all_candidate_params, n_splits, all_out, all_more_results\n\u001b[1;32m   1015\u001b[0m     )\n\u001b[1;32m   1017\u001b[0m     \u001b[38;5;28;01mreturn\u001b[39;00m results\n\u001b[0;32m-> 1019\u001b[0m \u001b[38;5;28;43mself\u001b[39;49m\u001b[38;5;241;43m.\u001b[39;49m\u001b[43m_run_search\u001b[49m\u001b[43m(\u001b[49m\u001b[43mevaluate_candidates\u001b[49m\u001b[43m)\u001b[49m\n\u001b[1;32m   1021\u001b[0m \u001b[38;5;66;03m# multimetric is determined here because in the case of a callable\u001b[39;00m\n\u001b[1;32m   1022\u001b[0m \u001b[38;5;66;03m# self.scoring the return type is only known after calling\u001b[39;00m\n\u001b[1;32m   1023\u001b[0m first_test_score \u001b[38;5;241m=\u001b[39m all_out[\u001b[38;5;241m0\u001b[39m][\u001b[38;5;124m\"\u001b[39m\u001b[38;5;124mtest_scores\u001b[39m\u001b[38;5;124m\"\u001b[39m]\n",
            "File \u001b[0;32m~/.python/current/lib/python3.12/site-packages/sklearn/model_selection/_search.py:1573\u001b[0m, in \u001b[0;36mGridSearchCV._run_search\u001b[0;34m(self, evaluate_candidates)\u001b[0m\n\u001b[1;32m   1571\u001b[0m \u001b[38;5;28;01mdef\u001b[39;00m\u001b[38;5;250m \u001b[39m\u001b[38;5;21m_run_search\u001b[39m(\u001b[38;5;28mself\u001b[39m, evaluate_candidates):\n\u001b[1;32m   1572\u001b[0m \u001b[38;5;250m    \u001b[39m\u001b[38;5;124;03m\"\"\"Search all candidates in param_grid\"\"\"\u001b[39;00m\n\u001b[0;32m-> 1573\u001b[0m     \u001b[43mevaluate_candidates\u001b[49m\u001b[43m(\u001b[49m\u001b[43mParameterGrid\u001b[49m\u001b[43m(\u001b[49m\u001b[38;5;28;43mself\u001b[39;49m\u001b[38;5;241;43m.\u001b[39;49m\u001b[43mparam_grid\u001b[49m\u001b[43m)\u001b[49m\u001b[43m)\u001b[49m\n",
            "File \u001b[0;32m~/.python/current/lib/python3.12/site-packages/sklearn/model_selection/_search.py:965\u001b[0m, in \u001b[0;36mBaseSearchCV.fit.<locals>.evaluate_candidates\u001b[0;34m(candidate_params, cv, more_results)\u001b[0m\n\u001b[1;32m    957\u001b[0m \u001b[38;5;28;01mif\u001b[39;00m \u001b[38;5;28mself\u001b[39m\u001b[38;5;241m.\u001b[39mverbose \u001b[38;5;241m>\u001b[39m \u001b[38;5;241m0\u001b[39m:\n\u001b[1;32m    958\u001b[0m     \u001b[38;5;28mprint\u001b[39m(\n\u001b[1;32m    959\u001b[0m         \u001b[38;5;124m\"\u001b[39m\u001b[38;5;124mFitting \u001b[39m\u001b[38;5;132;01m{0}\u001b[39;00m\u001b[38;5;124m folds for each of \u001b[39m\u001b[38;5;132;01m{1}\u001b[39;00m\u001b[38;5;124m candidates,\u001b[39m\u001b[38;5;124m\"\u001b[39m\n\u001b[1;32m    960\u001b[0m         \u001b[38;5;124m\"\u001b[39m\u001b[38;5;124m totalling \u001b[39m\u001b[38;5;132;01m{2}\u001b[39;00m\u001b[38;5;124m fits\u001b[39m\u001b[38;5;124m\"\u001b[39m\u001b[38;5;241m.\u001b[39mformat(\n\u001b[1;32m    961\u001b[0m             n_splits, n_candidates, n_candidates \u001b[38;5;241m*\u001b[39m n_splits\n\u001b[1;32m    962\u001b[0m         )\n\u001b[1;32m    963\u001b[0m     )\n\u001b[0;32m--> 965\u001b[0m out \u001b[38;5;241m=\u001b[39m \u001b[43mparallel\u001b[49m\u001b[43m(\u001b[49m\n\u001b[1;32m    966\u001b[0m \u001b[43m    \u001b[49m\u001b[43mdelayed\u001b[49m\u001b[43m(\u001b[49m\u001b[43m_fit_and_score\u001b[49m\u001b[43m)\u001b[49m\u001b[43m(\u001b[49m\n\u001b[1;32m    967\u001b[0m \u001b[43m        \u001b[49m\u001b[43mclone\u001b[49m\u001b[43m(\u001b[49m\u001b[43mbase_estimator\u001b[49m\u001b[43m)\u001b[49m\u001b[43m,\u001b[49m\n\u001b[1;32m    968\u001b[0m \u001b[43m        \u001b[49m\u001b[43mX\u001b[49m\u001b[43m,\u001b[49m\n\u001b[1;32m    969\u001b[0m \u001b[43m        \u001b[49m\u001b[43my\u001b[49m\u001b[43m,\u001b[49m\n\u001b[1;32m    970\u001b[0m \u001b[43m        \u001b[49m\u001b[43mtrain\u001b[49m\u001b[38;5;241;43m=\u001b[39;49m\u001b[43mtrain\u001b[49m\u001b[43m,\u001b[49m\n\u001b[1;32m    971\u001b[0m \u001b[43m        \u001b[49m\u001b[43mtest\u001b[49m\u001b[38;5;241;43m=\u001b[39;49m\u001b[43mtest\u001b[49m\u001b[43m,\u001b[49m\n\u001b[1;32m    972\u001b[0m \u001b[43m        \u001b[49m\u001b[43mparameters\u001b[49m\u001b[38;5;241;43m=\u001b[39;49m\u001b[43mparameters\u001b[49m\u001b[43m,\u001b[49m\n\u001b[1;32m    973\u001b[0m \u001b[43m        \u001b[49m\u001b[43msplit_progress\u001b[49m\u001b[38;5;241;43m=\u001b[39;49m\u001b[43m(\u001b[49m\u001b[43msplit_idx\u001b[49m\u001b[43m,\u001b[49m\u001b[43m \u001b[49m\u001b[43mn_splits\u001b[49m\u001b[43m)\u001b[49m\u001b[43m,\u001b[49m\n\u001b[1;32m    974\u001b[0m \u001b[43m        \u001b[49m\u001b[43mcandidate_progress\u001b[49m\u001b[38;5;241;43m=\u001b[39;49m\u001b[43m(\u001b[49m\u001b[43mcand_idx\u001b[49m\u001b[43m,\u001b[49m\u001b[43m \u001b[49m\u001b[43mn_candidates\u001b[49m\u001b[43m)\u001b[49m\u001b[43m,\u001b[49m\n\u001b[1;32m    975\u001b[0m \u001b[43m        \u001b[49m\u001b[38;5;241;43m*\u001b[39;49m\u001b[38;5;241;43m*\u001b[39;49m\u001b[43mfit_and_score_kwargs\u001b[49m\u001b[43m,\u001b[49m\n\u001b[1;32m    976\u001b[0m \u001b[43m    \u001b[49m\u001b[43m)\u001b[49m\n\u001b[1;32m    977\u001b[0m \u001b[43m    \u001b[49m\u001b[38;5;28;43;01mfor\u001b[39;49;00m\u001b[43m \u001b[49m\u001b[43m(\u001b[49m\u001b[43mcand_idx\u001b[49m\u001b[43m,\u001b[49m\u001b[43m \u001b[49m\u001b[43mparameters\u001b[49m\u001b[43m)\u001b[49m\u001b[43m,\u001b[49m\u001b[43m \u001b[49m\u001b[43m(\u001b[49m\u001b[43msplit_idx\u001b[49m\u001b[43m,\u001b[49m\u001b[43m \u001b[49m\u001b[43m(\u001b[49m\u001b[43mtrain\u001b[49m\u001b[43m,\u001b[49m\u001b[43m \u001b[49m\u001b[43mtest\u001b[49m\u001b[43m)\u001b[49m\u001b[43m)\u001b[49m\u001b[43m \u001b[49m\u001b[38;5;129;43;01min\u001b[39;49;00m\u001b[43m \u001b[49m\u001b[43mproduct\u001b[49m\u001b[43m(\u001b[49m\n\u001b[1;32m    978\u001b[0m \u001b[43m        \u001b[49m\u001b[38;5;28;43menumerate\u001b[39;49m\u001b[43m(\u001b[49m\u001b[43mcandidate_params\u001b[49m\u001b[43m)\u001b[49m\u001b[43m,\u001b[49m\n\u001b[1;32m    979\u001b[0m \u001b[43m        \u001b[49m\u001b[38;5;28;43menumerate\u001b[39;49m\u001b[43m(\u001b[49m\u001b[43mcv\u001b[49m\u001b[38;5;241;43m.\u001b[39;49m\u001b[43msplit\u001b[49m\u001b[43m(\u001b[49m\u001b[43mX\u001b[49m\u001b[43m,\u001b[49m\u001b[43m \u001b[49m\u001b[43my\u001b[49m\u001b[43m,\u001b[49m\u001b[43m \u001b[49m\u001b[38;5;241;43m*\u001b[39;49m\u001b[38;5;241;43m*\u001b[39;49m\u001b[43mrouted_params\u001b[49m\u001b[38;5;241;43m.\u001b[39;49m\u001b[43msplitter\u001b[49m\u001b[38;5;241;43m.\u001b[39;49m\u001b[43msplit\u001b[49m\u001b[43m)\u001b[49m\u001b[43m)\u001b[49m\u001b[43m,\u001b[49m\n\u001b[1;32m    980\u001b[0m \u001b[43m    \u001b[49m\u001b[43m)\u001b[49m\n\u001b[1;32m    981\u001b[0m \u001b[43m\u001b[49m\u001b[43m)\u001b[49m\n\u001b[1;32m    983\u001b[0m \u001b[38;5;28;01mif\u001b[39;00m \u001b[38;5;28mlen\u001b[39m(out) \u001b[38;5;241m<\u001b[39m \u001b[38;5;241m1\u001b[39m:\n\u001b[1;32m    984\u001b[0m     \u001b[38;5;28;01mraise\u001b[39;00m \u001b[38;5;167;01mValueError\u001b[39;00m(\n\u001b[1;32m    985\u001b[0m         \u001b[38;5;124m\"\u001b[39m\u001b[38;5;124mNo fits were performed. \u001b[39m\u001b[38;5;124m\"\u001b[39m\n\u001b[1;32m    986\u001b[0m         \u001b[38;5;124m\"\u001b[39m\u001b[38;5;124mWas the CV iterator empty? \u001b[39m\u001b[38;5;124m\"\u001b[39m\n\u001b[1;32m    987\u001b[0m         \u001b[38;5;124m\"\u001b[39m\u001b[38;5;124mWere there no candidates?\u001b[39m\u001b[38;5;124m\"\u001b[39m\n\u001b[1;32m    988\u001b[0m     )\n",
            "File \u001b[0;32m~/.python/current/lib/python3.12/site-packages/sklearn/utils/parallel.py:74\u001b[0m, in \u001b[0;36mParallel.__call__\u001b[0;34m(self, iterable)\u001b[0m\n\u001b[1;32m     69\u001b[0m config \u001b[38;5;241m=\u001b[39m get_config()\n\u001b[1;32m     70\u001b[0m iterable_with_config \u001b[38;5;241m=\u001b[39m (\n\u001b[1;32m     71\u001b[0m     (_with_config(delayed_func, config), args, kwargs)\n\u001b[1;32m     72\u001b[0m     \u001b[38;5;28;01mfor\u001b[39;00m delayed_func, args, kwargs \u001b[38;5;129;01min\u001b[39;00m iterable\n\u001b[1;32m     73\u001b[0m )\n\u001b[0;32m---> 74\u001b[0m \u001b[38;5;28;01mreturn\u001b[39;00m \u001b[38;5;28;43msuper\u001b[39;49m\u001b[43m(\u001b[49m\u001b[43m)\u001b[49m\u001b[38;5;241;43m.\u001b[39;49m\u001b[38;5;21;43m__call__\u001b[39;49m\u001b[43m(\u001b[49m\u001b[43miterable_with_config\u001b[49m\u001b[43m)\u001b[49m\n",
            "File \u001b[0;32m~/.local/lib/python3.12/site-packages/joblib/parallel.py:2007\u001b[0m, in \u001b[0;36mParallel.__call__\u001b[0;34m(self, iterable)\u001b[0m\n\u001b[1;32m   2001\u001b[0m \u001b[38;5;66;03m# The first item from the output is blank, but it makes the interpreter\u001b[39;00m\n\u001b[1;32m   2002\u001b[0m \u001b[38;5;66;03m# progress until it enters the Try/Except block of the generator and\u001b[39;00m\n\u001b[1;32m   2003\u001b[0m \u001b[38;5;66;03m# reaches the first `yield` statement. This starts the asynchronous\u001b[39;00m\n\u001b[1;32m   2004\u001b[0m \u001b[38;5;66;03m# dispatch of the tasks to the workers.\u001b[39;00m\n\u001b[1;32m   2005\u001b[0m \u001b[38;5;28mnext\u001b[39m(output)\n\u001b[0;32m-> 2007\u001b[0m \u001b[38;5;28;01mreturn\u001b[39;00m output \u001b[38;5;28;01mif\u001b[39;00m \u001b[38;5;28mself\u001b[39m\u001b[38;5;241m.\u001b[39mreturn_generator \u001b[38;5;28;01melse\u001b[39;00m \u001b[38;5;28;43mlist\u001b[39;49m\u001b[43m(\u001b[49m\u001b[43moutput\u001b[49m\u001b[43m)\u001b[49m\n",
            "File \u001b[0;32m~/.local/lib/python3.12/site-packages/joblib/parallel.py:1650\u001b[0m, in \u001b[0;36mParallel._get_outputs\u001b[0;34m(self, iterator, pre_dispatch)\u001b[0m\n\u001b[1;32m   1647\u001b[0m     \u001b[38;5;28;01myield\u001b[39;00m\n\u001b[1;32m   1649\u001b[0m     \u001b[38;5;28;01mwith\u001b[39;00m \u001b[38;5;28mself\u001b[39m\u001b[38;5;241m.\u001b[39m_backend\u001b[38;5;241m.\u001b[39mretrieval_context():\n\u001b[0;32m-> 1650\u001b[0m         \u001b[38;5;28;01myield from\u001b[39;00m \u001b[38;5;28mself\u001b[39m\u001b[38;5;241m.\u001b[39m_retrieve()\n\u001b[1;32m   1652\u001b[0m \u001b[38;5;28;01mexcept\u001b[39;00m \u001b[38;5;167;01mGeneratorExit\u001b[39;00m:\n\u001b[1;32m   1653\u001b[0m     \u001b[38;5;66;03m# The generator has been garbage collected before being fully\u001b[39;00m\n\u001b[1;32m   1654\u001b[0m     \u001b[38;5;66;03m# consumed. This aborts the remaining tasks if possible and warn\u001b[39;00m\n\u001b[1;32m   1655\u001b[0m     \u001b[38;5;66;03m# the user if necessary.\u001b[39;00m\n\u001b[1;32m   1656\u001b[0m     \u001b[38;5;28mself\u001b[39m\u001b[38;5;241m.\u001b[39m_exception \u001b[38;5;241m=\u001b[39m \u001b[38;5;28;01mTrue\u001b[39;00m\n",
            "File \u001b[0;32m~/.local/lib/python3.12/site-packages/joblib/parallel.py:1762\u001b[0m, in \u001b[0;36mParallel._retrieve\u001b[0;34m(self)\u001b[0m\n\u001b[1;32m   1757\u001b[0m \u001b[38;5;66;03m# If the next job is not ready for retrieval yet, we just wait for\u001b[39;00m\n\u001b[1;32m   1758\u001b[0m \u001b[38;5;66;03m# async callbacks to progress.\u001b[39;00m\n\u001b[1;32m   1759\u001b[0m \u001b[38;5;28;01mif\u001b[39;00m ((\u001b[38;5;28mlen\u001b[39m(\u001b[38;5;28mself\u001b[39m\u001b[38;5;241m.\u001b[39m_jobs) \u001b[38;5;241m==\u001b[39m \u001b[38;5;241m0\u001b[39m) \u001b[38;5;129;01mor\u001b[39;00m\n\u001b[1;32m   1760\u001b[0m     (\u001b[38;5;28mself\u001b[39m\u001b[38;5;241m.\u001b[39m_jobs[\u001b[38;5;241m0\u001b[39m]\u001b[38;5;241m.\u001b[39mget_status(\n\u001b[1;32m   1761\u001b[0m         timeout\u001b[38;5;241m=\u001b[39m\u001b[38;5;28mself\u001b[39m\u001b[38;5;241m.\u001b[39mtimeout) \u001b[38;5;241m==\u001b[39m TASK_PENDING)):\n\u001b[0;32m-> 1762\u001b[0m     \u001b[43mtime\u001b[49m\u001b[38;5;241;43m.\u001b[39;49m\u001b[43msleep\u001b[49m\u001b[43m(\u001b[49m\u001b[38;5;241;43m0.01\u001b[39;49m\u001b[43m)\u001b[49m\n\u001b[1;32m   1763\u001b[0m     \u001b[38;5;28;01mcontinue\u001b[39;00m\n\u001b[1;32m   1765\u001b[0m \u001b[38;5;66;03m# We need to be careful: the job list can be filling up as\u001b[39;00m\n\u001b[1;32m   1766\u001b[0m \u001b[38;5;66;03m# we empty it and Python list are not thread-safe by\u001b[39;00m\n\u001b[1;32m   1767\u001b[0m \u001b[38;5;66;03m# default hence the use of the lock\u001b[39;00m\n",
            "\u001b[0;31mKeyboardInterrupt\u001b[0m: "
          ]
        }
      ],
      "source": [
        "# Updated base parameters with added regularization\n",
        "base_params_xgboost = {\n",
        "    'objective': 'binary:logistic',\n",
        "    'eval_metric': 'auc',\n",
        "    'subsample': 0.8,        \n",
        "    'colsample_bytree': 0.8 \n",
        "}\n",
        "\n",
        "# Expanded parameter grid\n",
        "param_grid = {\n",
        "    'learning_rate': [0.01, 0.05, 0.07, 0.1],\n",
        "    'max_depth': [3, 5, 7],\n",
        "    'n_estimators': [200, 300, 400],\n",
        "    'scale_pos_weight': [10,12,15],\n",
        "    'alpha': [0, 1, 5],\n",
        "    'gamma': [0, 1, 5],\n",
        "}\n",
        "\n",
        "# scaler = StandardScaler()\n",
        "# X_train_selected = scaler.fit_transform(X_train_selected)\n",
        "# X_test_selected = scaler.transform(X_test_selected)\n",
        "\n",
        "model = XGBClassifier(**base_params_xgboost)\n",
        "\n",
        "# Stratified K-Fold Cross-Validation\n",
        "stratified_cv = StratifiedKFold(n_splits=5, shuffle=True, random_state=42)\n",
        "\n",
        "# GridSearchCV for hyperparameter tuning\n",
        "grid_search = GridSearchCV(\n",
        "    estimator=model,\n",
        "    param_grid=param_grid,\n",
        "    scoring='roc_auc',  # Optimize for ROC-AUC\n",
        "    cv=stratified_cv,\n",
        "    verbose=1,\n",
        "    n_jobs=-1\n",
        ")\n",
        "\n",
        "# Fit GridSearchCV on the training dataset\n",
        "grid_search.fit(X_train_selected, y_train)\n",
        "\n",
        "# Get the best model and parameters\n",
        "best_model = grid_search.best_estimator_\n",
        "best_params = grid_search.best_params_\n",
        "best_roc_auc = grid_search.best_score_\n",
        "\n",
        "# Print best results\n",
        "print(f\"Best ROC-AUC (Grid Search): {best_roc_auc:.4f}\")\n",
        "print(f\"Best Parameters: {best_params}\")"
      ]
    },
    {
      "cell_type": "markdown",
      "metadata": {
        "id": "7WXWNWO2lcTO"
      },
      "source": [
        "## Train the model with the best parameters"
      ]
    },
    {
      "cell_type": "code",
      "execution_count": 74,
      "metadata": {},
      "outputs": [
        {
          "name": "stdout",
          "output_type": "stream",
          "text": [
            "Final Test ROC-AUC: 0.5386\n",
            "Accuracy: 0.9381\n",
            "Precision: 0.0000\n",
            "Recall: 0.0000\n",
            "F1 Score: 0.0000\n",
            "Confusion Matrix:\n",
            "[[1242   71]\n",
            " [  11    0]]\n"
          ]
        }
      ],
      "source": [
        "base_params_xgboost = {\n",
        "    'objective': 'binary:logistic',\n",
        "    'eval_metric': 'auc',\n",
        "    'subsample': 0.8,        \n",
        "    'colsample_bytree': 0.8 \n",
        "}\n",
        "\n",
        "param_grid = {\n",
        "   'learning_rate': 0.07,  # Explore smaller learning rates\n",
        "   'max_depth': 11,             # Test broader depth values\n",
        "   'n_estimators': 400,     # Include larger estimators\n",
        "   'scale_pos_weight': 9,\n",
        "   'alpha': 0,  # L1 regularization\n",
        "   'gamma': 0,  # Minimum loss reduction\n",
        "}\n",
        "\n",
        "\n",
        "# Train the final model\n",
        "final_model = XGBClassifier(\n",
        "    **base_params_xgboost,\n",
        "    **param_grid,\n",
        ")\n",
        "\n",
        "# Train\n",
        "final_model.fit(X_train_selected,\n",
        "                y_train,\n",
        "                verbose=True\n",
        ")\n",
        "\n",
        "# Predict class labels (0 or 1) on the test set\n",
        "y_pred_probs = final_model.predict_proba(X_test_selected)[:, 1]\n",
        "# Apply custom threshold\n",
        "threshold = 0.50\n",
        "y_pred = (y_pred_probs >= threshold).astype(int)\n",
        "test_roc_auc = roc_auc_score(y_test, y_pred_probs)\n",
        "print(f\"Final Test ROC-AUC: {test_roc_auc:.4f}\")\n",
        "\n",
        "# Accuracy\n",
        "accuracy = accuracy_score(y_test, y_pred)\n",
        "print(f\"Accuracy: {accuracy:.4f}\")\n",
        "\n",
        "# Precision\n",
        "precision = precision_score(y_test, y_pred)\n",
        "print(f\"Precision: {precision:.4f}\")\n",
        "\n",
        "# Recall\n",
        "recall = recall_score(y_test, y_pred)\n",
        "print(f\"Recall: {recall:.4f}\")\n",
        "\n",
        "# F1 Score\n",
        "f1 = f1_score(y_test, y_pred)\n",
        "print(f\"F1 Score: {f1:.4f}\")\n",
        "\n",
        "# Confusion Matrix\n",
        "conf_matrix = confusion_matrix(y_test, y_pred)\n",
        "print(\"Confusion Matrix:\")\n",
        "print(conf_matrix)\n"
      ]
    },
    {
      "cell_type": "markdown",
      "metadata": {
        "id": "yJVDozS1zc5w"
      },
      "source": [
        "## Transform test data"
      ]
    },
    {
      "cell_type": "code",
      "execution_count": 205,
      "metadata": {
        "id": "Lb4659qHRNs4"
      },
      "outputs": [],
      "source": [
        "X_test = X_test_selected.reset_index(drop=True)\n",
        "y_test = y_test.reset_index(drop=True)\n",
        "player_ids_test = player_ids_test.reset_index(drop=True)"
      ]
    },
    {
      "cell_type": "code",
      "execution_count": 206,
      "metadata": {
        "colab": {
          "base_uri": "https://localhost:8080/"
        },
        "id": "OhBlb1iyo7RU",
        "outputId": "6e09de4f-73b8-4b42-fe80-5e3853243384"
      },
      "outputs": [
        {
          "name": "stdout",
          "output_type": "stream",
          "text": [
            "Test ROC-AUC: 0.8348\n"
          ]
        }
      ],
      "source": [
        "def categorize_risk(percentage):\n",
        "    if percentage < 40:\n",
        "        return 'Low Risk'\n",
        "    elif 40 <= percentage < 70:\n",
        "        return 'Medium Risk'\n",
        "    else:\n",
        "        return 'High Risk'\n",
        "\n",
        "# Evaluate the best model on the test set\n",
        "y_probs = final_model.predict_proba(X_test_selected)[:, 1]\n",
        "test_roc_auc = roc_auc_score(y_test, y_probs)\n",
        "\n",
        "print(f\"Test ROC-AUC: {test_roc_auc:.4f}\")\n",
        "\n",
        "# Convert the probabilities of injury risk (Class 1) to percentages\n",
        "injury_risk_percentage = y_probs * 100\n",
        "\n",
        "# Categorize the injury risk percentages\n",
        "risk_levels = [categorize_risk(percentage) for percentage in injury_risk_percentage]\n",
        "\n",
        "# Create the `results` DataFrame with only relevant metrics and calculated values\n",
        "results = pd.DataFrame({\n",
        "    'Player_ID': player_ids_test,  # Add player IDs\n",
        "    'Actual_Label': y_test,  # Add actual labels\n",
        "    '%': injury_risk_percentage,\n",
        "    'Risk_Level': risk_levels\n",
        "}).join(X_test[['TD-7', '+25 Km/h-7', 'ACC-7', 'DEC-7', 'Sprints-7']])  # Add only relevant metrics\n",
        "\n"
      ]
    },
    {
      "cell_type": "code",
      "execution_count": 207,
      "metadata": {
        "id": "qe5rWWovrYeK"
      },
      "outputs": [],
      "source": [
        "# Define risk level colors\n",
        "color_mapping = {\n",
        "    'High Risk': 'FF9999',  # Light Red\n",
        "    'Medium Risk': 'FFFF99',  # Light Yellow\n",
        "    'Low Risk': '99FF99'  # Light Green\n",
        "}\n",
        "\n",
        "# file_path_export = '/content/drive/MyDrive/WATFORD FC/Datos GPS/results.xlsx'\n",
        "file_path_export = 'results.xlsx'\n",
        "\n",
        "wb = Workbook()\n",
        "\n",
        "# Write `results` to the first sheet\n",
        "ws = wb.active\n",
        "ws.title = \"Injury Risk Results\"\n",
        "for r_idx, row in enumerate(dataframe_to_rows(results, index=True, header=True), start=1):\n",
        "    for c_idx, value in enumerate(row, start=1):\n",
        "        ws.cell(row=r_idx, column=c_idx, value=value)\n",
        "\n",
        "# Conditional formatting for `results`\n",
        "risk_level_col_idx = list(results.columns).index(\"Risk_Level\") + 2\n",
        "for row in ws.iter_rows(min_row=2, max_row=ws.max_row, min_col=risk_level_col_idx, max_col=risk_level_col_idx):\n",
        "    for cell in row:\n",
        "        risk_level = cell.value\n",
        "        if risk_level in color_mapping:\n",
        "            cell.fill = PatternFill(start_color=color_mapping[risk_level], end_color=color_mapping[risk_level], fill_type=\"solid\")\n",
        "\n",
        "# Save the workbook\n",
        "wb.save(file_path_export)"
      ]
    },
    {
      "cell_type": "code",
      "execution_count": null,
      "metadata": {},
      "outputs": [],
      "source": [
        "from sklearn.feature_selection import mutual_info_regression\n",
        "import numpy as np\n",
        "\n",
        "def mrmr_manual_regression(X, y, num_features):\n",
        "    selected_features = []\n",
        "    remaining_features = list(range(X.shape[1]))\n",
        "    \n",
        "    # Calculate mutual information for relevance (regression)\n",
        "    relevance = mutual_info_regression(X, y)\n",
        "    \n",
        "    for _ in range(num_features):\n",
        "        scores = []\n",
        "        for feature in remaining_features:\n",
        "            # Calculate redundancy with already selected features\n",
        "            redundancy = np.mean([mutual_info_regression(X[:, feature].reshape(-1, 1), X[:, sel]) \n",
        "                                  for sel in selected_features]) if selected_features else 0\n",
        "            \n",
        "            # mRMR score = relevance - redundancy\n",
        "            score = relevance[feature] - redundancy\n",
        "            scores.append((feature, score))\n",
        "        \n",
        "        # Select the feature with the maximum score\n",
        "        best_feature = max(scores, key=lambda x: x[1])[0]\n",
        "        selected_features.append(best_feature)\n",
        "        remaining_features.remove(best_feature)\n",
        "    \n",
        "    return selected_features\n",
        "\n",
        "selected_features_indexes = mrmr_manual_regression(X.values, y.values, 8)\n",
        "\n",
        "feature_names = X.columns  # Assuming X is a pandas DataFrame\n",
        "selected_feature_names = [feature_names[i] for i in selected_features_indexes]\n",
        "\n",
        "print(\"Selected Features:\", selected_feature_names)\n",
        "\n",
        "X = X[selected_feature_names]"
      ]
    }
  ],
  "metadata": {
    "colab": {
      "include_colab_link": true,
      "provenance": [],
      "toc_visible": true
    },
    "kernelspec": {
      "display_name": "Python 3",
      "language": "python",
      "name": "python3"
    },
    "language_info": {
      "codemirror_mode": {
        "name": "ipython",
        "version": 3
      },
      "file_extension": ".py",
      "mimetype": "text/x-python",
      "name": "python",
      "nbconvert_exporter": "python",
      "pygments_lexer": "ipython3",
      "version": "3.12.1"
    }
  },
  "nbformat": 4,
  "nbformat_minor": 0
}
