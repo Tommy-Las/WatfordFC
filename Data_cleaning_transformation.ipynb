{
  "cells": [
    {
      "cell_type": "markdown",
      "metadata": {
        "colab_type": "text",
        "id": "view-in-github"
      },
      "source": [
        "<a href=\"https://colab.research.google.com/github/Tommy-Las/WatfordFC/blob/main/Data_cleaning_transformation.ipynb\" target=\"_parent\"><img src=\"https://colab.research.google.com/assets/colab-badge.svg\" alt=\"Open In Colab\"/></a>"
      ]
    },
    {
      "cell_type": "markdown",
      "metadata": {
        "id": "MKq0Scv7FZbd"
      },
      "source": [
        "# Import packages and data"
      ]
    },
    {
      "cell_type": "code",
      "execution_count": 71,
      "metadata": {
        "id": "xOoLR86jumEQ"
      },
      "outputs": [],
      "source": [
        "import pandas as pd\n",
        "# Turn off warnings\n",
        "pd.options.mode.chained_assignment = None\n",
        "pd.set_option('display.max_columns', None)\n",
        "import numpy as np\n",
        "import matplotlib.pyplot as plt\n",
        "import seaborn as sns\n",
        "from sklearn.impute import KNNImputer\n",
        "from sklearn.preprocessing import OneHotEncoder"
      ]
    },
    {
      "cell_type": "code",
      "execution_count": 65,
      "metadata": {
        "colab": {
          "base_uri": "https://localhost:8080/"
        },
        "id": "dIrVgB0p1E7B",
        "outputId": "c87409cc-0914-41b7-d32d-92892e82b26b"
      },
      "outputs": [
        {
          "ename": "ModuleNotFoundError",
          "evalue": "No module named 'google.colab'",
          "output_type": "error",
          "traceback": [
            "\u001b[0;31m---------------------------------------------------------------------------\u001b[0m",
            "\u001b[0;31mModuleNotFoundError\u001b[0m                       Traceback (most recent call last)",
            "Cell \u001b[0;32mIn[65], line 3\u001b[0m\n\u001b[1;32m      1\u001b[0m \u001b[38;5;66;03m# Mount drive\u001b[39;00m\n\u001b[0;32m----> 3\u001b[0m \u001b[38;5;28;01mfrom\u001b[39;00m\u001b[38;5;250m \u001b[39m\u001b[38;5;21;01mgoogle\u001b[39;00m\u001b[38;5;21;01m.\u001b[39;00m\u001b[38;5;21;01mcolab\u001b[39;00m\u001b[38;5;250m \u001b[39m\u001b[38;5;28;01mimport\u001b[39;00m drive\n\u001b[1;32m      4\u001b[0m drive\u001b[38;5;241m.\u001b[39mmount(\u001b[38;5;124m'\u001b[39m\u001b[38;5;124m/content/drive\u001b[39m\u001b[38;5;124m'\u001b[39m)\n",
            "\u001b[0;31mModuleNotFoundError\u001b[0m: No module named 'google.colab'"
          ]
        }
      ],
      "source": [
        "# Mount drive\n",
        "\n",
        "from google.colab import drive\n",
        "drive.mount('/content/drive')"
      ]
    },
    {
      "cell_type": "markdown",
      "metadata": {
        "id": "__mnh8H8uqma"
      },
      "source": [
        "Import GPS data"
      ]
    },
    {
      "cell_type": "code",
      "execution_count": 72,
      "metadata": {
        "id": "Uhv4WLo1uc6G"
      },
      "outputs": [],
      "source": [
        "# file_path = '/content/drive/MyDrive/WATFORD FC/Datos GPS/GPS 2018-2023.xlsx'\n",
        "file_path = 'data/GPS 2018-2023_NoContact.xlsx'\n",
        "df_gps = pd.read_excel(file_path)"
      ]
    },
    {
      "cell_type": "markdown",
      "metadata": {
        "id": "0tvEfPk_C1vA"
      },
      "source": [
        "Import speed data"
      ]
    },
    {
      "cell_type": "code",
      "execution_count": 73,
      "metadata": {
        "id": "Jc0TOlmYup12"
      },
      "outputs": [],
      "source": [
        "# file_path = '/content/drive/MyDrive/WATFORD FC/Datos GPS/max_speed.xlsx'\n",
        "file_path = 'data/max_speed.xlsx'\n",
        "df_speed = pd.read_excel(file_path)"
      ]
    },
    {
      "cell_type": "markdown",
      "metadata": {
        "id": "roKFa-OemiXb"
      },
      "source": [
        "Import wellbeing data\n"
      ]
    },
    {
      "cell_type": "code",
      "execution_count": null,
      "metadata": {
        "id": "Xz6DrA4imi2G"
      },
      "outputs": [],
      "source": [
        "#file_path = '/content/drive/MyDrive/WATFORD FC/Datos Wellbeing/wellbeing ssp.xlsx'\n",
        "#df_wellbeing = pd.read_excel(file_path)"
      ]
    },
    {
      "cell_type": "markdown",
      "metadata": {
        "id": "PzMj3maJNduT"
      },
      "source": [
        "# Merge Sprint values"
      ]
    },
    {
      "cell_type": "markdown",
      "metadata": {
        "id": "08uJn-2lNioy"
      },
      "source": [
        "The sprint values are separated in different rows per session,\n",
        "\n",
        "we want to merge in into a single row per session."
      ]
    },
    {
      "cell_type": "markdown",
      "metadata": {
        "id": "YROT9hePf5db"
      },
      "source": [
        "## Transform data before merging sprint rows"
      ]
    },
    {
      "cell_type": "code",
      "execution_count": 74,
      "metadata": {
        "colab": {
          "base_uri": "https://localhost:8080/"
        },
        "id": "ciij9Rgux7iw",
        "outputId": "45d3bc29-bc74-455a-b738-07502b6d289c"
      },
      "outputs": [
        {
          "name": "stdout",
          "output_type": "stream",
          "text": [
            "<class 'pandas.core.frame.DataFrame'>\n",
            "RangeIndex: 123180 entries, 0 to 123179\n",
            "Data columns (total 11 columns):\n",
            " #   Column                                       Non-Null Count   Dtype  \n",
            "---  ------                                       --------------   -----  \n",
            " 0   DATE                                         123180 non-null  object \n",
            " 1   ID                                           123180 non-null  int64  \n",
            " 2   Player Position                              123155 non-null  object \n",
            " 3   Max Speed                                    116475 non-null  float64\n",
            " 4   Sprints                                      113560 non-null  float64\n",
            " 5   MINUTES                                      113654 non-null  float64\n",
            " 6   Season                                       123180 non-null  object \n",
            " 7   Max Speed Season                             123180 non-null  float64\n",
            " 8   Avg Speed Season                             122357 non-null  float64\n",
            " 9   % Max Speed                                  122357 non-null  float64\n",
            " 10  %Speed diference against max. Speed average  122357 non-null  float64\n",
            "dtypes: float64(7), int64(1), object(3)\n",
            "memory usage: 10.3+ MB\n"
          ]
        }
      ],
      "source": [
        "df_speed.info()"
      ]
    },
    {
      "cell_type": "markdown",
      "metadata": {
        "id": "lsXLyOjNxSt7"
      },
      "source": [
        "We want to remove rows after 08-07-2021 since we don't have data for sprints and speed"
      ]
    },
    {
      "cell_type": "code",
      "execution_count": 75,
      "metadata": {
        "id": "gnlA0A0NxRo-"
      },
      "outputs": [],
      "source": [
        "from datetime import date\n",
        "# Convert DATE column values into Pandas datetime object\n",
        "df_speed['DATE'] = pd.to_datetime(df_speed['DATE'], dayfirst=True)\n",
        "\n",
        "# Filter rows after date: '2021-08-07'\n",
        "date_filter = pd.Timestamp('2021-08-07')\n",
        "df_speed = df_speed[df_speed['DATE'] > date_filter]\n",
        "\n",
        "# Filter rows after date: '2023-05-11'\n",
        "date_filter = pd.Timestamp('2023-05-11')\n",
        "df_speed = df_speed[df_speed['DATE'] < date_filter]\n",
        "\n",
        "date_filter = pd.Timestamp('2021-06-28')\n",
        "df_gps = df_gps[df_gps['DATE'] > date_filter]"
      ]
    },
    {
      "cell_type": "code",
      "execution_count": 76,
      "metadata": {
        "colab": {
          "base_uri": "https://localhost:8080/"
        },
        "id": "R6KToyQ8IfkA",
        "outputId": "a02d0cee-9f5a-4f1f-dda3-03db82314ab4"
      },
      "outputs": [
        {
          "name": "stdout",
          "output_type": "stream",
          "text": [
            "<class 'pandas.core.frame.DataFrame'>\n",
            "Index: 55390 entries, 58257 to 113646\n",
            "Data columns (total 11 columns):\n",
            " #   Column                                       Non-Null Count  Dtype         \n",
            "---  ------                                       --------------  -----         \n",
            " 0   DATE                                         55390 non-null  datetime64[ns]\n",
            " 1   ID                                           55390 non-null  int64         \n",
            " 2   Player Position                              55365 non-null  object        \n",
            " 3   Max Speed                                    55377 non-null  float64       \n",
            " 4   Sprints                                      55362 non-null  float64       \n",
            " 5   MINUTES                                      55389 non-null  float64       \n",
            " 6   Season                                       55390 non-null  object        \n",
            " 7   Max Speed Season                             55390 non-null  float64       \n",
            " 8   Avg Speed Season                             55390 non-null  float64       \n",
            " 9   % Max Speed                                  55390 non-null  float64       \n",
            " 10  %Speed diference against max. Speed average  55390 non-null  float64       \n",
            "dtypes: datetime64[ns](1), float64(7), int64(1), object(2)\n",
            "memory usage: 5.1+ MB\n"
          ]
        }
      ],
      "source": [
        "df_speed.info()"
      ]
    },
    {
      "cell_type": "markdown",
      "metadata": {
        "id": "Ni7QjzQ_ujNC"
      },
      "source": [
        "Replace NULL sprint values to 0"
      ]
    },
    {
      "cell_type": "code",
      "execution_count": 77,
      "metadata": {
        "id": "A8v2iNMeydVS"
      },
      "outputs": [],
      "source": [
        "# Replace NULL values from Sprint to 0\n",
        "df_speed['Sprints'] = df_speed['Sprints'].fillna(0)"
      ]
    },
    {
      "cell_type": "code",
      "execution_count": 78,
      "metadata": {
        "colab": {
          "base_uri": "https://localhost:8080/"
        },
        "id": "KnXl0UF9MVJi",
        "outputId": "d60750a8-b6ac-43f3-f2b9-dc48346ce349"
      },
      "outputs": [
        {
          "name": "stdout",
          "output_type": "stream",
          "text": [
            "<class 'pandas.core.frame.DataFrame'>\n",
            "Index: 55390 entries, 58257 to 113646\n",
            "Data columns (total 11 columns):\n",
            " #   Column                                       Non-Null Count  Dtype         \n",
            "---  ------                                       --------------  -----         \n",
            " 0   DATE                                         55390 non-null  datetime64[ns]\n",
            " 1   ID                                           55390 non-null  int64         \n",
            " 2   Player Position                              55365 non-null  object        \n",
            " 3   Max Speed                                    55377 non-null  float64       \n",
            " 4   Sprints                                      55390 non-null  float64       \n",
            " 5   MINUTES                                      55389 non-null  float64       \n",
            " 6   Season                                       55390 non-null  object        \n",
            " 7   Max Speed Season                             55390 non-null  float64       \n",
            " 8   Avg Speed Season                             55390 non-null  float64       \n",
            " 9   % Max Speed                                  55390 non-null  float64       \n",
            " 10  %Speed diference against max. Speed average  55390 non-null  float64       \n",
            "dtypes: datetime64[ns](1), float64(7), int64(1), object(2)\n",
            "memory usage: 5.1+ MB\n"
          ]
        }
      ],
      "source": [
        "df_speed.info()"
      ]
    },
    {
      "cell_type": "markdown",
      "metadata": {
        "id": "1eDRNd-Sf-Tf"
      },
      "source": [
        "## Merge sprint values"
      ]
    },
    {
      "cell_type": "markdown",
      "metadata": {
        "id": "4mvIs1cW2BrZ"
      },
      "source": [
        "Print values to verify later"
      ]
    },
    {
      "cell_type": "code",
      "execution_count": 79,
      "metadata": {
        "colab": {
          "base_uri": "https://localhost:8080/",
          "height": 519
        },
        "id": "9ms4pisoJMSv",
        "outputId": "5f439c0d-ebe8-47f8-903b-308deb43dde5"
      },
      "outputs": [
        {
          "data": {
            "text/html": [
              "<div>\n",
              "<style scoped>\n",
              "    .dataframe tbody tr th:only-of-type {\n",
              "        vertical-align: middle;\n",
              "    }\n",
              "\n",
              "    .dataframe tbody tr th {\n",
              "        vertical-align: top;\n",
              "    }\n",
              "\n",
              "    .dataframe thead th {\n",
              "        text-align: right;\n",
              "    }\n",
              "</style>\n",
              "<table border=\"1\" class=\"dataframe\">\n",
              "  <thead>\n",
              "    <tr style=\"text-align: right;\">\n",
              "      <th></th>\n",
              "      <th>DATE</th>\n",
              "      <th>ID</th>\n",
              "      <th>Player Position</th>\n",
              "      <th>Max Speed</th>\n",
              "      <th>Sprints</th>\n",
              "      <th>MINUTES</th>\n",
              "      <th>Season</th>\n",
              "      <th>Max Speed Season</th>\n",
              "      <th>Avg Speed Season</th>\n",
              "      <th>% Max Speed</th>\n",
              "      <th>%Speed diference against max. Speed average</th>\n",
              "    </tr>\n",
              "  </thead>\n",
              "  <tbody>\n",
              "    <tr>\n",
              "      <th>58257</th>\n",
              "      <td>2023-05-10</td>\n",
              "      <td>23085</td>\n",
              "      <td>CENTRE MIDFIELDER</td>\n",
              "      <td>22.91</td>\n",
              "      <td>3.0</td>\n",
              "      <td>30.19</td>\n",
              "      <td>2022-2023</td>\n",
              "      <td>32.12</td>\n",
              "      <td>20.304388</td>\n",
              "      <td>71.326276</td>\n",
              "      <td>12.832753</td>\n",
              "    </tr>\n",
              "    <tr>\n",
              "      <th>58258</th>\n",
              "      <td>2023-05-10</td>\n",
              "      <td>87583</td>\n",
              "      <td>CENTRE MIDFIELDER</td>\n",
              "      <td>24.70</td>\n",
              "      <td>20.0</td>\n",
              "      <td>40.53</td>\n",
              "      <td>2022-2023</td>\n",
              "      <td>34.27</td>\n",
              "      <td>21.189939</td>\n",
              "      <td>72.074701</td>\n",
              "      <td>16.564751</td>\n",
              "    </tr>\n",
              "    <tr>\n",
              "      <th>58259</th>\n",
              "      <td>2023-05-09</td>\n",
              "      <td>96811</td>\n",
              "      <td>CENTRE MIDFIELDER</td>\n",
              "      <td>32.19</td>\n",
              "      <td>10.0</td>\n",
              "      <td>70.51</td>\n",
              "      <td>2022-2023</td>\n",
              "      <td>36.04</td>\n",
              "      <td>20.882454</td>\n",
              "      <td>89.317425</td>\n",
              "      <td>54.148548</td>\n",
              "    </tr>\n",
              "    <tr>\n",
              "      <th>58260</th>\n",
              "      <td>2023-05-09</td>\n",
              "      <td>89871</td>\n",
              "      <td>STRIKER</td>\n",
              "      <td>25.46</td>\n",
              "      <td>0.0</td>\n",
              "      <td>79.87</td>\n",
              "      <td>2022-2023</td>\n",
              "      <td>34.12</td>\n",
              "      <td>21.753402</td>\n",
              "      <td>74.618992</td>\n",
              "      <td>17.039162</td>\n",
              "    </tr>\n",
              "    <tr>\n",
              "      <th>58300</th>\n",
              "      <td>2023-05-08</td>\n",
              "      <td>55555</td>\n",
              "      <td>FULL BACK</td>\n",
              "      <td>30.47</td>\n",
              "      <td>18.0</td>\n",
              "      <td>72.62</td>\n",
              "      <td>2022-2023</td>\n",
              "      <td>34.94</td>\n",
              "      <td>22.071250</td>\n",
              "      <td>87.206640</td>\n",
              "      <td>38.052897</td>\n",
              "    </tr>\n",
              "    <tr>\n",
              "      <th>58289</th>\n",
              "      <td>2023-05-08</td>\n",
              "      <td>48692</td>\n",
              "      <td>CENTRE BACK</td>\n",
              "      <td>32.56</td>\n",
              "      <td>35.0</td>\n",
              "      <td>69.15</td>\n",
              "      <td>2022-2023</td>\n",
              "      <td>36.21</td>\n",
              "      <td>21.029270</td>\n",
              "      <td>89.919912</td>\n",
              "      <td>54.831811</td>\n",
              "    </tr>\n",
              "    <tr>\n",
              "      <th>58290</th>\n",
              "      <td>2023-05-08</td>\n",
              "      <td>87583</td>\n",
              "      <td>CENTRE MIDFIELDER</td>\n",
              "      <td>22.69</td>\n",
              "      <td>11.0</td>\n",
              "      <td>34.13</td>\n",
              "      <td>2022-2023</td>\n",
              "      <td>34.27</td>\n",
              "      <td>21.189939</td>\n",
              "      <td>66.209513</td>\n",
              "      <td>7.079117</td>\n",
              "    </tr>\n",
              "    <tr>\n",
              "      <th>58291</th>\n",
              "      <td>2023-05-08</td>\n",
              "      <td>37537</td>\n",
              "      <td>CENTRE MIDFIELDER</td>\n",
              "      <td>28.65</td>\n",
              "      <td>5.0</td>\n",
              "      <td>47.05</td>\n",
              "      <td>2022-2023</td>\n",
              "      <td>34.09</td>\n",
              "      <td>21.974456</td>\n",
              "      <td>84.042241</td>\n",
              "      <td>30.378655</td>\n",
              "    </tr>\n",
              "    <tr>\n",
              "      <th>58292</th>\n",
              "      <td>2023-05-08</td>\n",
              "      <td>37537</td>\n",
              "      <td>CENTRE MIDFIELDER</td>\n",
              "      <td>30.59</td>\n",
              "      <td>3.0</td>\n",
              "      <td>22.10</td>\n",
              "      <td>2022-2023</td>\n",
              "      <td>34.09</td>\n",
              "      <td>21.974456</td>\n",
              "      <td>89.733060</td>\n",
              "      <td>39.207088</td>\n",
              "    </tr>\n",
              "    <tr>\n",
              "      <th>58293</th>\n",
              "      <td>2023-05-08</td>\n",
              "      <td>37537</td>\n",
              "      <td>CENTRE MIDFIELDER</td>\n",
              "      <td>30.59</td>\n",
              "      <td>8.0</td>\n",
              "      <td>69.15</td>\n",
              "      <td>2022-2023</td>\n",
              "      <td>34.09</td>\n",
              "      <td>21.974456</td>\n",
              "      <td>89.733060</td>\n",
              "      <td>39.207088</td>\n",
              "    </tr>\n",
              "    <tr>\n",
              "      <th>58294</th>\n",
              "      <td>2023-05-08</td>\n",
              "      <td>77765</td>\n",
              "      <td>CENTRE MIDFIELDER</td>\n",
              "      <td>27.72</td>\n",
              "      <td>24.0</td>\n",
              "      <td>47.05</td>\n",
              "      <td>2022-2023</td>\n",
              "      <td>32.08</td>\n",
              "      <td>21.291520</td>\n",
              "      <td>86.408978</td>\n",
              "      <td>30.192677</td>\n",
              "    </tr>\n",
              "    <tr>\n",
              "      <th>58295</th>\n",
              "      <td>2023-05-08</td>\n",
              "      <td>77765</td>\n",
              "      <td>CENTRE MIDFIELDER</td>\n",
              "      <td>30.17</td>\n",
              "      <td>17.0</td>\n",
              "      <td>49.64</td>\n",
              "      <td>2022-2023</td>\n",
              "      <td>32.08</td>\n",
              "      <td>21.291520</td>\n",
              "      <td>94.046135</td>\n",
              "      <td>41.699606</td>\n",
              "    </tr>\n",
              "    <tr>\n",
              "      <th>58296</th>\n",
              "      <td>2023-05-08</td>\n",
              "      <td>77765</td>\n",
              "      <td>CENTRE MIDFIELDER</td>\n",
              "      <td>30.17</td>\n",
              "      <td>41.0</td>\n",
              "      <td>96.70</td>\n",
              "      <td>2022-2023</td>\n",
              "      <td>32.08</td>\n",
              "      <td>21.291520</td>\n",
              "      <td>94.046135</td>\n",
              "      <td>41.699606</td>\n",
              "    </tr>\n",
              "    <tr>\n",
              "      <th>58297</th>\n",
              "      <td>2023-05-08</td>\n",
              "      <td>55555</td>\n",
              "      <td>FULL BACK</td>\n",
              "      <td>18.79</td>\n",
              "      <td>0.0</td>\n",
              "      <td>31.34</td>\n",
              "      <td>2022-2023</td>\n",
              "      <td>34.94</td>\n",
              "      <td>22.071250</td>\n",
              "      <td>53.777905</td>\n",
              "      <td>-14.866625</td>\n",
              "    </tr>\n",
              "    <tr>\n",
              "      <th>58298</th>\n",
              "      <td>2023-05-08</td>\n",
              "      <td>55555</td>\n",
              "      <td>FULL BACK</td>\n",
              "      <td>20.34</td>\n",
              "      <td>1.0</td>\n",
              "      <td>13.50</td>\n",
              "      <td>2022-2023</td>\n",
              "      <td>34.94</td>\n",
              "      <td>22.071250</td>\n",
              "      <td>58.214081</td>\n",
              "      <td>-7.843915</td>\n",
              "    </tr>\n",
              "  </tbody>\n",
              "</table>\n",
              "</div>"
            ],
            "text/plain": [
              "            DATE     ID    Player Position  Max Speed  Sprints  MINUTES  \\\n",
              "58257 2023-05-10  23085  CENTRE MIDFIELDER      22.91      3.0    30.19   \n",
              "58258 2023-05-10  87583  CENTRE MIDFIELDER      24.70     20.0    40.53   \n",
              "58259 2023-05-09  96811  CENTRE MIDFIELDER      32.19     10.0    70.51   \n",
              "58260 2023-05-09  89871            STRIKER      25.46      0.0    79.87   \n",
              "58300 2023-05-08  55555          FULL BACK      30.47     18.0    72.62   \n",
              "58289 2023-05-08  48692        CENTRE BACK      32.56     35.0    69.15   \n",
              "58290 2023-05-08  87583  CENTRE MIDFIELDER      22.69     11.0    34.13   \n",
              "58291 2023-05-08  37537  CENTRE MIDFIELDER      28.65      5.0    47.05   \n",
              "58292 2023-05-08  37537  CENTRE MIDFIELDER      30.59      3.0    22.10   \n",
              "58293 2023-05-08  37537  CENTRE MIDFIELDER      30.59      8.0    69.15   \n",
              "58294 2023-05-08  77765  CENTRE MIDFIELDER      27.72     24.0    47.05   \n",
              "58295 2023-05-08  77765  CENTRE MIDFIELDER      30.17     17.0    49.64   \n",
              "58296 2023-05-08  77765  CENTRE MIDFIELDER      30.17     41.0    96.70   \n",
              "58297 2023-05-08  55555          FULL BACK      18.79      0.0    31.34   \n",
              "58298 2023-05-08  55555          FULL BACK      20.34      1.0    13.50   \n",
              "\n",
              "          Season  Max Speed Season  Avg Speed Season  % Max Speed  \\\n",
              "58257  2022-2023             32.12         20.304388    71.326276   \n",
              "58258  2022-2023             34.27         21.189939    72.074701   \n",
              "58259  2022-2023             36.04         20.882454    89.317425   \n",
              "58260  2022-2023             34.12         21.753402    74.618992   \n",
              "58300  2022-2023             34.94         22.071250    87.206640   \n",
              "58289  2022-2023             36.21         21.029270    89.919912   \n",
              "58290  2022-2023             34.27         21.189939    66.209513   \n",
              "58291  2022-2023             34.09         21.974456    84.042241   \n",
              "58292  2022-2023             34.09         21.974456    89.733060   \n",
              "58293  2022-2023             34.09         21.974456    89.733060   \n",
              "58294  2022-2023             32.08         21.291520    86.408978   \n",
              "58295  2022-2023             32.08         21.291520    94.046135   \n",
              "58296  2022-2023             32.08         21.291520    94.046135   \n",
              "58297  2022-2023             34.94         22.071250    53.777905   \n",
              "58298  2022-2023             34.94         22.071250    58.214081   \n",
              "\n",
              "       %Speed diference against max. Speed average  \n",
              "58257                                    12.832753  \n",
              "58258                                    16.564751  \n",
              "58259                                    54.148548  \n",
              "58260                                    17.039162  \n",
              "58300                                    38.052897  \n",
              "58289                                    54.831811  \n",
              "58290                                     7.079117  \n",
              "58291                                    30.378655  \n",
              "58292                                    39.207088  \n",
              "58293                                    39.207088  \n",
              "58294                                    30.192677  \n",
              "58295                                    41.699606  \n",
              "58296                                    41.699606  \n",
              "58297                                   -14.866625  \n",
              "58298                                    -7.843915  "
            ]
          },
          "execution_count": 79,
          "metadata": {},
          "output_type": "execute_result"
        }
      ],
      "source": [
        "df_speed.sort_values(by='DATE', ascending=False).head(15)"
      ]
    },
    {
      "cell_type": "markdown",
      "metadata": {
        "id": "PL9K-wJq3wOa"
      },
      "source": [
        "Do a group by player and date, and select the maximum value for each session"
      ]
    },
    {
      "cell_type": "code",
      "execution_count": 80,
      "metadata": {
        "id": "neJjIyyPEoZR"
      },
      "outputs": [],
      "source": [
        "df_speed = df_speed.groupby(['DATE', 'ID']).agg('max').reset_index()"
      ]
    },
    {
      "cell_type": "code",
      "execution_count": 81,
      "metadata": {
        "colab": {
          "base_uri": "https://localhost:8080/",
          "height": 519
        },
        "id": "ZPNkbxP9Gcwx",
        "outputId": "f8a7607e-3d6c-4f3f-8213-5d961bc27a73"
      },
      "outputs": [
        {
          "data": {
            "text/html": [
              "<div>\n",
              "<style scoped>\n",
              "    .dataframe tbody tr th:only-of-type {\n",
              "        vertical-align: middle;\n",
              "    }\n",
              "\n",
              "    .dataframe tbody tr th {\n",
              "        vertical-align: top;\n",
              "    }\n",
              "\n",
              "    .dataframe thead th {\n",
              "        text-align: right;\n",
              "    }\n",
              "</style>\n",
              "<table border=\"1\" class=\"dataframe\">\n",
              "  <thead>\n",
              "    <tr style=\"text-align: right;\">\n",
              "      <th></th>\n",
              "      <th>DATE</th>\n",
              "      <th>ID</th>\n",
              "      <th>Player Position</th>\n",
              "      <th>Max Speed</th>\n",
              "      <th>Sprints</th>\n",
              "      <th>MINUTES</th>\n",
              "      <th>Season</th>\n",
              "      <th>Max Speed Season</th>\n",
              "      <th>Avg Speed Season</th>\n",
              "      <th>% Max Speed</th>\n",
              "      <th>%Speed diference against max. Speed average</th>\n",
              "    </tr>\n",
              "  </thead>\n",
              "  <tbody>\n",
              "    <tr>\n",
              "      <th>8262</th>\n",
              "      <td>2023-05-10</td>\n",
              "      <td>87583</td>\n",
              "      <td>CENTRE MIDFIELDER</td>\n",
              "      <td>24.70</td>\n",
              "      <td>20.0</td>\n",
              "      <td>40.53</td>\n",
              "      <td>2022-2023</td>\n",
              "      <td>34.27</td>\n",
              "      <td>21.189939</td>\n",
              "      <td>72.074701</td>\n",
              "      <td>16.564751</td>\n",
              "    </tr>\n",
              "    <tr>\n",
              "      <th>8261</th>\n",
              "      <td>2023-05-10</td>\n",
              "      <td>23085</td>\n",
              "      <td>CENTRE MIDFIELDER</td>\n",
              "      <td>22.91</td>\n",
              "      <td>3.0</td>\n",
              "      <td>30.19</td>\n",
              "      <td>2022-2023</td>\n",
              "      <td>32.12</td>\n",
              "      <td>20.304388</td>\n",
              "      <td>71.326276</td>\n",
              "      <td>12.832753</td>\n",
              "    </tr>\n",
              "    <tr>\n",
              "      <th>8260</th>\n",
              "      <td>2023-05-09</td>\n",
              "      <td>96811</td>\n",
              "      <td>CENTRE MIDFIELDER</td>\n",
              "      <td>32.19</td>\n",
              "      <td>10.0</td>\n",
              "      <td>70.51</td>\n",
              "      <td>2022-2023</td>\n",
              "      <td>36.04</td>\n",
              "      <td>20.882454</td>\n",
              "      <td>89.317425</td>\n",
              "      <td>54.148548</td>\n",
              "    </tr>\n",
              "    <tr>\n",
              "      <th>8259</th>\n",
              "      <td>2023-05-09</td>\n",
              "      <td>89871</td>\n",
              "      <td>STRIKER</td>\n",
              "      <td>25.46</td>\n",
              "      <td>0.0</td>\n",
              "      <td>79.87</td>\n",
              "      <td>2022-2023</td>\n",
              "      <td>34.12</td>\n",
              "      <td>21.753402</td>\n",
              "      <td>74.618992</td>\n",
              "      <td>17.039162</td>\n",
              "    </tr>\n",
              "    <tr>\n",
              "      <th>8249</th>\n",
              "      <td>2023-05-08</td>\n",
              "      <td>55555</td>\n",
              "      <td>FULL BACK</td>\n",
              "      <td>30.47</td>\n",
              "      <td>18.0</td>\n",
              "      <td>72.62</td>\n",
              "      <td>2022-2023</td>\n",
              "      <td>34.94</td>\n",
              "      <td>22.071250</td>\n",
              "      <td>87.206640</td>\n",
              "      <td>38.052897</td>\n",
              "    </tr>\n",
              "    <tr>\n",
              "      <th>8240</th>\n",
              "      <td>2023-05-08</td>\n",
              "      <td>10103</td>\n",
              "      <td>FULL BACK</td>\n",
              "      <td>21.24</td>\n",
              "      <td>1.0</td>\n",
              "      <td>44.84</td>\n",
              "      <td>2022-2023</td>\n",
              "      <td>34.95</td>\n",
              "      <td>22.202230</td>\n",
              "      <td>60.772532</td>\n",
              "      <td>-4.333932</td>\n",
              "    </tr>\n",
              "    <tr>\n",
              "      <th>8241</th>\n",
              "      <td>2023-05-08</td>\n",
              "      <td>12086</td>\n",
              "      <td>WINGER</td>\n",
              "      <td>35.04</td>\n",
              "      <td>41.0</td>\n",
              "      <td>88.27</td>\n",
              "      <td>2022-2023</td>\n",
              "      <td>35.44</td>\n",
              "      <td>21.901184</td>\n",
              "      <td>98.871332</td>\n",
              "      <td>59.991349</td>\n",
              "    </tr>\n",
              "    <tr>\n",
              "      <th>8242</th>\n",
              "      <td>2023-05-08</td>\n",
              "      <td>19817</td>\n",
              "      <td>FULL BACK</td>\n",
              "      <td>31.68</td>\n",
              "      <td>0.0</td>\n",
              "      <td>128.04</td>\n",
              "      <td>2022-2023</td>\n",
              "      <td>35.77</td>\n",
              "      <td>21.605460</td>\n",
              "      <td>88.565837</td>\n",
              "      <td>46.629599</td>\n",
              "    </tr>\n",
              "    <tr>\n",
              "      <th>8243</th>\n",
              "      <td>2023-05-08</td>\n",
              "      <td>21079</td>\n",
              "      <td>WINGER</td>\n",
              "      <td>34.51</td>\n",
              "      <td>51.0</td>\n",
              "      <td>88.04</td>\n",
              "      <td>2022-2023</td>\n",
              "      <td>36.97</td>\n",
              "      <td>22.708654</td>\n",
              "      <td>93.345956</td>\n",
              "      <td>51.968499</td>\n",
              "    </tr>\n",
              "    <tr>\n",
              "      <th>8244</th>\n",
              "      <td>2023-05-08</td>\n",
              "      <td>23085</td>\n",
              "      <td>CENTRE MIDFIELDER</td>\n",
              "      <td>23.71</td>\n",
              "      <td>7.0</td>\n",
              "      <td>58.52</td>\n",
              "      <td>2022-2023</td>\n",
              "      <td>32.12</td>\n",
              "      <td>20.304388</td>\n",
              "      <td>73.816936</td>\n",
              "      <td>16.772788</td>\n",
              "    </tr>\n",
              "    <tr>\n",
              "      <th>8245</th>\n",
              "      <td>2023-05-08</td>\n",
              "      <td>27659</td>\n",
              "      <td>STRIKER</td>\n",
              "      <td>32.56</td>\n",
              "      <td>3.0</td>\n",
              "      <td>28.98</td>\n",
              "      <td>2022-2023</td>\n",
              "      <td>33.70</td>\n",
              "      <td>21.419004</td>\n",
              "      <td>96.617211</td>\n",
              "      <td>52.014537</td>\n",
              "    </tr>\n",
              "    <tr>\n",
              "      <th>8247</th>\n",
              "      <td>2023-05-08</td>\n",
              "      <td>41392</td>\n",
              "      <td>STRIKER</td>\n",
              "      <td>32.13</td>\n",
              "      <td>2.0</td>\n",
              "      <td>96.70</td>\n",
              "      <td>2022-2023</td>\n",
              "      <td>36.57</td>\n",
              "      <td>21.338716</td>\n",
              "      <td>87.858901</td>\n",
              "      <td>50.571383</td>\n",
              "    </tr>\n",
              "    <tr>\n",
              "      <th>8248</th>\n",
              "      <td>2023-05-08</td>\n",
              "      <td>48692</td>\n",
              "      <td>CENTRE BACK</td>\n",
              "      <td>32.56</td>\n",
              "      <td>35.0</td>\n",
              "      <td>69.15</td>\n",
              "      <td>2022-2023</td>\n",
              "      <td>36.21</td>\n",
              "      <td>21.029270</td>\n",
              "      <td>89.919912</td>\n",
              "      <td>54.831811</td>\n",
              "    </tr>\n",
              "    <tr>\n",
              "      <th>8246</th>\n",
              "      <td>2023-05-08</td>\n",
              "      <td>37537</td>\n",
              "      <td>CENTRE MIDFIELDER</td>\n",
              "      <td>30.59</td>\n",
              "      <td>8.0</td>\n",
              "      <td>69.15</td>\n",
              "      <td>2022-2023</td>\n",
              "      <td>34.09</td>\n",
              "      <td>21.974456</td>\n",
              "      <td>89.733060</td>\n",
              "      <td>39.207088</td>\n",
              "    </tr>\n",
              "    <tr>\n",
              "      <th>8250</th>\n",
              "      <td>2023-05-08</td>\n",
              "      <td>56735</td>\n",
              "      <td>STRIKER</td>\n",
              "      <td>32.56</td>\n",
              "      <td>3.0</td>\n",
              "      <td>51.13</td>\n",
              "      <td>2022-2023</td>\n",
              "      <td>32.56</td>\n",
              "      <td>21.472902</td>\n",
              "      <td>100.000000</td>\n",
              "      <td>51.632975</td>\n",
              "    </tr>\n",
              "  </tbody>\n",
              "</table>\n",
              "</div>"
            ],
            "text/plain": [
              "           DATE     ID    Player Position  Max Speed  Sprints  MINUTES  \\\n",
              "8262 2023-05-10  87583  CENTRE MIDFIELDER      24.70     20.0    40.53   \n",
              "8261 2023-05-10  23085  CENTRE MIDFIELDER      22.91      3.0    30.19   \n",
              "8260 2023-05-09  96811  CENTRE MIDFIELDER      32.19     10.0    70.51   \n",
              "8259 2023-05-09  89871            STRIKER      25.46      0.0    79.87   \n",
              "8249 2023-05-08  55555          FULL BACK      30.47     18.0    72.62   \n",
              "8240 2023-05-08  10103          FULL BACK      21.24      1.0    44.84   \n",
              "8241 2023-05-08  12086             WINGER      35.04     41.0    88.27   \n",
              "8242 2023-05-08  19817          FULL BACK      31.68      0.0   128.04   \n",
              "8243 2023-05-08  21079             WINGER      34.51     51.0    88.04   \n",
              "8244 2023-05-08  23085  CENTRE MIDFIELDER      23.71      7.0    58.52   \n",
              "8245 2023-05-08  27659            STRIKER      32.56      3.0    28.98   \n",
              "8247 2023-05-08  41392            STRIKER      32.13      2.0    96.70   \n",
              "8248 2023-05-08  48692        CENTRE BACK      32.56     35.0    69.15   \n",
              "8246 2023-05-08  37537  CENTRE MIDFIELDER      30.59      8.0    69.15   \n",
              "8250 2023-05-08  56735            STRIKER      32.56      3.0    51.13   \n",
              "\n",
              "         Season  Max Speed Season  Avg Speed Season  % Max Speed  \\\n",
              "8262  2022-2023             34.27         21.189939    72.074701   \n",
              "8261  2022-2023             32.12         20.304388    71.326276   \n",
              "8260  2022-2023             36.04         20.882454    89.317425   \n",
              "8259  2022-2023             34.12         21.753402    74.618992   \n",
              "8249  2022-2023             34.94         22.071250    87.206640   \n",
              "8240  2022-2023             34.95         22.202230    60.772532   \n",
              "8241  2022-2023             35.44         21.901184    98.871332   \n",
              "8242  2022-2023             35.77         21.605460    88.565837   \n",
              "8243  2022-2023             36.97         22.708654    93.345956   \n",
              "8244  2022-2023             32.12         20.304388    73.816936   \n",
              "8245  2022-2023             33.70         21.419004    96.617211   \n",
              "8247  2022-2023             36.57         21.338716    87.858901   \n",
              "8248  2022-2023             36.21         21.029270    89.919912   \n",
              "8246  2022-2023             34.09         21.974456    89.733060   \n",
              "8250  2022-2023             32.56         21.472902   100.000000   \n",
              "\n",
              "      %Speed diference against max. Speed average  \n",
              "8262                                    16.564751  \n",
              "8261                                    12.832753  \n",
              "8260                                    54.148548  \n",
              "8259                                    17.039162  \n",
              "8249                                    38.052897  \n",
              "8240                                    -4.333932  \n",
              "8241                                    59.991349  \n",
              "8242                                    46.629599  \n",
              "8243                                    51.968499  \n",
              "8244                                    16.772788  \n",
              "8245                                    52.014537  \n",
              "8247                                    50.571383  \n",
              "8248                                    54.831811  \n",
              "8246                                    39.207088  \n",
              "8250                                    51.632975  "
            ]
          },
          "execution_count": 81,
          "metadata": {},
          "output_type": "execute_result"
        }
      ],
      "source": [
        "df_speed.sort_values(by='DATE', ascending=False).head(15)"
      ]
    },
    {
      "cell_type": "markdown",
      "metadata": {
        "id": "YRyP5-2OSf-e"
      },
      "source": [
        "# Handle duplicates for GPS Data"
      ]
    },
    {
      "cell_type": "code",
      "execution_count": 82,
      "metadata": {
        "id": "A266gu4PSkKU"
      },
      "outputs": [],
      "source": [
        "# Define columns to sum\n",
        "columns_to_sum = ['Total D', '>19.8', '> 25 Km/h', 'ACC', 'DEC']\n",
        "\n",
        "# Define columns to select the first value\n",
        "columns_to_first = ['DATE', 'Column2', 'PLAYER', 'Injury', 'season', 'LEAGUE', 'preseason-season', 'MANAGER']\n",
        "\n",
        "# Group by the duplicate subset and aggregate\n",
        "df_gps_aggregated = (\n",
        "    df_gps[df_gps.duplicated(subset=['PLAYER', 'DATE'], keep=False)]\n",
        "    .groupby(['PLAYER', 'DATE'], as_index=False)\n",
        "    .agg({**{col: 'sum' for col in columns_to_sum},\n",
        "          **{col: 'first' for col in columns_to_first}})\n",
        ")\n",
        "\n",
        "# Ensure non-duplicated rows are preserved by combining them back\n",
        "df_gps_combined = pd.concat([\n",
        "    df_gps[~df_gps.duplicated(subset=['PLAYER', 'DATE'], keep=False)],\n",
        "    df_gps_aggregated\n",
        "], ignore_index=True)"
      ]
    },
    {
      "cell_type": "markdown",
      "metadata": {
        "id": "4dLQs84VIcKo"
      },
      "source": [
        "# Merge GPS and Speed dataframes"
      ]
    },
    {
      "cell_type": "markdown",
      "metadata": {
        "id": "a6UqtpBNgOfG"
      },
      "source": [
        "## Prepare the data before the merge"
      ]
    },
    {
      "cell_type": "markdown",
      "metadata": {
        "id": "qN15YByKC6gL"
      },
      "source": [
        "Verify column names for both Dataframes"
      ]
    },
    {
      "cell_type": "code",
      "execution_count": 83,
      "metadata": {
        "colab": {
          "base_uri": "https://localhost:8080/"
        },
        "id": "lF3nQ10F1lke",
        "outputId": "0914477f-ccaa-415e-87f3-138604f3bfd2"
      },
      "outputs": [
        {
          "data": {
            "text/plain": [
              "Index(['DATE', 'Column2', 'PLAYER', 'Injury', 'season', 'LEAGUE',\n",
              "       'preseason-season', 'MANAGER', 'Total D', '>19.8', '> 25 Km/h', 'ACC',\n",
              "       'DEC'],\n",
              "      dtype='object')"
            ]
          },
          "execution_count": 83,
          "metadata": {},
          "output_type": "execute_result"
        }
      ],
      "source": [
        "df_gps_combined.columns"
      ]
    },
    {
      "cell_type": "code",
      "execution_count": 84,
      "metadata": {
        "colab": {
          "base_uri": "https://localhost:8080/"
        },
        "id": "UXaT1rq91US-",
        "outputId": "c21d3377-8d21-4358-d278-4f93456466fc"
      },
      "outputs": [
        {
          "data": {
            "text/plain": [
              "Index(['DATE', 'ID', 'Player Position', 'Max Speed', 'Sprints', 'MINUTES',\n",
              "       'Season', 'Max Speed Season', 'Avg Speed Season', '% Max Speed',\n",
              "       '%Speed diference against max. Speed average'],\n",
              "      dtype='object')"
            ]
          },
          "execution_count": 84,
          "metadata": {},
          "output_type": "execute_result"
        }
      ],
      "source": [
        "df_speed.columns"
      ]
    },
    {
      "cell_type": "markdown",
      "metadata": {
        "id": "vR-7XO8C2x3_"
      },
      "source": [
        "Change datatypes before the merge"
      ]
    },
    {
      "cell_type": "code",
      "execution_count": 85,
      "metadata": {
        "id": "-aJvqD442IPd"
      },
      "outputs": [],
      "source": [
        "# Convert DATE column from GPS df into datetime pandas obkect\n",
        "df_gps_combined['DATE'] = pd.to_datetime(df_gps_combined['DATE'], dayfirst=True)\n",
        "\n",
        "# Drop NULL values for 'PLAYER'\n",
        "df_gps_combined = df_gps_combined.dropna(subset=['PLAYER'])\n",
        "\n",
        "# Convert ID and PLAYER columns to the same data type - integers\n",
        "df_gps_combined['PLAYER'] = df_gps_combined['PLAYER'].astype(int)\n",
        "df_speed['ID'] = df_speed['ID'].astype(int)"
      ]
    },
    {
      "cell_type": "markdown",
      "metadata": {
        "id": "Z29j_pHZ2_kS"
      },
      "source": [
        "## Do the merge of both dataframes"
      ]
    },
    {
      "cell_type": "code",
      "execution_count": 86,
      "metadata": {
        "id": "YLEWjOCA2_W7"
      },
      "outputs": [],
      "source": [
        "# Perform an inner join on matching DATE and PLAYER/ID values\n",
        "df_merged = df_gps_combined.merge(df_speed, left_on=['DATE', 'PLAYER'], right_on=['DATE', 'ID'], how='inner')"
      ]
    },
    {
      "cell_type": "code",
      "execution_count": 87,
      "metadata": {
        "colab": {
          "base_uri": "https://localhost:8080/"
        },
        "id": "OcJo4zl13C4Y",
        "outputId": "7d1e0381-4c08-4190-d3cc-99bff38a1ffe"
      },
      "outputs": [
        {
          "name": "stdout",
          "output_type": "stream",
          "text": [
            "<class 'pandas.core.frame.DataFrame'>\n",
            "RangeIndex: 7835 entries, 0 to 7834\n",
            "Data columns (total 23 columns):\n",
            " #   Column                                       Non-Null Count  Dtype         \n",
            "---  ------                                       --------------  -----         \n",
            " 0   DATE                                         7835 non-null   datetime64[ns]\n",
            " 1   Column2                                      7835 non-null   object        \n",
            " 2   PLAYER                                       7835 non-null   int64         \n",
            " 3   Injury                                       7835 non-null   float64       \n",
            " 4   season                                       7835 non-null   object        \n",
            " 5   LEAGUE                                       7835 non-null   object        \n",
            " 6   preseason-season                             7835 non-null   object        \n",
            " 7   MANAGER                                      7835 non-null   object        \n",
            " 8   Total D                                      7835 non-null   object        \n",
            " 9   >19.8                                        7835 non-null   float64       \n",
            " 10  > 25 Km/h                                    7835 non-null   float64       \n",
            " 11  ACC                                          7802 non-null   float64       \n",
            " 12  DEC                                          7802 non-null   float64       \n",
            " 13  ID                                           7835 non-null   int64         \n",
            " 14  Player Position                              7830 non-null   object        \n",
            " 15  Max Speed                                    7827 non-null   float64       \n",
            " 16  Sprints                                      7835 non-null   float64       \n",
            " 17  MINUTES                                      7835 non-null   float64       \n",
            " 18  Season                                       7835 non-null   object        \n",
            " 19  Max Speed Season                             7835 non-null   float64       \n",
            " 20  Avg Speed Season                             7835 non-null   float64       \n",
            " 21  % Max Speed                                  7835 non-null   float64       \n",
            " 22  %Speed diference against max. Speed average  7835 non-null   float64       \n",
            "dtypes: datetime64[ns](1), float64(12), int64(2), object(8)\n",
            "memory usage: 1.4+ MB\n"
          ]
        }
      ],
      "source": [
        "df_merged.info()"
      ]
    },
    {
      "cell_type": "markdown",
      "metadata": {
        "id": "spiN3oK8N4MT"
      },
      "source": [
        "Verify class imbalances"
      ]
    },
    {
      "cell_type": "code",
      "execution_count": 88,
      "metadata": {
        "colab": {
          "base_uri": "https://localhost:8080/"
        },
        "id": "oMIpUqkzpC0V",
        "outputId": "ba007725-433c-4b9f-9c10-98326ba1100b"
      },
      "outputs": [
        {
          "name": "stdout",
          "output_type": "stream",
          "text": [
            "No Injury: 7798\n",
            "Injury: 37\n",
            "%: 0.47%\n"
          ]
        }
      ],
      "source": [
        "print(\"No Injury: \" + str(df_merged[df_merged[\"Injury\"] == 0].shape[0]))\n",
        "print(\"Injury: \" + str(df_merged[df_merged[\"Injury\"] == 1].shape[0]))\n",
        "print(f\"%: {((df_merged[df_merged['Injury'] == 1].shape[0] / df_merged.shape[0]) * 100):.2f}%\")"
      ]
    },
    {
      "cell_type": "markdown",
      "metadata": {
        "id": "1kuqu0ETncrJ"
      },
      "source": [
        "# Merge df with 'weight' in wellbeing dataframe"
      ]
    },
    {
      "cell_type": "code",
      "execution_count": null,
      "metadata": {
        "id": "hMx9UQQ_njen"
      },
      "outputs": [],
      "source": [
        "# df_wellbeing = df_wellbeing[[\"Weight\", \"Date\", \"PLAYER\"]]\n",
        "# df_wellbeing.info()"
      ]
    },
    {
      "cell_type": "code",
      "execution_count": null,
      "metadata": {
        "id": "f4EJRMUSwp8g"
      },
      "outputs": [],
      "source": [
        "# # Sort by PLAYER and DATE to ensure correct order for backfilling\n",
        "# df_wellbeing = df_wellbeing.sort_values(by=['PLAYER', 'Date'])\n",
        "\n",
        "# # Fill the NULL values in 'Weight' with the previous valid value for each player\n",
        "# df_wellbeing['Weight'] = df_wellbeing.groupby('PLAYER')['Weight'].bfill()\n",
        "# df_wellbeing['Weight'] = df_wellbeing.groupby('PLAYER')['Weight'].ffill()\n",
        "\n",
        "# df_wellbeing.info()"
      ]
    },
    {
      "cell_type": "code",
      "execution_count": null,
      "metadata": {
        "id": "_Yw4xeAuoPrt"
      },
      "outputs": [],
      "source": [
        "# # Merge the DataFrames\n",
        "# df_merged = df_merged.merge(df_wellbeing, left_on=['DATE', 'PLAYER'], right_on=['Date', 'PLAYER'], how='left')\n",
        "\n",
        "# # Sort by PLAYER and DATE to ensure chronological order\n",
        "# df_merged = df_merged.sort_values(by=['PLAYER', 'DATE'])\n",
        "\n",
        "# # Back-fill null values in 'Weight' for each PLAYER\n",
        "# df_merged['Weight'] = df_merged.groupby('PLAYER')['Weight'].bfill()\n",
        "# df_merged['Weight'] = df_merged.groupby('PLAYER')['Weight'].ffill()\n",
        "\n",
        "# # Optional: Drop the 'Date' column from the right DataFrame if not needed\n",
        "# df_merged = df_merged.drop(columns=['Date'])\n",
        "\n",
        "# # Display the final DataFrame\n",
        "# df_merged.info()"
      ]
    },
    {
      "cell_type": "code",
      "execution_count": null,
      "metadata": {
        "id": "OY4reGFzu4Wf"
      },
      "outputs": [],
      "source": [
        "#df_merged.groupby('PLAYER')['Weight'].apply(lambda x: x.isnull().sum())"
      ]
    },
    {
      "cell_type": "markdown",
      "metadata": {
        "id": "pOQ_tpQtcTTa"
      },
      "source": [
        "# Transform numeric columns to the same data types"
      ]
    },
    {
      "cell_type": "code",
      "execution_count": 89,
      "metadata": {
        "id": "hUHaZWamcS2A"
      },
      "outputs": [],
      "source": [
        "cols = ['Total D', '>19.8', '> 25 Km/h', 'ACC',\n",
        "       'DEC', 'ID', 'Max Speed', 'Sprints', 'MINUTES', 'Max Speed Season',\n",
        "       'Avg Speed Season', '% Max Speed',\n",
        "       '%Speed diference against max. Speed average']\n",
        "\n",
        "df_merged[cols] = df_merged[cols].astype(float)"
      ]
    },
    {
      "cell_type": "code",
      "execution_count": 90,
      "metadata": {
        "colab": {
          "base_uri": "https://localhost:8080/"
        },
        "id": "zj8_LcnVtN3b",
        "outputId": "d841c159-1345-48e3-e3f8-3c2dd6139eb8"
      },
      "outputs": [
        {
          "name": "stdout",
          "output_type": "stream",
          "text": [
            "<class 'pandas.core.frame.DataFrame'>\n",
            "RangeIndex: 7835 entries, 0 to 7834\n",
            "Data columns (total 23 columns):\n",
            " #   Column                                       Non-Null Count  Dtype         \n",
            "---  ------                                       --------------  -----         \n",
            " 0   DATE                                         7835 non-null   datetime64[ns]\n",
            " 1   Column2                                      7835 non-null   object        \n",
            " 2   PLAYER                                       7835 non-null   int64         \n",
            " 3   Injury                                       7835 non-null   float64       \n",
            " 4   season                                       7835 non-null   object        \n",
            " 5   LEAGUE                                       7835 non-null   object        \n",
            " 6   preseason-season                             7835 non-null   object        \n",
            " 7   MANAGER                                      7835 non-null   object        \n",
            " 8   Total D                                      7835 non-null   float64       \n",
            " 9   >19.8                                        7835 non-null   float64       \n",
            " 10  > 25 Km/h                                    7835 non-null   float64       \n",
            " 11  ACC                                          7802 non-null   float64       \n",
            " 12  DEC                                          7802 non-null   float64       \n",
            " 13  ID                                           7835 non-null   float64       \n",
            " 14  Player Position                              7830 non-null   object        \n",
            " 15  Max Speed                                    7827 non-null   float64       \n",
            " 16  Sprints                                      7835 non-null   float64       \n",
            " 17  MINUTES                                      7835 non-null   float64       \n",
            " 18  Season                                       7835 non-null   object        \n",
            " 19  Max Speed Season                             7835 non-null   float64       \n",
            " 20  Avg Speed Season                             7835 non-null   float64       \n",
            " 21  % Max Speed                                  7835 non-null   float64       \n",
            " 22  %Speed diference against max. Speed average  7835 non-null   float64       \n",
            "dtypes: datetime64[ns](1), float64(14), int64(1), object(7)\n",
            "memory usage: 1.4+ MB\n"
          ]
        }
      ],
      "source": [
        "df_merged.info()"
      ]
    },
    {
      "cell_type": "markdown",
      "metadata": {
        "id": "k49BDnwd76Wl"
      },
      "source": [
        "# Values that are 0 for ACC, DEC, Max Speed"
      ]
    },
    {
      "cell_type": "code",
      "execution_count": 91,
      "metadata": {
        "colab": {
          "base_uri": "https://localhost:8080/",
          "height": 770
        },
        "id": "PiBUD5vY76mi",
        "outputId": "9f88f73f-b282-48d4-f26d-ebb1abb092a2"
      },
      "outputs": [
        {
          "data": {
            "text/html": [
              "<div>\n",
              "<style scoped>\n",
              "    .dataframe tbody tr th:only-of-type {\n",
              "        vertical-align: middle;\n",
              "    }\n",
              "\n",
              "    .dataframe tbody tr th {\n",
              "        vertical-align: top;\n",
              "    }\n",
              "\n",
              "    .dataframe thead th {\n",
              "        text-align: right;\n",
              "    }\n",
              "</style>\n",
              "<table border=\"1\" class=\"dataframe\">\n",
              "  <thead>\n",
              "    <tr style=\"text-align: right;\">\n",
              "      <th></th>\n",
              "      <th>Column Name</th>\n",
              "      <th>Number of Rows with 0</th>\n",
              "    </tr>\n",
              "  </thead>\n",
              "  <tbody>\n",
              "    <tr>\n",
              "      <th>0</th>\n",
              "      <td>DATE</td>\n",
              "      <td>0</td>\n",
              "    </tr>\n",
              "    <tr>\n",
              "      <th>1</th>\n",
              "      <td>Column2</td>\n",
              "      <td>382</td>\n",
              "    </tr>\n",
              "    <tr>\n",
              "      <th>2</th>\n",
              "      <td>PLAYER</td>\n",
              "      <td>0</td>\n",
              "    </tr>\n",
              "    <tr>\n",
              "      <th>3</th>\n",
              "      <td>Injury</td>\n",
              "      <td>7798</td>\n",
              "    </tr>\n",
              "    <tr>\n",
              "      <th>4</th>\n",
              "      <td>season</td>\n",
              "      <td>0</td>\n",
              "    </tr>\n",
              "    <tr>\n",
              "      <th>5</th>\n",
              "      <td>LEAGUE</td>\n",
              "      <td>0</td>\n",
              "    </tr>\n",
              "    <tr>\n",
              "      <th>6</th>\n",
              "      <td>preseason-season</td>\n",
              "      <td>0</td>\n",
              "    </tr>\n",
              "    <tr>\n",
              "      <th>7</th>\n",
              "      <td>MANAGER</td>\n",
              "      <td>0</td>\n",
              "    </tr>\n",
              "    <tr>\n",
              "      <th>8</th>\n",
              "      <td>Total D</td>\n",
              "      <td>3</td>\n",
              "    </tr>\n",
              "    <tr>\n",
              "      <th>9</th>\n",
              "      <td>&gt;19.8</td>\n",
              "      <td>420</td>\n",
              "    </tr>\n",
              "    <tr>\n",
              "      <th>10</th>\n",
              "      <td>&gt; 25 Km/h</td>\n",
              "      <td>2548</td>\n",
              "    </tr>\n",
              "    <tr>\n",
              "      <th>11</th>\n",
              "      <td>ACC</td>\n",
              "      <td>114</td>\n",
              "    </tr>\n",
              "    <tr>\n",
              "      <th>12</th>\n",
              "      <td>DEC</td>\n",
              "      <td>226</td>\n",
              "    </tr>\n",
              "    <tr>\n",
              "      <th>13</th>\n",
              "      <td>ID</td>\n",
              "      <td>0</td>\n",
              "    </tr>\n",
              "    <tr>\n",
              "      <th>14</th>\n",
              "      <td>Player Position</td>\n",
              "      <td>0</td>\n",
              "    </tr>\n",
              "    <tr>\n",
              "      <th>15</th>\n",
              "      <td>Max Speed</td>\n",
              "      <td>3</td>\n",
              "    </tr>\n",
              "    <tr>\n",
              "      <th>16</th>\n",
              "      <td>Sprints</td>\n",
              "      <td>1747</td>\n",
              "    </tr>\n",
              "    <tr>\n",
              "      <th>17</th>\n",
              "      <td>MINUTES</td>\n",
              "      <td>1</td>\n",
              "    </tr>\n",
              "    <tr>\n",
              "      <th>18</th>\n",
              "      <td>Season</td>\n",
              "      <td>0</td>\n",
              "    </tr>\n",
              "    <tr>\n",
              "      <th>19</th>\n",
              "      <td>Max Speed Season</td>\n",
              "      <td>0</td>\n",
              "    </tr>\n",
              "    <tr>\n",
              "      <th>20</th>\n",
              "      <td>Avg Speed Season</td>\n",
              "      <td>0</td>\n",
              "    </tr>\n",
              "    <tr>\n",
              "      <th>21</th>\n",
              "      <td>% Max Speed</td>\n",
              "      <td>11</td>\n",
              "    </tr>\n",
              "    <tr>\n",
              "      <th>22</th>\n",
              "      <td>%Speed diference against max. Speed average</td>\n",
              "      <td>0</td>\n",
              "    </tr>\n",
              "  </tbody>\n",
              "</table>\n",
              "</div>"
            ],
            "text/plain": [
              "                                    Column Name  Number of Rows with 0\n",
              "0                                          DATE                      0\n",
              "1                                       Column2                    382\n",
              "2                                        PLAYER                      0\n",
              "3                                        Injury                   7798\n",
              "4                                        season                      0\n",
              "5                                        LEAGUE                      0\n",
              "6                              preseason-season                      0\n",
              "7                                       MANAGER                      0\n",
              "8                                       Total D                      3\n",
              "9                                         >19.8                    420\n",
              "10                                    > 25 Km/h                   2548\n",
              "11                                          ACC                    114\n",
              "12                                          DEC                    226\n",
              "13                                           ID                      0\n",
              "14                              Player Position                      0\n",
              "15                                    Max Speed                      3\n",
              "16                                      Sprints                   1747\n",
              "17                                      MINUTES                      1\n",
              "18                                       Season                      0\n",
              "19                             Max Speed Season                      0\n",
              "20                             Avg Speed Season                      0\n",
              "21                                  % Max Speed                     11\n",
              "22  %Speed diference against max. Speed average                      0"
            ]
          },
          "execution_count": 91,
          "metadata": {},
          "output_type": "execute_result"
        }
      ],
      "source": [
        "# Count of rows containing 0 for each column\n",
        "zero_counts = (df_merged == 0).sum()\n",
        "\n",
        "# Creating a DataFrame for the results\n",
        "result_df = pd.DataFrame({\n",
        "    \"Column Name\": zero_counts.index,\n",
        "    \"Number of Rows with 0\": zero_counts.values\n",
        "})\n",
        "\n",
        "result_df"
      ]
    },
    {
      "cell_type": "code",
      "execution_count": 92,
      "metadata": {
        "id": "ZoHA5czI8EjM"
      },
      "outputs": [],
      "source": [
        "# Columns to impute\n",
        "metrics_imputation_zeroes = ['Total D', 'ACC', 'DEC', 'Max Speed', 'MINUTES']\n",
        "\n",
        "# Columns to use for KNN calculation\n",
        "columns_for_knn = ['Total D', '>19.8', '> 25 Km/h', 'ACC', 'DEC', 'ID',\n",
        "                   'Max Speed', 'Sprints', 'MINUTES', '% Max Speed']\n",
        "\n",
        "# Replace 0 with NaN in the columns to be imputed\n",
        "df_merged[metrics_imputation_zeroes] = df_merged[metrics_imputation_zeroes].replace(0, np.nan)\n",
        "\n",
        "# Ensure the columns used for KNN calculation are numeric\n",
        "columns_for_knn_numeric = df_merged[columns_for_knn].select_dtypes(include=[np.number]).columns.tolist()\n",
        "\n",
        "# Initialize the KNNImputer\n",
        "knn_imputer = KNNImputer(n_neighbors=5)  # Adjust n_neighbors if needed\n",
        "\n",
        "# Perform KNN imputation using the broader set of columns for calculation\n",
        "imputed_values = knn_imputer.fit_transform(df_merged[columns_for_knn_numeric])\n",
        "\n",
        "# Update only the specified columns to impute\n",
        "df_merged[metrics_imputation_zeroes] = imputed_values[:,\n",
        "    [columns_for_knn_numeric.index(col) for col in metrics_imputation_zeroes]]"
      ]
    },
    {
      "cell_type": "code",
      "execution_count": 93,
      "metadata": {
        "colab": {
          "base_uri": "https://localhost:8080/",
          "height": 770
        },
        "id": "ftn-nTzS92kY",
        "outputId": "c59df330-eaec-45aa-9db4-f84b0383b358"
      },
      "outputs": [
        {
          "data": {
            "text/html": [
              "<div>\n",
              "<style scoped>\n",
              "    .dataframe tbody tr th:only-of-type {\n",
              "        vertical-align: middle;\n",
              "    }\n",
              "\n",
              "    .dataframe tbody tr th {\n",
              "        vertical-align: top;\n",
              "    }\n",
              "\n",
              "    .dataframe thead th {\n",
              "        text-align: right;\n",
              "    }\n",
              "</style>\n",
              "<table border=\"1\" class=\"dataframe\">\n",
              "  <thead>\n",
              "    <tr style=\"text-align: right;\">\n",
              "      <th></th>\n",
              "      <th>Column Name</th>\n",
              "      <th>Number of Rows with 0</th>\n",
              "    </tr>\n",
              "  </thead>\n",
              "  <tbody>\n",
              "    <tr>\n",
              "      <th>0</th>\n",
              "      <td>DATE</td>\n",
              "      <td>0</td>\n",
              "    </tr>\n",
              "    <tr>\n",
              "      <th>1</th>\n",
              "      <td>Column2</td>\n",
              "      <td>382</td>\n",
              "    </tr>\n",
              "    <tr>\n",
              "      <th>2</th>\n",
              "      <td>PLAYER</td>\n",
              "      <td>0</td>\n",
              "    </tr>\n",
              "    <tr>\n",
              "      <th>3</th>\n",
              "      <td>Injury</td>\n",
              "      <td>7798</td>\n",
              "    </tr>\n",
              "    <tr>\n",
              "      <th>4</th>\n",
              "      <td>season</td>\n",
              "      <td>0</td>\n",
              "    </tr>\n",
              "    <tr>\n",
              "      <th>5</th>\n",
              "      <td>LEAGUE</td>\n",
              "      <td>0</td>\n",
              "    </tr>\n",
              "    <tr>\n",
              "      <th>6</th>\n",
              "      <td>preseason-season</td>\n",
              "      <td>0</td>\n",
              "    </tr>\n",
              "    <tr>\n",
              "      <th>7</th>\n",
              "      <td>MANAGER</td>\n",
              "      <td>0</td>\n",
              "    </tr>\n",
              "    <tr>\n",
              "      <th>8</th>\n",
              "      <td>Total D</td>\n",
              "      <td>0</td>\n",
              "    </tr>\n",
              "    <tr>\n",
              "      <th>9</th>\n",
              "      <td>&gt;19.8</td>\n",
              "      <td>420</td>\n",
              "    </tr>\n",
              "    <tr>\n",
              "      <th>10</th>\n",
              "      <td>&gt; 25 Km/h</td>\n",
              "      <td>2548</td>\n",
              "    </tr>\n",
              "    <tr>\n",
              "      <th>11</th>\n",
              "      <td>ACC</td>\n",
              "      <td>0</td>\n",
              "    </tr>\n",
              "    <tr>\n",
              "      <th>12</th>\n",
              "      <td>DEC</td>\n",
              "      <td>0</td>\n",
              "    </tr>\n",
              "    <tr>\n",
              "      <th>13</th>\n",
              "      <td>ID</td>\n",
              "      <td>0</td>\n",
              "    </tr>\n",
              "    <tr>\n",
              "      <th>14</th>\n",
              "      <td>Player Position</td>\n",
              "      <td>0</td>\n",
              "    </tr>\n",
              "    <tr>\n",
              "      <th>15</th>\n",
              "      <td>Max Speed</td>\n",
              "      <td>0</td>\n",
              "    </tr>\n",
              "    <tr>\n",
              "      <th>16</th>\n",
              "      <td>Sprints</td>\n",
              "      <td>1747</td>\n",
              "    </tr>\n",
              "    <tr>\n",
              "      <th>17</th>\n",
              "      <td>MINUTES</td>\n",
              "      <td>0</td>\n",
              "    </tr>\n",
              "    <tr>\n",
              "      <th>18</th>\n",
              "      <td>Season</td>\n",
              "      <td>0</td>\n",
              "    </tr>\n",
              "    <tr>\n",
              "      <th>19</th>\n",
              "      <td>Max Speed Season</td>\n",
              "      <td>0</td>\n",
              "    </tr>\n",
              "    <tr>\n",
              "      <th>20</th>\n",
              "      <td>Avg Speed Season</td>\n",
              "      <td>0</td>\n",
              "    </tr>\n",
              "    <tr>\n",
              "      <th>21</th>\n",
              "      <td>% Max Speed</td>\n",
              "      <td>11</td>\n",
              "    </tr>\n",
              "    <tr>\n",
              "      <th>22</th>\n",
              "      <td>%Speed diference against max. Speed average</td>\n",
              "      <td>0</td>\n",
              "    </tr>\n",
              "  </tbody>\n",
              "</table>\n",
              "</div>"
            ],
            "text/plain": [
              "                                    Column Name  Number of Rows with 0\n",
              "0                                          DATE                      0\n",
              "1                                       Column2                    382\n",
              "2                                        PLAYER                      0\n",
              "3                                        Injury                   7798\n",
              "4                                        season                      0\n",
              "5                                        LEAGUE                      0\n",
              "6                              preseason-season                      0\n",
              "7                                       MANAGER                      0\n",
              "8                                       Total D                      0\n",
              "9                                         >19.8                    420\n",
              "10                                    > 25 Km/h                   2548\n",
              "11                                          ACC                      0\n",
              "12                                          DEC                      0\n",
              "13                                           ID                      0\n",
              "14                              Player Position                      0\n",
              "15                                    Max Speed                      0\n",
              "16                                      Sprints                   1747\n",
              "17                                      MINUTES                      0\n",
              "18                                       Season                      0\n",
              "19                             Max Speed Season                      0\n",
              "20                             Avg Speed Season                      0\n",
              "21                                  % Max Speed                     11\n",
              "22  %Speed diference against max. Speed average                      0"
            ]
          },
          "execution_count": 93,
          "metadata": {},
          "output_type": "execute_result"
        }
      ],
      "source": [
        "# Count of rows containing 0 for each column\n",
        "zero_counts = (df_merged == 0).sum()\n",
        "\n",
        "# Creating a DataFrame for the results\n",
        "result_df = pd.DataFrame({\n",
        "    \"Column Name\": zero_counts.index,\n",
        "    \"Number of Rows with 0\": zero_counts.values\n",
        "})\n",
        "\n",
        "result_df"
      ]
    },
    {
      "cell_type": "code",
      "execution_count": 94,
      "metadata": {
        "colab": {
          "base_uri": "https://localhost:8080/",
          "height": 692
        },
        "id": "Yruf1GGE9_50",
        "outputId": "ee202a43-45ac-4456-c6d2-ba899ad99534"
      },
      "outputs": [
        {
          "data": {
            "text/html": [
              "<div>\n",
              "<style scoped>\n",
              "    .dataframe tbody tr th:only-of-type {\n",
              "        vertical-align: middle;\n",
              "    }\n",
              "\n",
              "    .dataframe tbody tr th {\n",
              "        vertical-align: top;\n",
              "    }\n",
              "\n",
              "    .dataframe thead th {\n",
              "        text-align: right;\n",
              "    }\n",
              "</style>\n",
              "<table border=\"1\" class=\"dataframe\">\n",
              "  <thead>\n",
              "    <tr style=\"text-align: right;\">\n",
              "      <th></th>\n",
              "      <th>DATE</th>\n",
              "      <th>Column2</th>\n",
              "      <th>PLAYER</th>\n",
              "      <th>Injury</th>\n",
              "      <th>season</th>\n",
              "      <th>LEAGUE</th>\n",
              "      <th>preseason-season</th>\n",
              "      <th>MANAGER</th>\n",
              "      <th>Total D</th>\n",
              "      <th>&gt;19.8</th>\n",
              "      <th>&gt; 25 Km/h</th>\n",
              "      <th>ACC</th>\n",
              "      <th>DEC</th>\n",
              "      <th>ID</th>\n",
              "      <th>Player Position</th>\n",
              "      <th>Max Speed</th>\n",
              "      <th>Sprints</th>\n",
              "      <th>MINUTES</th>\n",
              "      <th>Season</th>\n",
              "      <th>Max Speed Season</th>\n",
              "      <th>Avg Speed Season</th>\n",
              "      <th>% Max Speed</th>\n",
              "      <th>%Speed diference against max. Speed average</th>\n",
              "    </tr>\n",
              "  </thead>\n",
              "  <tbody>\n",
              "    <tr>\n",
              "      <th>3268</th>\n",
              "      <td>2022-09-12</td>\n",
              "      <td>M-1</td>\n",
              "      <td>37990</td>\n",
              "      <td>0.0</td>\n",
              "      <td>2022-2023</td>\n",
              "      <td>CHAMPIONSHIP</td>\n",
              "      <td>SEASON</td>\n",
              "      <td>EDWARDS</td>\n",
              "      <td>5215.0</td>\n",
              "      <td>549.0</td>\n",
              "      <td>50.0</td>\n",
              "      <td>51.0</td>\n",
              "      <td>18.0</td>\n",
              "      <td>37990.0</td>\n",
              "      <td>FULL BACK</td>\n",
              "      <td>32.174</td>\n",
              "      <td>0.0</td>\n",
              "      <td>74.792</td>\n",
              "      <td>2022-2023</td>\n",
              "      <td>37.28</td>\n",
              "      <td>22.669514</td>\n",
              "      <td>0.0</td>\n",
              "      <td>-100.0</td>\n",
              "    </tr>\n",
              "    <tr>\n",
              "      <th>5185</th>\n",
              "      <td>2022-04-02</td>\n",
              "      <td>MD</td>\n",
              "      <td>65042</td>\n",
              "      <td>0.0</td>\n",
              "      <td>2021-2022</td>\n",
              "      <td>PREMIER LEAGUE</td>\n",
              "      <td>SEASON</td>\n",
              "      <td>HODGSON</td>\n",
              "      <td>800.0</td>\n",
              "      <td>600.0</td>\n",
              "      <td>0.0</td>\n",
              "      <td>9.4</td>\n",
              "      <td>7.6</td>\n",
              "      <td>65042.0</td>\n",
              "      <td>CENTRE MIDFIELDER</td>\n",
              "      <td>23.592</td>\n",
              "      <td>0.0</td>\n",
              "      <td>5.000</td>\n",
              "      <td>2021-2022</td>\n",
              "      <td>34.92</td>\n",
              "      <td>20.048756</td>\n",
              "      <td>0.0</td>\n",
              "      <td>-100.0</td>\n",
              "    </tr>\n",
              "    <tr>\n",
              "      <th>5187</th>\n",
              "      <td>2022-04-02</td>\n",
              "      <td>MD</td>\n",
              "      <td>23085</td>\n",
              "      <td>0.0</td>\n",
              "      <td>2021-2022</td>\n",
              "      <td>PREMIER LEAGUE</td>\n",
              "      <td>SEASON</td>\n",
              "      <td>HODGSON</td>\n",
              "      <td>800.0</td>\n",
              "      <td>600.0</td>\n",
              "      <td>0.0</td>\n",
              "      <td>3.6</td>\n",
              "      <td>6.2</td>\n",
              "      <td>23085.0</td>\n",
              "      <td>CENTRE MIDFIELDER</td>\n",
              "      <td>17.784</td>\n",
              "      <td>0.0</td>\n",
              "      <td>5.000</td>\n",
              "      <td>2021-2022</td>\n",
              "      <td>30.73</td>\n",
              "      <td>20.278653</td>\n",
              "      <td>0.0</td>\n",
              "      <td>-100.0</td>\n",
              "    </tr>\n",
              "    <tr>\n",
              "      <th>5191</th>\n",
              "      <td>2022-04-02</td>\n",
              "      <td>MD</td>\n",
              "      <td>17316</td>\n",
              "      <td>0.0</td>\n",
              "      <td>2021-2022</td>\n",
              "      <td>PREMIER LEAGUE</td>\n",
              "      <td>SEASON</td>\n",
              "      <td>HODGSON</td>\n",
              "      <td>800.0</td>\n",
              "      <td>600.0</td>\n",
              "      <td>0.0</td>\n",
              "      <td>6.2</td>\n",
              "      <td>5.6</td>\n",
              "      <td>17316.0</td>\n",
              "      <td>WINGER</td>\n",
              "      <td>21.586</td>\n",
              "      <td>0.0</td>\n",
              "      <td>5.000</td>\n",
              "      <td>2021-2022</td>\n",
              "      <td>33.73</td>\n",
              "      <td>20.441103</td>\n",
              "      <td>0.0</td>\n",
              "      <td>-100.0</td>\n",
              "    </tr>\n",
              "    <tr>\n",
              "      <th>5195</th>\n",
              "      <td>2022-04-02</td>\n",
              "      <td>MD</td>\n",
              "      <td>42579</td>\n",
              "      <td>0.0</td>\n",
              "      <td>2021-2022</td>\n",
              "      <td>PREMIER LEAGUE</td>\n",
              "      <td>SEASON</td>\n",
              "      <td>HODGSON</td>\n",
              "      <td>800.0</td>\n",
              "      <td>600.0</td>\n",
              "      <td>0.0</td>\n",
              "      <td>23.0</td>\n",
              "      <td>12.6</td>\n",
              "      <td>42579.0</td>\n",
              "      <td>CENTRE BACK</td>\n",
              "      <td>21.274</td>\n",
              "      <td>0.0</td>\n",
              "      <td>5.000</td>\n",
              "      <td>2021-2022</td>\n",
              "      <td>29.76</td>\n",
              "      <td>19.989098</td>\n",
              "      <td>0.0</td>\n",
              "      <td>-100.0</td>\n",
              "    </tr>\n",
              "    <tr>\n",
              "      <th>5199</th>\n",
              "      <td>2022-04-02</td>\n",
              "      <td>MD</td>\n",
              "      <td>23081</td>\n",
              "      <td>0.0</td>\n",
              "      <td>2021-2022</td>\n",
              "      <td>PREMIER LEAGUE</td>\n",
              "      <td>SEASON</td>\n",
              "      <td>HODGSON</td>\n",
              "      <td>800.0</td>\n",
              "      <td>600.0</td>\n",
              "      <td>0.0</td>\n",
              "      <td>3.6</td>\n",
              "      <td>6.2</td>\n",
              "      <td>23081.0</td>\n",
              "      <td>CENTRE BACK</td>\n",
              "      <td>17.784</td>\n",
              "      <td>0.0</td>\n",
              "      <td>5.000</td>\n",
              "      <td>2021-2022</td>\n",
              "      <td>34.94</td>\n",
              "      <td>20.537766</td>\n",
              "      <td>0.0</td>\n",
              "      <td>-100.0</td>\n",
              "    </tr>\n",
              "    <tr>\n",
              "      <th>5201</th>\n",
              "      <td>2022-04-02</td>\n",
              "      <td>MD</td>\n",
              "      <td>37709</td>\n",
              "      <td>0.0</td>\n",
              "      <td>2021-2022</td>\n",
              "      <td>PREMIER LEAGUE</td>\n",
              "      <td>SEASON</td>\n",
              "      <td>HODGSON</td>\n",
              "      <td>800.0</td>\n",
              "      <td>600.0</td>\n",
              "      <td>0.0</td>\n",
              "      <td>14.8</td>\n",
              "      <td>6.8</td>\n",
              "      <td>37709.0</td>\n",
              "      <td>CENTRE BACK</td>\n",
              "      <td>21.886</td>\n",
              "      <td>0.0</td>\n",
              "      <td>5.000</td>\n",
              "      <td>2021-2022</td>\n",
              "      <td>36.56</td>\n",
              "      <td>22.374467</td>\n",
              "      <td>0.0</td>\n",
              "      <td>-100.0</td>\n",
              "    </tr>\n",
              "    <tr>\n",
              "      <th>6701</th>\n",
              "      <td>2021-11-24</td>\n",
              "      <td>M-5</td>\n",
              "      <td>10452</td>\n",
              "      <td>0.0</td>\n",
              "      <td>2021-2022</td>\n",
              "      <td>PREMIER LEAGUE</td>\n",
              "      <td>SEASON</td>\n",
              "      <td>RANIERI</td>\n",
              "      <td>2354.4</td>\n",
              "      <td>0.0</td>\n",
              "      <td>0.0</td>\n",
              "      <td>18.8</td>\n",
              "      <td>18.0</td>\n",
              "      <td>10452.0</td>\n",
              "      <td>FULL BACK</td>\n",
              "      <td>13.458</td>\n",
              "      <td>0.0</td>\n",
              "      <td>15.000</td>\n",
              "      <td>2021-2022</td>\n",
              "      <td>34.54</td>\n",
              "      <td>22.291234</td>\n",
              "      <td>0.0</td>\n",
              "      <td>-100.0</td>\n",
              "    </tr>\n",
              "    <tr>\n",
              "      <th>6831</th>\n",
              "      <td>2021-11-07</td>\n",
              "      <td>MD</td>\n",
              "      <td>21079</td>\n",
              "      <td>0.0</td>\n",
              "      <td>2021-2022</td>\n",
              "      <td>PREMIER LEAGUE</td>\n",
              "      <td>SEASON</td>\n",
              "      <td>RANIERI</td>\n",
              "      <td>10554.0</td>\n",
              "      <td>734.0</td>\n",
              "      <td>361.0</td>\n",
              "      <td>95.0</td>\n",
              "      <td>108.0</td>\n",
              "      <td>21079.0</td>\n",
              "      <td>WINGER</td>\n",
              "      <td>35.094</td>\n",
              "      <td>75.0</td>\n",
              "      <td>100.450</td>\n",
              "      <td>2021-2022</td>\n",
              "      <td>36.54</td>\n",
              "      <td>21.962986</td>\n",
              "      <td>0.0</td>\n",
              "      <td>-100.0</td>\n",
              "    </tr>\n",
              "    <tr>\n",
              "      <th>7400</th>\n",
              "      <td>2022-10-19</td>\n",
              "      <td>MD (AWAY)</td>\n",
              "      <td>77765</td>\n",
              "      <td>0.0</td>\n",
              "      <td>2022-2023</td>\n",
              "      <td>CHAMPIONSHIP</td>\n",
              "      <td>SEASON</td>\n",
              "      <td>BILIC</td>\n",
              "      <td>1646.0</td>\n",
              "      <td>77.0</td>\n",
              "      <td>1.0</td>\n",
              "      <td>13.0</td>\n",
              "      <td>23.0</td>\n",
              "      <td>77765.0</td>\n",
              "      <td>CENTRE MIDFIELDER</td>\n",
              "      <td>20.330</td>\n",
              "      <td>2.0</td>\n",
              "      <td>18.000</td>\n",
              "      <td>2022-2023</td>\n",
              "      <td>32.08</td>\n",
              "      <td>21.291520</td>\n",
              "      <td>0.0</td>\n",
              "      <td>-100.0</td>\n",
              "    </tr>\n",
              "    <tr>\n",
              "      <th>7738</th>\n",
              "      <td>2022-01-13</td>\n",
              "      <td>M-2</td>\n",
              "      <td>66786</td>\n",
              "      <td>0.0</td>\n",
              "      <td>2021-2022</td>\n",
              "      <td>PREMIER LEAGUE</td>\n",
              "      <td>SEASON</td>\n",
              "      <td>RANIERI</td>\n",
              "      <td>2133.2</td>\n",
              "      <td>0.0</td>\n",
              "      <td>0.0</td>\n",
              "      <td>16.0</td>\n",
              "      <td>4.4</td>\n",
              "      <td>66786.0</td>\n",
              "      <td>WINGER</td>\n",
              "      <td>17.478</td>\n",
              "      <td>0.0</td>\n",
              "      <td>27.660</td>\n",
              "      <td>2021-2022</td>\n",
              "      <td>36.43</td>\n",
              "      <td>22.549584</td>\n",
              "      <td>0.0</td>\n",
              "      <td>-100.0</td>\n",
              "    </tr>\n",
              "  </tbody>\n",
              "</table>\n",
              "</div>"
            ],
            "text/plain": [
              "           DATE     Column2  PLAYER  Injury     season          LEAGUE  \\\n",
              "3268 2022-09-12         M-1   37990     0.0  2022-2023    CHAMPIONSHIP   \n",
              "5185 2022-04-02          MD   65042     0.0  2021-2022  PREMIER LEAGUE   \n",
              "5187 2022-04-02          MD   23085     0.0  2021-2022  PREMIER LEAGUE   \n",
              "5191 2022-04-02          MD   17316     0.0  2021-2022  PREMIER LEAGUE   \n",
              "5195 2022-04-02          MD   42579     0.0  2021-2022  PREMIER LEAGUE   \n",
              "5199 2022-04-02          MD   23081     0.0  2021-2022  PREMIER LEAGUE   \n",
              "5201 2022-04-02          MD   37709     0.0  2021-2022  PREMIER LEAGUE   \n",
              "6701 2021-11-24         M-5   10452     0.0  2021-2022  PREMIER LEAGUE   \n",
              "6831 2021-11-07          MD   21079     0.0  2021-2022  PREMIER LEAGUE   \n",
              "7400 2022-10-19  MD (AWAY)    77765     0.0  2022-2023    CHAMPIONSHIP   \n",
              "7738 2022-01-13         M-2   66786     0.0  2021-2022  PREMIER LEAGUE   \n",
              "\n",
              "     preseason-season  MANAGER  Total D  >19.8  > 25 Km/h   ACC    DEC  \\\n",
              "3268           SEASON  EDWARDS   5215.0  549.0       50.0  51.0   18.0   \n",
              "5185           SEASON  HODGSON    800.0  600.0        0.0   9.4    7.6   \n",
              "5187           SEASON  HODGSON    800.0  600.0        0.0   3.6    6.2   \n",
              "5191           SEASON  HODGSON    800.0  600.0        0.0   6.2    5.6   \n",
              "5195           SEASON  HODGSON    800.0  600.0        0.0  23.0   12.6   \n",
              "5199           SEASON  HODGSON    800.0  600.0        0.0   3.6    6.2   \n",
              "5201           SEASON  HODGSON    800.0  600.0        0.0  14.8    6.8   \n",
              "6701           SEASON  RANIERI   2354.4    0.0        0.0  18.8   18.0   \n",
              "6831           SEASON  RANIERI  10554.0  734.0      361.0  95.0  108.0   \n",
              "7400           SEASON    BILIC   1646.0   77.0        1.0  13.0   23.0   \n",
              "7738           SEASON  RANIERI   2133.2    0.0        0.0  16.0    4.4   \n",
              "\n",
              "           ID    Player Position  Max Speed  Sprints  MINUTES     Season  \\\n",
              "3268  37990.0          FULL BACK     32.174      0.0   74.792  2022-2023   \n",
              "5185  65042.0  CENTRE MIDFIELDER     23.592      0.0    5.000  2021-2022   \n",
              "5187  23085.0  CENTRE MIDFIELDER     17.784      0.0    5.000  2021-2022   \n",
              "5191  17316.0             WINGER     21.586      0.0    5.000  2021-2022   \n",
              "5195  42579.0        CENTRE BACK     21.274      0.0    5.000  2021-2022   \n",
              "5199  23081.0        CENTRE BACK     17.784      0.0    5.000  2021-2022   \n",
              "5201  37709.0        CENTRE BACK     21.886      0.0    5.000  2021-2022   \n",
              "6701  10452.0          FULL BACK     13.458      0.0   15.000  2021-2022   \n",
              "6831  21079.0             WINGER     35.094     75.0  100.450  2021-2022   \n",
              "7400  77765.0  CENTRE MIDFIELDER     20.330      2.0   18.000  2022-2023   \n",
              "7738  66786.0             WINGER     17.478      0.0   27.660  2021-2022   \n",
              "\n",
              "      Max Speed Season  Avg Speed Season  % Max Speed  \\\n",
              "3268             37.28         22.669514          0.0   \n",
              "5185             34.92         20.048756          0.0   \n",
              "5187             30.73         20.278653          0.0   \n",
              "5191             33.73         20.441103          0.0   \n",
              "5195             29.76         19.989098          0.0   \n",
              "5199             34.94         20.537766          0.0   \n",
              "5201             36.56         22.374467          0.0   \n",
              "6701             34.54         22.291234          0.0   \n",
              "6831             36.54         21.962986          0.0   \n",
              "7400             32.08         21.291520          0.0   \n",
              "7738             36.43         22.549584          0.0   \n",
              "\n",
              "      %Speed diference against max. Speed average  \n",
              "3268                                       -100.0  \n",
              "5185                                       -100.0  \n",
              "5187                                       -100.0  \n",
              "5191                                       -100.0  \n",
              "5195                                       -100.0  \n",
              "5199                                       -100.0  \n",
              "5201                                       -100.0  \n",
              "6701                                       -100.0  \n",
              "6831                                       -100.0  \n",
              "7400                                       -100.0  \n",
              "7738                                       -100.0  "
            ]
          },
          "execution_count": 94,
          "metadata": {},
          "output_type": "execute_result"
        }
      ],
      "source": [
        "df_merged[df_merged['% Max Speed'] == 0]"
      ]
    },
    {
      "cell_type": "code",
      "execution_count": 95,
      "metadata": {
        "id": "CmFJVTTE_OCJ"
      },
      "outputs": [],
      "source": [
        "# Calculate '% Max Speed' for all rows\n",
        "df_merged['% Max Speed'] = (df_merged['Max Speed'] / df_merged['Max Speed Season']) * 100\n",
        "\n",
        "# Calculate '% Speed difference against max. Speed average' for all rows\n",
        "df_merged['%Speed diference against max. Speed average'] = (\n",
        "    (df_merged['Max Speed'] - df_merged['Avg Speed Season']) / df_merged['Avg Speed Season']\n",
        ") * 100"
      ]
    },
    {
      "cell_type": "code",
      "execution_count": 96,
      "metadata": {
        "colab": {
          "base_uri": "https://localhost:8080/",
          "height": 167
        },
        "id": "d89vcLeS_PS2",
        "outputId": "89d2992c-d327-4c30-8865-c57fa1d07acc"
      },
      "outputs": [
        {
          "data": {
            "text/html": [
              "<div>\n",
              "<style scoped>\n",
              "    .dataframe tbody tr th:only-of-type {\n",
              "        vertical-align: middle;\n",
              "    }\n",
              "\n",
              "    .dataframe tbody tr th {\n",
              "        vertical-align: top;\n",
              "    }\n",
              "\n",
              "    .dataframe thead th {\n",
              "        text-align: right;\n",
              "    }\n",
              "</style>\n",
              "<table border=\"1\" class=\"dataframe\">\n",
              "  <thead>\n",
              "    <tr style=\"text-align: right;\">\n",
              "      <th></th>\n",
              "      <th>DATE</th>\n",
              "      <th>Column2</th>\n",
              "      <th>PLAYER</th>\n",
              "      <th>Injury</th>\n",
              "      <th>season</th>\n",
              "      <th>LEAGUE</th>\n",
              "      <th>preseason-season</th>\n",
              "      <th>MANAGER</th>\n",
              "      <th>Total D</th>\n",
              "      <th>&gt;19.8</th>\n",
              "      <th>&gt; 25 Km/h</th>\n",
              "      <th>ACC</th>\n",
              "      <th>DEC</th>\n",
              "      <th>ID</th>\n",
              "      <th>Player Position</th>\n",
              "      <th>Max Speed</th>\n",
              "      <th>Sprints</th>\n",
              "      <th>MINUTES</th>\n",
              "      <th>Season</th>\n",
              "      <th>Max Speed Season</th>\n",
              "      <th>Avg Speed Season</th>\n",
              "      <th>% Max Speed</th>\n",
              "      <th>%Speed diference against max. Speed average</th>\n",
              "    </tr>\n",
              "  </thead>\n",
              "  <tbody>\n",
              "    <tr>\n",
              "      <th>5185</th>\n",
              "      <td>2022-04-02</td>\n",
              "      <td>MD</td>\n",
              "      <td>65042</td>\n",
              "      <td>0.0</td>\n",
              "      <td>2021-2022</td>\n",
              "      <td>PREMIER LEAGUE</td>\n",
              "      <td>SEASON</td>\n",
              "      <td>HODGSON</td>\n",
              "      <td>800.0</td>\n",
              "      <td>600.0</td>\n",
              "      <td>0.0</td>\n",
              "      <td>9.4</td>\n",
              "      <td>7.6</td>\n",
              "      <td>65042.0</td>\n",
              "      <td>CENTRE MIDFIELDER</td>\n",
              "      <td>23.592</td>\n",
              "      <td>0.0</td>\n",
              "      <td>5.0</td>\n",
              "      <td>2021-2022</td>\n",
              "      <td>34.92</td>\n",
              "      <td>20.048756</td>\n",
              "      <td>67.560137</td>\n",
              "      <td>17.673139</td>\n",
              "    </tr>\n",
              "  </tbody>\n",
              "</table>\n",
              "</div>"
            ],
            "text/plain": [
              "           DATE Column2  PLAYER  Injury     season          LEAGUE  \\\n",
              "5185 2022-04-02      MD   65042     0.0  2021-2022  PREMIER LEAGUE   \n",
              "\n",
              "     preseason-season  MANAGER  Total D  >19.8  > 25 Km/h  ACC  DEC       ID  \\\n",
              "5185           SEASON  HODGSON    800.0  600.0        0.0  9.4  7.6  65042.0   \n",
              "\n",
              "        Player Position  Max Speed  Sprints  MINUTES     Season  \\\n",
              "5185  CENTRE MIDFIELDER     23.592      0.0      5.0  2021-2022   \n",
              "\n",
              "      Max Speed Season  Avg Speed Season  % Max Speed  \\\n",
              "5185             34.92         20.048756    67.560137   \n",
              "\n",
              "      %Speed diference against max. Speed average  \n",
              "5185                                    17.673139  "
            ]
          },
          "execution_count": 96,
          "metadata": {},
          "output_type": "execute_result"
        }
      ],
      "source": [
        "df_merged[(df_merged['PLAYER'] == 65042) & (df_merged['DATE'] == '2022-04-02')]"
      ]
    },
    {
      "cell_type": "markdown",
      "metadata": {
        "id": "IE6TXEKeJpHR"
      },
      "source": [
        "# Reduce data volume/size"
      ]
    },
    {
      "cell_type": "markdown",
      "metadata": {
        "id": "BoAoTXxMzZNA"
      },
      "source": [
        "Drop rows from preseason since its not the same intensity as regular season\n"
      ]
    },
    {
      "cell_type": "code",
      "execution_count": null,
      "metadata": {
        "id": "mjgLrtOjzYlA"
      },
      "outputs": [],
      "source": [
        "# df_merged = df_merged[df_merged['preseason-season'] != 'PRESEASON']\n",
        "\n",
        "# df_merged.reset_index(drop=True, inplace=True)"
      ]
    },
    {
      "cell_type": "markdown",
      "metadata": {
        "id": "MMeZ66HnGpbo"
      },
      "source": [
        "Class imbalance"
      ]
    },
    {
      "cell_type": "code",
      "execution_count": null,
      "metadata": {
        "id": "TcmZErTWybq2"
      },
      "outputs": [],
      "source": [
        "# print(\"No Injury: \" + str(df_merged[df_merged[\"Injury\"] == 0].shape[0]))\n",
        "# print(\"Injury: \" + str(df_merged[df_merged[\"Injury\"] == 1].shape[0]))\n",
        "# print(f\"%: {((df_merged[df_merged['Injury'] == 1].shape[0] / df_merged.shape[0]) * 100):.2f}%\")"
      ]
    },
    {
      "cell_type": "markdown",
      "metadata": {
        "id": "J7kQoG9fN7-U"
      },
      "source": [
        "## Players who have never been injured"
      ]
    },
    {
      "cell_type": "code",
      "execution_count": 97,
      "metadata": {
        "id": "Z1GBBf6Cy-rV"
      },
      "outputs": [],
      "source": [
        "# Group by ID and sum the Injury column\n",
        "injury_counts = df_merged.groupby('ID').agg({'Injury': 'sum'})\n",
        "\n",
        "# Get the IDs where the sum of Injury is greater than 0\n",
        "ids_to_remove = injury_counts[injury_counts['Injury'] == 0].index.tolist()\n",
        "\n",
        "# Remove these IDs from the original DataFrame\n",
        "df_filtered = df_merged[~df_merged['ID'].isin(ids_to_remove)]\n",
        "\n",
        "# df_filtered = df_merged.copy()"
      ]
    },
    {
      "cell_type": "code",
      "execution_count": 98,
      "metadata": {
        "colab": {
          "base_uri": "https://localhost:8080/"
        },
        "id": "yHb6TtbpzE-N",
        "outputId": "99fc7246-07bf-467d-8308-eb6a592b1ec5"
      },
      "outputs": [
        {
          "name": "stdout",
          "output_type": "stream",
          "text": [
            "No Injury: 4686\n",
            "Injury: 37\n",
            "%: 0.78%\n"
          ]
        }
      ],
      "source": [
        "print(\"No Injury: \" + str(df_filtered[df_filtered[\"Injury\"] == 0].shape[0]))\n",
        "print(\"Injury: \" + str(df_filtered[df_filtered[\"Injury\"] == 1].shape[0]))\n",
        "print(f\"%: {((df_filtered[df_filtered['Injury'] == 1].shape[0] / df_filtered.shape[0]) * 100):.2f}%\")"
      ]
    },
    {
      "cell_type": "markdown",
      "metadata": {
        "id": "iIMgTa92P19l"
      },
      "source": [
        "Verify at least one player had an injury"
      ]
    },
    {
      "cell_type": "code",
      "execution_count": 99,
      "metadata": {
        "colab": {
          "base_uri": "https://localhost:8080/",
          "height": 1000
        },
        "id": "q-4xg_iJjCJN",
        "outputId": "cad2c756-4d12-4a41-9e52-f8757e3f18fd"
      },
      "outputs": [
        {
          "data": {
            "text/html": [
              "<div>\n",
              "<style scoped>\n",
              "    .dataframe tbody tr th:only-of-type {\n",
              "        vertical-align: middle;\n",
              "    }\n",
              "\n",
              "    .dataframe tbody tr th {\n",
              "        vertical-align: top;\n",
              "    }\n",
              "\n",
              "    .dataframe thead th {\n",
              "        text-align: right;\n",
              "    }\n",
              "</style>\n",
              "<table border=\"1\" class=\"dataframe\">\n",
              "  <thead>\n",
              "    <tr style=\"text-align: right;\">\n",
              "      <th></th>\n",
              "      <th>Injury</th>\n",
              "    </tr>\n",
              "    <tr>\n",
              "      <th>ID</th>\n",
              "      <th></th>\n",
              "    </tr>\n",
              "  </thead>\n",
              "  <tbody>\n",
              "    <tr>\n",
              "      <th>10103.0</th>\n",
              "      <td>4.0</td>\n",
              "    </tr>\n",
              "    <tr>\n",
              "      <th>10452.0</th>\n",
              "      <td>2.0</td>\n",
              "    </tr>\n",
              "    <tr>\n",
              "      <th>12086.0</th>\n",
              "      <td>1.0</td>\n",
              "    </tr>\n",
              "    <tr>\n",
              "      <th>17316.0</th>\n",
              "      <td>2.0</td>\n",
              "    </tr>\n",
              "    <tr>\n",
              "      <th>18096.0</th>\n",
              "      <td>3.0</td>\n",
              "    </tr>\n",
              "    <tr>\n",
              "      <th>20083.0</th>\n",
              "      <td>1.0</td>\n",
              "    </tr>\n",
              "    <tr>\n",
              "      <th>21079.0</th>\n",
              "      <td>2.0</td>\n",
              "    </tr>\n",
              "    <tr>\n",
              "      <th>23081.0</th>\n",
              "      <td>2.0</td>\n",
              "    </tr>\n",
              "    <tr>\n",
              "      <th>23085.0</th>\n",
              "      <td>2.0</td>\n",
              "    </tr>\n",
              "    <tr>\n",
              "      <th>25467.0</th>\n",
              "      <td>1.0</td>\n",
              "    </tr>\n",
              "    <tr>\n",
              "      <th>26485.0</th>\n",
              "      <td>2.0</td>\n",
              "    </tr>\n",
              "    <tr>\n",
              "      <th>37709.0</th>\n",
              "      <td>1.0</td>\n",
              "    </tr>\n",
              "    <tr>\n",
              "      <th>37990.0</th>\n",
              "      <td>1.0</td>\n",
              "    </tr>\n",
              "    <tr>\n",
              "      <th>41392.0</th>\n",
              "      <td>3.0</td>\n",
              "    </tr>\n",
              "    <tr>\n",
              "      <th>42579.0</th>\n",
              "      <td>1.0</td>\n",
              "    </tr>\n",
              "    <tr>\n",
              "      <th>48692.0</th>\n",
              "      <td>2.0</td>\n",
              "    </tr>\n",
              "    <tr>\n",
              "      <th>50832.0</th>\n",
              "      <td>1.0</td>\n",
              "    </tr>\n",
              "    <tr>\n",
              "      <th>57090.0</th>\n",
              "      <td>1.0</td>\n",
              "    </tr>\n",
              "    <tr>\n",
              "      <th>66786.0</th>\n",
              "      <td>1.0</td>\n",
              "    </tr>\n",
              "    <tr>\n",
              "      <th>74154.0</th>\n",
              "      <td>1.0</td>\n",
              "    </tr>\n",
              "    <tr>\n",
              "      <th>76058.0</th>\n",
              "      <td>1.0</td>\n",
              "    </tr>\n",
              "    <tr>\n",
              "      <th>87583.0</th>\n",
              "      <td>1.0</td>\n",
              "    </tr>\n",
              "    <tr>\n",
              "      <th>89871.0</th>\n",
              "      <td>1.0</td>\n",
              "    </tr>\n",
              "  </tbody>\n",
              "</table>\n",
              "</div>"
            ],
            "text/plain": [
              "         Injury\n",
              "ID             \n",
              "10103.0     4.0\n",
              "10452.0     2.0\n",
              "12086.0     1.0\n",
              "17316.0     2.0\n",
              "18096.0     3.0\n",
              "20083.0     1.0\n",
              "21079.0     2.0\n",
              "23081.0     2.0\n",
              "23085.0     2.0\n",
              "25467.0     1.0\n",
              "26485.0     2.0\n",
              "37709.0     1.0\n",
              "37990.0     1.0\n",
              "41392.0     3.0\n",
              "42579.0     1.0\n",
              "48692.0     2.0\n",
              "50832.0     1.0\n",
              "57090.0     1.0\n",
              "66786.0     1.0\n",
              "74154.0     1.0\n",
              "76058.0     1.0\n",
              "87583.0     1.0\n",
              "89871.0     1.0"
            ]
          },
          "execution_count": 99,
          "metadata": {},
          "output_type": "execute_result"
        }
      ],
      "source": [
        "df_filtered.groupby('ID').agg({'Injury': 'sum'})"
      ]
    },
    {
      "cell_type": "markdown",
      "metadata": {
        "id": "hlpt1A1z0qnL"
      },
      "source": [
        "# Change column names"
      ]
    },
    {
      "cell_type": "code",
      "execution_count": 100,
      "metadata": {
        "colab": {
          "base_uri": "https://localhost:8080/"
        },
        "id": "NaTbJMl70qVx",
        "outputId": "27994428-e150-4ac7-d2e5-d66cf8f25e97"
      },
      "outputs": [
        {
          "name": "stdout",
          "output_type": "stream",
          "text": [
            "<class 'pandas.core.frame.DataFrame'>\n",
            "Index: 4723 entries, 0 to 7802\n",
            "Data columns (total 23 columns):\n",
            " #   Column              Non-Null Count  Dtype         \n",
            "---  ------              --------------  -----         \n",
            " 0   DATE                4723 non-null   datetime64[ns]\n",
            " 1   Microcycle          4723 non-null   object        \n",
            " 2   PLAYER              4723 non-null   int64         \n",
            " 3   Injury              4723 non-null   float64       \n",
            " 4   season              4723 non-null   object        \n",
            " 5   LEAGUE              4723 non-null   object        \n",
            " 6   preseason-season    4723 non-null   object        \n",
            " 7   MANAGER             4723 non-null   object        \n",
            " 8   TD                  4723 non-null   float64       \n",
            " 9   >19.8               4723 non-null   float64       \n",
            " 10  >25                 4723 non-null   float64       \n",
            " 11  ACC                 4723 non-null   float64       \n",
            " 12  DEC                 4723 non-null   float64       \n",
            " 13  PlayerID            4723 non-null   float64       \n",
            " 14  Player Position     4723 non-null   object        \n",
            " 15  Max Speed           4723 non-null   float64       \n",
            " 16  Sprints             4723 non-null   float64       \n",
            " 17  Mins                4723 non-null   float64       \n",
            " 18  Season              4723 non-null   object        \n",
            " 19  Max Speed Season    4723 non-null   float64       \n",
            " 20  Avg Speed Season    4723 non-null   float64       \n",
            " 21  % Max Speed         4723 non-null   float64       \n",
            " 22  Speed Diff Max Avg  4723 non-null   float64       \n",
            "dtypes: datetime64[ns](1), float64(14), int64(1), object(7)\n",
            "memory usage: 885.6+ KB\n"
          ]
        }
      ],
      "source": [
        "column_rename_dict = {\n",
        "    'Column2': 'Microcycle',\n",
        "    'DATE': 'DATE',\n",
        "    'ID': 'PlayerID',\n",
        "    'Total D': 'TD',\n",
        "    '>19.8': '>19.8',\n",
        "    '> 25 Km/h': '>25',\n",
        "    'ACC': 'ACC',\n",
        "    'DEC': 'DEC',\n",
        "    'Max Speed': 'Max Speed',\n",
        "    'Max Speed Season': 'Max Speed Season',\n",
        "    'Avg Speed Season': 'Avg Speed Season',\n",
        "    '% Max Speed': '% Max Speed',\n",
        "    '%Speed diference against max. Speed average': 'Speed Diff Max Avg',\n",
        "    'Injury': 'Injury',\n",
        "    'MINUTES': 'Mins',\n",
        "    'Sprints': 'Sprints',\n",
        "    'Total D_Rel': 'TD_Rel',\n",
        "    '>19.8_Rel': '>19.8_Rel',\n",
        "    '> 25 Km/h_Rel': '>25 Km/h_Rel',\n",
        "    'ACC_Rel': 'ACC_Rel',\n",
        "    'DEC_Rel': 'DEC_Rel',\n",
        "    'Sprints_Rel': 'Sprints_Rel'\n",
        "}\n",
        "\n",
        "df_filtered.rename(columns=column_rename_dict, inplace=True)\n",
        "\n",
        "df_filtered.info()"
      ]
    },
    {
      "cell_type": "markdown",
      "metadata": {
        "id": "Mn95S4wCir1F"
      },
      "source": [
        "# Drop unnecesary columns"
      ]
    },
    {
      "cell_type": "code",
      "execution_count": 101,
      "metadata": {
        "id": "QslQYs6qiuat"
      },
      "outputs": [],
      "source": [
        "df_filtered = df_filtered.drop(columns=['LEAGUE', 'MANAGER', 'PLAYER', 'Season'])"
      ]
    },
    {
      "cell_type": "markdown",
      "metadata": {
        "id": "9EZrpc3K6xj-"
      },
      "source": [
        "# Calculate relative values"
      ]
    },
    {
      "cell_type": "markdown",
      "metadata": {
        "id": "ri5GxCtCu5sw"
      },
      "source": [
        "We want the max and avg values for players that played over 85 in a Match Day"
      ]
    },
    {
      "cell_type": "markdown",
      "metadata": {
        "id": "8buwmO6evAE8"
      },
      "source": [
        "Remove spaces in 'Microcycle' column"
      ]
    },
    {
      "cell_type": "code",
      "execution_count": 102,
      "metadata": {
        "colab": {
          "base_uri": "https://localhost:8080/"
        },
        "id": "kjC7NhMgrqcZ",
        "outputId": "c3e9fb94-d2d2-48cb-c83b-c439048076e8"
      },
      "outputs": [
        {
          "data": {
            "text/plain": [
              "array(['M+2', 'M+1', 'MD', 'M-1', 'M-2', 'M-3', 'M-5', 'M+3', 'M-4',\n",
              "       'MD(AWAY)', 'MD(HOME)', nan], dtype=object)"
            ]
          },
          "execution_count": 102,
          "metadata": {},
          "output_type": "execute_result"
        }
      ],
      "source": [
        "df_filtered['Microcycle'] = df_filtered['Microcycle'].str.replace(' ', '', regex=False)\n",
        "df_filtered[\"Microcycle\"].unique()"
      ]
    },
    {
      "cell_type": "code",
      "execution_count": 103,
      "metadata": {
        "id": "rCSmYmI8Mvlv"
      },
      "outputs": [],
      "source": [
        "def calculate_relative_values(df_original, metrics):\n",
        "    # Array that holds match days\n",
        "    microcycle_values = ['MD', 'MD(HOME)', 'MD(AWAY)']\n",
        "\n",
        "    # Do a copy of the original DF\n",
        "    df_copy = df_original.copy()\n",
        "\n",
        "    # Filter players with +85 mins and match day\n",
        "    df_filtered_85_md = df_copy[\n",
        "        (df_copy['Mins'] > 85) &\n",
        "        (df_copy['Microcycle'].isin(microcycle_values))\n",
        "    ]\n",
        "\n",
        "    # Players who never completed 85 mins in matchday\n",
        "    df_filtered_85_only_mins = df_copy[df_copy['Mins'] > 85]\n",
        "\n",
        "    # Combine both DataFrames\n",
        "    df_filtered_85 = pd.concat([df_filtered_85_md, df_filtered_85_only_mins])\n",
        "\n",
        "    # Temporary dictionaries to hold max and avg values per player\n",
        "    player_max = {}\n",
        "    player_avg = {}\n",
        "\n",
        "    # Calculate max and avg for each player\n",
        "    for player in df_filtered_85['PlayerID'].unique():\n",
        "        player_data = df_filtered_85[df_filtered_85['PlayerID'] == player]\n",
        "        player_max[player] = player_data[metrics].max()\n",
        "        player_avg[player] = player_data[metrics].mean()\n",
        "\n",
        "    # Add relative values to the original DataFrame\n",
        "    for metric in metrics:\n",
        "\n",
        "        df_original[f\"{metric}_Rel\"] = np.nan\n",
        "\n",
        "        for player in df_original['PlayerID'].unique():\n",
        "            if player in player_max and player in player_avg:\n",
        "                max_value = player_max[player][metric]\n",
        "                avg_value = player_avg[player][metric]\n",
        "\n",
        "                # Compute relative value\n",
        "                df_original.loc[df_original['PlayerID'] == player, f\"{metric}_Rel\"] = (\n",
        "                    (df_original.loc[df_original['PlayerID'] == player, metric] * 100) /\n",
        "                    ((max_value + avg_value) / 2)\n",
        "                ).round(2)\n",
        "\n",
        "    return df_original"
      ]
    },
    {
      "cell_type": "markdown",
      "metadata": {
        "id": "BOMaVzf60OXy"
      },
      "source": [
        "Call function to calculate relative values"
      ]
    },
    {
      "cell_type": "code",
      "execution_count": 104,
      "metadata": {
        "id": "hRJF0ewhvdXw"
      },
      "outputs": [],
      "source": [
        "metrics_rel = ['TD', 'HSR', '+25 Km/h', 'ACC', 'DEC']\n",
        "\n",
        "#df_rel = calculate_relative_values(df_filtered, metrics_rel)\n",
        "df_rel = df_filtered.copy()"
      ]
    },
    {
      "cell_type": "code",
      "execution_count": 105,
      "metadata": {
        "colab": {
          "base_uri": "https://localhost:8080/"
        },
        "id": "B6-5dybRwx2y",
        "outputId": "f1da560c-93ab-4849-e849-e88862da3411"
      },
      "outputs": [
        {
          "name": "stdout",
          "output_type": "stream",
          "text": [
            "<class 'pandas.core.frame.DataFrame'>\n",
            "Index: 4723 entries, 0 to 7802\n",
            "Data columns (total 19 columns):\n",
            " #   Column              Non-Null Count  Dtype         \n",
            "---  ------              --------------  -----         \n",
            " 0   DATE                4723 non-null   datetime64[ns]\n",
            " 1   Microcycle          4508 non-null   object        \n",
            " 2   Injury              4723 non-null   float64       \n",
            " 3   season              4723 non-null   object        \n",
            " 4   preseason-season    4723 non-null   object        \n",
            " 5   TD                  4723 non-null   float64       \n",
            " 6   >19.8               4723 non-null   float64       \n",
            " 7   >25                 4723 non-null   float64       \n",
            " 8   ACC                 4723 non-null   float64       \n",
            " 9   DEC                 4723 non-null   float64       \n",
            " 10  PlayerID            4723 non-null   float64       \n",
            " 11  Player Position     4723 non-null   object        \n",
            " 12  Max Speed           4723 non-null   float64       \n",
            " 13  Sprints             4723 non-null   float64       \n",
            " 14  Mins                4723 non-null   float64       \n",
            " 15  Max Speed Season    4723 non-null   float64       \n",
            " 16  Avg Speed Season    4723 non-null   float64       \n",
            " 17  % Max Speed         4723 non-null   float64       \n",
            " 18  Speed Diff Max Avg  4723 non-null   float64       \n",
            "dtypes: datetime64[ns](1), float64(14), object(4)\n",
            "memory usage: 738.0+ KB\n"
          ]
        }
      ],
      "source": [
        "df_rel.info()"
      ]
    },
    {
      "cell_type": "markdown",
      "metadata": {
        "id": "Kpvz6Q9d64m_"
      },
      "source": [
        "# Function for densities"
      ]
    },
    {
      "cell_type": "code",
      "execution_count": null,
      "metadata": {
        "id": "P9negrxm64VX"
      },
      "outputs": [],
      "source": [
        "# cols_mins = ['TD', 'HSR', '+25 Km/h', 'ACC', 'DEC', 'Sprints']\n",
        "\n",
        "# # Create new columns by dividing by the 'Minutes' column\n",
        "# for col in cols_mins:\n",
        "#     df_rel[f'{col}/Mins'] = df_rel[col] / df_rel['Mins']"
      ]
    },
    {
      "cell_type": "code",
      "execution_count": null,
      "metadata": {
        "id": "wgqyxLFNooK6"
      },
      "outputs": [],
      "source": [
        "# df_rel['Sprints/Mins'] = df_rel['Sprints/Mins'].fillna(0)"
      ]
    },
    {
      "cell_type": "markdown",
      "metadata": {
        "id": "8gA2eJYUw7_b"
      },
      "source": [
        "# Find Max and Avg values before current date"
      ]
    },
    {
      "cell_type": "code",
      "execution_count": 106,
      "metadata": {
        "id": "_Oct6HYCw7oB"
      },
      "outputs": [],
      "source": [
        "def calculate_max_avg(df, metrics):\n",
        "\n",
        "  # Create copies of the original DataFrame to ensure no unintended changes\n",
        "  df = df.copy()\n",
        "\n",
        "  # Loop through each metric to calculate max and avg values\n",
        "  for metric in metrics:\n",
        "      # Initialize the max and avg columns for the metric\n",
        "      max_col = f\"{metric}_max\"\n",
        "      avg_col = f\"{metric}_avg\"\n",
        "      df[max_col] = None\n",
        "      df[avg_col] = None\n",
        "\n",
        "      # Iterate through each row to calculate max and avg based on previous dates\n",
        "      for idx, row in df.iterrows():\n",
        "          player_id = row['PlayerID']\n",
        "          current_date = row['DATE']\n",
        "\n",
        "          # Filter rows for the same player and only for dates before the current row's date\n",
        "          player_data_before_date = df[\n",
        "              (df['PlayerID'] == player_id) &\n",
        "              (df['DATE'] < current_date)\n",
        "          ]\n",
        "\n",
        "          # Compute max and avg for the current metric based on the filtered data\n",
        "          if not player_data_before_date.empty:\n",
        "              df.at[idx, max_col] = player_data_before_date[metric].max()\n",
        "              df.at[idx, avg_col] = player_data_before_date[metric].mean()\n",
        "          else:\n",
        "          # Fallback: Use max and avg across all rows for the same player\n",
        "              player_data = df[df['PlayerID'] == player_id]\n",
        "              df.at[idx, max_col] = player_data[metric].max()\n",
        "              df.at[idx, avg_col] = player_data[metric].mean()\n",
        "\n",
        "  return df"
      ]
    },
    {
      "cell_type": "code",
      "execution_count": 107,
      "metadata": {
        "id": "ww3pIRDaWMAv"
      },
      "outputs": [],
      "source": [
        "cols = ['TD', 'HSR', '+25 Km/h', 'ACC', 'DEC','TD/Mins', 'HSR/Mins', '+25 Km/h/Mins', 'ACC/Mins', 'Sprints/Mins']\n",
        "#df_max_avg = calculate_max_avg(df_rel, cols)\n",
        "df_max_avg = df_rel.copy()"
      ]
    },
    {
      "cell_type": "code",
      "execution_count": 108,
      "metadata": {
        "colab": {
          "base_uri": "https://localhost:8080/"
        },
        "id": "r8esJNyjZVLz",
        "outputId": "7135ac57-31cc-494a-8346-c45a1d384aea"
      },
      "outputs": [
        {
          "name": "stdout",
          "output_type": "stream",
          "text": [
            "<class 'pandas.core.frame.DataFrame'>\n",
            "Index: 4723 entries, 0 to 7802\n",
            "Data columns (total 19 columns):\n",
            " #   Column              Non-Null Count  Dtype         \n",
            "---  ------              --------------  -----         \n",
            " 0   DATE                4723 non-null   datetime64[ns]\n",
            " 1   Microcycle          4508 non-null   object        \n",
            " 2   Injury              4723 non-null   float64       \n",
            " 3   season              4723 non-null   object        \n",
            " 4   preseason-season    4723 non-null   object        \n",
            " 5   TD                  4723 non-null   float64       \n",
            " 6   >19.8               4723 non-null   float64       \n",
            " 7   >25                 4723 non-null   float64       \n",
            " 8   ACC                 4723 non-null   float64       \n",
            " 9   DEC                 4723 non-null   float64       \n",
            " 10  PlayerID            4723 non-null   float64       \n",
            " 11  Player Position     4723 non-null   object        \n",
            " 12  Max Speed           4723 non-null   float64       \n",
            " 13  Sprints             4723 non-null   float64       \n",
            " 14  Mins                4723 non-null   float64       \n",
            " 15  Max Speed Season    4723 non-null   float64       \n",
            " 16  Avg Speed Season    4723 non-null   float64       \n",
            " 17  % Max Speed         4723 non-null   float64       \n",
            " 18  Speed Diff Max Avg  4723 non-null   float64       \n",
            "dtypes: datetime64[ns](1), float64(14), object(4)\n",
            "memory usage: 738.0+ KB\n"
          ]
        }
      ],
      "source": [
        "df_max_avg.info()"
      ]
    },
    {
      "cell_type": "markdown",
      "metadata": {
        "id": "Xm4zHnIv-RK9"
      },
      "source": [
        "# Function for player loads"
      ]
    },
    {
      "cell_type": "code",
      "execution_count": 35,
      "metadata": {
        "id": "SIKU4dkWN-lI"
      },
      "outputs": [],
      "source": [
        "#df_max_avg"
      ]
    },
    {
      "cell_type": "code",
      "execution_count": 109,
      "metadata": {
        "id": "qjTQMMIWlr2X"
      },
      "outputs": [],
      "source": [
        "def calcular_acumulado(df, columnas_calcular, dias):\n",
        "    # Create an empty list to store processed player DataFrames\n",
        "    processed_players = []\n",
        "\n",
        "    # Process each player separately\n",
        "    for player_id in df['PlayerID'].unique():\n",
        "        # Filter data for the current player\n",
        "        player_data = df[df['PlayerID'] == player_id].copy()\n",
        "\n",
        "        # Create a full date range for the player (from the first to the last recorded date)\n",
        "        full_date_range = pd.date_range(start=player_data['DATE'].min(), end=player_data['DATE'].max(), freq='D')\n",
        "\n",
        "        # Set 'DATE' as the index and reindex to fill missing dates with zeros\n",
        "        player_data = player_data.set_index('DATE').reindex(full_date_range, fill_value=0).reset_index()\n",
        "        player_data.rename(columns={'index': 'DATE'}, inplace=True)\n",
        "        player_data['PlayerID'] = player_id\n",
        "\n",
        "        # Perform rolling calculations for each metric, excluding the current day\n",
        "        for dia in dias:\n",
        "            for col in columnas_calcular:\n",
        "                # Check if the column exists to avoid errors\n",
        "                if col in player_data.columns:\n",
        "                    # Rolling sum, mean, std: exclude the current day using shift(1)\n",
        "                    player_data[f'{col}-{dia}'] = (\n",
        "                        player_data[col].shift(1).rolling(window=dia, min_periods=1).sum()\n",
        "                    )\n",
        "                    # player_data[f'{col}-{dia}-avg'] = (\n",
        "                    #     player_data[col].rolling(window=dia, min_periods=1).mean()\n",
        "                    # )\n",
        "                    # player_data[f'{col}-{dia}-std'] = (\n",
        "                    #     player_data[col].rolling(window=dia, min_periods=1).std()\n",
        "                    # )\n",
        "\n",
        "                    # # EWMA: Exclude the current day using shift(1)\n",
        "                    # player_data[f'{col}_EWMA-{dia}'] = (\n",
        "                    #     player_data[col].ewm(span=dia, adjust=False).mean()\n",
        "                    # )\n",
        "\n",
        "        # Drop rows where all calculated values are zero (rest days)\n",
        "        mask_non_zero = (player_data[columnas_calcular].sum(axis=1) > 0)\n",
        "        player_data = player_data[mask_non_zero]\n",
        "\n",
        "        # Append the processed player's data to the list\n",
        "        processed_players.append(player_data)\n",
        "\n",
        "    # Concatenate all processed player DataFrames into a single DataFrame\n",
        "    df_resultado = pd.concat(processed_players, ignore_index=True)\n",
        "\n",
        "    return df_resultado\n"
      ]
    },
    {
      "cell_type": "code",
      "execution_count": 110,
      "metadata": {
        "id": "9zjYKYGX-XWm"
      },
      "outputs": [],
      "source": [
        "cols_calculate = ['TD', '>19.8', '>25', 'ACC', 'DEC', 'Sprints', 'Mins']\n",
        "\n",
        "cumulative_df = calcular_acumulado(df_max_avg, cols_calculate, [1,3,7,21]) # loads -1, -3, -7, -21"
      ]
    },
    {
      "cell_type": "code",
      "execution_count": 111,
      "metadata": {},
      "outputs": [
        {
          "data": {
            "text/html": [
              "<div>\n",
              "<style scoped>\n",
              "    .dataframe tbody tr th:only-of-type {\n",
              "        vertical-align: middle;\n",
              "    }\n",
              "\n",
              "    .dataframe tbody tr th {\n",
              "        vertical-align: top;\n",
              "    }\n",
              "\n",
              "    .dataframe thead th {\n",
              "        text-align: right;\n",
              "    }\n",
              "</style>\n",
              "<table border=\"1\" class=\"dataframe\">\n",
              "  <thead>\n",
              "    <tr style=\"text-align: right;\">\n",
              "      <th></th>\n",
              "      <th>DATE</th>\n",
              "      <th>Microcycle</th>\n",
              "      <th>Injury</th>\n",
              "      <th>season</th>\n",
              "      <th>preseason-season</th>\n",
              "      <th>TD</th>\n",
              "      <th>&gt;19.8</th>\n",
              "      <th>&gt;25</th>\n",
              "      <th>ACC</th>\n",
              "      <th>DEC</th>\n",
              "      <th>PlayerID</th>\n",
              "      <th>Player Position</th>\n",
              "      <th>Max Speed</th>\n",
              "      <th>Sprints</th>\n",
              "      <th>Mins</th>\n",
              "      <th>Max Speed Season</th>\n",
              "      <th>Avg Speed Season</th>\n",
              "      <th>% Max Speed</th>\n",
              "      <th>Speed Diff Max Avg</th>\n",
              "      <th>TD-1</th>\n",
              "      <th>&gt;19.8-1</th>\n",
              "      <th>&gt;25-1</th>\n",
              "      <th>ACC-1</th>\n",
              "      <th>DEC-1</th>\n",
              "      <th>Sprints-1</th>\n",
              "      <th>Mins-1</th>\n",
              "      <th>TD-3</th>\n",
              "      <th>&gt;19.8-3</th>\n",
              "      <th>&gt;25-3</th>\n",
              "      <th>ACC-3</th>\n",
              "      <th>DEC-3</th>\n",
              "      <th>Sprints-3</th>\n",
              "      <th>Mins-3</th>\n",
              "      <th>TD-7</th>\n",
              "      <th>&gt;19.8-7</th>\n",
              "      <th>&gt;25-7</th>\n",
              "      <th>ACC-7</th>\n",
              "      <th>DEC-7</th>\n",
              "      <th>Sprints-7</th>\n",
              "      <th>Mins-7</th>\n",
              "      <th>TD-21</th>\n",
              "      <th>&gt;19.8-21</th>\n",
              "      <th>&gt;25-21</th>\n",
              "      <th>ACC-21</th>\n",
              "      <th>DEC-21</th>\n",
              "      <th>Sprints-21</th>\n",
              "      <th>Mins-21</th>\n",
              "    </tr>\n",
              "  </thead>\n",
              "  <tbody>\n",
              "    <tr>\n",
              "      <th>0</th>\n",
              "      <td>2021-08-10</td>\n",
              "      <td>M-4</td>\n",
              "      <td>0.0</td>\n",
              "      <td>2021-2022</td>\n",
              "      <td>SEASON</td>\n",
              "      <td>5651.0</td>\n",
              "      <td>197.0</td>\n",
              "      <td>34.0</td>\n",
              "      <td>63.0</td>\n",
              "      <td>36.0</td>\n",
              "      <td>23085.0</td>\n",
              "      <td>CENTRE MIDFIELDER</td>\n",
              "      <td>28.41</td>\n",
              "      <td>19.0</td>\n",
              "      <td>80.35</td>\n",
              "      <td>30.73</td>\n",
              "      <td>20.278653</td>\n",
              "      <td>92.450374</td>\n",
              "      <td>40.098060</td>\n",
              "      <td>NaN</td>\n",
              "      <td>NaN</td>\n",
              "      <td>NaN</td>\n",
              "      <td>NaN</td>\n",
              "      <td>NaN</td>\n",
              "      <td>NaN</td>\n",
              "      <td>NaN</td>\n",
              "      <td>NaN</td>\n",
              "      <td>NaN</td>\n",
              "      <td>NaN</td>\n",
              "      <td>NaN</td>\n",
              "      <td>NaN</td>\n",
              "      <td>NaN</td>\n",
              "      <td>NaN</td>\n",
              "      <td>NaN</td>\n",
              "      <td>NaN</td>\n",
              "      <td>NaN</td>\n",
              "      <td>NaN</td>\n",
              "      <td>NaN</td>\n",
              "      <td>NaN</td>\n",
              "      <td>NaN</td>\n",
              "      <td>NaN</td>\n",
              "      <td>NaN</td>\n",
              "      <td>NaN</td>\n",
              "      <td>NaN</td>\n",
              "      <td>NaN</td>\n",
              "      <td>NaN</td>\n",
              "      <td>NaN</td>\n",
              "    </tr>\n",
              "    <tr>\n",
              "      <th>1</th>\n",
              "      <td>2021-08-11</td>\n",
              "      <td>M-3</td>\n",
              "      <td>0.0</td>\n",
              "      <td>2021-2022</td>\n",
              "      <td>SEASON</td>\n",
              "      <td>7423.0</td>\n",
              "      <td>426.0</td>\n",
              "      <td>20.0</td>\n",
              "      <td>52.0</td>\n",
              "      <td>38.0</td>\n",
              "      <td>23085.0</td>\n",
              "      <td>CENTRE MIDFIELDER</td>\n",
              "      <td>26.79</td>\n",
              "      <td>24.0</td>\n",
              "      <td>90.85</td>\n",
              "      <td>30.73</td>\n",
              "      <td>20.278653</td>\n",
              "      <td>87.178653</td>\n",
              "      <td>32.109364</td>\n",
              "      <td>5651.0</td>\n",
              "      <td>197.0</td>\n",
              "      <td>34.0</td>\n",
              "      <td>63.0</td>\n",
              "      <td>36.0</td>\n",
              "      <td>19.0</td>\n",
              "      <td>80.35</td>\n",
              "      <td>5651.0</td>\n",
              "      <td>197.0</td>\n",
              "      <td>34.0</td>\n",
              "      <td>63.0</td>\n",
              "      <td>36.0</td>\n",
              "      <td>19.0</td>\n",
              "      <td>80.35</td>\n",
              "      <td>5651.0</td>\n",
              "      <td>197.0</td>\n",
              "      <td>34.0</td>\n",
              "      <td>63.0</td>\n",
              "      <td>36.0</td>\n",
              "      <td>19.0</td>\n",
              "      <td>80.35</td>\n",
              "      <td>5651.0</td>\n",
              "      <td>197.0</td>\n",
              "      <td>34.0</td>\n",
              "      <td>63.0</td>\n",
              "      <td>36.0</td>\n",
              "      <td>19.0</td>\n",
              "      <td>80.35</td>\n",
              "    </tr>\n",
              "    <tr>\n",
              "      <th>2</th>\n",
              "      <td>2021-08-12</td>\n",
              "      <td>M-2</td>\n",
              "      <td>0.0</td>\n",
              "      <td>2021-2022</td>\n",
              "      <td>SEASON</td>\n",
              "      <td>1268.0</td>\n",
              "      <td>0.0</td>\n",
              "      <td>0.0</td>\n",
              "      <td>11.0</td>\n",
              "      <td>5.0</td>\n",
              "      <td>23085.0</td>\n",
              "      <td>CENTRE MIDFIELDER</td>\n",
              "      <td>16.57</td>\n",
              "      <td>0.0</td>\n",
              "      <td>43.58</td>\n",
              "      <td>30.73</td>\n",
              "      <td>20.278653</td>\n",
              "      <td>53.921250</td>\n",
              "      <td>-18.288460</td>\n",
              "      <td>7423.0</td>\n",
              "      <td>426.0</td>\n",
              "      <td>20.0</td>\n",
              "      <td>52.0</td>\n",
              "      <td>38.0</td>\n",
              "      <td>24.0</td>\n",
              "      <td>90.85</td>\n",
              "      <td>13074.0</td>\n",
              "      <td>623.0</td>\n",
              "      <td>54.0</td>\n",
              "      <td>115.0</td>\n",
              "      <td>74.0</td>\n",
              "      <td>43.0</td>\n",
              "      <td>171.20</td>\n",
              "      <td>13074.0</td>\n",
              "      <td>623.0</td>\n",
              "      <td>54.0</td>\n",
              "      <td>115.0</td>\n",
              "      <td>74.0</td>\n",
              "      <td>43.0</td>\n",
              "      <td>171.20</td>\n",
              "      <td>13074.0</td>\n",
              "      <td>623.0</td>\n",
              "      <td>54.0</td>\n",
              "      <td>115.0</td>\n",
              "      <td>74.0</td>\n",
              "      <td>43.0</td>\n",
              "      <td>171.20</td>\n",
              "    </tr>\n",
              "    <tr>\n",
              "      <th>3</th>\n",
              "      <td>2021-08-13</td>\n",
              "      <td>M-1</td>\n",
              "      <td>0.0</td>\n",
              "      <td>2021-2022</td>\n",
              "      <td>SEASON</td>\n",
              "      <td>4135.0</td>\n",
              "      <td>112.0</td>\n",
              "      <td>2.0</td>\n",
              "      <td>47.0</td>\n",
              "      <td>20.0</td>\n",
              "      <td>23085.0</td>\n",
              "      <td>CENTRE MIDFIELDER</td>\n",
              "      <td>25.47</td>\n",
              "      <td>11.0</td>\n",
              "      <td>58.35</td>\n",
              "      <td>30.73</td>\n",
              "      <td>20.278653</td>\n",
              "      <td>82.883176</td>\n",
              "      <td>25.600056</td>\n",
              "      <td>1268.0</td>\n",
              "      <td>0.0</td>\n",
              "      <td>0.0</td>\n",
              "      <td>11.0</td>\n",
              "      <td>5.0</td>\n",
              "      <td>0.0</td>\n",
              "      <td>43.58</td>\n",
              "      <td>14342.0</td>\n",
              "      <td>623.0</td>\n",
              "      <td>54.0</td>\n",
              "      <td>126.0</td>\n",
              "      <td>79.0</td>\n",
              "      <td>43.0</td>\n",
              "      <td>214.78</td>\n",
              "      <td>14342.0</td>\n",
              "      <td>623.0</td>\n",
              "      <td>54.0</td>\n",
              "      <td>126.0</td>\n",
              "      <td>79.0</td>\n",
              "      <td>43.0</td>\n",
              "      <td>214.78</td>\n",
              "      <td>14342.0</td>\n",
              "      <td>623.0</td>\n",
              "      <td>54.0</td>\n",
              "      <td>126.0</td>\n",
              "      <td>79.0</td>\n",
              "      <td>43.0</td>\n",
              "      <td>214.78</td>\n",
              "    </tr>\n",
              "    <tr>\n",
              "      <th>4</th>\n",
              "      <td>2021-08-15</td>\n",
              "      <td>M+1</td>\n",
              "      <td>0.0</td>\n",
              "      <td>2021-2022</td>\n",
              "      <td>SEASON</td>\n",
              "      <td>6379.0</td>\n",
              "      <td>86.0</td>\n",
              "      <td>0.0</td>\n",
              "      <td>49.0</td>\n",
              "      <td>48.0</td>\n",
              "      <td>23085.0</td>\n",
              "      <td>CENTRE MIDFIELDER</td>\n",
              "      <td>23.37</td>\n",
              "      <td>13.0</td>\n",
              "      <td>79.48</td>\n",
              "      <td>30.73</td>\n",
              "      <td>20.278653</td>\n",
              "      <td>76.049463</td>\n",
              "      <td>15.244339</td>\n",
              "      <td>0.0</td>\n",
              "      <td>0.0</td>\n",
              "      <td>0.0</td>\n",
              "      <td>0.0</td>\n",
              "      <td>0.0</td>\n",
              "      <td>0.0</td>\n",
              "      <td>0.00</td>\n",
              "      <td>5403.0</td>\n",
              "      <td>112.0</td>\n",
              "      <td>2.0</td>\n",
              "      <td>58.0</td>\n",
              "      <td>25.0</td>\n",
              "      <td>11.0</td>\n",
              "      <td>101.93</td>\n",
              "      <td>18477.0</td>\n",
              "      <td>735.0</td>\n",
              "      <td>56.0</td>\n",
              "      <td>173.0</td>\n",
              "      <td>99.0</td>\n",
              "      <td>54.0</td>\n",
              "      <td>273.13</td>\n",
              "      <td>18477.0</td>\n",
              "      <td>735.0</td>\n",
              "      <td>56.0</td>\n",
              "      <td>173.0</td>\n",
              "      <td>99.0</td>\n",
              "      <td>54.0</td>\n",
              "      <td>273.13</td>\n",
              "    </tr>\n",
              "  </tbody>\n",
              "</table>\n",
              "</div>"
            ],
            "text/plain": [
              "        DATE Microcycle  Injury     season preseason-season      TD  >19.8  \\\n",
              "0 2021-08-10        M-4     0.0  2021-2022           SEASON  5651.0  197.0   \n",
              "1 2021-08-11        M-3     0.0  2021-2022           SEASON  7423.0  426.0   \n",
              "2 2021-08-12        M-2     0.0  2021-2022           SEASON  1268.0    0.0   \n",
              "3 2021-08-13        M-1     0.0  2021-2022           SEASON  4135.0  112.0   \n",
              "4 2021-08-15        M+1     0.0  2021-2022           SEASON  6379.0   86.0   \n",
              "\n",
              "    >25   ACC   DEC  PlayerID    Player Position  Max Speed  Sprints   Mins  \\\n",
              "0  34.0  63.0  36.0   23085.0  CENTRE MIDFIELDER      28.41     19.0  80.35   \n",
              "1  20.0  52.0  38.0   23085.0  CENTRE MIDFIELDER      26.79     24.0  90.85   \n",
              "2   0.0  11.0   5.0   23085.0  CENTRE MIDFIELDER      16.57      0.0  43.58   \n",
              "3   2.0  47.0  20.0   23085.0  CENTRE MIDFIELDER      25.47     11.0  58.35   \n",
              "4   0.0  49.0  48.0   23085.0  CENTRE MIDFIELDER      23.37     13.0  79.48   \n",
              "\n",
              "   Max Speed Season  Avg Speed Season  % Max Speed  Speed Diff Max Avg  \\\n",
              "0             30.73         20.278653    92.450374           40.098060   \n",
              "1             30.73         20.278653    87.178653           32.109364   \n",
              "2             30.73         20.278653    53.921250          -18.288460   \n",
              "3             30.73         20.278653    82.883176           25.600056   \n",
              "4             30.73         20.278653    76.049463           15.244339   \n",
              "\n",
              "     TD-1  >19.8-1  >25-1  ACC-1  DEC-1  Sprints-1  Mins-1     TD-3  >19.8-3  \\\n",
              "0     NaN      NaN    NaN    NaN    NaN        NaN     NaN      NaN      NaN   \n",
              "1  5651.0    197.0   34.0   63.0   36.0       19.0   80.35   5651.0    197.0   \n",
              "2  7423.0    426.0   20.0   52.0   38.0       24.0   90.85  13074.0    623.0   \n",
              "3  1268.0      0.0    0.0   11.0    5.0        0.0   43.58  14342.0    623.0   \n",
              "4     0.0      0.0    0.0    0.0    0.0        0.0    0.00   5403.0    112.0   \n",
              "\n",
              "   >25-3  ACC-3  DEC-3  Sprints-3  Mins-3     TD-7  >19.8-7  >25-7  ACC-7  \\\n",
              "0    NaN    NaN    NaN        NaN     NaN      NaN      NaN    NaN    NaN   \n",
              "1   34.0   63.0   36.0       19.0   80.35   5651.0    197.0   34.0   63.0   \n",
              "2   54.0  115.0   74.0       43.0  171.20  13074.0    623.0   54.0  115.0   \n",
              "3   54.0  126.0   79.0       43.0  214.78  14342.0    623.0   54.0  126.0   \n",
              "4    2.0   58.0   25.0       11.0  101.93  18477.0    735.0   56.0  173.0   \n",
              "\n",
              "   DEC-7  Sprints-7  Mins-7    TD-21  >19.8-21  >25-21  ACC-21  DEC-21  \\\n",
              "0    NaN        NaN     NaN      NaN       NaN     NaN     NaN     NaN   \n",
              "1   36.0       19.0   80.35   5651.0     197.0    34.0    63.0    36.0   \n",
              "2   74.0       43.0  171.20  13074.0     623.0    54.0   115.0    74.0   \n",
              "3   79.0       43.0  214.78  14342.0     623.0    54.0   126.0    79.0   \n",
              "4   99.0       54.0  273.13  18477.0     735.0    56.0   173.0    99.0   \n",
              "\n",
              "   Sprints-21  Mins-21  \n",
              "0         NaN      NaN  \n",
              "1        19.0    80.35  \n",
              "2        43.0   171.20  \n",
              "3        43.0   214.78  \n",
              "4        54.0   273.13  "
            ]
          },
          "execution_count": 111,
          "metadata": {},
          "output_type": "execute_result"
        }
      ],
      "source": [
        "cumulative_df.head()"
      ]
    },
    {
      "cell_type": "code",
      "execution_count": 112,
      "metadata": {
        "colab": {
          "base_uri": "https://localhost:8080/"
        },
        "id": "MAFBFKLCCUEJ",
        "outputId": "761d9463-cee6-40ec-d637-cc09a7546354"
      },
      "outputs": [
        {
          "name": "stdout",
          "output_type": "stream",
          "text": [
            "<class 'pandas.core.frame.DataFrame'>\n",
            "RangeIndex: 4723 entries, 0 to 4722\n",
            "Data columns (total 47 columns):\n",
            " #   Column              Non-Null Count  Dtype         \n",
            "---  ------              --------------  -----         \n",
            " 0   DATE                4723 non-null   datetime64[ns]\n",
            " 1   Microcycle          4508 non-null   object        \n",
            " 2   Injury              4723 non-null   float64       \n",
            " 3   season              4723 non-null   object        \n",
            " 4   preseason-season    4723 non-null   object        \n",
            " 5   TD                  4723 non-null   float64       \n",
            " 6   >19.8               4723 non-null   float64       \n",
            " 7   >25                 4723 non-null   float64       \n",
            " 8   ACC                 4723 non-null   float64       \n",
            " 9   DEC                 4723 non-null   float64       \n",
            " 10  PlayerID            4723 non-null   float64       \n",
            " 11  Player Position     4723 non-null   object        \n",
            " 12  Max Speed           4723 non-null   float64       \n",
            " 13  Sprints             4723 non-null   float64       \n",
            " 14  Mins                4723 non-null   float64       \n",
            " 15  Max Speed Season    4723 non-null   float64       \n",
            " 16  Avg Speed Season    4723 non-null   float64       \n",
            " 17  % Max Speed         4723 non-null   float64       \n",
            " 18  Speed Diff Max Avg  4723 non-null   float64       \n",
            " 19  TD-1                4700 non-null   float64       \n",
            " 20  >19.8-1             4700 non-null   float64       \n",
            " 21  >25-1               4700 non-null   float64       \n",
            " 22  ACC-1               4700 non-null   float64       \n",
            " 23  DEC-1               4700 non-null   float64       \n",
            " 24  Sprints-1           4700 non-null   float64       \n",
            " 25  Mins-1              4700 non-null   float64       \n",
            " 26  TD-3                4700 non-null   float64       \n",
            " 27  >19.8-3             4700 non-null   float64       \n",
            " 28  >25-3               4700 non-null   float64       \n",
            " 29  ACC-3               4700 non-null   float64       \n",
            " 30  DEC-3               4700 non-null   float64       \n",
            " 31  Sprints-3           4700 non-null   float64       \n",
            " 32  Mins-3              4700 non-null   float64       \n",
            " 33  TD-7                4700 non-null   float64       \n",
            " 34  >19.8-7             4700 non-null   float64       \n",
            " 35  >25-7               4700 non-null   float64       \n",
            " 36  ACC-7               4700 non-null   float64       \n",
            " 37  DEC-7               4700 non-null   float64       \n",
            " 38  Sprints-7           4700 non-null   float64       \n",
            " 39  Mins-7              4700 non-null   float64       \n",
            " 40  TD-21               4700 non-null   float64       \n",
            " 41  >19.8-21            4700 non-null   float64       \n",
            " 42  >25-21              4700 non-null   float64       \n",
            " 43  ACC-21              4700 non-null   float64       \n",
            " 44  DEC-21              4700 non-null   float64       \n",
            " 45  Sprints-21          4700 non-null   float64       \n",
            " 46  Mins-21             4700 non-null   float64       \n",
            "dtypes: datetime64[ns](1), float64(42), object(4)\n",
            "memory usage: 1.7+ MB\n"
          ]
        }
      ],
      "source": [
        "cumulative_df.info()"
      ]
    },
    {
      "cell_type": "code",
      "execution_count": 47,
      "metadata": {
        "id": "kLFDK97EDZzH"
      },
      "outputs": [],
      "source": [
        "# cumulative_df = cumulative_df.dropna(subset=['TD-7', 'TD-7-std'])\n",
        "# cumulative_df.reset_index(drop=True, inplace=True)"
      ]
    },
    {
      "cell_type": "code",
      "execution_count": 113,
      "metadata": {
        "colab": {
          "base_uri": "https://localhost:8080/"
        },
        "id": "7eJ55LNYfhP7",
        "outputId": "15927d0b-da02-499b-b381-7bbb817c3dd6"
      },
      "outputs": [],
      "source": [
        "# cumulative_df.info()"
      ]
    },
    {
      "cell_type": "markdown",
      "metadata": {
        "id": "H1RUMoHs6MQd"
      },
      "source": [
        "# Calculate different load metrics"
      ]
    },
    {
      "cell_type": "code",
      "execution_count": 60,
      "metadata": {
        "id": "yORSBgZ_6Mer"
      },
      "outputs": [],
      "source": [
        "def calculate_metrics_loads(df, metrics):\n",
        "\n",
        "  # Calculate ACWR, MSWR for each metric\n",
        "  for metric in metrics:\n",
        "\n",
        "      # Calculate 7-day and 28-day averages for ACWR\n",
        "      df[f'{metric}_ACWR'] = df[f'{metric}-7-avg'] / df[f'{metric}-28-avg']\n",
        "\n",
        "      # Calculate mean and standard deviation for MSWR\n",
        "      df[f'{metric}_MSWR'] = df[f'{metric}-7-avg'] / df[f'{metric}-7-std']\n",
        "\n",
        "  return df"
      ]
    },
    {
      "cell_type": "code",
      "execution_count": 50,
      "metadata": {
        "id": "oDFIkoGr6Nea"
      },
      "outputs": [],
      "source": [
        "# cols_calculate = ['TD', 'HSR', '+25 Km/h', 'ACC', 'DEC']\n",
        "# cumulative_df = calculate_metrics_loads(cumulative_df, cols_calculate)"
      ]
    },
    {
      "cell_type": "code",
      "execution_count": 51,
      "metadata": {
        "id": "ng_GI4gXPLr-"
      },
      "outputs": [],
      "source": [
        "# cumulative_df.drop(columns=['Sprints-28-avg', 'Sprints-28-std', 'DEC-28-avg', 'DEC-28-std', 'ACC-28-avg', 'ACC-28-std','+25 Km/h-28-avg', '+25 Km/h-28-std', 'HSR-28-avg', 'HSR-28-std', 'TD-28-avg', 'TD-28-std',\n",
        "#                             'Sprints-7-avg', 'Sprints-7-std', 'DEC-7-avg', 'DEC-7-std', 'ACC-7-avg', 'ACC-7-std','+25 Km/h-7-avg', '+25 Km/h-7-std', 'HSR-7-avg', 'HSR-7-std', 'TD-7-avg', 'TD-7-std', 'TD-28', 'HSR-28', '+25 Km/h-28', 'ACC-28', 'DEC-28', 'Sprints-28',\n",
        "#                             '+25 Km/h_EWMA-28', 'Sprints_EWMA-28', 'TD_EWMA-28', 'HSR_EWMA-28', 'ACC_EWMA-28', 'DEC_EWMA-28','Sprints_EWMA-7'] , inplace=True)"
      ]
    },
    {
      "cell_type": "code",
      "execution_count": 114,
      "metadata": {
        "colab": {
          "base_uri": "https://localhost:8080/"
        },
        "id": "AkOuY4miQPzR",
        "outputId": "465d426c-b31e-4a37-d8ae-a4d6441b69ff"
      },
      "outputs": [
        {
          "name": "stdout",
          "output_type": "stream",
          "text": [
            "<class 'pandas.core.frame.DataFrame'>\n",
            "RangeIndex: 4723 entries, 0 to 4722\n",
            "Data columns (total 47 columns):\n",
            " #   Column              Non-Null Count  Dtype         \n",
            "---  ------              --------------  -----         \n",
            " 0   DATE                4723 non-null   datetime64[ns]\n",
            " 1   Microcycle          4508 non-null   object        \n",
            " 2   Injury              4723 non-null   float64       \n",
            " 3   season              4723 non-null   object        \n",
            " 4   preseason-season    4723 non-null   object        \n",
            " 5   TD                  4723 non-null   float64       \n",
            " 6   >19.8               4723 non-null   float64       \n",
            " 7   >25                 4723 non-null   float64       \n",
            " 8   ACC                 4723 non-null   float64       \n",
            " 9   DEC                 4723 non-null   float64       \n",
            " 10  PlayerID            4723 non-null   float64       \n",
            " 11  Player Position     4723 non-null   object        \n",
            " 12  Max Speed           4723 non-null   float64       \n",
            " 13  Sprints             4723 non-null   float64       \n",
            " 14  Mins                4723 non-null   float64       \n",
            " 15  Max Speed Season    4723 non-null   float64       \n",
            " 16  Avg Speed Season    4723 non-null   float64       \n",
            " 17  % Max Speed         4723 non-null   float64       \n",
            " 18  Speed Diff Max Avg  4723 non-null   float64       \n",
            " 19  TD-1                4700 non-null   float64       \n",
            " 20  >19.8-1             4700 non-null   float64       \n",
            " 21  >25-1               4700 non-null   float64       \n",
            " 22  ACC-1               4700 non-null   float64       \n",
            " 23  DEC-1               4700 non-null   float64       \n",
            " 24  Sprints-1           4700 non-null   float64       \n",
            " 25  Mins-1              4700 non-null   float64       \n",
            " 26  TD-3                4700 non-null   float64       \n",
            " 27  >19.8-3             4700 non-null   float64       \n",
            " 28  >25-3               4700 non-null   float64       \n",
            " 29  ACC-3               4700 non-null   float64       \n",
            " 30  DEC-3               4700 non-null   float64       \n",
            " 31  Sprints-3           4700 non-null   float64       \n",
            " 32  Mins-3              4700 non-null   float64       \n",
            " 33  TD-7                4700 non-null   float64       \n",
            " 34  >19.8-7             4700 non-null   float64       \n",
            " 35  >25-7               4700 non-null   float64       \n",
            " 36  ACC-7               4700 non-null   float64       \n",
            " 37  DEC-7               4700 non-null   float64       \n",
            " 38  Sprints-7           4700 non-null   float64       \n",
            " 39  Mins-7              4700 non-null   float64       \n",
            " 40  TD-21               4700 non-null   float64       \n",
            " 41  >19.8-21            4700 non-null   float64       \n",
            " 42  >25-21              4700 non-null   float64       \n",
            " 43  ACC-21              4700 non-null   float64       \n",
            " 44  DEC-21              4700 non-null   float64       \n",
            " 45  Sprints-21          4700 non-null   float64       \n",
            " 46  Mins-21             4700 non-null   float64       \n",
            "dtypes: datetime64[ns](1), float64(42), object(4)\n",
            "memory usage: 1.7+ MB\n"
          ]
        }
      ],
      "source": [
        "cumulative_df.info()"
      ]
    },
    {
      "cell_type": "code",
      "execution_count": 115,
      "metadata": {
        "colab": {
          "base_uri": "https://localhost:8080/"
        },
        "id": "z8k1V_nw7Ssc",
        "outputId": "1d0df438-8232-42aa-9cdb-2a017718a590"
      },
      "outputs": [
        {
          "name": "stdout",
          "output_type": "stream",
          "text": [
            "<class 'pandas.core.frame.DataFrame'>\n",
            "Index: 4700 entries, 1 to 4722\n",
            "Data columns (total 47 columns):\n",
            " #   Column              Non-Null Count  Dtype         \n",
            "---  ------              --------------  -----         \n",
            " 0   DATE                4700 non-null   datetime64[ns]\n",
            " 1   Microcycle          4485 non-null   object        \n",
            " 2   Injury              4700 non-null   float64       \n",
            " 3   season              4700 non-null   object        \n",
            " 4   preseason-season    4700 non-null   object        \n",
            " 5   TD                  4700 non-null   float64       \n",
            " 6   >19.8               4700 non-null   float64       \n",
            " 7   >25                 4700 non-null   float64       \n",
            " 8   ACC                 4700 non-null   float64       \n",
            " 9   DEC                 4700 non-null   float64       \n",
            " 10  PlayerID            4700 non-null   float64       \n",
            " 11  Player Position     4700 non-null   object        \n",
            " 12  Max Speed           4700 non-null   float64       \n",
            " 13  Sprints             4700 non-null   float64       \n",
            " 14  Mins                4700 non-null   float64       \n",
            " 15  Max Speed Season    4700 non-null   float64       \n",
            " 16  Avg Speed Season    4700 non-null   float64       \n",
            " 17  % Max Speed         4700 non-null   float64       \n",
            " 18  Speed Diff Max Avg  4700 non-null   float64       \n",
            " 19  TD-1                4700 non-null   float64       \n",
            " 20  >19.8-1             4700 non-null   float64       \n",
            " 21  >25-1               4700 non-null   float64       \n",
            " 22  ACC-1               4700 non-null   float64       \n",
            " 23  DEC-1               4700 non-null   float64       \n",
            " 24  Sprints-1           4700 non-null   float64       \n",
            " 25  Mins-1              4700 non-null   float64       \n",
            " 26  TD-3                4700 non-null   float64       \n",
            " 27  >19.8-3             4700 non-null   float64       \n",
            " 28  >25-3               4700 non-null   float64       \n",
            " 29  ACC-3               4700 non-null   float64       \n",
            " 30  DEC-3               4700 non-null   float64       \n",
            " 31  Sprints-3           4700 non-null   float64       \n",
            " 32  Mins-3              4700 non-null   float64       \n",
            " 33  TD-7                4700 non-null   float64       \n",
            " 34  >19.8-7             4700 non-null   float64       \n",
            " 35  >25-7               4700 non-null   float64       \n",
            " 36  ACC-7               4700 non-null   float64       \n",
            " 37  DEC-7               4700 non-null   float64       \n",
            " 38  Sprints-7           4700 non-null   float64       \n",
            " 39  Mins-7              4700 non-null   float64       \n",
            " 40  TD-21               4700 non-null   float64       \n",
            " 41  >19.8-21            4700 non-null   float64       \n",
            " 42  >25-21              4700 non-null   float64       \n",
            " 43  ACC-21              4700 non-null   float64       \n",
            " 44  DEC-21              4700 non-null   float64       \n",
            " 45  Sprints-21          4700 non-null   float64       \n",
            " 46  Mins-21             4700 non-null   float64       \n",
            "dtypes: datetime64[ns](1), float64(42), object(4)\n",
            "memory usage: 1.7+ MB\n"
          ]
        }
      ],
      "source": [
        "# Exclude 'Microcycle' column for counting NULLs\n",
        "columns_to_check = cumulative_df.drop(columns=['Microcycle']).columns\n",
        "\n",
        "# Drop rows where 2 or more null values exist (excluding 'Microcycle')\n",
        "cumulative_df = cumulative_df[cumulative_df[columns_to_check].notna().sum(axis=1) > (len(columns_to_check) - 1)]\n",
        "\n",
        "# Display the resulting DataFrame\n",
        "cumulative_df.info()"
      ]
    },
    {
      "cell_type": "code",
      "execution_count": 125,
      "metadata": {},
      "outputs": [
        {
          "data": {
            "text/plain": [
              "Index(['DATE', 'Microcycle', 'Injury', 'season', 'preseason-season', 'TD',\n",
              "       '>19.8', '>25', 'ACC', 'DEC', 'PlayerID', 'Player Position',\n",
              "       'Max Speed', 'Sprints', 'Mins', 'Max Speed Season', 'Avg Speed Season',\n",
              "       '% Max Speed', 'Speed Diff Max Avg', 'TD-1', '>19.8-1', '>25-1',\n",
              "       'ACC-1', 'DEC-1', 'Sprints-1', 'Mins-1', 'TD-3', '>19.8-3', '>25-3',\n",
              "       'ACC-3', 'DEC-3', 'Sprints-3', 'Mins-3', 'TD-7', '>19.8-7', '>25-7',\n",
              "       'ACC-7', 'DEC-7', 'Sprints-7', 'Mins-7', 'TD-21', '>19.8-21', '>25-21',\n",
              "       'ACC-21', 'DEC-21', 'Sprints-21', 'Mins-21'],\n",
              "      dtype='object')"
            ]
          },
          "execution_count": 125,
          "metadata": {},
          "output_type": "execute_result"
        }
      ],
      "source": [
        "cumulative_df.columns"
      ]
    },
    {
      "cell_type": "markdown",
      "metadata": {
        "id": "9RIAA-ZnquGa"
      },
      "source": [
        "# Do the shift for 7 previous days injury"
      ]
    },
    {
      "cell_type": "code",
      "execution_count": 55,
      "metadata": {
        "id": "XEVyVnUJqt0B"
      },
      "outputs": [],
      "source": [
        "# def shift_injuries_7_days(df):\n",
        "#   copy_df = df.copy()\n",
        "\n",
        "#     # Initialize a new column for the 7-day injury prediction label\n",
        "#   copy_df['Injury_7_day'] = 0\n",
        "\n",
        "#   # Iterate over the df to assign labels to rows in the 7 days before an injury\n",
        "#   for idx, row in copy_df.iterrows():\n",
        "#       if row['Injury'] == 1:\n",
        "#           # Get the player's ID\n",
        "#           player_id = row['PlayerID']\n",
        "#           injury_date = row['DATE']\n",
        "\n",
        "#           # Assign injury label to the previous 7 days for the same player\n",
        "#           # Change 0 to 1 to not include the day of the injury\n",
        "#           for i in range(0, 8):\n",
        "#               prev_date = pd.to_datetime(injury_date) - pd.Timedelta(days=i)\n",
        "#               mask = (copy_df['PlayerID'] == player_id) & (copy_df['DATE'] == prev_date)\n",
        "#               copy_df.loc[mask, 'Injury_7_day'] = 1\n",
        "\n",
        "#   # Drop the original injury rows\n",
        "#   # copy_df = copy_df[copy_df['Injury'] == 0]\n",
        "\n",
        "#   return copy_df"
      ]
    },
    {
      "cell_type": "code",
      "execution_count": 126,
      "metadata": {
        "id": "43HeWaiCrh_y"
      },
      "outputs": [],
      "source": [
        "#cumulative_df_inj = shift_injuries_7_days(cumulative_df)\n",
        "final_df = cumulative_df.copy()"
      ]
    },
    {
      "cell_type": "code",
      "execution_count": 128,
      "metadata": {},
      "outputs": [
        {
          "name": "stdout",
          "output_type": "stream",
          "text": [
            "<class 'pandas.core.frame.DataFrame'>\n",
            "Index: 4700 entries, 1 to 4722\n",
            "Data columns (total 51 columns):\n",
            " #   Column                     Non-Null Count  Dtype         \n",
            "---  ------                     --------------  -----         \n",
            " 0   DATE                       4700 non-null   datetime64[ns]\n",
            " 1   Microcycle                 4485 non-null   object        \n",
            " 2   Injury                     4700 non-null   float64       \n",
            " 3   season                     4700 non-null   object        \n",
            " 4   preseason-season           4700 non-null   object        \n",
            " 5   TD                         4700 non-null   float64       \n",
            " 6   >19.8                      4700 non-null   float64       \n",
            " 7   >25                        4700 non-null   float64       \n",
            " 8   ACC                        4700 non-null   float64       \n",
            " 9   DEC                        4700 non-null   float64       \n",
            " 10  PlayerID                   4700 non-null   float64       \n",
            " 11  Max Speed                  4700 non-null   float64       \n",
            " 12  Sprints                    4700 non-null   float64       \n",
            " 13  Mins                       4700 non-null   float64       \n",
            " 14  Max Speed Season           4700 non-null   float64       \n",
            " 15  Avg Speed Season           4700 non-null   float64       \n",
            " 16  % Max Speed                4700 non-null   float64       \n",
            " 17  Speed Diff Max Avg         4700 non-null   float64       \n",
            " 18  TD-1                       4700 non-null   float64       \n",
            " 19  >19.8-1                    4700 non-null   float64       \n",
            " 20  >25-1                      4700 non-null   float64       \n",
            " 21  ACC-1                      4700 non-null   float64       \n",
            " 22  DEC-1                      4700 non-null   float64       \n",
            " 23  Sprints-1                  4700 non-null   float64       \n",
            " 24  Mins-1                     4700 non-null   float64       \n",
            " 25  TD-3                       4700 non-null   float64       \n",
            " 26  >19.8-3                    4700 non-null   float64       \n",
            " 27  >25-3                      4700 non-null   float64       \n",
            " 28  ACC-3                      4700 non-null   float64       \n",
            " 29  DEC-3                      4700 non-null   float64       \n",
            " 30  Sprints-3                  4700 non-null   float64       \n",
            " 31  Mins-3                     4700 non-null   float64       \n",
            " 32  TD-7                       4700 non-null   float64       \n",
            " 33  >19.8-7                    4700 non-null   float64       \n",
            " 34  >25-7                      4700 non-null   float64       \n",
            " 35  ACC-7                      4700 non-null   float64       \n",
            " 36  DEC-7                      4700 non-null   float64       \n",
            " 37  Sprints-7                  4700 non-null   float64       \n",
            " 38  Mins-7                     4700 non-null   float64       \n",
            " 39  TD-21                      4700 non-null   float64       \n",
            " 40  >19.8-21                   4700 non-null   float64       \n",
            " 41  >25-21                     4700 non-null   float64       \n",
            " 42  ACC-21                     4700 non-null   float64       \n",
            " 43  DEC-21                     4700 non-null   float64       \n",
            " 44  Sprints-21                 4700 non-null   float64       \n",
            " 45  Mins-21                    4700 non-null   float64       \n",
            " 46  Position_CENTREBACK        4700 non-null   int64         \n",
            " 47  Position_CENTREMIDFIELDER  4700 non-null   int64         \n",
            " 48  Position_FULLBACK          4700 non-null   int64         \n",
            " 49  Position_STRIKER           4700 non-null   int64         \n",
            " 50  Position_WINGER            4700 non-null   int64         \n",
            "dtypes: datetime64[ns](1), float64(42), int64(5), object(3)\n",
            "memory usage: 1.9+ MB\n"
          ]
        }
      ],
      "source": [
        "final_df['Player Position'] = final_df['Player Position'].str.replace(\" \", \"\")\n",
        "final_df['Player Position'].unique()\n",
        "\n",
        "# Example: One-hot encoding 'Player Position' column\n",
        "encoded_final_df = pd.get_dummies(final_df, columns=['Player Position'], prefix='Position')\n",
        "\n",
        "columns_to_convert = [\n",
        "    'Position_CENTREBACK',\n",
        "    'Position_CENTREMIDFIELDER',\n",
        "    'Position_FULLBACK',\n",
        "    'Position_STRIKER',\n",
        "    'Position_WINGER'\n",
        "]\n",
        "\n",
        "# Convert the columns from bool to int\n",
        "encoded_final_df[columns_to_convert] = encoded_final_df[columns_to_convert].astype(int)\n",
        "\n",
        "# Display the resulting dataframe\n",
        "encoded_final_df.info()"
      ]
    },
    {
      "cell_type": "markdown",
      "metadata": {
        "id": "-F2R4-kLXJrA"
      },
      "source": [
        "# Export data"
      ]
    },
    {
      "cell_type": "code",
      "execution_count": 107,
      "metadata": {
        "id": "SxExwwhpqOc4"
      },
      "outputs": [],
      "source": [
        "#encoded_final_df.to_excel('/content/drive/MyDrive/WATFORD FC/Datos GPS/datos_finales_tommy2.xlsx', index=False)"
      ]
    },
    {
      "cell_type": "code",
      "execution_count": 129,
      "metadata": {},
      "outputs": [],
      "source": [
        "encoded_final_df.to_excel('data/cleaned_data_no_injured.xlsx', index=False)"
      ]
    },
    {
      "cell_type": "code",
      "execution_count": null,
      "metadata": {
        "id": "wDUCtleb_hxE"
      },
      "outputs": [],
      "source": [
        "# result_df.to_csv('/content/drive/MyDrive/WATFORD FC/Datos GPS/datos_finales_tommy.csv', index=False)"
      ]
    }
  ],
  "metadata": {
    "colab": {
      "collapsed_sections": [
        "1kuqu0ETncrJ"
      ],
      "include_colab_link": true,
      "provenance": []
    },
    "kernelspec": {
      "display_name": "Python 3",
      "language": "python",
      "name": "python3"
    },
    "language_info": {
      "codemirror_mode": {
        "name": "ipython",
        "version": 3
      },
      "file_extension": ".py",
      "mimetype": "text/x-python",
      "name": "python",
      "nbconvert_exporter": "python",
      "pygments_lexer": "ipython3",
      "version": "3.12.1"
    }
  },
  "nbformat": 4,
  "nbformat_minor": 0
}
